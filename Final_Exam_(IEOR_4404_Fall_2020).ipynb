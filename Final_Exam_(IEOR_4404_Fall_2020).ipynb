{
 "cells": [
  {
   "cell_type": "markdown",
   "metadata": {
    "id": "4s5izpSul0F9"
   },
   "source": [
    "# **IEOR 4404  Simulation (Fall 2020)**\n",
    "\n",
    "**Final Exam  [Total points: 120 Points]**\n",
    "\n",
    "\n",
    "**Due 11:59 PM EST, December 22**\n",
    "\n",
    "The steps to finish the exam:\n",
    "\n",
    "*   Step 1: Answer all questions on Google Colab.\n",
    "*   Step 2: Submit the copy on Google Assignments.\n",
    "\n",
    "Before you submit your assignment, make sure to re-run your code from the beginning. (You can do so by first clicking Runtime/Reset All Runtimes and then clicking Runtime/Run all)\n",
    "\n",
    "## Academic Honesty\n",
    "  \n",
    "### <font color=\"red\"> 1. Your submission will run under a plagiarism checker.\n",
    " \n",
    "### <font color=\"red\"> 2. Any communication/collaboration during the exam is strictly prohibited.\n",
    "  \n",
    "### <font color=\"red\">3. Receiving help from anyone or offering help to anyone during the exam will result in an \"F\" from the course and possible expulsion."
   ]
  },
  {
   "cell_type": "code",
   "execution_count": 1,
   "metadata": {
    "id": "f3BPfGhTQSbE"
   },
   "outputs": [],
   "source": [
    "                                                                                                                                                                                                                                                                                                                                                                                                                                                                                                                                                                                                                                                                                                                                                                                                                                                                                                                                                                                                                                                                                                                                                                                                                                                                                                                                                                                                                                                                                                                                                                                                                                                                                                                                                                                                                                                                                                                                                                                                                                                                                                                                                                                                                                                                                                                                                                                                                                                                                                                                                                                                                                                                                                                                                                                                                                                                                                                                                                                                                                                                                                                                                                                                                                                                                                                                                                                                                                                                                                                                                                                                                                                                                                                                                                                                                                                                                                                                                                                                                                                                                                                                                                                                                                                                                                                                                                                                                                                                                                                                                                                                                                                                                                                                                                                                                                                                                                                                                                                                                                                                                                                                                                                                                                                                                                                                                                                                                                                                                                                                                                                                                                                                                                                                                                                                                                                                                                                                                                                                                                                                                                                                                                                                                                                                                                                                                                                                                                                                                                                                                                                                                                                                                                                                                                                                                                                                                                                                                                                                                                                                                                                                                                                                                                                                                                                                                                                                                                                                                                                                                                                                                                                                                                                                                                                                                                                                                                                                                                                                                                                                                                                                                                                                                                                                                                                                                                                                                                                                                                                                                                                                                                                                                                                                                                                                                                                                                                                                                                                                                                                                                                                                                                                                                                                                                                                                                                                                                                                                                                                                                                                                                                                                                                                                                                                                                                                                                                                                                                                                                                                                                                                                                                                                                                                                                                                                                                                                                                                                                                                                                                                                                                                                                                                                                                                                                                                                                                                                                                                                                                                                                                                                                                                                                                                                                                                                                                                                                                                                                                                                                                                                                                                                                                                                                                                                                                                                                                                                                                                                                                                                                                                                                                                                                                                                                                                                                                                                                                                                                                                                                                                                                                                                                                                                                                                                                                                                                                                                                                                                                                                                                                                                                                                                                                                                                                                                                                                                                                                                                                                                                                                                                                                                                                                                                                                                                                                                                                                                                                                                                                                                                                                                                                                                                                                                                                                                                                                                                                                                                                                                                                                                                                                                                                                                                                                                                                                                                                                                                                                                                                                                                                                                                                                                                                                                                                                                                                                                                                                                                                                                                                                                                                                                                                                                                                                                                                                                                                                                                                                                                                                                                                                                                                                                                                                                                                                                                                                                                                                                                                                                                                                                                                                                                                                                                                                                                                                                                                                                                                                                                                                                                                                                                                                                                                                                                                                                                                                                                                                                                                                                                                                                                                                                                                                                                                                                                                                                                                                                                                                                                                                                                                                                                                                                                                                                                                                                                                                                                                                                                                                                                                                                                                                                                                                                                                                                                                                                                                                                                                                                                                                                                                                                                                                                                                                                                                                                                                                                                                                                                                                                                                                                                                                                                                                                                                                                                                                                                                                                                                                                                                                                                                                                                                                                                                                                                                                                                                                                                                                                                                                                                                                                                                                                                                                                                                                                                                                                                                                                                                                                                                                                                                                                                                                                                                                                                                                                                                                                                                                                                                                                                                                                                                                                                                                                                                                                                                                                                                                                                                                                                                                                                                                                                                                                                                                                                                                                                                                                                                                                                                                                                                                                                                                                                                                                                                                                                                                                                                                                                                                                                                                                                                                                                                                                                                                                                                                                                                                                                                                                                                                                                                                                                                                                                                                                                                                                                                                                                                                                                                                                                                                                                                                                                                                                                                                                                                                                                                                                                                                                                                                                                                                                                                                                                                                                                                                                                                                                                                                                                                                                                                                                                                                                                                                                                                                                                                                                                                                                                                                                                                                                                                                                                                                                                                                                                                                                                                                                                                                                                                                                                                                                                                                                                                                                                                                                                                                                                                                                                                                                                                                                                                                                                                                                                                                                                                                                                                                                                                                                                                                                                                                                                                                                                                                                                                                                                                                                                                                                                                                                                                                                                                                                                                                                                                                                                                                                                                                                                                                                                                                                                                                                                                                                                                                                                                                                                                                                                                                                                                                                                                                                                                                                                                                                                                                                                                                                                                                                                                                                                                                                                                                                                                                                                                                                                                                                                                                                                                                                                                                                                                                                                                                                                                                                                                                                                                                                                                                                                                                                                                                                                                                                                                                                                                                                                                                                                                                                                                                                                                                                                                                                                                                                                                                                                                                                                                                                                                                                                                                                                                                                                                                                                                                                                                                                                                                                                                                                                                                                                                                                                                                                                                                                                                                                                                                                                                                                                                                                                                                                                                                                                                                                                                                                                                                                                                                                                                                                                                                                                                                                                                                                                                                                                                                                                                                                                                                                                                                                                                                                                                                                                                                                                                                                                                                                                                                                                                                                                                                                                                                                                                                                                                                                                                                                                                                                                                                                                                                                                                                                                                                                                                                                                                                                                                                                                                                                                                                                                                                                                                                                                                                                                                                                                                                                                                                                                                                                                                                                                                                                                                                                                                                                                                                                                                                                                                                                                                                                                                                                                                                                                                                                                                                                                                                                                                                                                                                                                                                                                                                                                                                                                                                                                                                                                                                                                                                                                                                                                                                                                                                                                                                                                                                                                                                                                                                                                                                                                                                                                                                                                                                                                                                                                                                                                                                                                                                                                                                                                                                                                                                                                                                                                                                                                                                                                                                                                                                                                                                                                                                                                                                                                                                                                                                                                                                                                                                                                                                                                                                                                                                                                                                                                                                                                                                                                                                                                                                                                                                                                                                                                                                                                                                                                                                                                                                                                                                                                                                                                                                                                                                                                                                                                                                                                                                                                                                                                                                                                                                                                                                                                                                                                                                                                                                                                                                                                                                                                                                                                                                                                                                                                                                                                                                                                                                                                                                                                                                                                                                                                                                                                                                                                                                                                                                                                                                                                                                                                                                                                                                                                                                                                                                                                                                                                                                                                                                                                                                                                                                                                                                                                                                                                                                                                                                                                                                                                                                                                                                                                                                                                                                                                                                                                                                                                                                                                                                                                                                                                                                                                                                                                                                                                                                                                                                                                                                                                                                                                                                                                                                                                                                                                                                                                                                                                                                                                                                                                                                                                                                                                                                                                                                                                                                                                                                                                                                                                                                                                                                                                                                                                                                                                                                                                                                                                                                                                                                                                                                                                                                                                                                                                                                                                                                                                                                                                                                                                                                                                                                                                                                                                                                                                                                                                                                                                                                                                                                                                                                                                                                                                                                                                                                                                                                                                                                                                                                                                                                                                                                                                                                                                                                                                                                                                                                                                                                                                                                                                                                                                                                                                                                                                                                                                                                                                                                                                                                                                                                                                                                                                                                                                                                                                                                                                                                                                                                                                                                                                                                                                                                                                                                                                                                                                                                                                                                                                                                                                                                                                                                                                                                                                                                                                                                                                                                                                                                                                                                                                                                                                                                                                                                                                                                                                                                                                                                                                                                                                                                                                                                                                                                                                                                                                                                                                                                                                                                                                                                                                                                                                                                                                                                                                                                                                                                                                                                                                                                                                                                                                                                                                                                                                                                                                                                                                                                                                                                                                                                                                                                                                                                                                                                                                                                                                                                                                                                                                                                                                                                                                                                                                                                                                                                                                                                                                                                                                                                                                                                                                                                                                                                                                                                                                                                                                                                                                                                                                                                                                                                                                                                                                                                                                                                                                                                                                                                                                                                                                                                                                                                                                                                                                                                                                                                                                                                                                                                                                                                                                                                                                                                                                                                                                                                                                                                                                                                                                                                                                                                                                                                                                                                                                                                                                                                                                                                                                                                                                                                                                                                                                                                                                                                                                                                                                                                                                                                                                                                                                                                                                                                                                                                                                                                                                                                                                                                                                                                                                                                                                                                                                                                                                                                                                                                                                                                                                                                                                                                                                                                                                                                                                                                                                                                                                                                                                                                                                                                                                                                                                                                                                                                                                                                                                                                                                                                                                                                                                                                                                                                                                                                                                                                                                                                                                                                                                                                                                                                                                                                                                                                                                                                                                                                                                                                                                                                                                                                                                                                                                                                                                                                                                                                                                                                                                                                                                                                                                                                                                                                                                                                                                                                                                                                                                                                                                                                                                                                                                                                                                                                                                                                                                                                                                                                                                                                                                                                                                                                                                                                                                                                                                                                                                                                                                                                                                                                                                                                                                                                                                                                                                                                                                                                                                                                                                                                                                                                                                                                                                                                                                                                                                                                                                                                                                                                                                                                                                                                                                                                                                                                                                                                                                                                                                                                                                                                                                                                                                                                                                                                                                                                                                                                                                                                                                                                                                                                                                                                                                                                                                                                                                                                                                                                                                                                                                                                                                                                                                                                                                                                                                                                                                                                                                                                                                                                                                                                                                                                                                                                                                                                                                                                                                                                                                                                                                                                                                                                                                                                                                                                                                                                                                                                                                                                                                                                                                                                                                                                                                                                                                                                                                                                                                                                                                                                                                                                                                                                                                                                                                                                                                                                                                                                                                                                                                                                                                                                                                                                                                                                                                                                                                                                                                                                                                                                                                                                                                                                                                                                                                                                                                                                                                                                                                                                                                                                                                                                                                                                                                                                                                                                                                                                                                                                                                                                                                                                                                                                                                                                                                                                                                                                                                                                                                                                                                                                                                                                                                                                                                                                                                                                                                                                                                                                                                                                                                                                                                                                                                                                                                                                                                                                                                                                                                                                                                                                                                                                                                                                                                                                                                                                                                                                                                                                                                                                                                                                                                                                                                                                                                                                                                                                                                                                                                                                                                                                                                                                                                                                                                                                                                                                                                                                                                                                                                                                                                                                                                                                                                                                                                                                                                                                                                                                                                                                                                                                                                                                                                                                                                                                                                                                                                                                                                                                                                                                                                                                                                                                                                                                                                                                                                                                                                                                                                                                                                                                                                                                                                                                                                                                                                                                                                                                                                                                                                                                                                                                                                                                                                                                                                                                                                                                                                                                                                                                                                                                                                                                                                                                                                                                                                                                                                                                                                                                                                                                                                                                                                                                                                                                                                                                                                                                                                                                                                                                                                                                                                                                                                                                                                                                                                                                                                                                                                                                                                                                                                                                                                                                                                                                                                                                                                                                                                                                                                                                                                                                                                                                                                                                                                                                                                                                                                                                                                                                                                                                                                                                                                                                                                                                                                                                                                                                                                                                                                                                                                                                                                                                                                                                                                                                                                                                                                                                                                                                                                                                                                                                                                                                                                                                                                                                                                                                                                                                                                                                                                                                                                                                                                                                                                                                                                                                                                                                                                                                                                                                                                                                                                                                                                                                                                                                                                                                                                                                                                                                                                                                                                                                                                                                                                                                                                                                                                                                                                                                                                                                                                                                                                                                                                                                                                                                                                                                                                                                                                                                                                                                                                                                                                                                                                                                                                                                                                                                                                                                                                                                                                                                                                                                                                                                                                                                                                                                                                                                                                                                                                                                                                                                                                                                                                                                                                                                                                                                                                                                                                                                                                                                                                                                                                                                                                                                                                                                                                                                                                                                                                                                                                                                                                                                                                                                                                                                                                                                                                                                                                                                                                                                                                                                                                                                                                                                                                                                                                                                                                                                                                                                                                                                                                                                                                                                                                                                                                                                                                                                                                                                                                                                                                                                                                                                                                                                                                                                                                                                                                                                                                                                                                                                                                                                                                                                                                                                                                                                                                                                                                                                                                                                                                                                                                                                                                                                                                                                                                                                                                                                                                                                                                                                                                                                                                                                                                                                                                                                                                                                                                                                                                                                                                                                                                                                                                                                                                                                                                                                                                                                                                                                                                                                                                                                                                                                                                                                                                                                                                                                                                                                                                                                                                                                                                                                                                                                                                                                                                                                                                                                                                                                                                                                                                                                                                                                                                                                                                                                                                                                                                                                                                                                                                                                                                                                                                                                                                                                                                                                                                                                                                                                                                                                                                                                                                                                                                                                                                                                                                                                                                                                                                                                                                                                                                                                                                                                                                                                                                                                                                                                                                                                                                                                                                                                                                                                                                                                                                                                                                                                                                                                                                                                                                                                                                                                                                                                                                                                                                                                                                                                                                                                                                                                                                                                                                                                                                                                                                                                                                                                                                                                                                                                                                                                                                                                                                                                                                                                                                                                                                                                                                                                                                                                                                                                                                                                                                                                                                                                                                                                                                                                                                                                                                                                                                                                                                                                                                                                                                                                                                                                                                                                                                                                                                                                                                                                                                                                                                                                                                                                                                                                                                                                                                                                                                                                                                                                                                                                                                                                                                                                                                                                                                                                                                                                                                                                                                                                                                                                                                                                                                                                                                                                                                                                                                                                                                                                                                                                                                                                                                                                                                                                                                                                                                                                                                                                                                                                                                                                                                                                                                                                                                                                                                                                                                                                                                                                                                                                                                                                                                                                                                                                                                                                                                                                                                                                                                                                                                                                                                                                                                                                                                                                                                                                                                                                                                                                                                                                                                                                                                                                                                                                                                                                                                                                                                                                                                                                                                                                                                                                                                                                                                                                                                                                                                                                                                                                                                                                                                                                                                                                                                                                                                                                                                                                                                                                                                                                                                                                                                                                                                                                                                                                                                                                                                                                                                                                                                                                                                                                                                                                                                                                                                                                                                                                                                                                                                                                                                                                                                                                                                                                                                                                                                                                                                                                                                                                                                                                                                                                                                                                                                                                                                                                                                                                                                                                                                                                                                                                                                                                                                                                                                                                                                                                                                                                                                                                                                                                                                                                                                                                                                                                                                                                                                                                                                                                                                                                                                                                                                                                                                                                                                                                                                                                                                                                                                                                                                                                                                                                                                                                                                                                                                                                                                                                                                                                                                                                                                                                                                                                                                                                                                                                                                                                                                                                                                                                                                                                                                                                                                                                                                                                                                                                                                                                                                                                                                                                                                                                                                                                                                                                                                                                                                                                                                                                                                                                                                                                                                                                                                                                                                                                                                                                                                                                                                                                                                                                                                                                                                                                                                                                                                                                                                                                                                                                                                                                                                                                                                                                                                                                                                                                                                                                                                                                                                                                                                                                                                                                                                                                                                                                                                                                                                                                                                                                                                                                                                                                                                                                                                                                                                                                                                                                                                                                                                                                                                                                                                                                                                                                                                                                                                                                                                                                                                                                                                                                                                                                                                                                                                                                                                                                                                                                                                                                                                                                                                                                                                                                                                                                                                                                                                                                                                                                                                                                                                                                                                                                                                                                                                                                                                                                                                                                                                                                                                                                                                                                                                                                                                                                                                                                                                                                                                                                                                                                                                                                                                                                                                                                                                                                                                                                                                                                                                                                                                                                                                                                                                                                                                                                                                                                                                                                                                                                                                                                                                                                                                                                                                                                                                                                                                                                                                                                                                                                                                                                                                                                                                                                                                                                                                                                                                                                                                                                                                                                                                                                                                                                                                                                                                                                                                                                                                                                                                                                                                                                                                                                                                                                                                                                                                                                                                                                                                                                                                                                                                                                                                                                                                                                                                                                                                                                                                                                                                                                                                                                                                                                                                                                                                                                                                                                                                                                                                                                                                                                                                                                              #Your Name:\n",
    "#Your UNI: yt2690"
   ]
  },
  {
   "cell_type": "code",
   "execution_count": 2,
   "metadata": {
    "colab": {
     "base_uri": "https://localhost:8080/"
    },
    "id": "x4lR3IqNGLmD",
    "outputId": "c443d2ac-a3e5-4e97-9966-93df5143b29a"
   },
   "outputs": [
    {
     "name": "stdout",
     "output_type": "stream",
     "text": [
      "Requirement already up-to-date: sympy in /opt/conda/lib/python3.8/site-packages (1.7.1)\n",
      "Requirement already satisfied, skipping upgrade: mpmath>=0.19 in /opt/conda/lib/python3.8/site-packages (from sympy) (1.1.0)\n",
      "Requirement already satisfied: simpy in /opt/conda/lib/python3.8/site-packages (4.0.1)\n"
     ]
    }
   ],
   "source": [
    "#This imports all the packages you need for the homework\n",
    "#Please run this first\n",
    "!pip install sympy -U\n",
    "import numpy as np\n",
    "\n",
    "\n",
    "import scipy.special as spsp\n",
    "import scipy.stats as spst\n",
    "\n",
    "import matplotlib.pyplot as plt\n",
    "\n",
    "%matplotlib inline\n",
    "\n",
    "import sympy\n",
    "\n",
    "!pip install simpy\n",
    "import simpy\n",
    "\n",
    "import copy\n"
   ]
  },
  {
   "cell_type": "markdown",
   "metadata": {
    "id": "P6sagsMUDLVL"
   },
   "source": [
    "# Exercise 1 [36 Points]\n",
    "\n",
    "Assume two discrete variables $X$ and $Y$ both with support between $0$ and $\\infty$.\n",
    "\n",
    "It can be derived that the PMF of variable $Z=X+Y$ is as follows: \n",
    "\n",
    "$$PMF_Z(z)=\\sum_{x=0}^z PMF_{X}(x)PMF_{Y}(z-x) $$\n",
    "\n",
    "\n",
    "Throughout this exercise, let's assume\n",
    "\n",
    "* X~ Poisson Distribution\n",
    "\n",
    "$$PMF_{X}(x)=\\frac{exp(-\\lambda)\\lambda^x}{x!}, x=0, 1, 2,\\dots$$\n",
    "* Y~ Geometric Distribution\n",
    "$$PMF_{Y}(y)=(1-p)^y p, y=0, 1, 2, \\dots$$\n",
    "\n",
    "$\\lambda=5$ and $p=0.2$\n",
    "\n"
   ]
  },
  {
   "cell_type": "markdown",
   "metadata": {
    "id": "ARDInFHTeGoE"
   },
   "source": [
    "## Q1. [8 Points]\n",
    "\n",
    "\n",
    "* Construct a function that returns $PMF(z)$. Inside the function, no loops are allowed. \n",
    "* Generate 1000 samples from $Z$ distribution based on sampling from $X$ and $Y$. [You can use any `NumPy` functions to generate samples from Poisson and Geometric distribution]\n",
    "* In the same graph, plot the sample distribution of 1000 samples and the theoretical distribution of $Z$ variable."
   ]
  },
  {
   "cell_type": "code",
   "execution_count": 3,
   "metadata": {
    "id": "lEVp9IOYeNQF"
   },
   "outputs": [],
   "source": [
    "def z_function(z, lmbda=5, p=0.2):\n",
    "    z_array = np.arange(z + 1)\n",
    "    pmf_x = spst.poisson.pmf(z_array, lmbda)  \n",
    "    # geometric function uses p*(1-p)**(k-1)\n",
    "    pmf_y = spst.geom.pmf(z + 1 - z_array, p)\n",
    "    return sum(pmf_x * pmf_y)"
   ]
  },
  {
   "cell_type": "code",
   "execution_count": 4,
   "metadata": {},
   "outputs": [
    {
     "data": {
      "text/plain": [
       "0.2"
      ]
     },
     "execution_count": 4,
     "metadata": {},
     "output_type": "execute_result"
    }
   ],
   "source": [
    "spst.geom.pmf(k=0, p=0.2, loc=-1)"
   ]
  },
  {
   "cell_type": "code",
   "execution_count": 5,
   "metadata": {},
   "outputs": [
    {
     "data": {
      "text/plain": [
       "[<matplotlib.lines.Line2D at 0x7f1c173b66d0>]"
      ]
     },
     "execution_count": 5,
     "metadata": {},
     "output_type": "execute_result"
    },
    {
     "data": {
      "image/png": "[encoded data removed]",
      "text/plain": [
       "<Figure size 432x288 with 1 Axes>"
      ]
     },
     "metadata": {
      "needs_background": "light"
     },
     "output_type": "display_data"
    }
   ],
   "source": [
    "N = 1000\n",
    "z_samples = np.random.poisson(lam=5, size=N) + spst.geom.rvs(p=0.2, loc=-1, size=N)\n",
    "\n",
    "t = range(200)\n",
    "plt.hist(z_samples, bins=20, density=True, label='sample')\n",
    "plt.plot(t, [z_function(i) for i in t], label='theoratical')\n",
    "plt.legend()"
   ]
  },
  {
   "cell_type": "markdown",
   "metadata": {
    "id": "ZzdEDV8FeNsU"
   },
   "source": [
    "## Q2. [8 Points]\n",
    "\n",
    "Instead of first sampling from $X$ and $Y$ distributions, we can also use different methods to directly sample from $Z$ distribution using $PMF(z)$.\n",
    "\n",
    "Let's use Geometric distribution with ($\\theta$) as a proposal distribution to perform rejection sampling to directly get $z$.\n",
    "\n",
    "* Compute the best $\\theta$ and the corresponding $c$ based on searching $\\theta$ over `np.linspace(0.001,0.999,1000)`\n",
    "* If a proposal value is equal to 1, compute the probability of this proposal being accepted.\n"
   ]
  },
  {
   "cell_type": "code",
   "execution_count": 141,
   "metadata": {
    "id": "BJFLynaNegcd"
   },
   "outputs": [
    {
     "ename": "KeyboardInterrupt",
     "evalue": "",
     "output_type": "error",
     "traceback": [
      "\u001b[0;31m---------------------------------------------------------------------------\u001b[0m",
      "\u001b[0;31mKeyboardInterrupt\u001b[0m                         Traceback (most recent call last)",
      "\u001b[0;32m<ipython-input-141-1a6177e0995e>\u001b[0m in \u001b[0;36m<module>\u001b[0;34m\u001b[0m\n\u001b[1;32m      7\u001b[0m     \u001b[0;32mreturn\u001b[0m \u001b[0mnp\u001b[0m\u001b[0;34m.\u001b[0m\u001b[0mmax\u001b[0m\u001b[0;34m(\u001b[0m\u001b[0mpmf_z\u001b[0m \u001b[0;34m/\u001b[0m \u001b[0mpmf_geom\u001b[0m\u001b[0;34m)\u001b[0m\u001b[0;34m,\u001b[0m \u001b[0mp\u001b[0m\u001b[0;34m\u001b[0m\u001b[0;34m\u001b[0m\u001b[0m\n\u001b[1;32m      8\u001b[0m \u001b[0;34m\u001b[0m\u001b[0m\n\u001b[0;32m----> 9\u001b[0;31m \u001b[0mreturn_values\u001b[0m \u001b[0;34m=\u001b[0m \u001b[0mnp\u001b[0m\u001b[0;34m.\u001b[0m\u001b[0marray\u001b[0m\u001b[0;34m(\u001b[0m\u001b[0;34m[\u001b[0m\u001b[0mfind_c\u001b[0m\u001b[0;34m(\u001b[0m\u001b[0mp\u001b[0m\u001b[0;34m)\u001b[0m \u001b[0;32mfor\u001b[0m \u001b[0mp\u001b[0m \u001b[0;32min\u001b[0m \u001b[0mthetaList\u001b[0m\u001b[0;34m]\u001b[0m\u001b[0;34m)\u001b[0m\u001b[0;34m\u001b[0m\u001b[0;34m\u001b[0m\u001b[0m\n\u001b[0m\u001b[1;32m     10\u001b[0m \u001b[0mc_array\u001b[0m \u001b[0;34m=\u001b[0m \u001b[0mreturn_values\u001b[0m\u001b[0;34m[\u001b[0m\u001b[0;34m:\u001b[0m\u001b[0;34m,\u001b[0m\u001b[0;36m0\u001b[0m\u001b[0;34m]\u001b[0m\u001b[0;34m\u001b[0m\u001b[0;34m\u001b[0m\u001b[0m\n\u001b[1;32m     11\u001b[0m \u001b[0mp_array\u001b[0m \u001b[0;34m=\u001b[0m \u001b[0mreturn_values\u001b[0m\u001b[0;34m[\u001b[0m\u001b[0;34m:\u001b[0m\u001b[0;34m,\u001b[0m\u001b[0;36m1\u001b[0m\u001b[0;34m]\u001b[0m\u001b[0;34m\u001b[0m\u001b[0;34m\u001b[0m\u001b[0m\n",
      "\u001b[0;32m<ipython-input-141-1a6177e0995e>\u001b[0m in \u001b[0;36m<listcomp>\u001b[0;34m(.0)\u001b[0m\n\u001b[1;32m      7\u001b[0m     \u001b[0;32mreturn\u001b[0m \u001b[0mnp\u001b[0m\u001b[0;34m.\u001b[0m\u001b[0mmax\u001b[0m\u001b[0;34m(\u001b[0m\u001b[0mpmf_z\u001b[0m \u001b[0;34m/\u001b[0m \u001b[0mpmf_geom\u001b[0m\u001b[0;34m)\u001b[0m\u001b[0;34m,\u001b[0m \u001b[0mp\u001b[0m\u001b[0;34m\u001b[0m\u001b[0;34m\u001b[0m\u001b[0m\n\u001b[1;32m      8\u001b[0m \u001b[0;34m\u001b[0m\u001b[0m\n\u001b[0;32m----> 9\u001b[0;31m \u001b[0mreturn_values\u001b[0m \u001b[0;34m=\u001b[0m \u001b[0mnp\u001b[0m\u001b[0;34m.\u001b[0m\u001b[0marray\u001b[0m\u001b[0;34m(\u001b[0m\u001b[0;34m[\u001b[0m\u001b[0mfind_c\u001b[0m\u001b[0;34m(\u001b[0m\u001b[0mp\u001b[0m\u001b[0;34m)\u001b[0m \u001b[0;32mfor\u001b[0m \u001b[0mp\u001b[0m \u001b[0;32min\u001b[0m \u001b[0mthetaList\u001b[0m\u001b[0;34m]\u001b[0m\u001b[0;34m)\u001b[0m\u001b[0;34m\u001b[0m\u001b[0;34m\u001b[0m\u001b[0m\n\u001b[0m\u001b[1;32m     10\u001b[0m \u001b[0mc_array\u001b[0m \u001b[0;34m=\u001b[0m \u001b[0mreturn_values\u001b[0m\u001b[0;34m[\u001b[0m\u001b[0;34m:\u001b[0m\u001b[0;34m,\u001b[0m\u001b[0;36m0\u001b[0m\u001b[0;34m]\u001b[0m\u001b[0;34m\u001b[0m\u001b[0;34m\u001b[0m\u001b[0m\n\u001b[1;32m     11\u001b[0m \u001b[0mp_array\u001b[0m \u001b[0;34m=\u001b[0m \u001b[0mreturn_values\u001b[0m\u001b[0;34m[\u001b[0m\u001b[0;34m:\u001b[0m\u001b[0;34m,\u001b[0m\u001b[0;36m1\u001b[0m\u001b[0;34m]\u001b[0m\u001b[0;34m\u001b[0m\u001b[0;34m\u001b[0m\u001b[0m\n",
      "\u001b[0;32m<ipython-input-141-1a6177e0995e>\u001b[0m in \u001b[0;36mfind_c\u001b[0;34m(p)\u001b[0m\n\u001b[1;32m      4\u001b[0m     \u001b[0mx\u001b[0m \u001b[0;34m=\u001b[0m \u001b[0mnp\u001b[0m\u001b[0;34m.\u001b[0m\u001b[0marange\u001b[0m\u001b[0;34m(\u001b[0m\u001b[0;36m200\u001b[0m\u001b[0;34m)\u001b[0m\u001b[0;34m\u001b[0m\u001b[0;34m\u001b[0m\u001b[0m\n\u001b[1;32m      5\u001b[0m     \u001b[0mpmf_geom\u001b[0m \u001b[0;34m=\u001b[0m \u001b[0;34m(\u001b[0m\u001b[0;36m1\u001b[0m\u001b[0;34m-\u001b[0m\u001b[0mp\u001b[0m\u001b[0;34m)\u001b[0m\u001b[0;34m**\u001b[0m\u001b[0mx\u001b[0m \u001b[0;34m*\u001b[0m \u001b[0mp\u001b[0m\u001b[0;34m\u001b[0m\u001b[0;34m\u001b[0m\u001b[0m\n\u001b[0;32m----> 6\u001b[0;31m     \u001b[0mpmf_z\u001b[0m \u001b[0;34m=\u001b[0m \u001b[0mnp\u001b[0m\u001b[0;34m.\u001b[0m\u001b[0marray\u001b[0m\u001b[0;34m(\u001b[0m\u001b[0;34m[\u001b[0m\u001b[0mz_function\u001b[0m\u001b[0;34m(\u001b[0m\u001b[0mi\u001b[0m\u001b[0;34m)\u001b[0m \u001b[0;32mfor\u001b[0m \u001b[0mi\u001b[0m \u001b[0;32min\u001b[0m \u001b[0mx\u001b[0m\u001b[0;34m]\u001b[0m\u001b[0;34m)\u001b[0m\u001b[0;34m\u001b[0m\u001b[0;34m\u001b[0m\u001b[0m\n\u001b[0m\u001b[1;32m      7\u001b[0m     \u001b[0;32mreturn\u001b[0m \u001b[0mnp\u001b[0m\u001b[0;34m.\u001b[0m\u001b[0mmax\u001b[0m\u001b[0;34m(\u001b[0m\u001b[0mpmf_z\u001b[0m \u001b[0;34m/\u001b[0m \u001b[0mpmf_geom\u001b[0m\u001b[0;34m)\u001b[0m\u001b[0;34m,\u001b[0m \u001b[0mp\u001b[0m\u001b[0;34m\u001b[0m\u001b[0;34m\u001b[0m\u001b[0m\n\u001b[1;32m      8\u001b[0m \u001b[0;34m\u001b[0m\u001b[0m\n",
      "\u001b[0;32m<ipython-input-141-1a6177e0995e>\u001b[0m in \u001b[0;36m<listcomp>\u001b[0;34m(.0)\u001b[0m\n\u001b[1;32m      4\u001b[0m     \u001b[0mx\u001b[0m \u001b[0;34m=\u001b[0m \u001b[0mnp\u001b[0m\u001b[0;34m.\u001b[0m\u001b[0marange\u001b[0m\u001b[0;34m(\u001b[0m\u001b[0;36m200\u001b[0m\u001b[0;34m)\u001b[0m\u001b[0;34m\u001b[0m\u001b[0;34m\u001b[0m\u001b[0m\n\u001b[1;32m      5\u001b[0m     \u001b[0mpmf_geom\u001b[0m \u001b[0;34m=\u001b[0m \u001b[0;34m(\u001b[0m\u001b[0;36m1\u001b[0m\u001b[0;34m-\u001b[0m\u001b[0mp\u001b[0m\u001b[0;34m)\u001b[0m\u001b[0;34m**\u001b[0m\u001b[0mx\u001b[0m \u001b[0;34m*\u001b[0m \u001b[0mp\u001b[0m\u001b[0;34m\u001b[0m\u001b[0;34m\u001b[0m\u001b[0m\n\u001b[0;32m----> 6\u001b[0;31m     \u001b[0mpmf_z\u001b[0m \u001b[0;34m=\u001b[0m \u001b[0mnp\u001b[0m\u001b[0;34m.\u001b[0m\u001b[0marray\u001b[0m\u001b[0;34m(\u001b[0m\u001b[0;34m[\u001b[0m\u001b[0mz_function\u001b[0m\u001b[0;34m(\u001b[0m\u001b[0mi\u001b[0m\u001b[0;34m)\u001b[0m \u001b[0;32mfor\u001b[0m \u001b[0mi\u001b[0m \u001b[0;32min\u001b[0m \u001b[0mx\u001b[0m\u001b[0;34m]\u001b[0m\u001b[0;34m)\u001b[0m\u001b[0;34m\u001b[0m\u001b[0;34m\u001b[0m\u001b[0m\n\u001b[0m\u001b[1;32m      7\u001b[0m     \u001b[0;32mreturn\u001b[0m \u001b[0mnp\u001b[0m\u001b[0;34m.\u001b[0m\u001b[0mmax\u001b[0m\u001b[0;34m(\u001b[0m\u001b[0mpmf_z\u001b[0m \u001b[0;34m/\u001b[0m \u001b[0mpmf_geom\u001b[0m\u001b[0;34m)\u001b[0m\u001b[0;34m,\u001b[0m \u001b[0mp\u001b[0m\u001b[0;34m\u001b[0m\u001b[0;34m\u001b[0m\u001b[0m\n\u001b[1;32m      8\u001b[0m \u001b[0;34m\u001b[0m\u001b[0m\n",
      "\u001b[0;32m<ipython-input-7-e5ba9da90087>\u001b[0m in \u001b[0;36mz_function\u001b[0;34m(z)\u001b[0m\n\u001b[1;32m      8\u001b[0m     \u001b[0mpmf_y\u001b[0m \u001b[0;34m=\u001b[0m \u001b[0;34m(\u001b[0m\u001b[0;36m1\u001b[0m \u001b[0;34m-\u001b[0m \u001b[0mp_s\u001b[0m\u001b[0;34m)\u001b[0m\u001b[0;34m**\u001b[0m\u001b[0;34m(\u001b[0m\u001b[0my_s\u001b[0m\u001b[0;34m)\u001b[0m \u001b[0;34m*\u001b[0m \u001b[0mp_s\u001b[0m\u001b[0;34m\u001b[0m\u001b[0;34m\u001b[0m\u001b[0m\n\u001b[1;32m      9\u001b[0m     \u001b[0mpmf_pos\u001b[0m \u001b[0;34m=\u001b[0m \u001b[0msympy\u001b[0m\u001b[0;34m.\u001b[0m\u001b[0mSum\u001b[0m\u001b[0;34m(\u001b[0m\u001b[0mpmf_x\u001b[0m \u001b[0;34m*\u001b[0m \u001b[0mpmf_y\u001b[0m\u001b[0;34m,\u001b[0m \u001b[0;34m(\u001b[0m\u001b[0my_s\u001b[0m\u001b[0;34m,\u001b[0m \u001b[0;36m0\u001b[0m\u001b[0;34m,\u001b[0m \u001b[0msympy\u001b[0m\u001b[0;34m.\u001b[0m\u001b[0moo\u001b[0m\u001b[0;34m)\u001b[0m\u001b[0;34m)\u001b[0m\u001b[0;34m.\u001b[0m\u001b[0mdoit\u001b[0m\u001b[0;34m(\u001b[0m\u001b[0;34m)\u001b[0m\u001b[0;34m\u001b[0m\u001b[0;34m\u001b[0m\u001b[0m\n\u001b[0;32m---> 10\u001b[0;31m     \u001b[0mpmf_neg\u001b[0m \u001b[0;34m=\u001b[0m \u001b[0msympy\u001b[0m\u001b[0;34m.\u001b[0m\u001b[0mSum\u001b[0m\u001b[0;34m(\u001b[0m\u001b[0mpmf_x\u001b[0m \u001b[0;34m*\u001b[0m \u001b[0mpmf_y\u001b[0m\u001b[0;34m,\u001b[0m \u001b[0;34m(\u001b[0m\u001b[0my_s\u001b[0m\u001b[0;34m,\u001b[0m \u001b[0;34m-\u001b[0m\u001b[0mz_s\u001b[0m\u001b[0;34m,\u001b[0m \u001b[0msympy\u001b[0m\u001b[0;34m.\u001b[0m\u001b[0moo\u001b[0m\u001b[0;34m)\u001b[0m\u001b[0;34m)\u001b[0m\u001b[0;34m.\u001b[0m\u001b[0mdoit\u001b[0m\u001b[0;34m(\u001b[0m\u001b[0;34m)\u001b[0m\u001b[0;34m\u001b[0m\u001b[0;34m\u001b[0m\u001b[0m\n\u001b[0m\u001b[1;32m     11\u001b[0m     \u001b[0;32mif\u001b[0m \u001b[0mz\u001b[0m \u001b[0;34m>\u001b[0m \u001b[0;36m0\u001b[0m\u001b[0;34m:\u001b[0m\u001b[0;34m\u001b[0m\u001b[0;34m\u001b[0m\u001b[0m\n\u001b[1;32m     12\u001b[0m         \u001b[0;32mreturn\u001b[0m \u001b[0msympy\u001b[0m\u001b[0;34m.\u001b[0m\u001b[0mN\u001b[0m\u001b[0;34m(\u001b[0m\u001b[0mpmf_pos\u001b[0m\u001b[0;34m.\u001b[0m\u001b[0msubs\u001b[0m\u001b[0;34m(\u001b[0m\u001b[0;34m{\u001b[0m\u001b[0mz_s\u001b[0m\u001b[0;34m:\u001b[0m \u001b[0mz\u001b[0m\u001b[0;34m,\u001b[0m \u001b[0mlm_s\u001b[0m\u001b[0;34m:\u001b[0m \u001b[0;36m5\u001b[0m\u001b[0;34m,\u001b[0m \u001b[0mp_s\u001b[0m\u001b[0;34m:\u001b[0m \u001b[0;36m0.2\u001b[0m\u001b[0;34m}\u001b[0m\u001b[0;34m)\u001b[0m\u001b[0;34m)\u001b[0m\u001b[0;34m\u001b[0m\u001b[0;34m\u001b[0m\u001b[0m\n",
      "\u001b[0;32m/opt/conda/lib/python3.8/site-packages/sympy/concrete/summations.py\u001b[0m in \u001b[0;36mdoit\u001b[0;34m(self, **hints)\u001b[0m\n\u001b[1;32m    230\u001b[0m                 \u001b[0mf\u001b[0m \u001b[0;34m=\u001b[0m \u001b[0;34m-\u001b[0m\u001b[0mf\u001b[0m\u001b[0;34m\u001b[0m\u001b[0;34m\u001b[0m\u001b[0m\n\u001b[1;32m    231\u001b[0m \u001b[0;34m\u001b[0m\u001b[0m\n\u001b[0;32m--> 232\u001b[0;31m             \u001b[0mnewf\u001b[0m \u001b[0;34m=\u001b[0m \u001b[0meval_sum\u001b[0m\u001b[0;34m(\u001b[0m\u001b[0mf\u001b[0m\u001b[0;34m,\u001b[0m \u001b[0;34m(\u001b[0m\u001b[0mi\u001b[0m\u001b[0;34m,\u001b[0m \u001b[0ma\u001b[0m\u001b[0;34m,\u001b[0m \u001b[0mb\u001b[0m\u001b[0;34m)\u001b[0m\u001b[0;34m)\u001b[0m\u001b[0;34m\u001b[0m\u001b[0;34m\u001b[0m\u001b[0m\n\u001b[0m\u001b[1;32m    233\u001b[0m             \u001b[0;32mif\u001b[0m \u001b[0mnewf\u001b[0m \u001b[0;32mis\u001b[0m \u001b[0;32mNone\u001b[0m\u001b[0;34m:\u001b[0m\u001b[0;34m\u001b[0m\u001b[0;34m\u001b[0m\u001b[0m\n\u001b[1;32m    234\u001b[0m                 \u001b[0;32mif\u001b[0m \u001b[0mf\u001b[0m \u001b[0;34m==\u001b[0m \u001b[0mself\u001b[0m\u001b[0;34m.\u001b[0m\u001b[0mfunction\u001b[0m\u001b[0;34m:\u001b[0m\u001b[0;34m\u001b[0m\u001b[0;34m\u001b[0m\u001b[0m\n",
      "\u001b[0;32m/opt/conda/lib/python3.8/site-packages/sympy/concrete/summations.py\u001b[0m in \u001b[0;36meval_sum\u001b[0;34m(f, limits)\u001b[0m\n\u001b[1;32m    996\u001b[0m     \u001b[0;31m# this can save time when b-a is big.\u001b[0m\u001b[0;34m\u001b[0m\u001b[0;34m\u001b[0m\u001b[0;34m\u001b[0m\u001b[0m\n\u001b[1;32m    997\u001b[0m     \u001b[0;31m# We should try to transform to partial fractions\u001b[0m\u001b[0;34m\u001b[0m\u001b[0;34m\u001b[0m\u001b[0;34m\u001b[0m\u001b[0m\n\u001b[0;32m--> 998\u001b[0;31m     \u001b[0mvalue\u001b[0m \u001b[0;34m=\u001b[0m \u001b[0meval_sum_symbolic\u001b[0m\u001b[0;34m(\u001b[0m\u001b[0mf\u001b[0m\u001b[0;34m.\u001b[0m\u001b[0mexpand\u001b[0m\u001b[0;34m(\u001b[0m\u001b[0;34m)\u001b[0m\u001b[0;34m,\u001b[0m \u001b[0;34m(\u001b[0m\u001b[0mi\u001b[0m\u001b[0;34m,\u001b[0m \u001b[0ma\u001b[0m\u001b[0;34m,\u001b[0m \u001b[0mb\u001b[0m\u001b[0;34m)\u001b[0m\u001b[0;34m)\u001b[0m\u001b[0;34m\u001b[0m\u001b[0;34m\u001b[0m\u001b[0m\n\u001b[0m\u001b[1;32m    999\u001b[0m     \u001b[0;32mif\u001b[0m \u001b[0mvalue\u001b[0m \u001b[0;32mis\u001b[0m \u001b[0;32mnot\u001b[0m \u001b[0;32mNone\u001b[0m\u001b[0;34m:\u001b[0m\u001b[0;34m\u001b[0m\u001b[0;34m\u001b[0m\u001b[0m\n\u001b[1;32m   1000\u001b[0m         \u001b[0;32mreturn\u001b[0m \u001b[0mvalue\u001b[0m\u001b[0;34m\u001b[0m\u001b[0;34m\u001b[0m\u001b[0m\n",
      "\u001b[0;32m/opt/conda/lib/python3.8/site-packages/sympy/concrete/summations.py\u001b[0m in \u001b[0;36meval_sum_symbolic\u001b[0;34m(f, limits)\u001b[0m\n\u001b[1;32m   1077\u001b[0m         \u001b[0mwithout_i\u001b[0m\u001b[0;34m,\u001b[0m \u001b[0mwith_i\u001b[0m \u001b[0;34m=\u001b[0m \u001b[0mf\u001b[0m\u001b[0;34m.\u001b[0m\u001b[0mas_independent\u001b[0m\u001b[0;34m(\u001b[0m\u001b[0mi\u001b[0m\u001b[0;34m)\u001b[0m\u001b[0;34m\u001b[0m\u001b[0;34m\u001b[0m\u001b[0m\n\u001b[1;32m   1078\u001b[0m         \u001b[0;32mif\u001b[0m \u001b[0mwithout_i\u001b[0m \u001b[0;34m!=\u001b[0m \u001b[0;36m1\u001b[0m\u001b[0;34m:\u001b[0m\u001b[0;34m\u001b[0m\u001b[0;34m\u001b[0m\u001b[0m\n\u001b[0;32m-> 1079\u001b[0;31m             \u001b[0ms\u001b[0m \u001b[0;34m=\u001b[0m \u001b[0meval_sum_symbolic\u001b[0m\u001b[0;34m(\u001b[0m\u001b[0mwith_i\u001b[0m\u001b[0;34m,\u001b[0m \u001b[0;34m(\u001b[0m\u001b[0mi\u001b[0m\u001b[0;34m,\u001b[0m \u001b[0ma\u001b[0m\u001b[0;34m,\u001b[0m \u001b[0mb\u001b[0m\u001b[0;34m)\u001b[0m\u001b[0;34m)\u001b[0m\u001b[0;34m\u001b[0m\u001b[0;34m\u001b[0m\u001b[0m\n\u001b[0m\u001b[1;32m   1080\u001b[0m             \u001b[0;32mif\u001b[0m \u001b[0ms\u001b[0m\u001b[0;34m:\u001b[0m\u001b[0;34m\u001b[0m\u001b[0;34m\u001b[0m\u001b[0m\n\u001b[1;32m   1081\u001b[0m                 \u001b[0mr\u001b[0m \u001b[0;34m=\u001b[0m \u001b[0mwithout_i\u001b[0m\u001b[0;34m*\u001b[0m\u001b[0ms\u001b[0m\u001b[0;34m\u001b[0m\u001b[0;34m\u001b[0m\u001b[0m\n",
      "\u001b[0;32m/opt/conda/lib/python3.8/site-packages/sympy/concrete/summations.py\u001b[0m in \u001b[0;36meval_sum_symbolic\u001b[0;34m(f, limits)\u001b[0m\n\u001b[1;32m   1195\u001b[0m             \u001b[0;32mreturn\u001b[0m \u001b[0mr\u001b[0m\u001b[0;34m\u001b[0m\u001b[0;34m\u001b[0m\u001b[0m\n\u001b[1;32m   1196\u001b[0m \u001b[0;34m\u001b[0m\u001b[0m\n\u001b[0;32m-> 1197\u001b[0;31m     \u001b[0mh\u001b[0m \u001b[0;34m=\u001b[0m \u001b[0meval_sum_hyper\u001b[0m\u001b[0;34m(\u001b[0m\u001b[0mf_orig\u001b[0m\u001b[0;34m,\u001b[0m \u001b[0;34m(\u001b[0m\u001b[0mi\u001b[0m\u001b[0;34m,\u001b[0m \u001b[0ma\u001b[0m\u001b[0;34m,\u001b[0m \u001b[0mb\u001b[0m\u001b[0;34m)\u001b[0m\u001b[0;34m)\u001b[0m\u001b[0;34m\u001b[0m\u001b[0;34m\u001b[0m\u001b[0m\n\u001b[0m\u001b[1;32m   1198\u001b[0m     \u001b[0;32mif\u001b[0m \u001b[0mh\u001b[0m \u001b[0;32mis\u001b[0m \u001b[0;32mnot\u001b[0m \u001b[0;32mNone\u001b[0m\u001b[0;34m:\u001b[0m\u001b[0;34m\u001b[0m\u001b[0;34m\u001b[0m\u001b[0m\n\u001b[1;32m   1199\u001b[0m         \u001b[0;32mreturn\u001b[0m \u001b[0mh\u001b[0m\u001b[0;34m\u001b[0m\u001b[0;34m\u001b[0m\u001b[0m\n",
      "\u001b[0;32m/opt/conda/lib/python3.8/site-packages/sympy/concrete/summations.py\u001b[0m in \u001b[0;36meval_sum_hyper\u001b[0;34m(f, i_a_b)\u001b[0m\n\u001b[1;32m   1298\u001b[0m \u001b[0;34m\u001b[0m\u001b[0m\n\u001b[1;32m   1299\u001b[0m     \u001b[0;31m# Now b == oo, a != -oo\u001b[0m\u001b[0;34m\u001b[0m\u001b[0;34m\u001b[0m\u001b[0;34m\u001b[0m\u001b[0m\n\u001b[0;32m-> 1300\u001b[0;31m     \u001b[0mres\u001b[0m \u001b[0;34m=\u001b[0m \u001b[0m_eval_sum_hyper\u001b[0m\u001b[0;34m(\u001b[0m\u001b[0mf\u001b[0m\u001b[0;34m,\u001b[0m \u001b[0mi\u001b[0m\u001b[0;34m,\u001b[0m \u001b[0ma\u001b[0m\u001b[0;34m)\u001b[0m\u001b[0;34m\u001b[0m\u001b[0;34m\u001b[0m\u001b[0m\n\u001b[0m\u001b[1;32m   1301\u001b[0m     \u001b[0;32mif\u001b[0m \u001b[0mres\u001b[0m \u001b[0;32mis\u001b[0m \u001b[0;32mnot\u001b[0m \u001b[0;32mNone\u001b[0m\u001b[0;34m:\u001b[0m\u001b[0;34m\u001b[0m\u001b[0;34m\u001b[0m\u001b[0m\n\u001b[1;32m   1302\u001b[0m         \u001b[0mr\u001b[0m\u001b[0;34m,\u001b[0m \u001b[0mc\u001b[0m \u001b[0;34m=\u001b[0m \u001b[0mres\u001b[0m\u001b[0;34m\u001b[0m\u001b[0;34m\u001b[0m\u001b[0m\n",
      "\u001b[0;32m/opt/conda/lib/python3.8/site-packages/sympy/concrete/summations.py\u001b[0m in \u001b[0;36m_eval_sum_hyper\u001b[0;34m(f, i, a)\u001b[0m\n\u001b[1;32m   1212\u001b[0m \u001b[0;34m\u001b[0m\u001b[0m\n\u001b[1;32m   1213\u001b[0m     \u001b[0;32mif\u001b[0m \u001b[0ma\u001b[0m \u001b[0;34m!=\u001b[0m \u001b[0;36m0\u001b[0m\u001b[0;34m:\u001b[0m\u001b[0;34m\u001b[0m\u001b[0;34m\u001b[0m\u001b[0m\n\u001b[0;32m-> 1214\u001b[0;31m         \u001b[0;32mreturn\u001b[0m \u001b[0m_eval_sum_hyper\u001b[0m\u001b[0;34m(\u001b[0m\u001b[0mf\u001b[0m\u001b[0;34m.\u001b[0m\u001b[0msubs\u001b[0m\u001b[0;34m(\u001b[0m\u001b[0mi\u001b[0m\u001b[0;34m,\u001b[0m \u001b[0mi\u001b[0m \u001b[0;34m+\u001b[0m \u001b[0ma\u001b[0m\u001b[0;34m)\u001b[0m\u001b[0;34m,\u001b[0m \u001b[0mi\u001b[0m\u001b[0;34m,\u001b[0m \u001b[0;36m0\u001b[0m\u001b[0;34m)\u001b[0m\u001b[0;34m\u001b[0m\u001b[0;34m\u001b[0m\u001b[0m\n\u001b[0m\u001b[1;32m   1215\u001b[0m \u001b[0;34m\u001b[0m\u001b[0m\n\u001b[1;32m   1216\u001b[0m     \u001b[0;32mif\u001b[0m \u001b[0mf\u001b[0m\u001b[0;34m.\u001b[0m\u001b[0msubs\u001b[0m\u001b[0;34m(\u001b[0m\u001b[0mi\u001b[0m\u001b[0;34m,\u001b[0m \u001b[0;36m0\u001b[0m\u001b[0;34m)\u001b[0m \u001b[0;34m==\u001b[0m \u001b[0;36m0\u001b[0m\u001b[0;34m:\u001b[0m\u001b[0;34m\u001b[0m\u001b[0;34m\u001b[0m\u001b[0m\n",
      "\u001b[0;32m/opt/conda/lib/python3.8/site-packages/sympy/concrete/summations.py\u001b[0m in \u001b[0;36m_eval_sum_hyper\u001b[0;34m(f, i, a)\u001b[0m\n\u001b[1;32m   1255\u001b[0m     \u001b[0mh\u001b[0m \u001b[0;34m=\u001b[0m \u001b[0mhyper\u001b[0m\u001b[0;34m(\u001b[0m\u001b[0map\u001b[0m\u001b[0;34m,\u001b[0m \u001b[0mbq\u001b[0m\u001b[0;34m,\u001b[0m \u001b[0mx\u001b[0m\u001b[0;34m)\u001b[0m\u001b[0;34m\u001b[0m\u001b[0;34m\u001b[0m\u001b[0m\n\u001b[1;32m   1256\u001b[0m     \u001b[0mf\u001b[0m \u001b[0;34m=\u001b[0m \u001b[0mcombsimp\u001b[0m\u001b[0;34m(\u001b[0m\u001b[0mf\u001b[0m\u001b[0;34m)\u001b[0m\u001b[0;34m\u001b[0m\u001b[0;34m\u001b[0m\u001b[0m\n\u001b[0;32m-> 1257\u001b[0;31m     \u001b[0;32mreturn\u001b[0m \u001b[0mf\u001b[0m\u001b[0;34m.\u001b[0m\u001b[0msubs\u001b[0m\u001b[0;34m(\u001b[0m\u001b[0mi\u001b[0m\u001b[0;34m,\u001b[0m \u001b[0;36m0\u001b[0m\u001b[0;34m)\u001b[0m\u001b[0;34m*\u001b[0m\u001b[0mhyperexpand\u001b[0m\u001b[0;34m(\u001b[0m\u001b[0mh\u001b[0m\u001b[0;34m)\u001b[0m\u001b[0;34m,\u001b[0m \u001b[0mh\u001b[0m\u001b[0;34m.\u001b[0m\u001b[0mconvergence_statement\u001b[0m\u001b[0;34m\u001b[0m\u001b[0;34m\u001b[0m\u001b[0m\n\u001b[0m\u001b[1;32m   1258\u001b[0m \u001b[0;34m\u001b[0m\u001b[0m\n\u001b[1;32m   1259\u001b[0m \u001b[0;34m\u001b[0m\u001b[0m\n",
      "\u001b[0;32m/opt/conda/lib/python3.8/site-packages/sympy/simplify/hyperexpand.py\u001b[0m in \u001b[0;36mhyperexpand\u001b[0;34m(f, allow_hyper, rewrite, place)\u001b[0m\n\u001b[1;32m   2489\u001b[0m         \u001b[0;32mif\u001b[0m \u001b[0;32mnot\u001b[0m \u001b[0mr\u001b[0m\u001b[0;34m.\u001b[0m\u001b[0mhas\u001b[0m\u001b[0;34m(\u001b[0m\u001b[0mnan\u001b[0m\u001b[0;34m,\u001b[0m \u001b[0mzoo\u001b[0m\u001b[0;34m,\u001b[0m \u001b[0moo\u001b[0m\u001b[0;34m,\u001b[0m \u001b[0;34m-\u001b[0m\u001b[0moo\u001b[0m\u001b[0;34m)\u001b[0m\u001b[0;34m:\u001b[0m\u001b[0;34m\u001b[0m\u001b[0;34m\u001b[0m\u001b[0m\n\u001b[1;32m   2490\u001b[0m             \u001b[0;32mreturn\u001b[0m \u001b[0mr\u001b[0m\u001b[0;34m\u001b[0m\u001b[0;34m\u001b[0m\u001b[0m\n\u001b[0;32m-> 2491\u001b[0;31m     \u001b[0;32mreturn\u001b[0m \u001b[0mf\u001b[0m\u001b[0;34m.\u001b[0m\u001b[0mreplace\u001b[0m\u001b[0;34m(\u001b[0m\u001b[0mhyper\u001b[0m\u001b[0;34m,\u001b[0m \u001b[0mdo_replace\u001b[0m\u001b[0;34m)\u001b[0m\u001b[0;34m.\u001b[0m\u001b[0mreplace\u001b[0m\u001b[0;34m(\u001b[0m\u001b[0mmeijerg\u001b[0m\u001b[0;34m,\u001b[0m \u001b[0mdo_meijer\u001b[0m\u001b[0;34m)\u001b[0m\u001b[0;34m\u001b[0m\u001b[0;34m\u001b[0m\u001b[0m\n\u001b[0m",
      "\u001b[0;32m/opt/conda/lib/python3.8/site-packages/sympy/core/basic.py\u001b[0m in \u001b[0;36mreplace\u001b[0;34m(self, query, value, map, simultaneous, exact)\u001b[0m\n\u001b[1;32m   1491\u001b[0m             \u001b[0;32mreturn\u001b[0m \u001b[0mexpr\u001b[0m\u001b[0;34m\u001b[0m\u001b[0;34m\u001b[0m\u001b[0m\n\u001b[1;32m   1492\u001b[0m \u001b[0;34m\u001b[0m\u001b[0m\n\u001b[0;32m-> 1493\u001b[0;31m         \u001b[0mrv\u001b[0m \u001b[0;34m=\u001b[0m \u001b[0mwalk\u001b[0m\u001b[0;34m(\u001b[0m\u001b[0mself\u001b[0m\u001b[0;34m,\u001b[0m \u001b[0mrec_replace\u001b[0m\u001b[0;34m)\u001b[0m\u001b[0;34m\u001b[0m\u001b[0;34m\u001b[0m\u001b[0m\n\u001b[0m\u001b[1;32m   1494\u001b[0m         \u001b[0;32mreturn\u001b[0m \u001b[0;34m(\u001b[0m\u001b[0mrv\u001b[0m\u001b[0;34m,\u001b[0m \u001b[0mmapping\u001b[0m\u001b[0;34m)\u001b[0m \u001b[0;32mif\u001b[0m \u001b[0mmap\u001b[0m \u001b[0;32melse\u001b[0m \u001b[0mrv\u001b[0m\u001b[0;34m\u001b[0m\u001b[0;34m\u001b[0m\u001b[0m\n\u001b[1;32m   1495\u001b[0m \u001b[0;34m\u001b[0m\u001b[0m\n",
      "\u001b[0;32m/opt/conda/lib/python3.8/site-packages/sympy/core/basic.py\u001b[0m in \u001b[0;36mwalk\u001b[0;34m(rv, F)\u001b[0m\n\u001b[1;32m   1475\u001b[0m                                 \u001b[0;32mif\u001b[0m \u001b[0mrv\u001b[0m \u001b[0;34m==\u001b[0m \u001b[0me\u001b[0m \u001b[0;32mand\u001b[0m \u001b[0me\u001b[0m \u001b[0;34m!=\u001b[0m \u001b[0mnewargs\u001b[0m\u001b[0;34m[\u001b[0m\u001b[0mi\u001b[0m\u001b[0;34m]\u001b[0m\u001b[0;34m:\u001b[0m\u001b[0;34m\u001b[0m\u001b[0;34m\u001b[0m\u001b[0m\n\u001b[1;32m   1476\u001b[0m                                     \u001b[0;32mreturn\u001b[0m \u001b[0mrv\u001b[0m\u001b[0;34m\u001b[0m\u001b[0;34m\u001b[0m\u001b[0m\n\u001b[0;32m-> 1477\u001b[0;31m                 \u001b[0mrv\u001b[0m \u001b[0;34m=\u001b[0m \u001b[0mF\u001b[0m\u001b[0;34m(\u001b[0m\u001b[0mrv\u001b[0m\u001b[0;34m)\u001b[0m\u001b[0;34m\u001b[0m\u001b[0;34m\u001b[0m\u001b[0m\n\u001b[0m\u001b[1;32m   1478\u001b[0m             \u001b[0;32mreturn\u001b[0m \u001b[0mrv\u001b[0m\u001b[0;34m\u001b[0m\u001b[0;34m\u001b[0m\u001b[0m\n\u001b[1;32m   1479\u001b[0m \u001b[0;34m\u001b[0m\u001b[0m\n",
      "\u001b[0;32m/opt/conda/lib/python3.8/site-packages/sympy/core/basic.py\u001b[0m in \u001b[0;36mrec_replace\u001b[0;34m(expr)\u001b[0m\n\u001b[1;32m   1484\u001b[0m             \u001b[0mresult\u001b[0m \u001b[0;34m=\u001b[0m \u001b[0m_query\u001b[0m\u001b[0;34m(\u001b[0m\u001b[0mexpr\u001b[0m\u001b[0;34m)\u001b[0m\u001b[0;34m\u001b[0m\u001b[0;34m\u001b[0m\u001b[0m\n\u001b[1;32m   1485\u001b[0m             \u001b[0;32mif\u001b[0m \u001b[0mresult\u001b[0m \u001b[0;32mor\u001b[0m \u001b[0mresult\u001b[0m \u001b[0;34m==\u001b[0m \u001b[0;34m{\u001b[0m\u001b[0;34m}\u001b[0m\u001b[0;34m:\u001b[0m\u001b[0;34m\u001b[0m\u001b[0;34m\u001b[0m\u001b[0m\n\u001b[0;32m-> 1486\u001b[0;31m                 \u001b[0mv\u001b[0m \u001b[0;34m=\u001b[0m \u001b[0m_value\u001b[0m\u001b[0;34m(\u001b[0m\u001b[0mexpr\u001b[0m\u001b[0;34m,\u001b[0m \u001b[0mresult\u001b[0m\u001b[0;34m)\u001b[0m\u001b[0;34m\u001b[0m\u001b[0;34m\u001b[0m\u001b[0m\n\u001b[0m\u001b[1;32m   1487\u001b[0m                 \u001b[0;32mif\u001b[0m \u001b[0mv\u001b[0m \u001b[0;32mis\u001b[0m \u001b[0;32mnot\u001b[0m \u001b[0;32mNone\u001b[0m \u001b[0;32mand\u001b[0m \u001b[0mv\u001b[0m \u001b[0;34m!=\u001b[0m \u001b[0mexpr\u001b[0m\u001b[0;34m:\u001b[0m\u001b[0;34m\u001b[0m\u001b[0;34m\u001b[0m\u001b[0m\n\u001b[1;32m   1488\u001b[0m                     \u001b[0;32mif\u001b[0m \u001b[0mmap\u001b[0m\u001b[0;34m:\u001b[0m\u001b[0;34m\u001b[0m\u001b[0;34m\u001b[0m\u001b[0m\n",
      "\u001b[0;32m/opt/conda/lib/python3.8/site-packages/sympy/core/basic.py\u001b[0m in \u001b[0;36m<lambda>\u001b[0;34m(expr, result)\u001b[0m\n\u001b[1;32m   1413\u001b[0m                 \u001b[0m_value\u001b[0m \u001b[0;34m=\u001b[0m \u001b[0;32mlambda\u001b[0m \u001b[0mexpr\u001b[0m\u001b[0;34m,\u001b[0m \u001b[0mresult\u001b[0m\u001b[0;34m:\u001b[0m \u001b[0mvalue\u001b[0m\u001b[0;34m(\u001b[0m\u001b[0;34m*\u001b[0m\u001b[0mexpr\u001b[0m\u001b[0;34m.\u001b[0m\u001b[0margs\u001b[0m\u001b[0;34m)\u001b[0m\u001b[0;34m\u001b[0m\u001b[0;34m\u001b[0m\u001b[0m\n\u001b[1;32m   1414\u001b[0m             \u001b[0;32melif\u001b[0m \u001b[0mcallable\u001b[0m\u001b[0;34m(\u001b[0m\u001b[0mvalue\u001b[0m\u001b[0;34m)\u001b[0m\u001b[0;34m:\u001b[0m\u001b[0;34m\u001b[0m\u001b[0;34m\u001b[0m\u001b[0m\n\u001b[0;32m-> 1415\u001b[0;31m                 \u001b[0m_value\u001b[0m \u001b[0;34m=\u001b[0m \u001b[0;32mlambda\u001b[0m \u001b[0mexpr\u001b[0m\u001b[0;34m,\u001b[0m \u001b[0mresult\u001b[0m\u001b[0;34m:\u001b[0m \u001b[0mvalue\u001b[0m\u001b[0;34m(\u001b[0m\u001b[0;34m*\u001b[0m\u001b[0mexpr\u001b[0m\u001b[0;34m.\u001b[0m\u001b[0margs\u001b[0m\u001b[0;34m)\u001b[0m\u001b[0;34m\u001b[0m\u001b[0;34m\u001b[0m\u001b[0m\n\u001b[0m\u001b[1;32m   1416\u001b[0m             \u001b[0;32melse\u001b[0m\u001b[0;34m:\u001b[0m\u001b[0;34m\u001b[0m\u001b[0;34m\u001b[0m\u001b[0m\n\u001b[1;32m   1417\u001b[0m                 raise TypeError(\n",
      "\u001b[0;32m/opt/conda/lib/python3.8/site-packages/sympy/simplify/hyperexpand.py\u001b[0m in \u001b[0;36mdo_replace\u001b[0;34m(ap, bq, z)\u001b[0m\n\u001b[1;32m   2478\u001b[0m \u001b[0;34m\u001b[0m\u001b[0m\n\u001b[1;32m   2479\u001b[0m     \u001b[0;32mdef\u001b[0m \u001b[0mdo_replace\u001b[0m\u001b[0;34m(\u001b[0m\u001b[0map\u001b[0m\u001b[0;34m,\u001b[0m \u001b[0mbq\u001b[0m\u001b[0;34m,\u001b[0m \u001b[0mz\u001b[0m\u001b[0;34m)\u001b[0m\u001b[0;34m:\u001b[0m\u001b[0;34m\u001b[0m\u001b[0;34m\u001b[0m\u001b[0m\n\u001b[0;32m-> 2480\u001b[0;31m         \u001b[0mr\u001b[0m \u001b[0;34m=\u001b[0m \u001b[0m_hyperexpand\u001b[0m\u001b[0;34m(\u001b[0m\u001b[0mHyper_Function\u001b[0m\u001b[0;34m(\u001b[0m\u001b[0map\u001b[0m\u001b[0;34m,\u001b[0m \u001b[0mbq\u001b[0m\u001b[0;34m)\u001b[0m\u001b[0;34m,\u001b[0m \u001b[0mz\u001b[0m\u001b[0;34m,\u001b[0m \u001b[0mrewrite\u001b[0m\u001b[0;34m=\u001b[0m\u001b[0mrewrite\u001b[0m\u001b[0;34m)\u001b[0m\u001b[0;34m\u001b[0m\u001b[0;34m\u001b[0m\u001b[0m\n\u001b[0m\u001b[1;32m   2481\u001b[0m         \u001b[0;32mif\u001b[0m \u001b[0mr\u001b[0m \u001b[0;32mis\u001b[0m \u001b[0;32mNone\u001b[0m\u001b[0;34m:\u001b[0m\u001b[0;34m\u001b[0m\u001b[0;34m\u001b[0m\u001b[0m\n\u001b[1;32m   2482\u001b[0m             \u001b[0;32mreturn\u001b[0m \u001b[0mhyper\u001b[0m\u001b[0;34m(\u001b[0m\u001b[0map\u001b[0m\u001b[0;34m,\u001b[0m \u001b[0mbq\u001b[0m\u001b[0;34m,\u001b[0m \u001b[0mz\u001b[0m\u001b[0;34m)\u001b[0m\u001b[0;34m\u001b[0m\u001b[0;34m\u001b[0m\u001b[0m\n",
      "\u001b[0;32m/opt/conda/lib/python3.8/site-packages/sympy/simplify/hyperexpand.py\u001b[0m in \u001b[0;36m_hyperexpand\u001b[0;34m(func, z, ops0, z0, premult, prem, rewrite)\u001b[0m\n\u001b[1;32m   2056\u001b[0m     \u001b[0mr\u001b[0m \u001b[0;34m=\u001b[0m \u001b[0mcarryout_plan\u001b[0m\u001b[0;34m(\u001b[0m\u001b[0mformula\u001b[0m\u001b[0;34m,\u001b[0m \u001b[0mops\u001b[0m\u001b[0;34m)\u001b[0m \u001b[0;34m+\u001b[0m \u001b[0mp\u001b[0m\u001b[0;34m\u001b[0m\u001b[0;34m\u001b[0m\u001b[0m\n\u001b[1;32m   2057\u001b[0m \u001b[0;34m\u001b[0m\u001b[0m\n\u001b[0;32m-> 2058\u001b[0;31m     \u001b[0;32mreturn\u001b[0m \u001b[0mpowdenest\u001b[0m\u001b[0;34m(\u001b[0m\u001b[0mr\u001b[0m\u001b[0;34m,\u001b[0m \u001b[0mpolar\u001b[0m\u001b[0;34m=\u001b[0m\u001b[0;32mTrue\u001b[0m\u001b[0;34m)\u001b[0m\u001b[0;34m.\u001b[0m\u001b[0mreplace\u001b[0m\u001b[0;34m(\u001b[0m\u001b[0mhyper\u001b[0m\u001b[0;34m,\u001b[0m \u001b[0mhyperexpand_special\u001b[0m\u001b[0;34m)\u001b[0m\u001b[0;34m\u001b[0m\u001b[0;34m\u001b[0m\u001b[0m\n\u001b[0m\u001b[1;32m   2059\u001b[0m \u001b[0;34m\u001b[0m\u001b[0m\n\u001b[1;32m   2060\u001b[0m \u001b[0;34m\u001b[0m\u001b[0m\n",
      "\u001b[0;32m/opt/conda/lib/python3.8/site-packages/sympy/simplify/powsimp.py\u001b[0m in \u001b[0;36mpowdenest\u001b[0;34m(eq, force, polar)\u001b[0m\n\u001b[1;32m    583\u001b[0m     \u001b[0;32mif\u001b[0m \u001b[0mpolar\u001b[0m\u001b[0;34m:\u001b[0m\u001b[0;34m\u001b[0m\u001b[0;34m\u001b[0m\u001b[0m\n\u001b[1;32m    584\u001b[0m         \u001b[0meq\u001b[0m\u001b[0;34m,\u001b[0m \u001b[0mrep\u001b[0m \u001b[0;34m=\u001b[0m \u001b[0mpolarify\u001b[0m\u001b[0;34m(\u001b[0m\u001b[0meq\u001b[0m\u001b[0;34m)\u001b[0m\u001b[0;34m\u001b[0m\u001b[0;34m\u001b[0m\u001b[0m\n\u001b[0;32m--> 585\u001b[0;31m         \u001b[0;32mreturn\u001b[0m \u001b[0munpolarify\u001b[0m\u001b[0;34m(\u001b[0m\u001b[0mpowdenest\u001b[0m\u001b[0;34m(\u001b[0m\u001b[0munpolarify\u001b[0m\u001b[0;34m(\u001b[0m\u001b[0meq\u001b[0m\u001b[0;34m,\u001b[0m \u001b[0mexponents_only\u001b[0m\u001b[0;34m=\u001b[0m\u001b[0;32mTrue\u001b[0m\u001b[0;34m)\u001b[0m\u001b[0;34m)\u001b[0m\u001b[0;34m,\u001b[0m \u001b[0mrep\u001b[0m\u001b[0;34m)\u001b[0m\u001b[0;34m\u001b[0m\u001b[0;34m\u001b[0m\u001b[0m\n\u001b[0m\u001b[1;32m    586\u001b[0m \u001b[0;34m\u001b[0m\u001b[0m\n\u001b[1;32m    587\u001b[0m     \u001b[0mnew\u001b[0m \u001b[0;34m=\u001b[0m \u001b[0mpowsimp\u001b[0m\u001b[0;34m(\u001b[0m\u001b[0msympify\u001b[0m\u001b[0;34m(\u001b[0m\u001b[0meq\u001b[0m\u001b[0;34m)\u001b[0m\u001b[0;34m)\u001b[0m\u001b[0;34m\u001b[0m\u001b[0;34m\u001b[0m\u001b[0m\n",
      "\u001b[0;32m/opt/conda/lib/python3.8/site-packages/sympy/functions/elementary/complexes.py\u001b[0m in \u001b[0;36munpolarify\u001b[0;34m(eq, subs, exponents_only)\u001b[0m\n\u001b[1;32m   1413\u001b[0m     \u001b[0meq\u001b[0m \u001b[0;34m=\u001b[0m \u001b[0msympify\u001b[0m\u001b[0;34m(\u001b[0m\u001b[0meq\u001b[0m\u001b[0;34m)\u001b[0m\u001b[0;34m\u001b[0m\u001b[0;34m\u001b[0m\u001b[0m\n\u001b[1;32m   1414\u001b[0m     \u001b[0;32mif\u001b[0m \u001b[0msubs\u001b[0m \u001b[0;34m!=\u001b[0m \u001b[0;34m{\u001b[0m\u001b[0;34m}\u001b[0m\u001b[0;34m:\u001b[0m\u001b[0;34m\u001b[0m\u001b[0;34m\u001b[0m\u001b[0m\n\u001b[0;32m-> 1415\u001b[0;31m         \u001b[0;32mreturn\u001b[0m \u001b[0munpolarify\u001b[0m\u001b[0;34m(\u001b[0m\u001b[0meq\u001b[0m\u001b[0;34m.\u001b[0m\u001b[0msubs\u001b[0m\u001b[0;34m(\u001b[0m\u001b[0msubs\u001b[0m\u001b[0;34m)\u001b[0m\u001b[0;34m)\u001b[0m\u001b[0;34m\u001b[0m\u001b[0;34m\u001b[0m\u001b[0m\n\u001b[0m\u001b[1;32m   1416\u001b[0m     \u001b[0mchanged\u001b[0m \u001b[0;34m=\u001b[0m \u001b[0;32mTrue\u001b[0m\u001b[0;34m\u001b[0m\u001b[0;34m\u001b[0m\u001b[0m\n\u001b[1;32m   1417\u001b[0m     \u001b[0mpause\u001b[0m \u001b[0;34m=\u001b[0m \u001b[0;32mFalse\u001b[0m\u001b[0;34m\u001b[0m\u001b[0;34m\u001b[0m\u001b[0m\n",
      "\u001b[0;32m/opt/conda/lib/python3.8/site-packages/sympy/core/basic.py\u001b[0m in \u001b[0;36msubs\u001b[0;34m(self, *args, **kwargs)\u001b[0m\n\u001b[1;32m    918\u001b[0m             \u001b[0;31m#\u001b[0m\u001b[0;34m\u001b[0m\u001b[0;34m\u001b[0m\u001b[0;34m\u001b[0m\u001b[0m\n\u001b[1;32m    919\u001b[0m             \u001b[0;31m# For more complex ordering use an unordered sequence.\u001b[0m\u001b[0;34m\u001b[0m\u001b[0;34m\u001b[0m\u001b[0;34m\u001b[0m\u001b[0m\n\u001b[0;32m--> 920\u001b[0;31m             k = list(ordered(sequence, default=False, keys=(\n\u001b[0m\u001b[1;32m    921\u001b[0m                 \u001b[0;32mlambda\u001b[0m \u001b[0mx\u001b[0m\u001b[0;34m:\u001b[0m \u001b[0;34m-\u001b[0m\u001b[0m_nodes\u001b[0m\u001b[0;34m(\u001b[0m\u001b[0mx\u001b[0m\u001b[0;34m)\u001b[0m\u001b[0;34m,\u001b[0m\u001b[0;34m\u001b[0m\u001b[0;34m\u001b[0m\u001b[0m\n\u001b[1;32m    922\u001b[0m                 \u001b[0;32mlambda\u001b[0m \u001b[0mx\u001b[0m\u001b[0;34m:\u001b[0m \u001b[0mdefault_sort_key\u001b[0m\u001b[0;34m(\u001b[0m\u001b[0mx\u001b[0m\u001b[0;34m)\u001b[0m\u001b[0;34m,\u001b[0m\u001b[0;34m\u001b[0m\u001b[0;34m\u001b[0m\u001b[0m\n",
      "\u001b[0;32m/opt/conda/lib/python3.8/site-packages/sympy/core/compatibility.py\u001b[0m in \u001b[0;36mordered\u001b[0;34m(seq, keys, default, warn)\u001b[0m\n\u001b[1;32m    653\u001b[0m             \u001b[0mkeys\u001b[0m \u001b[0;34m=\u001b[0m \u001b[0;34m[\u001b[0m\u001b[0mkeys\u001b[0m\u001b[0;34m]\u001b[0m\u001b[0;34m\u001b[0m\u001b[0;34m\u001b[0m\u001b[0m\n\u001b[1;32m    654\u001b[0m         \u001b[0mkeys\u001b[0m \u001b[0;34m=\u001b[0m \u001b[0mlist\u001b[0m\u001b[0;34m(\u001b[0m\u001b[0mkeys\u001b[0m\u001b[0;34m)\u001b[0m\u001b[0;34m\u001b[0m\u001b[0;34m\u001b[0m\u001b[0m\n\u001b[0;32m--> 655\u001b[0;31m         \u001b[0mf\u001b[0m \u001b[0;34m=\u001b[0m \u001b[0mkeys\u001b[0m\u001b[0;34m.\u001b[0m\u001b[0mpop\u001b[0m\u001b[0;34m(\u001b[0m\u001b[0;36m0\u001b[0m\u001b[0;34m)\u001b[0m\u001b[0;34m\u001b[0m\u001b[0;34m\u001b[0m\u001b[0m\n\u001b[0m\u001b[1;32m    656\u001b[0m         \u001b[0;32mfor\u001b[0m \u001b[0ma\u001b[0m \u001b[0;32min\u001b[0m \u001b[0mseq\u001b[0m\u001b[0;34m:\u001b[0m\u001b[0;34m\u001b[0m\u001b[0;34m\u001b[0m\u001b[0m\n\u001b[1;32m    657\u001b[0m             \u001b[0md\u001b[0m\u001b[0;34m[\u001b[0m\u001b[0mf\u001b[0m\u001b[0;34m(\u001b[0m\u001b[0ma\u001b[0m\u001b[0;34m)\u001b[0m\u001b[0;34m]\u001b[0m\u001b[0;34m.\u001b[0m\u001b[0mappend\u001b[0m\u001b[0;34m(\u001b[0m\u001b[0ma\u001b[0m\u001b[0;34m)\u001b[0m\u001b[0;34m\u001b[0m\u001b[0;34m\u001b[0m\u001b[0m\n",
      "\u001b[0;31mKeyboardInterrupt\u001b[0m: "
     ]
    }
   ],
   "source": [
    "thetaList = np.linspace(0.001, 0.999, 1000)\n",
    "\n",
    "def find_c(p):\n",
    "    x = np.arange(200)\n",
    "    pmf_geom = (1-p)**x * p\n",
    "    pmf_z = np.array([z_function(i) for i in x])\n",
    "    return np.max(pmf_z / pmf_geom), p\n",
    "\n",
    "return_values = np.array([find_c(p) for p in thetaList])\n",
    "c_array = return_values[:, 0]\n",
    "p_array = return_values[:, 1]\n",
    "\n",
    "c = np.min(c_array)\n",
    "p = p_array[np.argmin(c_array)]\n",
    "p, c"
   ]
  },
  {
   "cell_type": "code",
   "execution_count": null,
   "metadata": {},
   "outputs": [],
   "source": [
    "z_function(1) / (1-p)*p / c"
   ]
  },
  {
   "cell_type": "code",
   "execution_count": null,
   "metadata": {
    "id": "RH_hitqmpyCR"
   },
   "outputs": [],
   "source": []
  },
  {
   "cell_type": "markdown",
   "metadata": {
    "id": "JnpsP4mSiVbS"
   },
   "source": [
    "## Q3. [10 Points]\n",
    "\n",
    "In the same setting, if we instead define $Z$ variable as $Z=X-Y$, the PMF of $Z$  is as follows:\n",
    "\n",
    "$$PMF_Z(z)=\\begin{cases}  \\sum_{y=0}^{\\infty} PMF_{X}(z+y)PMF_{Y}(y) \\text{,  if z>0 } \\\\\n",
    "\\sum_{y=-z}^{\\infty} PMF_{X}(z+y)PMF_{Y}(y) \\text{,  else } \\\\\n",
    "\\end{cases}\n",
    " $$\n",
    "\n",
    "\n",
    "* Construct a function that returns $PMF(z)$ based on `sympy`. [unfortunately, `sympy.lambdify` will not work. Use `subs` method instead]\n",
    "* Use  generate 1000 samples from $Z$ distribution based on sampling from $X$ and $Y$. [You can use any `NumPy` functions to generate samples from Poisson and Geometric distribution]\n",
    "* In the same graph, plot the sample distribution of 1000 samples and the theoretical distribution of $Z$ variable.\n"
   ]
  },
  {
   "cell_type": "code",
   "execution_count": 7,
   "metadata": {
    "id": "el4Gkwkhi8sl"
   },
   "outputs": [],
   "source": [
    "def z_function(z):\n",
    "    y_s = sympy.Symbol(\"y\")\n",
    "    lm_s = sympy.Symbol(\"lm\")\n",
    "    z_s = sympy.Symbol(\"z\")\n",
    "    p_s = sympy.Symbol(\"p\")\n",
    "\n",
    "    pmf_x = sympy.exp(-1*lm_s) * lm_s**(z_s+y_s) / sympy.factorial(z_s+y_s)\n",
    "    pmf_y = (1 - p_s)**(y_s) * p_s\n",
    "    pmf_pos = sympy.Sum(pmf_x * pmf_y, (y_s, 0, sympy.oo)).doit()\n",
    "    pmf_neg = sympy.Sum(pmf_x * pmf_y, (y_s, -z_s, sympy.oo)).doit()\n",
    "    if z > 0:\n",
    "        return sympy.N(pmf_pos.subs({z_s: z, lm_s: 5, p_s: 0.2}))\n",
    "    else:\n",
    "        return sympy.N(pmf_neg.subs({z_s: z, lm_s: 5, p_s: 0.2}))"
   ]
  },
  {
   "cell_type": "code",
   "execution_count": 8,
   "metadata": {},
   "outputs": [
    {
     "data": {
      "text/plain": [
       "[<matplotlib.lines.Line2D at 0x7f1c16722670>]"
      ]
     },
     "execution_count": 8,
     "metadata": {},
     "output_type": "execute_result"
    },
    {
     "data": {
      "image/png": "[encoded data removed]",
      "text/plain": [
       "<Figure size 432x288 with 1 Axes>"
      ]
     },
     "metadata": {
      "needs_background": "light"
     },
     "output_type": "display_data"
    }
   ],
   "source": [
    "N = 1000\n",
    "z_samples = np.random.poisson(lam=5, size=N) - spst.geom.rvs(p=0.2, loc=-1, size=N)\n",
    "\n",
    "t = range(-100, 100, 1)\n",
    "plt.hist(z_samples, bins=20, density=True, label='sample')\n",
    "plt.plot(t, [z_function(i) for i in t], label='theoratical')\n",
    "plt.legend()"
   ]
  },
  {
   "cell_type": "markdown",
   "metadata": {
    "id": "WvnYt7gii93s"
   },
   "source": [
    "## Q4.  [10 Points]\n",
    "\n",
    "For $Z=X-Y$, we can also use different methods to directly sample from $Z$ distribution using $PMF(z)$.\n",
    "\n",
    "This time, let's assume that we decide to perform a upward/downward search starting from $z=0$. If $CDF(z-1) \\leq u<  CDF(z)$, $u$ will be converted to $z$. In addition, as the probability of sampling a $z$ below $-100$ is extremely small, let's assume $P(z<-100)=0$.\n",
    "\n",
    "* If we have a random number $u=0.3$, what $z$ value will this number be converted to? Show the details of your derivation.\n",
    "* What is the number of comparisons between $u$ and $CDF$ during the conversion?  \n",
    "* What is the probability of generating a sample value with this number of comparison?  Show your derivation using coding.\n",
    "\n",
    "\n",
    "\n",
    "\n"
   ]
  },
  {
   "cell_type": "code",
   "execution_count": 329,
   "metadata": {},
   "outputs": [
    {
     "data": {
      "text/latex": [
       "$\\displaystyle 0.367879441111492$"
      ],
      "text/plain": [
       "0.367879441111492"
      ]
     },
     "execution_count": 329,
     "metadata": {},
     "output_type": "execute_result"
    }
   ],
   "source": [
    "z_zero_cdf = sum([z_function(i) for i in range(-100, 1, 1)])\n",
    "z_zero_cdf"
   ]
  },
  {
   "cell_type": "code",
   "execution_count": 344,
   "metadata": {},
   "outputs": [],
   "source": [
    "def UpDownSearch(x, debug=False):\n",
    "    z_zero_cdf = sum([z_function(i) for i in range(-100, 1, 1)])\n",
    "    start_cdf = z_zero_cdf\n",
    "    compareNums = 1\n",
    "    \n",
    "    ans = 0\n",
    "    if z_zero_cdf > x:\n",
    "        for i in range(0, -101, -1):\n",
    "            compareNums += 1\n",
    "            next_cdf = z_zero_cdf - z_function(i)\n",
    "            if debug:\n",
    "                print(next_cdf, z_function(i))\n",
    "            if next_cdf >= x:\n",
    "                break\n",
    "            ans -= 1\n",
    "    else:\n",
    "        for i in range(101):\n",
    "            compareNums += 1\n",
    "            next_cdf = z_zero_cdf + z_function(i)\n",
    "            ans += 1\n",
    "            if debug:\n",
    "                print(next_cdf, z_function(i))\n",
    "            if next_cdf > x:\n",
    "                break\n",
    "    return ans, compareNums"
   ]
  },
  {
   "cell_type": "code",
   "execution_count": 345,
   "metadata": {},
   "outputs": [
    {
     "name": "stdout",
     "output_type": "stream",
     "text": [
      "0.294303552877203 0.0735758882342885\n",
      "0.309018730524061 0.0588607105874308\n"
     ]
    },
    {
     "data": {
      "text/plain": [
       "(-1, 3)"
      ]
     },
     "execution_count": 345,
     "metadata": {},
     "output_type": "execute_result"
    }
   ],
   "source": [
    "UpDownSearch(0.3, debug=True)"
   ]
  },
  {
   "cell_type": "code",
   "execution_count": 343,
   "metadata": {},
   "outputs": [
    {
     "data": {
      "text/plain": [
       "'\\ncdf(0) = 0.367879441111492\\n\\nsince u=0.3 is smaller than cdf(0)\\nwe have to iterate downward, \\nand\\ncdf(-1) = 0.309018730524061\\ncdf(-2) = 0.294303552877203,\\ntherefore, we return the final answer as `-1`\\n'"
      ]
     },
     "execution_count": 343,
     "metadata": {},
     "output_type": "execute_result"
    }
   ],
   "source": [
    "'''\n",
    "cdf(0) = 0.367879441111492\n",
    "\n",
    "since u=0.3 is smaller than cdf(0)\n",
    "we have to iterate downward, \n",
    "and\n",
    "cdf(-1) = 0.309018730524061\n",
    "cdf(-2) = 0.294303552877203,\n",
    "therefore, we return the final answer as `-1`\n",
    "\n",
    "there are 3 comparison during the conversion\n",
    "'''"
   ]
  },
  {
   "cell_type": "code",
   "execution_count": 346,
   "metadata": {},
   "outputs": [
    {
     "data": {
      "text/plain": [
       "'\\nonly when z = 2 and -1 requires 3 comparisons\\n(\\nwhen z = -1\\n    the 1st is to compare with cdf(0), \\n    the 2nd is to compare with cdf(-1),\\n    the 3rd is to compare with cdf(-2)\\nwhen z = 1\\n    the 1st is to compare with cdf(0), \\n    the 2nd is to compare with cdf(1),\\n    the 3rd is to compare with cdf(2)\\n)\\n\\ntherefore, the prob of generating a sample value with this number of comparison\\nis to calculate (pmf(2) + pmf(-1)) / 1\\n'"
      ]
     },
     "execution_count": 346,
     "metadata": {},
     "output_type": "execute_result"
    }
   ],
   "source": [
    "'''\n",
    "only when z = 2 and -1 requires 3 comparisons\n",
    "(\n",
    "when z = -1\n",
    "    the 1st is to compare with cdf(0), \n",
    "    the 2nd is to compare with cdf(-1),\n",
    "    the 3rd is to compare with cdf(-2)\n",
    "when z = 1\n",
    "    the 1st is to compare with cdf(0), \n",
    "    the 2nd is to compare with cdf(1),\n",
    "    the 3rd is to compare with cdf(2)\n",
    ")\n",
    "\n",
    "therefore, the prob of generating a sample value with this number of comparison\n",
    "is to calculate (pmf(2) + pmf(-1)) / 1\n",
    "'''"
   ]
  },
  {
   "cell_type": "code",
   "execution_count": 347,
   "metadata": {},
   "outputs": [
    {
     "data": {
      "text/latex": [
       "$\\displaystyle 0.163294993767435$"
      ],
      "text/plain": [
       "0.163294993767435"
      ]
     },
     "execution_count": 347,
     "metadata": {},
     "output_type": "execute_result"
    }
   ],
   "source": [
    "prob = z_function(2) + z_function(-1)\n",
    "prob"
   ]
  },
  {
   "cell_type": "code",
   "execution_count": null,
   "metadata": {
    "id": "tCYc9UhGpRdc"
   },
   "outputs": [],
   "source": []
  },
  {
   "cell_type": "markdown",
   "metadata": {
    "id": "4qWkgDY6EAoL"
   },
   "source": [
    "# Exercise 2 [34 Points]\n",
    "\n",
    "In this system, the seller lists an out-of-print book for sale. The bidding price starts at a listing price of 10 dollars. The book will be listed for 7 days. \n",
    "\n",
    "\n",
    "The bidders arrive following a non-homogeneous Poisson process with $\\lambda=1-0.1t$. Here, the unit of $t$ is day. $t$ is a continuous variable. Each bidder has a maximum amount they are willing to pay for the book, defined as willingness to pay (WTP) for the book. The distribution of WTP follows $WTP=\\min(\\max(0, X),80)$, where $X\\sim Normal(\\mu=40, \\sigma=20)$. \n",
    "\n",
    "\n",
    "When a bidder arrives, the bidder will immediately add 1 dollar to the current bidding price if the bidder's WTP is at least 1 dollar higher than the current bidding price. After the initial arrival, the bidders will keep on coming back every half day. Upon the arrival, if the bidder's WTP is still at least 1 dollar higher than the current bidding price, the bidder will immediately add another 1 dollar to the bidding price. Otherwise, the bidder will stop coming back."
   ]
  },
  {
   "cell_type": "markdown",
   "metadata": {
    "id": "_qFH5BWF10mW"
   },
   "source": [
    "## Q1. [8 Points]\n",
    "\n",
    "* Use **ordered statistics** method to generate the initial arrival times of the bidders. The efficiency of your algorithm does not matter. \n",
    "* Plot the distribution of the initial arrival times using a histogram.\n",
    "\n",
    "\n"
   ]
  },
  {
   "cell_type": "code",
   "execution_count": 9,
   "metadata": {
    "id": "VapkwRJZFkOn"
   },
   "outputs": [
    {
     "data": {
      "text/latex": [
       "$\\displaystyle 10.0 - 10.0 \\sqrt{1 - 0.91 u}$"
      ],
      "text/plain": [
       "10.0 - 10.0*sqrt(1 - 0.91*u)"
      ]
     },
     "execution_count": 9,
     "metadata": {},
     "output_type": "execute_result"
    }
   ],
   "source": [
    "def expected_arrival(T):\n",
    "    t = sympy.Symbol(\"t\")\n",
    "    N = sympy.integrate(1 - 0.1*t, (t,0,T))\n",
    "    return float(N)\n",
    "\n",
    "def simulated_arrivals(T=7):\n",
    "    return  np.random.poisson(expected_arrival(T))\n",
    "\n",
    "def sympy_invcdf(T):\n",
    "    t = sympy.Symbol(\"t\")\n",
    "    u = sympy.Symbol(\"u\")\n",
    "    pdf = (1 - 0.1*t) / expected_arrival(T)\n",
    "    cdf = sympy.integrate(pdf, (t, 0, t))\n",
    "    inv_cdf = sympy.solve(cdf - u, t)\n",
    "#     we should choose the inverse value is within our time range\n",
    "#     print(inv_cdf[0].subs({u: 0.5}))\n",
    "#     print(inv_cdf[1].subs({u: 0.5}))\n",
    "    return  inv_cdf[0]\n",
    "sympy_invcdf(7)"
   ]
  },
  {
   "cell_type": "code",
   "execution_count": 10,
   "metadata": {},
   "outputs": [
    {
     "data": {
      "text/plain": [
       "array([0.6879938 , 0.92397922, 1.52981759, 1.79119773, 2.02069077,\n",
       "       5.81298119])"
      ]
     },
     "execution_count": 10,
     "metadata": {},
     "output_type": "execute_result"
    }
   ],
   "source": [
    "def Simulate(T):\n",
    "    N = simulated_arrivals(T)\n",
    "    u = sympy.symbols(\"u\")\n",
    "    function = sympy.lambdify(u, sympy_invcdf(T), \"numpy\")\n",
    "    arrivals = function(np.random.rand(N))\n",
    "    return  np.sort(arrivals)\n",
    "\n",
    "Simulate(7)"
   ]
  },
  {
   "cell_type": "code",
   "execution_count": 132,
   "metadata": {
    "id": "dPws9nK617eC"
   },
   "outputs": [],
   "source": [
    "# init_arrival = []\n",
    "# for _ in range(1000):\n",
    "#     try: \n",
    "#         init_arrival.append(Simulate(7)[0])\n",
    "#     except:\n",
    "#         pass\n",
    "# plt.hist(init_arrival, bins=20)"
   ]
  },
  {
   "cell_type": "code",
   "execution_count": 140,
   "metadata": {},
   "outputs": [
    {
     "name": "stdout",
     "output_type": "stream",
     "text": [
      "[1.40007682 1.85785503 4.39168641 5.13091135]\n"
     ]
    },
    {
     "data": {
      "image/png": "[encoded data removed]",
      "text/plain": [
       "<Figure size 432x288 with 1 Axes>"
      ]
     },
     "metadata": {
      "needs_background": "light"
     },
     "output_type": "display_data"
    }
   ],
   "source": [
    "arrivals = Simulate(7)\n",
    "plt.hist(arrivals, bins=len(arrivals)*10)\n",
    "print(arrivals)"
   ]
  },
  {
   "cell_type": "markdown",
   "metadata": {
    "id": "ESCliOqgBsSL"
   },
   "source": [
    "## Q2. [16 Points]\n",
    "* Based on `simpy`, construct a system that will return **the final price**  when the listing ends. [If the book gets no bidding, then return the listing price]\n",
    "\n",
    "* Simulate the system 1000 times and plot the distribution of **the final price**.\n",
    "\n",
    "* Report the **lower bound, upper bound, and width of the 95% confidence interval**  for the expected value of the final price.\n"
   ]
  },
  {
   "cell_type": "code",
   "execution_count": 14,
   "metadata": {},
   "outputs": [
    {
     "name": "stdout",
     "output_type": "stream",
     "text": [
      "bidder 0 arrives\t at t=0.59 with wtp: 50.62 and current price: 10\n",
      "bidder 0 return\t at t=1.09 with wtp: 50.62 and current price: 11\n",
      "bidder 1 arrives\t at t=1.45 with wtp: 80.00 and current price: 12\n",
      "bidder 0 return\t at t=1.59 with wtp: 50.62 and current price: 13\n",
      "bidder 1 return\t at t=1.95 with wtp: 80.00 and current price: 14\n",
      "bidder 0 return\t at t=2.09 with wtp: 50.62 and current price: 15\n",
      "bidder 2 arrives\t at t=2.32 with wtp: 59.34 and current price: 16\n",
      "bidder 1 return\t at t=2.45 with wtp: 80.00 and current price: 17\n",
      "bidder 0 return\t at t=2.59 with wtp: 50.62 and current price: 18\n",
      "bidder 2 return\t at t=2.82 with wtp: 59.34 and current price: 19\n",
      "bidder 1 return\t at t=2.95 with wtp: 80.00 and current price: 20\n",
      "bidder 0 return\t at t=3.09 with wtp: 50.62 and current price: 21\n",
      "bidder 2 return\t at t=3.32 with wtp: 59.34 and current price: 22\n",
      "bidder 1 return\t at t=3.45 with wtp: 80.00 and current price: 23\n",
      "bidder 0 return\t at t=3.59 with wtp: 50.62 and current price: 24\n",
      "bidder 2 return\t at t=3.82 with wtp: 59.34 and current price: 25\n",
      "bidder 1 return\t at t=3.95 with wtp: 80.00 and current price: 26\n",
      "bidder 0 return\t at t=4.09 with wtp: 50.62 and current price: 27\n",
      "bidder 3 arrives\t at t=4.28 with wtp: 55.44 and current price: 28\n",
      "bidder 2 return\t at t=4.32 with wtp: 59.34 and current price: 29\n",
      "bidder 1 return\t at t=4.45 with wtp: 80.00 and current price: 30\n",
      "bidder 0 return\t at t=4.59 with wtp: 50.62 and current price: 31\n",
      "bidder 3 return\t at t=4.78 with wtp: 55.44 and current price: 32\n",
      "bidder 2 return\t at t=4.82 with wtp: 59.34 and current price: 33\n",
      "bidder 1 return\t at t=4.95 with wtp: 80.00 and current price: 34\n",
      "bidder 0 return\t at t=5.09 with wtp: 50.62 and current price: 35\n",
      "bidder 4 arrives\t at t=5.19 with wtp: 63.34 and current price: 36\n",
      "bidder 3 return\t at t=5.28 with wtp: 55.44 and current price: 37\n",
      "bidder 2 return\t at t=5.32 with wtp: 59.34 and current price: 38\n",
      "bidder 1 return\t at t=5.45 with wtp: 80.00 and current price: 39\n",
      "bidder 0 return\t at t=5.59 with wtp: 50.62 and current price: 40\n",
      "bidder 4 return\t at t=5.69 with wtp: 63.34 and current price: 41\n",
      "bidder 3 return\t at t=5.78 with wtp: 55.44 and current price: 42\n",
      "bidder 2 return\t at t=5.82 with wtp: 59.34 and current price: 43\n",
      "bidder 1 return\t at t=5.95 with wtp: 80.00 and current price: 44\n",
      "bidder 0 return\t at t=6.09 with wtp: 50.62 and current price: 45\n",
      "bidder 4 return\t at t=6.19 with wtp: 63.34 and current price: 46\n",
      "bidder 3 return\t at t=6.28 with wtp: 55.44 and current price: 47\n",
      "bidder 2 return\t at t=6.32 with wtp: 59.34 and current price: 48\n",
      "bidder 1 return\t at t=6.45 with wtp: 80.00 and current price: 49\n",
      "bidder 0 leave the auction\n",
      "bidder 4 return\t at t=6.69 with wtp: 63.34 and current price: 50\n",
      "bidder 3 return\t at t=6.78 with wtp: 55.44 and current price: 51\n",
      "bidder 2 return\t at t=6.82 with wtp: 59.34 and current price: 52\n",
      "bidder 1 return\t at t=6.95 with wtp: 80.00 and current price: 53\n"
     ]
    },
    {
     "data": {
      "text/plain": [
       "54"
      ]
     },
     "execution_count": 14,
     "metadata": {},
     "output_type": "execute_result"
    }
   ],
   "source": [
    "def WTP():\n",
    "    x = np.random.normal(loc=40, scale=20)\n",
    "    return min(max(0, x), 80)\n",
    "\n",
    "\n",
    "def return_process(env, bidder_id, wtp, current_price, debug=False):\n",
    "    while True:\n",
    "        yield env.timeout(0.5)\n",
    "        if current_price[-1] + 1 < wtp:\n",
    "            if debug:\n",
    "                print('bidder %.f return\\t at t=%.2f with wtp: %.2f and current price: %.f' % (bidder_id, env.now, wtp, current_price[-1]))\n",
    "            new_price = current_price[-1] + 1\n",
    "            current_price.append(new_price)\n",
    "        else:\n",
    "            if debug:\n",
    "                print('bidder %.f leave the auction' % bidder_id)\n",
    "            break\n",
    "\n",
    "            \n",
    "def arrival_process(env, current_price, debug=False, arrivalNums=[]):\n",
    "    arrivals = Simulate(7)\n",
    "    if len(arrivals) == 0:\n",
    "        return\n",
    "        \n",
    "    arrivalNums.extend(arrivals)\n",
    "    arrivals = np.append(np.array([arrivals[0]]), np.diff(arrivals))\n",
    "    \n",
    "    for bidder_id, arrive_time in enumerate(arrivals):\n",
    "        bidder_wtp = WTP()\n",
    "        yield env.timeout(arrive_time)\n",
    "        if debug:\n",
    "            print('bidder %.f arrives\\t at t=%.2f with wtp: %.2f and current price: %.f' % (bidder_id, env.now, bidder_wtp, current_price[-1]))\n",
    "        \n",
    "        if bidder_wtp > current_price[-1] + 1:\n",
    "            new_price = current_price[-1] + 1\n",
    "            current_price.append(new_price)\n",
    "            env.process(return_process(env, bidder_id, bidder_wtp, current_price, debug))\n",
    "        else:\n",
    "            if debug:\n",
    "                print('bidder %.f leave the auction' % bidder_id)\n",
    "        \n",
    "\n",
    "def bidding_system(debug=False):\n",
    "    current_price = [10]\n",
    "    \n",
    "    env = simpy.Environment()\n",
    "    env.process(arrival_process(env, current_price, debug))\n",
    "    env.run(until=7)\n",
    "    return current_price[-1]\n",
    "    \n",
    "bidding_system(debug=True)"
   ]
  },
  {
   "cell_type": "code",
   "execution_count": 15,
   "metadata": {
    "id": "dL_AQacXHJ_u"
   },
   "outputs": [],
   "source": [
    "N = 1000\n",
    "samples = [bidding_system() for _ in range(N)]"
   ]
  },
  {
   "cell_type": "code",
   "execution_count": 16,
   "metadata": {},
   "outputs": [
    {
     "name": "stdout",
     "output_type": "stream",
     "text": [
      "95% confidence interval 36.16689294048815 37.55510705951185\n",
      "mean 36.861\n",
      "width of 95% confidence interval 1.3882141190237007\n"
     ]
    },
    {
     "data": {
      "text/plain": [
       "(array([ 16.,  15.,  31.,  40.,  48.,  53.,  83.,  83., 109., 106.,  91.,\n",
       "         88.,  88.,  55.,  43.,  28.,   9.,   9.,   3.,   2.]),\n",
       " array([10., 13., 16., 19., 22., 25., 28., 31., 34., 37., 40., 43., 46.,\n",
       "        49., 52., 55., 58., 61., 64., 67., 70.]),\n",
       " <BarContainer object of 20 artists>)"
      ]
     },
     "execution_count": 16,
     "metadata": {},
     "output_type": "execute_result"
    },
    {
     "data": {
      "image/png": "[encoded data removed]",
      "text/plain": [
       "<Figure size 432x288 with 1 Axes>"
      ]
     },
     "metadata": {
      "needs_background": "light"
     },
     "output_type": "display_data"
    }
   ],
   "source": [
    "mean = np.mean(samples)\n",
    "std = np.std(samples, ddof=1)\n",
    "lower = mean - spst.norm.ppf(0.975) * std/N**0.5\n",
    "upper = mean + spst.norm.ppf(0.975) * std/N**0.5\n",
    "print(\"95% confidence interval\", lower, upper)\n",
    "print(\"mean\", mean)\n",
    "print(\"width of 95% confidence interval\", upper - lower)\n",
    "\n",
    "plt.hist(samples, bins=20)"
   ]
  },
  {
   "cell_type": "markdown",
   "metadata": {
    "id": "gKtIXQjhDccY"
   },
   "source": [
    "## Q3. [10 Points]\n",
    "\n",
    "A person wants to use **the number of arrivals** and **the average WTP** as control variates at the same time. However, this person noticed that in certain rounds, **the average WTP** is missing due to no arrivals.  \n",
    " \n",
    "* Since the average WTP is not available in certain rounds, is there still a way to use the information of **WTP** as a second control variate? Give your reasoning. If you have a proposal, implement your algorithm. Otherwise, implement the control variate method with **the number of arrivals** only. \n",
    "\n",
    "* Simulate the system 1000 times and report the **lower bound, upper bound, and width of the 95% confidence interval** for the expected value of the final price.\n",
    "\n",
    " "
   ]
  },
  {
   "cell_type": "code",
   "execution_count": null,
   "metadata": {
    "id": "b7ReHEOdDcDI"
   },
   "outputs": [],
   "source": [
    "'''\n",
    "1. no the control variate requires the z variate to have a \n",
    "expectation and is not influenced by other factors, \n",
    "however, the average WTP will be influence by the arrivals, \n",
    "and there is no close-formed expectation for the average WTP.\n",
    "therefore, we cannot use it as our control variate\n",
    "'''"
   ]
  },
  {
   "cell_type": "code",
   "execution_count": 17,
   "metadata": {},
   "outputs": [],
   "source": [
    "def bidding_system(debug=False):\n",
    "    current_price = [10]\n",
    "    arrivalNums = []\n",
    "    \n",
    "    env = simpy.Environment()\n",
    "    env.process(arrival_process(env, current_price, debug, arrivalNums))\n",
    "    env.run(until=7)\n",
    "    return current_price[-1], len(arrivalNums)"
   ]
  },
  {
   "cell_type": "code",
   "execution_count": 18,
   "metadata": {},
   "outputs": [],
   "source": [
    "N = 1000\n",
    "samples = np.array([bidding_system() for _ in range(N)])\n",
    "x = samples[:, 0]\n",
    "z = samples[:, 1]\n",
    "c = -np.cov(x, z, ddof=1)[0, 1] / np.var(z, ddof=1)\n",
    "y = x + c * (z - expected_arrival(7))"
   ]
  },
  {
   "cell_type": "code",
   "execution_count": 19,
   "metadata": {},
   "outputs": [
    {
     "name": "stdout",
     "output_type": "stream",
     "text": [
      "-4.172138275469077 21.092710710710712\n",
      "95% confidence interval 35.9750212286659 36.803110089945356\n",
      "mean 36.38906565930563\n",
      "width of 95% confidence interval 0.8280888612794541\n"
     ]
    },
    {
     "data": {
      "image/png": "[encoded data removed]",
      "text/plain": [
       "<Figure size 432x288 with 1 Axes>"
      ]
     },
     "metadata": {
      "needs_background": "light"
     },
     "output_type": "display_data"
    }
   ],
   "source": [
    "print(c, np.cov(x, z, ddof=1)[0, 1])\n",
    "plt.hist(y, bins=20, density=True)\n",
    "\n",
    "mean = np.mean(y)\n",
    "std = np.std(y, ddof=1)\n",
    "lower = mean - spst.norm.ppf(0.975) * std/N**0.5\n",
    "upper = mean + spst.norm.ppf(0.975) * std/N**0.5\n",
    "print(\"95% confidence interval\", lower, upper)\n",
    "print(\"mean\", mean)\n",
    "print(\"width of 95% confidence interval\", upper - lower)"
   ]
  },
  {
   "cell_type": "code",
   "execution_count": null,
   "metadata": {},
   "outputs": [],
   "source": []
  },
  {
   "cell_type": "markdown",
   "metadata": {
    "id": "E2Zvx1XTXzOX"
   },
   "source": [
    "# Exercise 3 [50 Points]\n",
    "\n",
    "The city planner wants to determine the traffic light timing for the following 4-way intersection. \n",
    "\n",
    "![Traffic Light (2).png](data:image/png;base64,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)"
   ]
  },
  {
   "cell_type": "markdown",
   "metadata": {
    "id": "qcioGI2BvRdB"
   },
   "source": [
    "The setup of the intersection is as follows: \n",
    "\n",
    "* Each road is two-way. All cars go straight. No turn is allowed. All cars going in the same direction stay in one lane. \n",
    "\n",
    "* Cars arrive at each leg of the intersection following a different homogeneous Poisson process:  \n",
    "  * leg 1: $\\lambda=0.02$\n",
    "  * leg 2: $\\lambda=0.03$\n",
    "  * leg 3: $\\lambda=0.04$\n",
    "  * leg 4: $\\lambda=0.05$\n",
    "\n",
    "* When the traffic light is yellow or red:\n",
    "  * If a car is currently passing a stop line (dotted line in the above figure), the car will finish passing.\n",
    "  * Otherwise, the car needs to make a stop at or before the stop line.\n",
    "* When the traffic light is green:\n",
    "  * It a car is currently the first car at a leg, the car will immedately start crossing the stop line \n",
    "  * If the car is not the first car at a leg, this car will need to wait until the car immediately in front of it passes the stop line. At that point it becomes the first car in the leg.\n",
    "\n",
    "* The amount of time between start passing the stop line and finish is  3 seconds.  \n",
    "\n",
    " \n",
    "**<font color=\"red\">In this question, you are NOT allowed to use any build-in sampling function except np.random.rand() </font>**\n"
   ]
  },
  {
   "cell_type": "markdown",
   "metadata": {
    "id": "LZYo-83xFEfp"
   },
   "source": [
    "## Q1. [20 Points]\n",
    "\n",
    "Let's assume that the cycle of the traffic light is as follows:\n",
    "\n",
    "|cycle number|stage| leg 1 and 2| leg 3 and 4|\n",
    "|---|---|---|---|\n",
    "|1|0s-46s|green|red|\n",
    "|1|46s-50s|yellow|red|\n",
    "|1|50s-96s|red|green|\n",
    "|1| 96s-100s|red|yellow|\n",
    "|2|100s-146s|green|red|\n",
    "|2|146s-150s|yellow|red|\n",
    "|2|150s-196s|red|green|\n",
    "|2|196s-200s|red|yellow|\n",
    "|...|...|...|...|\n",
    "\n",
    "\n",
    " \n",
    "For the starting condition of the simulation, assume:   \n",
    "* leg 1 and 2 just started the green light. \n",
    "* No cars are currently in the system.\n",
    "\n",
    "When generating the inter-arrival times for each leg, use the following random states to generate the inter-arrival times. When generating the samples, you can only use `np.random.rand()` for sampling.\n",
    ">* leg 1: `np.random.RandomState(10000)`\n",
    ">* leg 2: `np.random.RandomState(20000)`\n",
    ">* leg 3: `np.random.RandomState(30000)`\n",
    ">* leg 4: `np.random.RandomState(40000)`\n",
    "\n",
    "\n",
    "* Simulate the traffic light operation for **10 minutes** using `simpy`. Report the following information :\n",
    "\n",
    "> * the **arrival time** and the **time when passing is done** for the 5th arrival for each of the four legs.\n",
    "> * the **average time** between a car's arrival and when it finishes passing."
   ]
  },
  {
   "cell_type": "code",
   "execution_count": 169,
   "metadata": {},
   "outputs": [
    {
     "name": "stdout",
     "output_type": "stream",
     "text": [
      "leg1 and leg2 pass at t= 0\n",
      "3: car arrives at t=16.82\n",
      "3: car arrives at t=28.14\n",
      "1: car arrives at t=30.31\n",
      "2: car arrives at t=31.14\n",
      "1: car \tpasses at t=33.31\n",
      "2: car \tpasses at t=34.14\n",
      "2: car arrives at t=36.11\n",
      "2: car \tpasses at t=39.11\n",
      "4: car arrives at t=46.07\n",
      "leg3 and leg4 pass at t=50\n",
      "3: car \tpasses at t=53.00\n",
      "4: car \tpasses at t=53.00\n",
      "3: car \tpasses at t=56.00\n",
      "4: car arrives at t=63.56\n",
      "4: car \tpasses at t=66.56\n",
      "3: car arrives at t=73.28\n",
      "3: car \tpasses at t=76.28\n",
      "2: car arrives at t=79.00\n",
      "4: car arrives at t=98.27\n",
      "leg1 and leg2 pass at t=100\n",
      "4: car \tpasses at t=101.27\n",
      "2: car \tpasses at t=103.00\n",
      "3: car arrives at t=106.54\n",
      "1: car arrives at t=118.36\n",
      "4: car arrives at t=118.49\n",
      "1: car \tpasses at t=121.36\n",
      "1: car arrives at t=126.31\n",
      "1: car \tpasses at t=129.31\n",
      "4: car arrives at t=135.62\n",
      "2: car arrives at t=135.96\n",
      "2: car \tpasses at t=138.96\n",
      "3: car arrives at t=147.50\n",
      "leg3 and leg4 pass at t=150\n",
      "3: car \tpasses at t=153.00\n",
      "4: car \tpasses at t=153.00\n",
      "3: car \tpasses at t=156.00\n",
      "4: car \tpasses at t=156.00\n",
      "4: car arrives at t=160.71\n",
      "4: car \tpasses at t=163.71\n",
      "4: car arrives at t=167.87\n",
      "4: car \tpasses at t=170.87\n",
      "4: car arrives at t=171.09\n",
      "4: car \tpasses at t=174.09\n",
      "4: car arrives at t=193.17\n",
      "4: car \tpasses at t=196.17\n",
      "3: car arrives at t=199.07\n",
      "leg1 and leg2 pass at t=200\n",
      "3: car \tpasses at t=202.07\n",
      "3: car arrives at t=207.32\n",
      "1: car arrives at t=211.99\n",
      "1: car \tpasses at t=214.99\n",
      "3: car arrives at t=220.65\n",
      "2: car arrives at t=221.39\n",
      "4: car arrives at t=222.33\n",
      "2: car \tpasses at t=224.39\n",
      "3: car arrives at t=229.17\n",
      "2: car arrives at t=229.50\n",
      "2: car \tpasses at t=232.50\n",
      "1: car arrives at t=238.48\n",
      "1: car \tpasses at t=241.48\n",
      "leg3 and leg4 pass at t=250\n",
      "3: car \tpasses at t=253.00\n",
      "4: car \tpasses at t=253.00\n",
      "3: car \tpasses at t=256.00\n",
      "3: car \tpasses at t=259.00\n",
      "2: car arrives at t=263.38\n",
      "3: car arrives at t=274.81\n",
      "4: car arrives at t=277.71\n",
      "4: car arrives at t=277.73\n",
      "3: car \tpasses at t=277.81\n",
      "4: car \tpasses at t=280.71\n",
      "4: car \tpasses at t=283.71\n",
      "2: car arrives at t=291.82\n",
      "leg1 and leg2 pass at t=300\n",
      "2: car \tpasses at t=303.00\n",
      "4: car arrives at t=304.09\n",
      "3: car arrives at t=304.26\n",
      "2: car \tpasses at t=306.00\n",
      "3: car arrives at t=308.08\n",
      "4: car arrives at t=317.17\n",
      "2: car arrives at t=329.63\n",
      "3: car arrives at t=330.53\n",
      "4: car arrives at t=331.66\n",
      "2: car \tpasses at t=332.63\n",
      "1: car arrives at t=344.17\n",
      "2: car arrives at t=346.29\n",
      "1: car \tpasses at t=347.17\n",
      "2: car \tpasses at t=349.29\n",
      "leg3 and leg4 pass at t=350\n",
      "3: car \tpasses at t=353.00\n",
      "4: car \tpasses at t=353.00\n",
      "3: car \tpasses at t=356.00\n",
      "4: car \tpasses at t=356.00\n",
      "3: car \tpasses at t=359.00\n",
      "4: car \tpasses at t=359.00\n",
      "4: car arrives at t=370.75\n",
      "3: car arrives at t=373.61\n",
      "1: car arrives at t=373.64\n",
      "4: car \tpasses at t=373.75\n",
      "3: car \tpasses at t=376.61\n",
      "4: car arrives at t=378.94\n",
      "4: car arrives at t=381.18\n",
      "4: car \tpasses at t=381.94\n",
      "4: car \tpasses at t=384.94\n",
      "2: car arrives at t=390.25\n",
      "4: car arrives at t=395.55\n",
      "4: car \tpasses at t=398.55\n",
      "2: car arrives at t=398.64\n",
      "leg1 and leg2 pass at t=400\n",
      "1: car \tpasses at t=403.00\n",
      "2: car \tpasses at t=403.00\n",
      "2: car \tpasses at t=406.00\n",
      "3: car arrives at t=416.49\n",
      "3: car arrives at t=417.76\n",
      "4: car arrives at t=421.07\n",
      "4: car arrives at t=429.61\n",
      "3: car arrives at t=430.71\n",
      "4: car arrives at t=444.52\n",
      "4: car arrives at t=445.23\n",
      "2: car arrives at t=448.58\n",
      "leg3 and leg4 pass at t=450\n",
      "2: car \tpasses at t=451.58\n",
      "3: car \tpasses at t=453.00\n",
      "4: car \tpasses at t=453.00\n",
      "3: car \tpasses at t=456.00\n",
      "4: car \tpasses at t=456.00\n",
      "3: car \tpasses at t=459.00\n",
      "4: car \tpasses at t=459.00\n",
      "4: car \tpasses at t=462.00\n",
      "4: car arrives at t=462.22\n",
      "4: car \tpasses at t=465.22\n",
      "4: car arrives at t=470.60\n",
      "4: car \tpasses at t=473.60\n",
      "4: car arrives at t=479.97\n",
      "4: car \tpasses at t=482.97\n",
      "3: car arrives at t=495.82\n",
      "1: car arrives at t=498.67\n",
      "3: car \tpasses at t=498.82\n",
      "1: car arrives at t=499.04\n",
      "leg1 and leg2 pass at t=500\n",
      "4: car arrives at t=500.52\n",
      "1: car \tpasses at t=503.00\n",
      "3: car arrives at t=503.06\n",
      "1: car \tpasses at t=506.00\n",
      "3: car arrives at t=518.11\n",
      "2: car arrives at t=527.72\n",
      "2: car \tpasses at t=530.72\n",
      "4: car arrives at t=532.43\n",
      "4: car arrives at t=537.18\n",
      "2: car arrives at t=537.54\n",
      "3: car arrives at t=538.81\n",
      "2: car \tpasses at t=540.54\n",
      "leg3 and leg4 pass at t=550\n",
      "3: car \tpasses at t=553.00\n",
      "4: car \tpasses at t=553.00\n",
      "2: car arrives at t=554.08\n",
      "3: car \tpasses at t=556.00\n",
      "4: car \tpasses at t=556.00\n",
      "4: car arrives at t=558.37\n",
      "3: car \tpasses at t=559.00\n",
      "4: car \tpasses at t=559.00\n",
      "2: car arrives at t=559.08\n",
      "2: car arrives at t=561.76\n",
      "4: car \tpasses at t=562.00\n",
      "1: car arrives at t=567.81\n",
      "3: car arrives at t=573.97\n",
      "3: car \tpasses at t=576.97\n",
      "2: car arrives at t=587.76\n",
      "1: car arrives at t=599.28\n"
     ]
    }
   ],
   "source": [
    "def legOne(env, resource, arrivalList, passingList, simu_type=0, random_state=np.random.RandomState(seed=None), lmbda=0.02, debug=False):\n",
    "    while True:\n",
    "        # car arrival for the leg\n",
    "        u = random_state.rand()\n",
    "        if simu_type:\n",
    "            u = 1 - u\n",
    "        inter_arrival = -1/lmbda * np.log(u)\n",
    "        yield env.timeout(inter_arrival)\n",
    "        if debug:\n",
    "            print('1: car arrives at t=%.2f' % env.now)\n",
    "        arrivalList.append(env.now)\n",
    "        env.process(passing_legOne(env, resource, passingList, debug))\n",
    "        \n",
    "def legTwo(env, resource, arrivalList, passingList, simu_type=0, random_state=np.random.RandomState(seed=None), lmbda=0.03, debug=False):\n",
    "    while True:\n",
    "        # car arrival for the leg\n",
    "        u = random_state.rand()\n",
    "        if simu_type:\n",
    "            u = 1 - u\n",
    "        inter_arrival = -1/lmbda * np.log(u)\n",
    "        yield env.timeout(inter_arrival)\n",
    "        if debug:\n",
    "            print('2: car arrives at t=%.2f' % env.now)\n",
    "        arrivalList.append(env.now)\n",
    "        env.process(passing_legTwo(env, resource, passingList, debug))\n",
    "        \n",
    "def legThree(env, resource, arrivalList, passingList, simu_type=0, random_state=np.random.RandomState(seed=None), lmbda=0.04, debug=False):\n",
    "    while True:\n",
    "        # car arrival for the leg\n",
    "        u = random_state.rand()\n",
    "        if simu_type:\n",
    "            u = 1 - u\n",
    "        inter_arrival = -1/lmbda * np.log(u)\n",
    "        yield env.timeout(inter_arrival)\n",
    "        if debug:\n",
    "            print('3: car arrives at t=%.2f' % env.now)\n",
    "        arrivalList.append(env.now)\n",
    "        env.process(passing_legThree(env, resource, passingList, debug))\n",
    "\n",
    "def legFour(env, resource, arrivalList, passingList, simu_type=0, random_state=np.random.RandomState(seed=None), lmbda=0.05, debug=False):\n",
    "    while True:\n",
    "        # car arrival for the leg\n",
    "        u = random_state.rand()\n",
    "        if simu_type:\n",
    "            u = 1 - u\n",
    "        inter_arrival = -1/lmbda * np.log(u)\n",
    "        yield env.timeout(inter_arrival)\n",
    "        if debug:\n",
    "            print('4: car arrives at t=%.2f' % env.now)\n",
    "        arrivalList.append(env.now)\n",
    "        env.process(passing_legFour(env, resource, passingList, debug))\n",
    "        \n",
    "        \n",
    "def passing_legOne(env, resource, passingList, debug=False):\n",
    "    rqt = resource.request(priority=1)\n",
    "    yield rqt\n",
    "    try:\n",
    "        yield env.timeout(3)\n",
    "    except simpy.Interrupt as interrupt:\n",
    "        yield env.timeout(3 - env.now + interrupt.cause.usage_since)\n",
    "    resource.release(rqt)\n",
    "    if debug:\n",
    "        print('1: car \\tpasses at t=%.2f' % env.now)\n",
    "    passingList.append(env.now)\n",
    "    \n",
    "def passing_legTwo(env, resource, passingList, debug=False):\n",
    "    rqt = resource.request(priority=1)\n",
    "    yield rqt\n",
    "    try:\n",
    "        yield env.timeout(3)\n",
    "    except simpy.Interrupt as interrupt:\n",
    "        yield env.timeout(3 - env.now + interrupt.cause.usage_since)\n",
    "    resource.release(rqt)\n",
    "    if debug:\n",
    "        print('2: car \\tpasses at t=%.2f' % env.now)\n",
    "    passingList.append(env.now)\n",
    "\n",
    "def passing_legThree(env, resource, passingList, debug=False):\n",
    "    rqt = resource.request(priority=1)\n",
    "    yield rqt\n",
    "    try:\n",
    "        yield env.timeout(3)\n",
    "    except simpy.Interrupt as interrupt:\n",
    "        yield env.timeout(3 - env.now + interrupt.cause.usage_since)\n",
    "    resource.release(rqt)\n",
    "    if debug:\n",
    "        print('3: car \\tpasses at t=%.2f' % env.now)\n",
    "    passingList.append(env.now)\n",
    "    \n",
    "def passing_legFour(env, resource, passingList, debug=False):\n",
    "    rqt = resource.request(priority=1)\n",
    "    yield rqt\n",
    "    try:\n",
    "        yield env.timeout(3)\n",
    "    except simpy.Interrupt as interrupt:\n",
    "        yield env.timeout(3 - env.now + interrupt.cause.usage_since)\n",
    "    resource.release(rqt)\n",
    "    if debug:\n",
    "        print('4: car \\tpasses at t=%.2f' % env.now)\n",
    "    passingList.append(env.now)\n",
    "    \n",
    "    \n",
    "def switching_direction(env, leg1, leg2, leg3, leg4, debug=False):\n",
    "    red_light = 46\n",
    "    yellow_light = 4\n",
    "    vertical = True\n",
    "    \n",
    "    while True:\n",
    "        if vertical:\n",
    "            stop_rqt1 = leg3.request(priority=-1, preempt=True)\n",
    "            stop_rqt2 = leg4.request(priority=-1, preempt=True)\n",
    "            if debug:\n",
    "                print('leg1 and leg2 pass at t=%2.f' % env.now)\n",
    "        else:\n",
    "            stop_rqt1 = leg1.request(priority=-1, preempt=True)\n",
    "            stop_rqt2 = leg2.request(priority=-1, preempt=True)\n",
    "            if debug:\n",
    "                print('leg3 and leg4 pass at t=%2.f' % env.now)\n",
    "        \n",
    "        yield stop_rqt1\n",
    "        yield stop_rqt2\n",
    "        yield env.timeout(yellow_light)\n",
    "        yield env.timeout(red_light)\n",
    "        \n",
    "        if vertical:\n",
    "            leg3.release(stop_rqt1)\n",
    "            leg4.release(stop_rqt2)\n",
    "        else:\n",
    "            leg1.release(stop_rqt1)\n",
    "            leg2.release(stop_rqt2)\n",
    "        \n",
    "        vertical = not vertical\n",
    "\n",
    "\n",
    "import collections\n",
    "resultOne = collections.defaultdict(list)\n",
    "resultTwo = collections.defaultdict(list)\n",
    "resultThree = collections.defaultdict(list)\n",
    "resultFour = collections.defaultdict(list)\n",
    "\n",
    "random_stateOne = np.random.RandomState(seed=10000)\n",
    "random_stateTwo = np.random.RandomState(seed=20000)\n",
    "random_stateThree = np.random.RandomState(seed=30000)\n",
    "random_stateFour = np.random.RandomState(seed=40000)\n",
    "\n",
    "env = simpy.Environment()\n",
    "isOne = simpy.PreemptiveResource(env, capacity=1)\n",
    "isTwo = simpy.PreemptiveResource(env, capacity=1)\n",
    "isThree = simpy.PreemptiveResource(env, capacity=1)\n",
    "isFour = simpy.PreemptiveResource(env, capacity=1)\n",
    "\n",
    "env.process(legOne(env, isOne, resultOne['arrival'], resultOne['passing'], random_state=random_stateOne, debug=True))\n",
    "env.process(legTwo(env, isTwo, resultTwo['arrival'], resultTwo['passing'], random_state=random_stateTwo, debug=True))\n",
    "env.process(legThree(env, isThree, resultThree['arrival'], resultThree['passing'], random_state=random_stateThree, debug=True))\n",
    "env.process(legFour(env, isFour, resultFour['arrival'], resultFour['passing'], random_state=random_stateFour, debug=True))\n",
    "env.process(switching_direction(env, isOne, isTwo, isThree, isFour, debug=True))\n",
    "env.run(until=600)"
   ]
  },
  {
   "cell_type": "code",
   "execution_count": 170,
   "metadata": {},
   "outputs": [
    {
     "name": "stdout",
     "output_type": "stream",
     "text": [
      "leg 1: \n",
      "5th arrival: 238.48118\n",
      "5th passing: 241.48118\n",
      "\n",
      "leg 2: \n",
      "5th arrival: 221.39132\n",
      "5th passing: 224.39132\n",
      "\n",
      "leg 3: \n",
      "5th arrival: 147.49959\n",
      "5th passing: 156.00000\n",
      "\n",
      "leg 4: \n",
      "5th arrival: 135.62500\n",
      "5th passing: 156.00000\n",
      "\n"
     ]
    }
   ],
   "source": [
    "for leg_id, r in enumerate([resultOne, resultTwo, resultThree, resultFour]):\n",
    "    print('leg %.f: \\n5th arrival: %.5f\\n5th passing: %.5f\\n' % (leg_id + 1, r['arrival'][4], r['passing'][4]))"
   ]
  },
  {
   "cell_type": "code",
   "execution_count": 171,
   "metadata": {},
   "outputs": [
    {
     "data": {
      "text/plain": [
       "16.025848653459633"
      ]
     },
     "execution_count": 171,
     "metadata": {},
     "output_type": "execute_result"
    }
   ],
   "source": [
    "total_passing_time = 0\n",
    "total_passing_count = 0\n",
    "for leg_id, r in enumerate([resultOne, resultTwo, resultThree, resultFour]):\n",
    "    \n",
    "    passingLength = len(r['passing'])\n",
    "    total_passing_count += passingLength\n",
    "    total_passing_time += sum(np.array(r['passing']) - np.array(r['arrival'][:passingLength]))\n",
    "\n",
    "total_passing_time / total_passing_count"
   ]
  },
  {
   "cell_type": "code",
   "execution_count": null,
   "metadata": {
    "id": "ISNaB77DX1NU"
   },
   "outputs": [],
   "source": []
  },
  {
   "cell_type": "markdown",
   "metadata": {
    "id": "gGdkUg9vV2EZ"
   },
   "source": [
    "## Q2. [10 Points]\n",
    "\n",
    "Instead of evenly splitting the red light for two roads, let's help the city planner decide the best timing.\n",
    "\n",
    "The city planner needs the solution to satisfy the following constraints:\n",
    "* the yellow light time for leg 1 and 2 is 4 seconds\n",
    "* the yellow light time for leg 3 and 4 is 4 seconds\n",
    "* the red light time for leg 1 and 2  is $x$ seconds, which needs to be an integer and at least 10.\n",
    "* the red light time for leg 3 and 4 is $100-x$ seconds, which needs to be an integer and at least 10.\n",
    "\n",
    "For this question, let's assume that the planner wants to minimize the expected value of the **average time** between a car's arrival and when it finishes passing. To estimate the expected value given red light time $x$ for leg 1 and 2, we simulate the system given an $x$ value for **4 rounds** and take the average of these 4 system outputs. The set up of the system is the same as Q1.\n",
    "\n",
    " \n",
    "\n",
    "\n",
    "* Perform the optimization work for one iteration and then\n",
    "> * Plot the relationship between $x$ and the estimates of the expected value given $x$, where $x=10, 11, 12, \\dots$.\n",
    "> * Report $x_s^*$, the simulated optimial value of $x$\n",
    "\n",
    "* To measure the variation of our simulated optimization results, repeat the optimization work for another 30 iterations and then\n",
    ">* Report $x_s^*$ from each round. Do not show the plot. \n",
    ">* Compute the variance of the thirty $x_s^*$ samples you get.  \n",
    "\n",
    "\n",
    "**[If certain functions are not changed from Q1, do not copy those functions here, same thing for Q3 and Q4]**\n",
    "\n"
   ]
  },
  {
   "cell_type": "code",
   "execution_count": 266,
   "metadata": {
    "id": "_XID-v1A4tIY"
   },
   "outputs": [],
   "source": [
    "def switching_direction(env, leg1, leg2, leg3, leg4, x, debug=False):\n",
    "    yellow_light = 4\n",
    "    vertical = True\n",
    "    \n",
    "    while True:\n",
    "        if vertical:\n",
    "            stop_rqt1 = leg3.request(priority=-1, preempt=True)\n",
    "            stop_rqt2 = leg4.request(priority=-1, preempt=True)\n",
    "            if debug:\n",
    "                print('leg1 and leg2 pass at t=%2.f' % env.now)\n",
    "                \n",
    "            yield stop_rqt1\n",
    "            yield stop_rqt2\n",
    "            yield env.timeout(yellow_light)\n",
    "            yield env.timeout(100 - x)\n",
    "        else:\n",
    "            stop_rqt1 = leg1.request(priority=-1, preempt=True)\n",
    "            stop_rqt2 = leg2.request(priority=-1, preempt=True)\n",
    "            if debug:\n",
    "                print('leg3 and leg4 pass at t=%2.f' % env.now)\n",
    "                \n",
    "            yield stop_rqt1\n",
    "            yield stop_rqt2\n",
    "            yield env.timeout(yellow_light)\n",
    "            yield env.timeout(x)\n",
    "        \n",
    "        if vertical:\n",
    "            leg3.release(stop_rqt1)\n",
    "            leg4.release(stop_rqt2)\n",
    "        else:\n",
    "            leg1.release(stop_rqt1)\n",
    "            leg2.release(stop_rqt2)\n",
    "        \n",
    "        vertical = not vertical\n",
    "\n",
    "\n",
    "\n",
    "def simulation_system(x, simu_type=0, leg1_rs=np.random.RandomState(), leg2_rs=np.random.RandomState(), \n",
    "                      leg3_rs=np.random.RandomState(), leg4_rs=np.random.RandomState(), debug=False):\n",
    "    resultOne = collections.defaultdict(list)\n",
    "    resultTwo = collections.defaultdict(list)\n",
    "    resultThree = collections.defaultdict(list)\n",
    "    resultFour = collections.defaultdict(list)\n",
    "    \n",
    "    env = simpy.Environment()\n",
    "    isOne = simpy.PriorityResource(env, capacity=1)\n",
    "    isTwo = simpy.PriorityResource(env, capacity=1)\n",
    "    isThree = simpy.PriorityResource(env, capacity=1)\n",
    "    isFour = simpy.PriorityResource(env, capacity=1)\n",
    "    \n",
    "    env.process(legOne(env, isOne, resultOne['arrival'], resultOne['passing'], random_state=leg1_rs, simu_type=simu_type, debug=debug))\n",
    "    env.process(legTwo(env, isTwo, resultTwo['arrival'], resultTwo['passing'], random_state=leg2_rs, simu_type=simu_type, debug=debug))\n",
    "    env.process(legThree(env, isThree, resultThree['arrival'], resultThree['passing'], random_state=leg3_rs, simu_type=simu_type, debug=debug))\n",
    "    env.process(legFour(env, isFour, resultFour['arrival'], resultFour['passing'], random_state=leg4_rs, simu_type=simu_type, debug=debug))\n",
    "    env.process(switching_direction(env, isOne, isTwo, isThree, isFour, x=x, debug=debug))\n",
    "    \n",
    "    env.run(until=600)\n",
    "    return [resultOne, resultTwo, resultThree, resultFour]"
   ]
  },
  {
   "cell_type": "code",
   "execution_count": 267,
   "metadata": {},
   "outputs": [],
   "source": [
    "def calculateResult(result):\n",
    "    total_passing_time = 0\n",
    "    total_passing_count = 0\n",
    "    for leg_id, r in enumerate(result):\n",
    "\n",
    "        passingLength = len(r['passing'])\n",
    "        total_passing_count += passingLength\n",
    "        total_passing_time += sum(np.array(r['passing']) - np.array(r['arrival'][:passingLength]))\n",
    "\n",
    "    return total_passing_time / total_passing_count"
   ]
  },
  {
   "cell_type": "code",
   "execution_count": 292,
   "metadata": {},
   "outputs": [],
   "source": [
    "simuList = []\n",
    "for x in range(10, 91):\n",
    "    result = []\n",
    "    for _ in range(4):\n",
    "        result.append(calculateResult(simulation_system(x)))\n",
    "    simuList.append(np.mean(result))"
   ]
  },
  {
   "cell_type": "code",
   "execution_count": 293,
   "metadata": {},
   "outputs": [
    {
     "name": "stdout",
     "output_type": "stream",
     "text": [
      "we should choose x=64, and the average passing time is 14.65393\n"
     ]
    },
    {
     "data": {
      "image/png": "[encoded data removed]",
      "text/plain": [
       "<Figure size 432x288 with 1 Axes>"
      ]
     },
     "metadata": {
      "needs_background": "light"
     },
     "output_type": "display_data"
    }
   ],
   "source": [
    "plt.plot(list(range(10, 91, 1)), simuList)\n",
    "plt.ylabel('avg passing time')\n",
    "plt.xlabel('red light time for leg 1&2')\n",
    "\n",
    "best_perf = min(simuList)\n",
    "x_s = list(range(10, 91))[np.argmin(simuList)]\n",
    "print('we should choose x=%.f, and the average passing time is %.5f' % (x_s, best_perf))"
   ]
  },
  {
   "cell_type": "code",
   "execution_count": 294,
   "metadata": {},
   "outputs": [],
   "source": [
    "simuList = []\n",
    "for x in [x_s]:\n",
    "    for _ in range(30):\n",
    "        simuList.append(calculateResult(simulation_system(x)))"
   ]
  },
  {
   "cell_type": "code",
   "execution_count": 295,
   "metadata": {},
   "outputs": [
    {
     "name": "stdout",
     "output_type": "stream",
     "text": [
      "the sample variance for the passing time of best x_s is 3.74464\n"
     ]
    },
    {
     "data": {
      "text/plain": [
       "[16.31839917075105,\n",
       " 13.137903890752689,\n",
       " 15.859459096354184,\n",
       " 14.73513985684813,\n",
       " 16.671790168478,\n",
       " 16.276336415233637,\n",
       " 20.107703639616734,\n",
       " 17.06974465898765,\n",
       " 15.637684964430806,\n",
       " 16.21080421407648,\n",
       " 14.94921281300208,\n",
       " 20.051546619560504,\n",
       " 16.29079053975936,\n",
       " 18.036371402836703,\n",
       " 14.269179480092971,\n",
       " 16.148163888730544,\n",
       " 22.2644256028484,\n",
       " 16.601354671466563,\n",
       " 15.731639011093234,\n",
       " 16.65292047257019,\n",
       " 16.636507612618587,\n",
       " 17.732693991322055,\n",
       " 15.056962291437056,\n",
       " 17.35094492064408,\n",
       " 13.079683869036966,\n",
       " 15.93565361866492,\n",
       " 16.46680631860456,\n",
       " 17.622199615672397,\n",
       " 15.258041154587254,\n",
       " 14.466892579108311]"
      ]
     },
     "execution_count": 295,
     "metadata": {},
     "output_type": "execute_result"
    }
   ],
   "source": [
    "print('the sample variance for the passing time of best x_s is %.5f' % np.var(simuList, ddof=1))\n",
    "simuList"
   ]
  },
  {
   "cell_type": "code",
   "execution_count": null,
   "metadata": {
    "id": "h61b5hn2BimI"
   },
   "outputs": [],
   "source": []
  },
  {
   "cell_type": "markdown",
   "metadata": {
    "id": "pz9jggv54pxT"
   },
   "source": [
    "## Q3. [12 Points]"
   ]
  },
  {
   "cell_type": "markdown",
   "metadata": {
    "id": "Q1fmzPX64tdb"
   },
   "source": [
    "When estimating the expected value of a system output, one can use variance reduction technique. Let's explore the anti-thetic method can help reduce the variation in the simulated optimization results in Q2. For this question, let's keep the same setup as Q2. \n",
    "\n",
    "* Collect 100 estimates of the expected value of the system output when $x=87$. [In total, you need to run the system 4*100 times]. Plot the distribution of these 100 estimates and report the standard deviation of the estimates. \n",
    "\n",
    "* Apply anti-thetic method to the inter-arrival times for each of the four legs. Again, collect 100 estimates of the expected value of the system output when $x=87$. [In total, you need to run the system 4*100 times]. Plot the distribution of these 100 estimates and report the standard deviation  of the estimates. \n",
    "\n",
    "* Incorporate anti-thetic method into your work in Q2, and compare the standard deviation of the thirty $x_s^*$ samples with and without anti-thetic method used. \n",
    "\n",
    "* Explain why anti-thetic method helps reduce the standard deviation of $x_s^*$ samples.\n",
    "\n",
    "\n",
    " "
   ]
  },
  {
   "cell_type": "code",
   "execution_count": 296,
   "metadata": {
    "id": "dNQtGQP6-nvC"
   },
   "outputs": [
    {
     "data": {
      "text/plain": [
       "100"
      ]
     },
     "execution_count": 296,
     "metadata": {},
     "output_type": "execute_result"
    }
   ],
   "source": [
    "simuList = []\n",
    "x = 87\n",
    "for _ in range(100):\n",
    "    result = []\n",
    "    for _ in range(4):\n",
    "        result.append(calculateResult(simulation_system(x)))\n",
    "    simuList.append(np.mean(result))\n",
    "len(simuList)"
   ]
  },
  {
   "cell_type": "code",
   "execution_count": 297,
   "metadata": {},
   "outputs": [
    {
     "name": "stdout",
     "output_type": "stream",
     "text": [
      "the std of the average passing time when x=87 is 1.82852\n"
     ]
    },
    {
     "data": {
      "image/png": "[encoded data removed]",
      "text/plain": [
       "<Figure size 432x288 with 1 Axes>"
      ]
     },
     "metadata": {
      "needs_background": "light"
     },
     "output_type": "display_data"
    }
   ],
   "source": [
    "plt.hist(simuList, bins=15, density=True)\n",
    "print('the std of the average passing time when x=87 is %.5f' % np.std(simuList, ddof=1))"
   ]
  },
  {
   "cell_type": "code",
   "execution_count": 298,
   "metadata": {
    "id": "4UdbSQA84n-p"
   },
   "outputs": [],
   "source": [
    "def anti_system(x, debug=False):\n",
    "    resultOne = collections.defaultdict(list)\n",
    "    resultTwo = collections.defaultdict(list)\n",
    "    resultThree = collections.defaultdict(list)\n",
    "    resultFour = collections.defaultdict(list)\n",
    "    \n",
    "    random_stateOne = np.random.RandomState()\n",
    "    random_stateTwo = np.random.RandomState()\n",
    "    random_stateThree = np.random.RandomState()\n",
    "    random_stateFour = np.random.RandomState()\n",
    "    \n",
    "    random_stateOne_anti = copy.copy(random_stateOne)\n",
    "    random_stateTwo_anti = copy.copy(random_stateTwo)\n",
    "    random_stateThree_anti = copy.copy(random_stateThree)\n",
    "    random_stateFour_anti = copy.copy(random_stateFour)\n",
    "    \n",
    "    output1 = simulation_system(x, simu_type=0, leg1_rs=random_stateOne, \n",
    "          leg2_rs=random_stateTwo, leg3_rs=random_stateThree, leg4_rs=random_stateFour)\n",
    "    output2 = simulation_system(x, simu_type=1, leg1_rs=random_stateOne_anti, \n",
    "      leg2_rs=random_stateTwo_anti, leg3_rs=random_stateThree_anti, leg4_rs=random_stateFour_anti)\n",
    "    return output1 + output2#(calculateResult(output1) + calculateResult(output2)) / 2"
   ]
  },
  {
   "cell_type": "code",
   "execution_count": 299,
   "metadata": {
    "id": "L_xfilpyFTDc"
   },
   "outputs": [
    {
     "data": {
      "text/plain": [
       "100"
      ]
     },
     "execution_count": 299,
     "metadata": {},
     "output_type": "execute_result"
    }
   ],
   "source": [
    "antiList = []\n",
    "x = 87\n",
    "for _ in range(100):\n",
    "    result = []\n",
    "    for _ in range(4):\n",
    "        result.append(calculateResult(anti_system(x)))\n",
    "    antiList.append(np.mean(result))\n",
    "len(antiList)"
   ]
  },
  {
   "cell_type": "code",
   "execution_count": 300,
   "metadata": {},
   "outputs": [
    {
     "name": "stdout",
     "output_type": "stream",
     "text": [
      "the std of the average passing time when x=87 is 1.15534\n"
     ]
    },
    {
     "data": {
      "image/png": "[encoded data removed]",
      "text/plain": [
       "<Figure size 432x288 with 1 Axes>"
      ]
     },
     "metadata": {
      "needs_background": "light"
     },
     "output_type": "display_data"
    }
   ],
   "source": [
    "plt.hist(antiList, bins=15, density=True)\n",
    "print('the std of the average passing time when x=87 is %.5f' % np.std(antiList, ddof=1))"
   ]
  },
  {
   "cell_type": "code",
   "execution_count": null,
   "metadata": {},
   "outputs": [],
   "source": []
  },
  {
   "cell_type": "code",
   "execution_count": 277,
   "metadata": {},
   "outputs": [
    {
     "name": "stdout",
     "output_type": "stream",
     "text": [
      "the sample variance for the passing time of best x_s is 2.45960\n"
     ]
    }
   ],
   "source": [
    "antiList = []\n",
    "for x in [x_s]:\n",
    "    for _ in range(30):\n",
    "        antiList.append(calculateResult(anti_system(x)))\n",
    "        \n",
    "print('the sample variance for the passing time of best x_s is %.5f' % np.var(antiList, ddof=1))"
   ]
  },
  {
   "cell_type": "code",
   "execution_count": 278,
   "metadata": {},
   "outputs": [
    {
     "data": {
      "text/plain": [
       "'\\nwithout antithetic method the standard deviation is 5.15826.\\nwith antithetic method the standard deviation is 2.54452.\\n\\nsince we generate two random variables(X) that are negative correlated, \\ntherefore, the variance of final random variable(Y) will be smaller\\ndue to the negative effect of negative correlation\\n'"
      ]
     },
     "execution_count": 278,
     "metadata": {},
     "output_type": "execute_result"
    }
   ],
   "source": [
    "'''\n",
    "without antithetic method the standard deviation is 5.15826.\n",
    "with antithetic method the standard deviation is 2.54452.\n",
    "\n",
    "since we generate two random variables(X) that are negative correlated, \n",
    "therefore, the variance of final random variable(Y) will be smaller\n",
    "due to the negative effect of negative correlation\n",
    "'''"
   ]
  },
  {
   "cell_type": "markdown",
   "metadata": {
    "id": "pw5iC9DyLv16"
   },
   "source": [
    "## Q4. [8 Points]\n",
    "\n",
    "Does the optimal $x_s^*$ you get from Q2/Q3 also ensures minimization of the expected value of the **maximum time** between a car's arrival and when it finishes passing, for all cars that finish passing?\n",
    "\n",
    "* Use `simpy` to derive your conclusion.  \n",
    "* Based on the setup of the system, explain why this observation happens in an intuitively way."
   ]
  },
  {
   "cell_type": "code",
   "execution_count": 301,
   "metadata": {
    "id": "FQp03ovAzonw"
   },
   "outputs": [],
   "source": [
    "# 1. find out the maximum passing time\n",
    "# 2. minimize the maximum passing time \n",
    "# 3. compare the result with Q2/Q3"
   ]
  },
  {
   "cell_type": "code",
   "execution_count": 326,
   "metadata": {
    "id": "Q1jwias6Vm7Z"
   },
   "outputs": [],
   "source": [
    "def calculateMaxPassingTime(result):\n",
    "    max_passing_time = []\n",
    "    for leg_id, r in enumerate(result):\n",
    "        passingLength = len(r['passing'])\n",
    "        tmp = max(np.array(r['passing']) - np.array(r['arrival'][:passingLength]))\n",
    "        max_passing_time.append(tmp)\n",
    "    return np.mean(max_passing_time)"
   ]
  },
  {
   "cell_type": "code",
   "execution_count": 327,
   "metadata": {},
   "outputs": [],
   "source": [
    "simuList = []\n",
    "for x in range(10, 91):\n",
    "    result = []\n",
    "    for _ in range(4):\n",
    "        result.append(calculateMaxPassingTime(simulation_system(x)))\n",
    "    simuList.append(np.mean(result))"
   ]
  },
  {
   "cell_type": "code",
   "execution_count": 328,
   "metadata": {},
   "outputs": [
    {
     "name": "stdout",
     "output_type": "stream",
     "text": [
      "we should choose x=80, and the expected maximum passing time is 47.82180\n"
     ]
    },
    {
     "data": {
      "image/png": "[encoded data removed]",
      "text/plain": [
       "<Figure size 432x288 with 1 Axes>"
      ]
     },
     "metadata": {
      "needs_background": "light"
     },
     "output_type": "display_data"
    }
   ],
   "source": [
    "plt.plot(list(range(10, 91, 1)), simuList)\n",
    "plt.ylabel('maximum passing time')\n",
    "plt.xlabel('red light time for leg 1&2')\n",
    "\n",
    "best_perf = min(simuList)\n",
    "x_s = list(range(10, 91))[np.argmin(simuList)]\n",
    "print('we should choose x=%.f, and the expected maximum passing time is %.5f' % (x_s, best_perf))"
   ]
  },
  {
   "cell_type": "code",
   "execution_count": null,
   "metadata": {},
   "outputs": [],
   "source": []
  },
  {
   "cell_type": "code",
   "execution_count": null,
   "metadata": {},
   "outputs": [],
   "source": []
  }
 ],
 "metadata": {
  "colab": {
   "collapsed_sections": [],
   "name": "Final Exam (IEOR 4404 Fall 2020).ipynb",
   "provenance": [],
   "toc_visible": true
  },
  "kernelspec": {
   "display_name": "Python 3",
   "language": "python",
   "name": "python3"
  },
  "language_info": {
   "codemirror_mode": {
    "name": "ipython",
    "version": 3
   },
   "file_extension": ".py",
   "mimetype": "text/x-python",
   "name": "python",
   "nbconvert_exporter": "python",
   "pygments_lexer": "ipython3",
   "version": "3.8.5"
  }
 },
 "nbformat": 4,
 "nbformat_minor": 1
}
