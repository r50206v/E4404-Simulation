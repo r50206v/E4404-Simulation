{
  "nbformat": 4,
  "nbformat_minor": 0,
  "metadata": {
    "colab": {
      "name": "Yi Ping Tseng - HW6 (IEOR 4404 Fall 2020).ipynb",
      "provenance": [],
      "collapsed_sections": []
    },
    "kernelspec": {
      "name": "python3",
      "display_name": "Python 3"
    }
  },
  "cells": [
    {
      "cell_type": "markdown",
      "metadata": {
        "id": "4s5izpSul0F9"
      },
      "source": [
        "# **IEOR 4404  Simulation (Fall 2020)**\n",
        "\n",
        "**Homework 6  [Total points: 80 Points]**\n",
        "\n",
        "\n",
        "**Due 11:59 PM, Dec 13**\n",
        "\n",
        "Homework 6 consists of application-oriented exercises focusing on:\n",
        "* `simpy` simulation of systems\n",
        "* Variance reduction\n",
        "\n",
        "The steps to finish the homework:\n",
        "\n",
        "*   Step 1: Answer your homework on Google Colab.\n",
        "*   Step 2: Submit the copy on Google Assignment\n",
        "\n",
        "Before you submit your assignment, make sure to re-run your code from the beginning. (You can do so by first clicking Runtime/Reset All Runtimes and then clicking Runtime/Run all)\n",
        "\n"
      ]
    },
    {
      "cell_type": "code",
      "metadata": {
        "id": "f3BPfGhTQSbE"
      },
      "source": [
        "#Your Name: Yi-Ping Tseng\n",
        "#Your UNI: yt2690"
      ],
      "execution_count": 4,
      "outputs": []
    },
    {
      "cell_type": "code",
      "metadata": {
        "colab": {
          "base_uri": "https://localhost:8080/"
        },
        "id": "nPmbxui1D9Y8",
        "outputId": "6fa3c57b-7dcb-45a8-f780-0c48a8d8e13e"
      },
      "source": [
        "!pip install sympy simpy pynverse -U"
      ],
      "execution_count": 1,
      "outputs": [
        {
          "output_type": "stream",
          "text": [
            "Requirement already up-to-date: sympy in /usr/local/lib/python3.6/dist-packages (1.7.1)\n",
            "Requirement already up-to-date: simpy in /usr/local/lib/python3.6/dist-packages (4.0.1)\n",
            "Requirement already up-to-date: pynverse in /usr/local/lib/python3.6/dist-packages (0.1.4.4)\n",
            "Requirement already satisfied, skipping upgrade: mpmath>=0.19 in /usr/local/lib/python3.6/dist-packages (from sympy) (1.1.0)\n",
            "Requirement already satisfied, skipping upgrade: scipy>=0.11 in /usr/local/lib/python3.6/dist-packages (from pynverse) (1.4.1)\n",
            "Requirement already satisfied, skipping upgrade: numpy>=1.6 in /usr/local/lib/python3.6/dist-packages (from pynverse) (1.18.5)\n"
          ],
          "name": "stdout"
        }
      ]
    },
    {
      "cell_type": "code",
      "metadata": {
        "id": "x4lR3IqNGLmD",
        "colab": {
          "base_uri": "https://localhost:8080/"
        },
        "outputId": "0f4f1dee-8dec-4047-b0f8-d7317f6ed208"
      },
      "source": [
        "#This imports all the packages you need for the homework\n",
        "#Please run this first\n",
        "import numpy as np\n",
        "\n",
        "\n",
        "import scipy.special as spsp\n",
        "import scipy.stats as spst\n",
        "\n",
        "import matplotlib.pyplot as plt\n",
        "\n",
        "%matplotlib inline\n",
        "\n",
        "import sympy\n",
        "!pip install simpy\n",
        "import simpy\n",
        "import copy\n",
        "import collections"
      ],
      "execution_count": 2,
      "outputs": [
        {
          "output_type": "stream",
          "text": [
            "Requirement already satisfied: simpy in /usr/local/lib/python3.6/dist-packages (4.0.1)\n"
          ],
          "name": "stdout"
        }
      ]
    },
    {
      "cell_type": "markdown",
      "metadata": {
        "id": "eBh7m_ZANQq5"
      },
      "source": [
        "#Exercise 1 [30 Points]\n",
        "\n",
        "##Setting\n",
        "\n",
        "\n",
        "We are interested in simulating an application system using `simpy`. In this system, the unit of time is day, which may be non-integers.\n",
        "\n",
        "An applicant may submit an application between $t=0$ and $t=100$. The submission time follows a homogeneous Poisson process with $\\lambda=10$. Applications are then reviewed in the order that they are received. Each application needs to be reviewed by 2 people, potentially simultaneously.\n",
        "\n",
        "At $t=90.375$ (9 am), a team of 10 admission officers will start the reviewing process. The time needed for an officer to review an application follows a uniform distribution between 0.05 and 0.1 days. After working for at least 0.375 days (9 hours), the officer will finish reviewing the current application  and then go home. Each officer resumes their work at 9 am the next day ($\\lfloor t \\rfloor +1.375$, where $t$ is the time that they went home).\n",
        "\n",
        "The simulation stops when the officers finish reviewing all the applications submitted before $t=100$. \n",
        "\n",
        "**<font color=\"red\">In this question, you are NOT allowed to use any built-in sampling function except np.random.rand() </font>**\n"
      ]
    },
    {
      "cell_type": "markdown",
      "metadata": {
        "id": "kuy6xJlGuQjx"
      },
      "source": [
        "##Q1. [25 Points]\n",
        "\n",
        "For this system, we are interested in computing the average time between an application's submission and its review completion.\n",
        "\n",
        "* Use `simpy` to construct the system. Make sure to comment on your code so that it is easy for the graders to understand your logic.\n",
        "* Run the system once. Inside the function print out the following information for the first 50 submissions. For each submission, print out the 4 lines containing the following information:\n",
        "\n",
        ">* `[submission id]  [start/finish] [time]  [reviewer 1 / reviewer 2]`\n",
        "\n",
        ">* For example:`[1] [start] [90.375] [reviwer 1]`. means applicants 1's applications review process has started at t=0.4 by reviewer 1.\n",
        "\n",
        "> * In total, you should print out 200 lines, These 200 lines should follow chronological order (time from smallest to largest). \n",
        "\n",
        "\n",
        "[Hint 1: Since all 10 officers are the identifical. Think carefully about how you can define your resources]\n",
        "\n",
        "[Hint 2: It is useful to start two review processes for each application. One for reviewer 1 and one for reviwer 2. The review of an application will be over when both processes are processed]\n",
        "\n",
        "[Hint 3: There are different ways to implement the system. The sample answer relied on priority resource to define requests with a higher priority to model the time period between going home and coming back to work for each worker]\n",
        "\n",
        "\n"
      ]
    },
    {
      "cell_type": "code",
      "metadata": {
        "id": "QOHl6u7PfWLa"
      },
      "source": [
        "def review(env, review_type, submit_id, resourceList, data, debug=False):\n",
        "  # making request for all officers\n",
        "  requestList = [r.request(priority=0) for r in resourceList]\n",
        "  # selecting the officers who are available\n",
        "  result = yield simpy.AnyOf(env, requestList)\n",
        "\n",
        "  # directly assign to the first available officer\n",
        "  process_index = None\n",
        "  not_taken = True\n",
        "  for index, rqt in enumerate(requestList):\n",
        "    if rqt in result and not_taken:\n",
        "      # memorize who is the first available officer\n",
        "      process_index = index\n",
        "      not_taken = False\n",
        "    elif rqt in result and not_taken is False:\n",
        "      # release the request from other available officers\n",
        "      resourceList[index].release(rqt)\n",
        "    else:\n",
        "      # cancel the request if the officer is not availble\n",
        "      rqt.cancel()\n",
        "\n",
        "  # start processing the submission\n",
        "  if submit_id < 50 and debug:\n",
        "    print('id: %.f\\t\\t start time: %.3f\\t\\t reviewer %.f by officer %.f' % (submit_id, env.now, review_type, process_index))\n",
        "  service_time = np.random.rand() * 0.05 + 0.05\n",
        "  yield env.timeout(service_time)\n",
        "  resourceList[process_index].release(requestList[process_index])\n",
        "  if submit_id < 50 and debug:\n",
        "    print('id: %.f\\t\\t finish time: %.3f\\t\\t reviewer %.f by officer %.f' % (submit_id, env.now, review_type, process_index))\n",
        "\n",
        "  # collecting the completion time for reviews\n",
        "  data[submit_id]['review ' + str(review_type)] = env.now\n",
        "\n",
        "\n",
        "  # since the working hours is from 9~18, which is 0.375 to 0.75\n",
        "  # we have to make sure all officers will call a day off after 18 o'clock (t=0.75)\n",
        "  if env.now - np.floor(env.now) >= 0.375 + 0.375:\n",
        "    # print('-'*20, 'end of a day at %.2f for %.f officer' % (env.now, process_index), '-'*20)\n",
        "    rest_rqt = resourceList[process_index].request(priority=-1)\n",
        "    yield rest_rqt\n",
        "    # adding 1.375 means we are letting them come back to work at tmr's 9 o'clock\n",
        "    yield env.timeout(1.375 + np.floor(env.now) - env.now)\n",
        "    resourceList[process_index].release(rest_rqt)\n",
        "\n",
        "\n",
        "\n",
        "def arrival(env, resourceList, data, submission_arrival_lambda=10, end_time=100, debug=False):\n",
        "  submit_id = 0\n",
        "  arrivalList = []\n",
        "  time = 0\n",
        "  # make sure we only accept submission before t=100\n",
        "  while time <= end_time:\n",
        "    # the inter-arrival of submission\n",
        "    inter_arrival = -1/submission_arrival_lambda * np.log(np.random.rand())\n",
        "    time += inter_arrival\n",
        "\n",
        "    # store the subission time for each arrival\n",
        "    data[submit_id]['submit'] = time\n",
        "    arrivalList.append(submit_id)\n",
        "    # differentiate the submission by giving them accumulative ID\n",
        "    submit_id += 1\n",
        "\n",
        "  # start reviewing the submission after t=90.375\n",
        "  yield env.timeout(90.375)\n",
        "  while True:\n",
        "    # stop the process when every submission are reviewed by two officers\n",
        "    if len(arrivalList) == 0:\n",
        "      break\n",
        "\n",
        "    # reviewing the submission by chronological order \n",
        "    submit_id = arrivalList.pop(0)\n",
        "    # using `&` by making sure there will be two reviewers for each submission\n",
        "    env.process(review(env, 1, submit_id, resourceList, data, debug)) & env.process(review(env, 2, submit_id, resourceList, data, debug))"
      ],
      "execution_count": 3,
      "outputs": []
    },
    {
      "cell_type": "code",
      "metadata": {
        "id": "BxZWILOdNv4m"
      },
      "source": [
        "def system(debug=False):\n",
        "  env = simpy.Environment()\n",
        "  # setting priority resource to make sure the officers leave when they work after 9 hours\n",
        "  officer_1 = simpy.PriorityResource(env, capacity=1)\n",
        "  officer_2 = simpy.PriorityResource(env, capacity=1)\n",
        "  officer_3 = simpy.PriorityResource(env, capacity=1)\n",
        "  officer_4 = simpy.PriorityResource(env, capacity=1)\n",
        "  officer_5 = simpy.PriorityResource(env, capacity=1)\n",
        "  officer_6 = simpy.PriorityResource(env, capacity=1)\n",
        "  officer_7 = simpy.PriorityResource(env, capacity=1)\n",
        "  officer_8 = simpy.PriorityResource(env, capacity=1)\n",
        "  officer_9 = simpy.PriorityResource(env, capacity=1)\n",
        "  officer_10 = simpy.PriorityResource(env, capacity=1)\n",
        "  resourceList = [\n",
        "    officer_1, officer_2, officer_3, \n",
        "    officer_4, officer_5, officer_6, \n",
        "    officer_7, officer_8, officer_9, officer_10\n",
        "  ]\n",
        "\n",
        "\n",
        "  data = collections.defaultdict(dict)\n",
        "  submission_arrival_lambda = 10\n",
        "  end_time = 100\n",
        "  env.process(arrival(env, resourceList, data, submission_arrival_lambda=submission_arrival_lambda, end_time=end_time, debug=debug))\n",
        "  env.run()\n",
        "  return data"
      ],
      "execution_count": 4,
      "outputs": []
    },
    {
      "cell_type": "code",
      "metadata": {
        "colab": {
          "base_uri": "https://localhost:8080/"
        },
        "id": "cLJFmOck6jVS",
        "outputId": "8f818841-3db6-4d50-80e1-760e50bab7ac"
      },
      "source": [
        "data = system(debug=True)"
      ],
      "execution_count": 5,
      "outputs": [
        {
          "output_type": "stream",
          "text": [
            "id: 0\t\t start time: 90.375\t\t reviewer 1 by officer 0\n",
            "id: 0\t\t start time: 90.375\t\t reviewer 2 by officer 1\n",
            "id: 1\t\t start time: 90.375\t\t reviewer 1 by officer 2\n",
            "id: 1\t\t start time: 90.375\t\t reviewer 2 by officer 3\n",
            "id: 2\t\t start time: 90.375\t\t reviewer 1 by officer 4\n",
            "id: 2\t\t start time: 90.375\t\t reviewer 2 by officer 5\n",
            "id: 3\t\t start time: 90.375\t\t reviewer 1 by officer 6\n",
            "id: 3\t\t start time: 90.375\t\t reviewer 2 by officer 7\n",
            "id: 4\t\t start time: 90.375\t\t reviewer 1 by officer 8\n",
            "id: 4\t\t start time: 90.375\t\t reviewer 2 by officer 9\n",
            "id: 0\t\t finish time: 90.427\t\t reviewer 1 by officer 0\n",
            "id: 5\t\t start time: 90.427\t\t reviewer 1 by officer 0\n",
            "id: 2\t\t finish time: 90.431\t\t reviewer 2 by officer 5\n",
            "id: 5\t\t start time: 90.431\t\t reviewer 2 by officer 5\n",
            "id: 1\t\t finish time: 90.440\t\t reviewer 1 by officer 2\n",
            "id: 6\t\t start time: 90.440\t\t reviewer 1 by officer 2\n",
            "id: 1\t\t finish time: 90.441\t\t reviewer 2 by officer 3\n",
            "id: 6\t\t start time: 90.441\t\t reviewer 2 by officer 3\n",
            "id: 2\t\t finish time: 90.446\t\t reviewer 1 by officer 4\n",
            "id: 7\t\t start time: 90.446\t\t reviewer 1 by officer 4\n",
            "id: 4\t\t finish time: 90.447\t\t reviewer 2 by officer 9\n",
            "id: 7\t\t start time: 90.447\t\t reviewer 2 by officer 9\n",
            "id: 3\t\t finish time: 90.449\t\t reviewer 1 by officer 6\n",
            "id: 8\t\t start time: 90.449\t\t reviewer 1 by officer 6\n",
            "id: 0\t\t finish time: 90.460\t\t reviewer 2 by officer 1\n",
            "id: 8\t\t start time: 90.460\t\t reviewer 2 by officer 1\n",
            "id: 3\t\t finish time: 90.461\t\t reviewer 2 by officer 7\n",
            "id: 9\t\t start time: 90.461\t\t reviewer 1 by officer 7\n",
            "id: 4\t\t finish time: 90.475\t\t reviewer 1 by officer 8\n",
            "id: 9\t\t start time: 90.475\t\t reviewer 2 by officer 8\n",
            "id: 5\t\t finish time: 90.482\t\t reviewer 1 by officer 0\n",
            "id: 10\t\t start time: 90.482\t\t reviewer 1 by officer 0\n",
            "id: 5\t\t finish time: 90.494\t\t reviewer 2 by officer 5\n",
            "id: 10\t\t start time: 90.494\t\t reviewer 2 by officer 5\n",
            "id: 8\t\t finish time: 90.504\t\t reviewer 1 by officer 6\n",
            "id: 11\t\t start time: 90.504\t\t reviewer 1 by officer 6\n",
            "id: 7\t\t finish time: 90.510\t\t reviewer 1 by officer 4\n",
            "id: 11\t\t start time: 90.510\t\t reviewer 2 by officer 4\n",
            "id: 6\t\t finish time: 90.511\t\t reviewer 2 by officer 3\n",
            "id: 12\t\t start time: 90.511\t\t reviewer 1 by officer 3\n",
            "id: 6\t\t finish time: 90.514\t\t reviewer 1 by officer 2\n",
            "id: 12\t\t start time: 90.514\t\t reviewer 2 by officer 2\n",
            "id: 8\t\t finish time: 90.514\t\t reviewer 2 by officer 1\n",
            "id: 13\t\t start time: 90.514\t\t reviewer 1 by officer 1\n",
            "id: 9\t\t finish time: 90.522\t\t reviewer 1 by officer 7\n",
            "id: 13\t\t start time: 90.522\t\t reviewer 2 by officer 7\n",
            "id: 7\t\t finish time: 90.535\t\t reviewer 2 by officer 9\n",
            "id: 14\t\t start time: 90.535\t\t reviewer 1 by officer 9\n",
            "id: 9\t\t finish time: 90.537\t\t reviewer 2 by officer 8\n",
            "id: 14\t\t start time: 90.537\t\t reviewer 2 by officer 8\n",
            "id: 10\t\t finish time: 90.543\t\t reviewer 1 by officer 0\n",
            "id: 15\t\t start time: 90.543\t\t reviewer 1 by officer 0\n",
            "id: 12\t\t finish time: 90.568\t\t reviewer 2 by officer 2\n",
            "id: 15\t\t start time: 90.568\t\t reviewer 2 by officer 2\n",
            "id: 11\t\t finish time: 90.575\t\t reviewer 2 by officer 4\n",
            "id: 16\t\t start time: 90.575\t\t reviewer 1 by officer 4\n",
            "id: 13\t\t finish time: 90.577\t\t reviewer 2 by officer 7\n",
            "id: 16\t\t start time: 90.577\t\t reviewer 2 by officer 7\n",
            "id: 10\t\t finish time: 90.589\t\t reviewer 2 by officer 5\n",
            "id: 17\t\t start time: 90.589\t\t reviewer 1 by officer 5\n",
            "id: 11\t\t finish time: 90.591\t\t reviewer 1 by officer 6\n",
            "id: 17\t\t start time: 90.591\t\t reviewer 2 by officer 6\n",
            "id: 14\t\t finish time: 90.596\t\t reviewer 1 by officer 9\n",
            "id: 18\t\t start time: 90.596\t\t reviewer 1 by officer 9\n",
            "id: 12\t\t finish time: 90.603\t\t reviewer 1 by officer 3\n",
            "id: 18\t\t start time: 90.603\t\t reviewer 2 by officer 3\n",
            "id: 13\t\t finish time: 90.605\t\t reviewer 1 by officer 1\n",
            "id: 19\t\t start time: 90.605\t\t reviewer 1 by officer 1\n",
            "id: 15\t\t finish time: 90.618\t\t reviewer 2 by officer 2\n",
            "id: 19\t\t start time: 90.618\t\t reviewer 2 by officer 2\n",
            "id: 14\t\t finish time: 90.629\t\t reviewer 2 by officer 8\n",
            "id: 20\t\t start time: 90.629\t\t reviewer 1 by officer 8\n",
            "id: 15\t\t finish time: 90.631\t\t reviewer 1 by officer 0\n",
            "id: 20\t\t start time: 90.631\t\t reviewer 2 by officer 0\n",
            "id: 18\t\t finish time: 90.647\t\t reviewer 1 by officer 9\n",
            "id: 21\t\t start time: 90.647\t\t reviewer 1 by officer 9\n",
            "id: 16\t\t finish time: 90.652\t\t reviewer 2 by officer 7\n",
            "id: 21\t\t start time: 90.652\t\t reviewer 2 by officer 7\n",
            "id: 16\t\t finish time: 90.659\t\t reviewer 1 by officer 4\n",
            "id: 22\t\t start time: 90.659\t\t reviewer 1 by officer 4\n",
            "id: 18\t\t finish time: 90.677\t\t reviewer 2 by officer 3\n",
            "id: 22\t\t start time: 90.677\t\t reviewer 2 by officer 3\n",
            "id: 17\t\t finish time: 90.677\t\t reviewer 1 by officer 5\n",
            "id: 23\t\t start time: 90.677\t\t reviewer 1 by officer 5\n",
            "id: 20\t\t finish time: 90.683\t\t reviewer 1 by officer 8\n",
            "id: 23\t\t start time: 90.683\t\t reviewer 2 by officer 8\n",
            "id: 17\t\t finish time: 90.684\t\t reviewer 2 by officer 6\n",
            "id: 24\t\t start time: 90.684\t\t reviewer 1 by officer 6\n",
            "id: 20\t\t finish time: 90.694\t\t reviewer 2 by officer 0\n",
            "id: 24\t\t start time: 90.694\t\t reviewer 2 by officer 0\n",
            "id: 19\t\t finish time: 90.700\t\t reviewer 2 by officer 2\n",
            "id: 25\t\t start time: 90.700\t\t reviewer 1 by officer 2\n",
            "id: 19\t\t finish time: 90.704\t\t reviewer 1 by officer 1\n",
            "id: 25\t\t start time: 90.704\t\t reviewer 2 by officer 1\n",
            "id: 21\t\t finish time: 90.735\t\t reviewer 2 by officer 7\n",
            "id: 26\t\t start time: 90.735\t\t reviewer 1 by officer 7\n",
            "id: 21\t\t finish time: 90.739\t\t reviewer 1 by officer 9\n",
            "id: 26\t\t start time: 90.739\t\t reviewer 2 by officer 9\n",
            "id: 23\t\t finish time: 90.743\t\t reviewer 2 by officer 8\n",
            "id: 27\t\t start time: 90.743\t\t reviewer 1 by officer 8\n",
            "id: 22\t\t finish time: 90.754\t\t reviewer 1 by officer 4\n",
            "id: 22\t\t finish time: 90.758\t\t reviewer 2 by officer 3\n",
            "id: 24\t\t finish time: 90.764\t\t reviewer 1 by officer 6\n",
            "id: 23\t\t finish time: 90.767\t\t reviewer 1 by officer 5\n",
            "id: 25\t\t finish time: 90.778\t\t reviewer 2 by officer 1\n",
            "id: 25\t\t finish time: 90.782\t\t reviewer 1 by officer 2\n",
            "id: 24\t\t finish time: 90.783\t\t reviewer 2 by officer 0\n",
            "id: 26\t\t finish time: 90.805\t\t reviewer 2 by officer 9\n",
            "id: 26\t\t finish time: 90.807\t\t reviewer 1 by officer 7\n",
            "id: 27\t\t finish time: 90.811\t\t reviewer 1 by officer 8\n",
            "id: 27\t\t start time: 91.375\t\t reviewer 2 by officer 0\n",
            "id: 28\t\t start time: 91.375\t\t reviewer 1 by officer 1\n",
            "id: 28\t\t start time: 91.375\t\t reviewer 2 by officer 2\n",
            "id: 29\t\t start time: 91.375\t\t reviewer 1 by officer 3\n",
            "id: 29\t\t start time: 91.375\t\t reviewer 2 by officer 4\n",
            "id: 30\t\t start time: 91.375\t\t reviewer 1 by officer 5\n",
            "id: 30\t\t start time: 91.375\t\t reviewer 2 by officer 6\n",
            "id: 31\t\t start time: 91.375\t\t reviewer 1 by officer 7\n",
            "id: 31\t\t start time: 91.375\t\t reviewer 2 by officer 8\n",
            "id: 32\t\t start time: 91.375\t\t reviewer 1 by officer 9\n",
            "id: 30\t\t finish time: 91.432\t\t reviewer 1 by officer 5\n",
            "id: 32\t\t start time: 91.432\t\t reviewer 2 by officer 5\n",
            "id: 31\t\t finish time: 91.453\t\t reviewer 1 by officer 7\n",
            "id: 33\t\t start time: 91.453\t\t reviewer 1 by officer 7\n",
            "id: 32\t\t finish time: 91.453\t\t reviewer 1 by officer 9\n",
            "id: 33\t\t start time: 91.453\t\t reviewer 2 by officer 9\n",
            "id: 27\t\t finish time: 91.460\t\t reviewer 2 by officer 0\n",
            "id: 34\t\t start time: 91.460\t\t reviewer 1 by officer 0\n",
            "id: 29\t\t finish time: 91.460\t\t reviewer 2 by officer 4\n",
            "id: 34\t\t start time: 91.460\t\t reviewer 2 by officer 4\n",
            "id: 29\t\t finish time: 91.464\t\t reviewer 1 by officer 3\n",
            "id: 35\t\t start time: 91.464\t\t reviewer 1 by officer 3\n",
            "id: 28\t\t finish time: 91.465\t\t reviewer 2 by officer 2\n",
            "id: 35\t\t start time: 91.465\t\t reviewer 2 by officer 2\n",
            "id: 28\t\t finish time: 91.466\t\t reviewer 1 by officer 1\n",
            "id: 36\t\t start time: 91.466\t\t reviewer 1 by officer 1\n",
            "id: 31\t\t finish time: 91.468\t\t reviewer 2 by officer 8\n",
            "id: 36\t\t start time: 91.468\t\t reviewer 2 by officer 8\n",
            "id: 30\t\t finish time: 91.473\t\t reviewer 2 by officer 6\n",
            "id: 37\t\t start time: 91.473\t\t reviewer 1 by officer 6\n",
            "id: 32\t\t finish time: 91.494\t\t reviewer 2 by officer 5\n",
            "id: 37\t\t start time: 91.494\t\t reviewer 2 by officer 5\n",
            "id: 34\t\t finish time: 91.516\t\t reviewer 1 by officer 0\n",
            "id: 38\t\t start time: 91.516\t\t reviewer 1 by officer 0\n",
            "id: 33\t\t finish time: 91.539\t\t reviewer 1 by officer 7\n",
            "id: 38\t\t start time: 91.539\t\t reviewer 2 by officer 7\n",
            "id: 35\t\t finish time: 91.540\t\t reviewer 1 by officer 3\n",
            "id: 39\t\t start time: 91.540\t\t reviewer 1 by officer 3\n",
            "id: 34\t\t finish time: 91.542\t\t reviewer 2 by officer 4\n",
            "id: 39\t\t start time: 91.542\t\t reviewer 2 by officer 4\n",
            "id: 36\t\t finish time: 91.542\t\t reviewer 1 by officer 1\n",
            "id: 40\t\t start time: 91.542\t\t reviewer 1 by officer 1\n",
            "id: 33\t\t finish time: 91.549\t\t reviewer 2 by officer 9\n",
            "id: 40\t\t start time: 91.549\t\t reviewer 2 by officer 9\n",
            "id: 37\t\t finish time: 91.549\t\t reviewer 1 by officer 6\n",
            "id: 41\t\t start time: 91.549\t\t reviewer 1 by officer 6\n",
            "id: 35\t\t finish time: 91.561\t\t reviewer 2 by officer 2\n",
            "id: 41\t\t start time: 91.561\t\t reviewer 2 by officer 2\n",
            "id: 36\t\t finish time: 91.565\t\t reviewer 2 by officer 8\n",
            "id: 42\t\t start time: 91.565\t\t reviewer 1 by officer 8\n",
            "id: 37\t\t finish time: 91.577\t\t reviewer 2 by officer 5\n",
            "id: 42\t\t start time: 91.577\t\t reviewer 2 by officer 5\n",
            "id: 38\t\t finish time: 91.578\t\t reviewer 1 by officer 0\n",
            "id: 43\t\t start time: 91.578\t\t reviewer 1 by officer 0\n",
            "id: 41\t\t finish time: 91.600\t\t reviewer 1 by officer 6\n",
            "id: 43\t\t start time: 91.600\t\t reviewer 2 by officer 6\n",
            "id: 40\t\t finish time: 91.615\t\t reviewer 2 by officer 9\n",
            "id: 44\t\t start time: 91.615\t\t reviewer 1 by officer 9\n",
            "id: 38\t\t finish time: 91.628\t\t reviewer 2 by officer 7\n",
            "id: 44\t\t start time: 91.628\t\t reviewer 2 by officer 7\n",
            "id: 40\t\t finish time: 91.630\t\t reviewer 1 by officer 1\n",
            "id: 45\t\t start time: 91.630\t\t reviewer 1 by officer 1\n",
            "id: 41\t\t finish time: 91.632\t\t reviewer 2 by officer 2\n",
            "id: 45\t\t start time: 91.632\t\t reviewer 2 by officer 2\n",
            "id: 43\t\t finish time: 91.635\t\t reviewer 1 by officer 0\n",
            "id: 46\t\t start time: 91.635\t\t reviewer 1 by officer 0\n",
            "id: 39\t\t finish time: 91.635\t\t reviewer 1 by officer 3\n",
            "id: 46\t\t start time: 91.635\t\t reviewer 2 by officer 3\n",
            "id: 39\t\t finish time: 91.638\t\t reviewer 2 by officer 4\n",
            "id: 47\t\t start time: 91.638\t\t reviewer 1 by officer 4\n",
            "id: 42\t\t finish time: 91.650\t\t reviewer 1 by officer 8\n",
            "id: 47\t\t start time: 91.650\t\t reviewer 2 by officer 8\n",
            "id: 42\t\t finish time: 91.673\t\t reviewer 2 by officer 5\n",
            "id: 48\t\t start time: 91.673\t\t reviewer 1 by officer 5\n",
            "id: 44\t\t finish time: 91.679\t\t reviewer 1 by officer 9\n",
            "id: 48\t\t start time: 91.679\t\t reviewer 2 by officer 9\n",
            "id: 45\t\t finish time: 91.681\t\t reviewer 1 by officer 1\n",
            "id: 49\t\t start time: 91.681\t\t reviewer 1 by officer 1\n",
            "id: 43\t\t finish time: 91.684\t\t reviewer 2 by officer 6\n",
            "id: 49\t\t start time: 91.684\t\t reviewer 2 by officer 6\n",
            "id: 44\t\t finish time: 91.686\t\t reviewer 2 by officer 7\n",
            "id: 46\t\t finish time: 91.696\t\t reviewer 1 by officer 0\n",
            "id: 47\t\t finish time: 91.701\t\t reviewer 2 by officer 8\n",
            "id: 45\t\t finish time: 91.703\t\t reviewer 2 by officer 2\n",
            "id: 46\t\t finish time: 91.717\t\t reviewer 2 by officer 3\n",
            "id: 47\t\t finish time: 91.718\t\t reviewer 1 by officer 4\n",
            "id: 49\t\t finish time: 91.732\t\t reviewer 1 by officer 1\n",
            "id: 49\t\t finish time: 91.742\t\t reviewer 2 by officer 6\n",
            "id: 48\t\t finish time: 91.743\t\t reviewer 1 by officer 5\n",
            "id: 48\t\t finish time: 91.761\t\t reviewer 2 by officer 9\n"
          ],
          "name": "stdout"
        }
      ]
    },
    {
      "cell_type": "code",
      "metadata": {
        "id": "WVXQeR3wfWSx",
        "colab": {
          "base_uri": "https://localhost:8080/"
        },
        "outputId": "1846e913-b083-4d21-e19a-760d000a3780"
      },
      "source": [
        "result = []\n",
        "\n",
        "for k, m in data.items():\n",
        "  complete_time = max(m['review 1'], m['review 2'])\n",
        "  total = complete_time - m['submit']\n",
        "  result.append(total)\n",
        "  if k < 5 or k > len(data) - 5:\n",
        "    print('%.f -- submit time: %.2f, complete time: %.2f, total time: %.2f' % (k, m['submit'], complete_time, total))\n",
        "\n",
        "print('\\n\\n')\n",
        "print('the average completion time is %.5f' % np.mean(result))\n",
        "print('the maximum completion time is %.5f for submission id: %.f' % (np.max(result), np.argmax(result)))\n",
        "print('the minimum completion time is %.5f for submission id: %.f' % (np.min(result), np.argmin(result)))"
      ],
      "execution_count": 6,
      "outputs": [
        {
          "output_type": "stream",
          "text": [
            "0 -- submit time: 0.02, complete time: 90.46, total time: 90.44\n",
            "1 -- submit time: 0.20, complete time: 90.44, total time: 90.24\n",
            "2 -- submit time: 0.23, complete time: 90.45, total time: 90.21\n",
            "3 -- submit time: 0.38, complete time: 90.46, total time: 90.08\n",
            "4 -- submit time: 0.49, complete time: 90.47, total time: 89.98\n",
            "980 -- submit time: 99.62, complete time: 125.74, total time: 26.12\n",
            "981 -- submit time: 99.65, complete time: 125.74, total time: 26.10\n",
            "982 -- submit time: 99.73, complete time: 125.78, total time: 26.05\n",
            "983 -- submit time: 100.13, complete time: 125.77, total time: 25.64\n",
            "\n",
            "\n",
            "\n",
            "the average completion time is 58.50323\n",
            "the maximum completion time is 90.44419 for submission id: 0\n",
            "the minimum completion time is 25.63920 for submission id: 983\n"
          ],
          "name": "stdout"
        }
      ]
    },
    {
      "cell_type": "code",
      "metadata": {
        "id": "uGUsQx3l74sQ"
      },
      "source": [
        ""
      ],
      "execution_count": null,
      "outputs": []
    },
    {
      "cell_type": "markdown",
      "metadata": {
        "id": "OWnL8nC1FvFi"
      },
      "source": [
        "##Q2. [5 Points]\n",
        "\n",
        "* Comment out the print functions. Simulate the system 3 times and print out the system output each time. Again, the system output should be the average time between an application's submission and its review completion.\n"
      ]
    },
    {
      "cell_type": "code",
      "metadata": {
        "id": "RLWYgGAXFuc_",
        "colab": {
          "base_uri": "https://localhost:8080/"
        },
        "outputId": "3fea483f-0f1a-4e1a-fc1f-51d294c69cd7"
      },
      "source": [
        "def simulation(N=3):\n",
        "  result = []\n",
        "  dataList = [system() for _ in range(N)]\n",
        "\n",
        "  for data in dataList:\n",
        "    tmp = 0\n",
        "    for k, m in data.items():\n",
        "      complete_time = max(m['review 1'], m['review 2'])\n",
        "      total = complete_time - m['submit']\n",
        "      tmp += total\n",
        "    # adding one to k is because our id starts from 0\n",
        "    result.append(tmp / (k + 1))\n",
        "\n",
        "  return result\n",
        "\n",
        "simulation()"
      ],
      "execution_count": 7,
      "outputs": [
        {
          "output_type": "execute_result",
          "data": {
            "text/plain": [
              "[57.61760468793722, 56.778923290803384, 59.32306270332542]"
            ]
          },
          "metadata": {
            "tags": []
          },
          "execution_count": 7
        }
      ]
    },
    {
      "cell_type": "code",
      "metadata": {
        "id": "T4OWBnt-7t2V"
      },
      "source": [
        ""
      ],
      "execution_count": null,
      "outputs": []
    },
    {
      "cell_type": "code",
      "metadata": {
        "id": "FO5mAOna7t46"
      },
      "source": [
        ""
      ],
      "execution_count": null,
      "outputs": []
    },
    {
      "cell_type": "markdown",
      "metadata": {
        "id": "XvtUH--rlbrp"
      },
      "source": [
        "# Exercise 2 [50 Points]\n",
        "\n",
        "##Setting\n",
        "A company has 10 machines. At the beginning, all 10 machines all working properly. For each machine, after $\\Delta t$ hours of operating, it will break down. This inter-breakdown time $\\Delta t$ follows $ Exp(\\lambda=0.1)$.\n",
        "\n",
        "When a machine breaks down, this machine will immediately be taken to the maintenance room. The maintenance room can only fix one machine at a time. The machines will be fixed following first come first serve. The time it takes to fix the machine follows $Exp(\\lambda=1)$.\n",
        "\n",
        "After the machine is fixed, the machine will be sent back to the operation room immediately to perform tasks.  After $\\Delta t$ hours of operating, the machine will break down again. Again, $\\Delta t \\sim Exp(\\lambda=0.1)$.\n",
        "\n",
        "**<font color=\"red\">In this question, you are NOT allowed to use any built-in sampling function except np.random.rand() </font>**\n"
      ]
    },
    {
      "cell_type": "markdown",
      "metadata": {
        "id": "nWfcuRormm86"
      },
      "source": [
        "##Q1. [20 points]\n",
        "\n",
        "* Simulate the system using `simpy`. The simulation should stop when the number of operating machines goes below 7. For the system output, return the length of time from $t=0$ to the end of simulation. Make sure to comment on your code so that it is easy for the graders to understand your logic.\n",
        "* Run the system 1000 times. Plot the distribution of the system output. \n",
        "* Report the lower bound, upper bound, and the length of the 95% confidence interval for the expected value of the system output.\n"
      ]
    },
    {
      "cell_type": "code",
      "metadata": {
        "id": "UIRaui_Ko25R"
      },
      "source": [
        "def break_arrival(env, resource, id, breakList, debug=False):\n",
        "  break_lmbda = 0.1\n",
        "  while True:\n",
        "    # the breakage arrival for each machine\n",
        "    inter_arrival = -1/break_lmbda * np.log(np.random.rand())\n",
        "    yield env.timeout(inter_arrival)\n",
        "    if debug:\n",
        "      breakList.append(id)\n",
        "      print('the machine %.f is broken at \\t\\t t=%.2f' % (id, env.now))\n",
        "    \n",
        "    # sending the broken machine to the maintenance room\n",
        "    # using `yield` to avoid the next arrival before repairment\n",
        "    yield env.process(repair(env, resource, id, breakList, debug=debug))\n",
        "  \n",
        "\n",
        "def repair(env, resource, id, breakList, debug=False):\n",
        "  # calculate the estimated fixing time for the broken machine\n",
        "  lmbda_service = 1\n",
        "  inter_arrival = -1/lmbda_service*np.log(np.random.rand())\n",
        "\n",
        "  # creating repairing request for the broken machine\n",
        "  rqt = resource.request()\n",
        "  # this check the number of broken machine should below or equal to 3\n",
        "  # otherwise, the number of operating machines goes below 7\n",
        "  if debug:\n",
        "    print('-'*50, '\\t the number of broken machine is %.f \\t\\t ' % (len(resource.users) + len(resource.queue)), breakList)\n",
        "  if len(resource.users) + len(resource.queue) > 3:\n",
        "    raise simpy.Interrupt(\"the number of operating machines goes below 7!\")\n",
        "\n",
        "  # repairing the breakage\n",
        "  yield rqt\n",
        "  yield env.timeout(inter_arrival)\n",
        "  # release the repairment request\n",
        "  resource.release(rqt)\n",
        "  if debug:\n",
        "    print('the machine %.f is repaired at \\t\\t t=%.2f' % (id, env.now))\n",
        "    breakList.pop(0)\n",
        "\n",
        "\n",
        "def system(debug=False):\n",
        "  env = simpy.Environment()\n",
        "  breakList = []\n",
        "  # the maintenance room has only one capacity\n",
        "  resource = simpy.Resource(env, capacity=1)\n",
        "  # breakage process for 10 machines\n",
        "  env.process(break_arrival(env, resource, id=1, breakList=breakList, debug=debug))\n",
        "  env.process(break_arrival(env, resource, id=2, breakList=breakList, debug=debug))\n",
        "  env.process(break_arrival(env, resource, id=3, breakList=breakList, debug=debug))\n",
        "  env.process(break_arrival(env, resource, id=4, breakList=breakList, debug=debug))\n",
        "  env.process(break_arrival(env, resource, id=5, breakList=breakList, debug=debug))\n",
        "  env.process(break_arrival(env, resource, id=6, breakList=breakList, debug=debug))\n",
        "  env.process(break_arrival(env, resource, id=7, breakList=breakList, debug=debug))\n",
        "  env.process(break_arrival(env, resource, id=8, breakList=breakList, debug=debug))\n",
        "  env.process(break_arrival(env, resource, id=9, breakList=breakList, debug=debug))\n",
        "  env.process(break_arrival(env, resource, id=10, breakList=breakList, debug=debug))\n",
        "  try:\n",
        "    env.run()\n",
        "  # stop the system when the number of operating machines goes below 7\n",
        "  except simpy.Interrupt as e:\n",
        "    if debug:\n",
        "      print(str(e.cause))\n",
        "    return env.now"
      ],
      "execution_count": 8,
      "outputs": []
    },
    {
      "cell_type": "code",
      "metadata": {
        "colab": {
          "base_uri": "https://localhost:8080/"
        },
        "id": "AX3usV3TVMN1",
        "outputId": "cfc431f1-5cd8-43b4-9b25-e688f3b22aed"
      },
      "source": [
        "system(debug=True)"
      ],
      "execution_count": 9,
      "outputs": [
        {
          "output_type": "stream",
          "text": [
            "the machine 8 is broken at \t\t t=2.08\n",
            "-------------------------------------------------- \t the number of broken machine is 1 \t\t  [8]\n",
            "the machine 8 is repaired at \t\t t=2.20\n",
            "the machine 2 is broken at \t\t t=5.07\n",
            "-------------------------------------------------- \t the number of broken machine is 1 \t\t  [2]\n",
            "the machine 2 is repaired at \t\t t=5.43\n",
            "the machine 6 is broken at \t\t t=5.77\n",
            "-------------------------------------------------- \t the number of broken machine is 1 \t\t  [6]\n",
            "the machine 6 is repaired at \t\t t=6.25\n",
            "the machine 2 is broken at \t\t t=6.84\n",
            "-------------------------------------------------- \t the number of broken machine is 1 \t\t  [2]\n",
            "the machine 2 is repaired at \t\t t=6.93\n",
            "the machine 5 is broken at \t\t t=7.54\n",
            "-------------------------------------------------- \t the number of broken machine is 1 \t\t  [5]\n",
            "the machine 8 is broken at \t\t t=7.58\n",
            "-------------------------------------------------- \t the number of broken machine is 2 \t\t  [5, 8]\n",
            "the machine 5 is repaired at \t\t t=8.21\n",
            "the machine 8 is repaired at \t\t t=8.48\n",
            "the machine 7 is broken at \t\t t=9.48\n",
            "-------------------------------------------------- \t the number of broken machine is 1 \t\t  [7]\n",
            "the machine 7 is repaired at \t\t t=9.74\n",
            "the machine 7 is broken at \t\t t=10.70\n",
            "-------------------------------------------------- \t the number of broken machine is 1 \t\t  [7]\n",
            "the machine 5 is broken at \t\t t=10.75\n",
            "-------------------------------------------------- \t the number of broken machine is 2 \t\t  [7, 5]\n",
            "the machine 8 is broken at \t\t t=11.13\n",
            "-------------------------------------------------- \t the number of broken machine is 3 \t\t  [7, 5, 8]\n",
            "the machine 7 is repaired at \t\t t=11.20\n",
            "the machine 9 is broken at \t\t t=11.34\n",
            "-------------------------------------------------- \t the number of broken machine is 3 \t\t  [5, 8, 9]\n",
            "the machine 10 is broken at \t\t t=11.49\n",
            "-------------------------------------------------- \t the number of broken machine is 4 \t\t  [5, 8, 9, 10]\n",
            "the number of operating machines goes below 7!\n"
          ],
          "name": "stdout"
        },
        {
          "output_type": "execute_result",
          "data": {
            "text/plain": [
              "11.493450140224803"
            ]
          },
          "metadata": {
            "tags": []
          },
          "execution_count": 9
        }
      ]
    },
    {
      "cell_type": "code",
      "metadata": {
        "colab": {
          "base_uri": "https://localhost:8080/",
          "height": 316
        },
        "id": "blxbCWMgnwS8",
        "outputId": "c7906418-f71f-4a4c-a4c5-571094fe5268"
      },
      "source": [
        "N = 1000\n",
        "samples = np.array([system() for _ in range(N)])\n",
        "plt.hist(samples, bins=20, density=True)\n",
        "\n",
        "mean = np.mean(samples)\n",
        "std = np.std(samples,ddof=1)\n",
        "lower = mean - spst.norm.ppf(0.975) * std/N**0.5\n",
        "upper = mean + spst.norm.ppf(0.975) * std/N**0.5\n",
        "print(\"95% confidence interval\", lower, upper)\n",
        "print(\"mean\", mean)\n",
        "print(\"width of 95% confidence interval\", upper-lower)"
      ],
      "execution_count": 10,
      "outputs": [
        {
          "output_type": "stream",
          "text": [
            "95% confidence interval 13.854851685683872 15.511188056852525\n",
            "mean 14.683019871268199\n",
            "width of 95% confidence interval 1.6563363711686527\n"
          ],
          "name": "stdout"
        },
        {
          "output_type": "display_data",
          "data": {
            "image/png": "[encoded data removed]",
            "text/plain": [
              "<Figure size 432x288 with 1 Axes>"
            ]
          },
          "metadata": {
            "tags": [],
            "needs_background": "light"
          }
        }
      ]
    },
    {
      "cell_type": "markdown",
      "metadata": {
        "id": "RJKa4zhIRjUU"
      },
      "source": [
        "##Q2. [10 Points]\n",
        "\n",
        "Apply antithetic method to the fixing time and the inter-breakdown time. \n",
        "\n",
        "* Report the lower bound, upper bound, and the width of the 95% confidence interval for the expected value of the system output.\n"
      ]
    },
    {
      "cell_type": "code",
      "metadata": {
        "id": "Yz55gXbBVvEQ"
      },
      "source": [
        "def break_arrival(env, resource, id, break_random_state, repair_random_state, simu_type, breakList, debug=False):\n",
        "  break_lmbda = 0.1\n",
        "  while True:\n",
        "    # making antithetic samples for different simu_type for negative correlation\n",
        "    u = break_random_state.rand()\n",
        "    if simu_type:\n",
        "      u = 1 - u\n",
        "\n",
        "    inter_arrival = -1/break_lmbda * np.log(u)\n",
        "    yield env.timeout(inter_arrival)\n",
        "    if debug:\n",
        "      breakList.append(id)\n",
        "      print('the machine %.f is broken at \\t\\t t=%.2f' % (id, env.now))\n",
        "    yield env.process(repair(env, resource, id, repair_random_state, simu_type, breakList, debug=debug))\n",
        "  \n",
        "\n",
        "def repair(env, resource, id, repair_random_state, simu_type, breakList, debug=False):\n",
        "  lmbda_service = 1\n",
        "  # making antithetic samples for different simu_type for negative correlation\n",
        "  u = repair_random_state.rand()\n",
        "  if simu_type:\n",
        "    u = 1 - u\n",
        "  inter_arrival = -1/lmbda_service*np.log(u)\n",
        "\n",
        "  rqt = resource.request()\n",
        "  # this check the number of broken machine should below or equal to 3\n",
        "  # otherwise, the number of operating machines goes below 7\n",
        "  if debug:\n",
        "    print('-'*50, '\\t the number of broken machine is %.f \\t\\t ' % (len(resource.users) + len(resource.queue)), breakList)\n",
        "  if len(resource.users) + len(resource.queue) > 3:\n",
        "    raise simpy.Interrupt(\"the number of operating machines goes below 7!\")\n",
        "\n",
        "  yield rqt\n",
        "  yield env.timeout(inter_arrival)\n",
        "  resource.release(rqt)\n",
        "  if debug:\n",
        "    print('the machine %.f is repaired at \\t\\t t=%.2f' % (id, env.now))\n",
        "    breakList.pop(0)\n",
        "\n",
        "\n",
        "def system(break_random_state, repair_random_state, simu_type, debug=False):\n",
        "  env = simpy.Environment()\n",
        "  breakList = []\n",
        "  resource = simpy.Resource(env, capacity=1)\n",
        "  env.process(break_arrival(env, resource, 1, break_random_state, repair_random_state, simu_type, breakList, debug))\n",
        "  env.process(break_arrival(env, resource, 2, break_random_state, repair_random_state, simu_type, breakList, debug))\n",
        "  env.process(break_arrival(env, resource, 3, break_random_state, repair_random_state, simu_type, breakList, debug))\n",
        "  env.process(break_arrival(env, resource, 4, break_random_state, repair_random_state, simu_type, breakList, debug))\n",
        "  env.process(break_arrival(env, resource, 5, break_random_state, repair_random_state, simu_type, breakList, debug))\n",
        "  env.process(break_arrival(env, resource, 6, break_random_state, repair_random_state, simu_type, breakList, debug))\n",
        "  env.process(break_arrival(env, resource, 7, break_random_state, repair_random_state, simu_type, breakList, debug))\n",
        "  env.process(break_arrival(env, resource, 8, break_random_state, repair_random_state, simu_type, breakList, debug))\n",
        "  env.process(break_arrival(env, resource, 9, break_random_state, repair_random_state, simu_type, breakList, debug))\n",
        "  env.process(break_arrival(env, resource, 10, break_random_state, repair_random_state, simu_type, breakList, debug))\n",
        "  try:\n",
        "    env.run()\n",
        "  except simpy.Interrupt:\n",
        "    return env.now\n",
        "\n",
        "\n",
        "def simulation(debug=False):\n",
        "  repair_org = np.random.RandomState()\n",
        "  repair_anti = copy.copy(repair_org)\n",
        "\n",
        "  break_org = np.random.RandomState()\n",
        "  break_anti = copy.copy(break_org)\n",
        "    \n",
        "  output_1 = system(break_org, repair_org, 0, debug)\n",
        "  if debug:\n",
        "    print('*'*50)\n",
        "    print('-'*17, 'antithetic part', '-'*16)\n",
        "    print('*'*50)\n",
        "  output_2 = system(break_anti, repair_anti, 1, debug)\n",
        "  return (output_1 + output_2)/2"
      ],
      "execution_count": 11,
      "outputs": []
    },
    {
      "cell_type": "code",
      "metadata": {
        "colab": {
          "base_uri": "https://localhost:8080/"
        },
        "id": "jFceD1H8Wx0g",
        "outputId": "e6d49240-7ff1-40b0-82fe-dd8bdd14b5ae"
      },
      "source": [
        "simulation(debug=True)"
      ],
      "execution_count": 12,
      "outputs": [
        {
          "output_type": "stream",
          "text": [
            "the machine 4 is broken at \t\t t=0.92\n",
            "-------------------------------------------------- \t the number of broken machine is 1 \t\t  [4]\n",
            "the machine 7 is broken at \t\t t=1.86\n",
            "-------------------------------------------------- \t the number of broken machine is 2 \t\t  [4, 7]\n",
            "the machine 4 is repaired at \t\t t=2.72\n",
            "the machine 4 is broken at \t\t t=3.14\n",
            "-------------------------------------------------- \t the number of broken machine is 2 \t\t  [7, 4]\n",
            "the machine 5 is broken at \t\t t=3.74\n",
            "-------------------------------------------------- \t the number of broken machine is 3 \t\t  [7, 4, 5]\n",
            "the machine 7 is repaired at \t\t t=3.96\n",
            "the machine 4 is repaired at \t\t t=4.53\n",
            "the machine 5 is repaired at \t\t t=4.85\n",
            "the machine 5 is broken at \t\t t=5.13\n",
            "-------------------------------------------------- \t the number of broken machine is 1 \t\t  [5]\n",
            "the machine 8 is broken at \t\t t=5.16\n",
            "-------------------------------------------------- \t the number of broken machine is 2 \t\t  [5, 8]\n",
            "the machine 5 is repaired at \t\t t=5.44\n",
            "the machine 8 is repaired at \t\t t=5.76\n",
            "the machine 2 is broken at \t\t t=7.55\n",
            "-------------------------------------------------- \t the number of broken machine is 1 \t\t  [2]\n",
            "the machine 2 is repaired at \t\t t=7.56\n",
            "the machine 9 is broken at \t\t t=9.41\n",
            "-------------------------------------------------- \t the number of broken machine is 1 \t\t  [9]\n",
            "the machine 9 is repaired at \t\t t=9.82\n",
            "the machine 10 is broken at \t\t t=10.60\n",
            "-------------------------------------------------- \t the number of broken machine is 1 \t\t  [10]\n",
            "the machine 10 is repaired at \t\t t=10.62\n",
            "the machine 10 is broken at \t\t t=11.54\n",
            "-------------------------------------------------- \t the number of broken machine is 1 \t\t  [10]\n",
            "the machine 10 is repaired at \t\t t=12.33\n",
            "the machine 8 is broken at \t\t t=12.81\n",
            "-------------------------------------------------- \t the number of broken machine is 1 \t\t  [8]\n",
            "the machine 8 is repaired at \t\t t=12.82\n",
            "the machine 4 is broken at \t\t t=12.91\n",
            "-------------------------------------------------- \t the number of broken machine is 1 \t\t  [4]\n",
            "the machine 5 is broken at \t\t t=13.17\n",
            "-------------------------------------------------- \t the number of broken machine is 2 \t\t  [4, 5]\n",
            "the machine 4 is repaired at \t\t t=13.70\n",
            "the machine 5 is repaired at \t\t t=13.75\n",
            "the machine 3 is broken at \t\t t=14.53\n",
            "-------------------------------------------------- \t the number of broken machine is 1 \t\t  [3]\n",
            "the machine 3 is repaired at \t\t t=14.60\n",
            "the machine 7 is broken at \t\t t=16.18\n",
            "-------------------------------------------------- \t the number of broken machine is 1 \t\t  [7]\n",
            "the machine 8 is broken at \t\t t=16.46\n",
            "-------------------------------------------------- \t the number of broken machine is 2 \t\t  [7, 8]\n",
            "the machine 10 is broken at \t\t t=16.55\n",
            "-------------------------------------------------- \t the number of broken machine is 3 \t\t  [7, 8, 10]\n",
            "the machine 7 is repaired at \t\t t=17.19\n",
            "the machine 5 is broken at \t\t t=17.32\n",
            "-------------------------------------------------- \t the number of broken machine is 3 \t\t  [8, 10, 5]\n",
            "the machine 6 is broken at \t\t t=18.48\n",
            "-------------------------------------------------- \t the number of broken machine is 4 \t\t  [8, 10, 5, 6]\n",
            "**************************************************\n",
            "----------------- antithetic part ----------------\n",
            "**************************************************\n",
            "the machine 1 is broken at \t\t t=0.20\n",
            "-------------------------------------------------- \t the number of broken machine is 1 \t\t  [1]\n",
            "the machine 1 is repaired at \t\t t=0.38\n",
            "the machine 6 is broken at \t\t t=1.71\n",
            "-------------------------------------------------- \t the number of broken machine is 1 \t\t  [6]\n",
            "the machine 6 is repaired at \t\t t=2.06\n",
            "the machine 3 is broken at \t\t t=2.66\n",
            "-------------------------------------------------- \t the number of broken machine is 1 \t\t  [3]\n",
            "the machine 3 is repaired at \t\t t=3.49\n",
            "the machine 10 is broken at \t\t t=4.25\n",
            "-------------------------------------------------- \t the number of broken machine is 1 \t\t  [10]\n",
            "the machine 9 is broken at \t\t t=4.94\n",
            "-------------------------------------------------- \t the number of broken machine is 2 \t\t  [10, 9]\n",
            "the machine 6 is broken at \t\t t=5.55\n",
            "-------------------------------------------------- \t the number of broken machine is 3 \t\t  [10, 9, 6]\n",
            "the machine 10 is repaired at \t\t t=5.55\n",
            "the machine 2 is broken at \t\t t=6.35\n",
            "-------------------------------------------------- \t the number of broken machine is 3 \t\t  [9, 6, 2]\n",
            "the machine 9 is repaired at \t\t t=6.86\n",
            "the machine 6 is repaired at \t\t t=8.15\n",
            "the machine 8 is broken at \t\t t=9.09\n",
            "-------------------------------------------------- \t the number of broken machine is 2 \t\t  [2, 8]\n",
            "the machine 3 is broken at \t\t t=9.17\n",
            "-------------------------------------------------- \t the number of broken machine is 3 \t\t  [2, 8, 3]\n",
            "the machine 5 is broken at \t\t t=11.64\n",
            "-------------------------------------------------- \t the number of broken machine is 4 \t\t  [2, 8, 3, 5]\n"
          ],
          "name": "stdout"
        },
        {
          "output_type": "execute_result",
          "data": {
            "text/plain": [
              "15.059342396917916"
            ]
          },
          "metadata": {
            "tags": []
          },
          "execution_count": 12
        }
      ]
    },
    {
      "cell_type": "code",
      "metadata": {
        "colab": {
          "base_uri": "https://localhost:8080/",
          "height": 316
        },
        "id": "NwRrOEX9X9XU",
        "outputId": "0a7a28fb-25e7-45fa-c3f5-4dd7623a7611"
      },
      "source": [
        "N = 1000\n",
        "samples = np.array([simulation() for _ in range(N)])\n",
        "plt.hist(samples, bins=20, density=True)\n",
        "\n",
        "mean = np.mean(samples)\n",
        "std = np.std(samples,ddof=1)\n",
        "lower = mean - spst.norm.ppf(0.975) * std/N**0.5\n",
        "upper = mean + spst.norm.ppf(0.975) * std/N**0.5\n",
        "print(\"95% confidence interval\", lower, upper)\n",
        "print(\"mean\", mean)\n",
        "print(\"width of 95% confidence interval\", upper-lower)"
      ],
      "execution_count": 13,
      "outputs": [
        {
          "output_type": "stream",
          "text": [
            "95% confidence interval 14.160099357728189 15.140099032948608\n",
            "mean 14.650099195338399\n",
            "width of 95% confidence interval 0.9799996752204194\n"
          ],
          "name": "stdout"
        },
        {
          "output_type": "display_data",
          "data": {
            "image/png": "[encoded data removed]",
            "text/plain": [
              "<Figure size 432x288 with 1 Axes>"
            ]
          },
          "metadata": {
            "tags": [],
            "needs_background": "light"
          }
        }
      ]
    },
    {
      "cell_type": "markdown",
      "metadata": {
        "id": "en-dXCuN_G-0"
      },
      "source": [
        "##Q3. [10 Points]\n",
        "\n",
        "Apply control variate method to the fixing time of the first breakdown machine.\n",
        "\n",
        "* Report the lower bound, upper bound, and the width of the 95% confidence interval for the expected value of the system output.\n",
        "\n"
      ]
    },
    {
      "cell_type": "code",
      "metadata": {
        "id": "u9tW9DUtGUvD"
      },
      "source": [
        "def break_arrival(env, resource, id, fixing_timeList, breakList, debug=False):\n",
        "  break_lmbda = 0.1\n",
        "  while True:\n",
        "    inter_arrival = -1/break_lmbda * np.log(np.random.rand())\n",
        "    yield env.timeout(inter_arrival)\n",
        "    if debug:\n",
        "      breakList.append(id)\n",
        "      print('the machine %.f is broken at \\t\\t t=%.2f' % (id, env.now))\n",
        "    yield env.process(repair(env, resource, id, fixing_timeList, breakList, debug=debug))\n",
        "  \n",
        "\n",
        "def repair(env, resource, id, fixing_timeList, breakList, debug=False):\n",
        "  lmbda_service = 1\n",
        "  inter_arrival = -1/lmbda_service*np.log(np.random.rand())\n",
        "\n",
        "  rqt = resource.request()\n",
        "  # this check the number of broken machine should below or equal to 3\n",
        "  # otherwise, the number of operating machines goes below 7\n",
        "  if debug:\n",
        "    print('-'*50, '\\t the number of broken machine is %.f \\t\\t ' % (len(resource.users) + len(resource.queue)), breakList)\n",
        "  if len(resource.users) + len(resource.queue) > 3:\n",
        "    raise simpy.Interrupt(\"the number of operating machines goes below 7!\")\n",
        "\n",
        "  yield rqt\n",
        "  yield env.timeout(inter_arrival)\n",
        "  fixing_timeList.append(env.now)\n",
        "  resource.release(rqt)\n",
        "  if debug:\n",
        "    print('the machine %.f is repaired at \\t\\t t=%.2f' % (id, env.now))\n",
        "    breakList.pop(0)\n",
        "\n",
        "\n",
        "def system(debug=False):\n",
        "  env = simpy.Environment()\n",
        "  breakList = []\n",
        "  resource = simpy.Resource(env, capacity=1)\n",
        "  # creating z variable (the first fixing time)\n",
        "  first_fixing_time = -1 * np.log(np.random.rand())\n",
        "  fixing_timeList = []\n",
        "\n",
        "  env.process(break_arrival(env, resource, 1, fixing_timeList, breakList=breakList, debug=debug))\n",
        "  env.process(break_arrival(env, resource, 2, fixing_timeList, breakList=breakList, debug=debug))\n",
        "  env.process(break_arrival(env, resource, 3, fixing_timeList, breakList=breakList, debug=debug))\n",
        "  env.process(break_arrival(env, resource, 4, fixing_timeList, breakList=breakList, debug=debug))\n",
        "  env.process(break_arrival(env, resource, 5, fixing_timeList, breakList=breakList, debug=debug))\n",
        "  env.process(break_arrival(env, resource, 6, fixing_timeList, breakList=breakList, debug=debug))\n",
        "  env.process(break_arrival(env, resource, 7, fixing_timeList, breakList=breakList, debug=debug))\n",
        "  env.process(break_arrival(env, resource, 8, fixing_timeList, breakList=breakList, debug=debug))\n",
        "  env.process(break_arrival(env, resource, 9, fixing_timeList, breakList=breakList, debug=debug))\n",
        "  env.process(break_arrival(env, resource, 10, fixing_timeList, breakList=breakList, debug=debug))\n",
        "  try:\n",
        "    env.run()\n",
        "  except simpy.Interrupt:\n",
        "    if len(fixing_timeList) == 0:\n",
        "      fixing_timeList = [env.now]\n",
        "\n",
        "    rest_of_time = env.now - fixing_timeList[0]\n",
        "    return env.now, first_fixing_time, fixing_timeList[0], rest_of_time"
      ],
      "execution_count": 14,
      "outputs": []
    },
    {
      "cell_type": "code",
      "metadata": {
        "colab": {
          "base_uri": "https://localhost:8080/"
        },
        "id": "VfF7oCfOiaSN",
        "outputId": "da3c9298-14d9-4706-9352-83d4e155067e"
      },
      "source": [
        "system(debug=True)"
      ],
      "execution_count": 15,
      "outputs": [
        {
          "output_type": "stream",
          "text": [
            "the machine 10 is broken at \t\t t=1.83\n",
            "-------------------------------------------------- \t the number of broken machine is 1 \t\t  [10]\n",
            "the machine 4 is broken at \t\t t=3.52\n",
            "-------------------------------------------------- \t the number of broken machine is 2 \t\t  [10, 4]\n",
            "the machine 10 is repaired at \t\t t=4.97\n",
            "the machine 4 is repaired at \t\t t=5.78\n",
            "the machine 8 is broken at \t\t t=8.21\n",
            "-------------------------------------------------- \t the number of broken machine is 1 \t\t  [8]\n",
            "the machine 4 is broken at \t\t t=9.14\n",
            "-------------------------------------------------- \t the number of broken machine is 2 \t\t  [8, 4]\n",
            "the machine 7 is broken at \t\t t=9.17\n",
            "-------------------------------------------------- \t the number of broken machine is 3 \t\t  [8, 4, 7]\n",
            "the machine 8 is repaired at \t\t t=9.95\n",
            "the machine 4 is repaired at \t\t t=10.21\n",
            "the machine 10 is broken at \t\t t=10.39\n",
            "-------------------------------------------------- \t the number of broken machine is 2 \t\t  [7, 10]\n",
            "the machine 7 is repaired at \t\t t=10.43\n",
            "the machine 10 is repaired at \t\t t=11.85\n",
            "the machine 6 is broken at \t\t t=12.17\n",
            "-------------------------------------------------- \t the number of broken machine is 1 \t\t  [6]\n",
            "the machine 2 is broken at \t\t t=12.98\n",
            "-------------------------------------------------- \t the number of broken machine is 2 \t\t  [6, 2]\n",
            "the machine 6 is repaired at \t\t t=13.29\n",
            "the machine 7 is broken at \t\t t=13.37\n",
            "-------------------------------------------------- \t the number of broken machine is 2 \t\t  [2, 7]\n",
            "the machine 1 is broken at \t\t t=13.46\n",
            "-------------------------------------------------- \t the number of broken machine is 3 \t\t  [2, 7, 1]\n",
            "the machine 2 is repaired at \t\t t=15.53\n",
            "the machine 9 is broken at \t\t t=17.24\n",
            "-------------------------------------------------- \t the number of broken machine is 3 \t\t  [7, 1, 9]\n",
            "the machine 7 is repaired at \t\t t=17.30\n",
            "the machine 5 is broken at \t\t t=17.83\n",
            "-------------------------------------------------- \t the number of broken machine is 3 \t\t  [1, 9, 5]\n",
            "the machine 4 is broken at \t\t t=18.29\n",
            "-------------------------------------------------- \t the number of broken machine is 4 \t\t  [1, 9, 5, 4]\n"
          ],
          "name": "stdout"
        },
        {
          "output_type": "execute_result",
          "data": {
            "text/plain": [
              "(18.29404408703035, 1.213822317192933, 4.973394380927713, 13.320649706102637)"
            ]
          },
          "metadata": {
            "tags": []
          },
          "execution_count": 15
        }
      ]
    },
    {
      "cell_type": "code",
      "metadata": {
        "colab": {
          "base_uri": "https://localhost:8080/"
        },
        "id": "FOV56IQwkMti",
        "outputId": "f3f9ad97-3639-47e6-d4c5-a55a9382a4ac"
      },
      "source": [
        "N = 1000\n",
        "samples = np.array([system() for _ in range(N)])\n",
        "output = samples[:, 0]\n",
        "z = samples[:, 1]\n",
        "x = samples[:, 2]\n",
        "r = samples[:, 3]\n",
        "c = -np.cov(x, z, ddof=1)[0, 1] / np.var(z, ddof=1)\n",
        "y = x + c * (z - 1) + r\n",
        "\n",
        "print(c, np.cov(x, z, ddof=1)[0, 1])"
      ],
      "execution_count": 27,
      "outputs": [
        {
          "output_type": "stream",
          "text": [
            "-0.06563040316296447 0.0629294316857719\n"
          ],
          "name": "stdout"
        }
      ]
    },
    {
      "cell_type": "code",
      "metadata": {
        "colab": {
          "base_uri": "https://localhost:8080/",
          "height": 316
        },
        "id": "M5J1XUiim9ob",
        "outputId": "21aaf391-1263-4927-aeaa-697c4883b1b1"
      },
      "source": [
        "plt.hist(y, bins=20, density=True)\n",
        "\n",
        "mean = np.mean(y)\n",
        "std = np.std(y,ddof=1)\n",
        "lower = mean - spst.norm.ppf(0.975) * std/N**0.5\n",
        "upper = mean + spst.norm.ppf(0.975) * std/N**0.5\n",
        "print(\"95% confidence interval\", lower, upper)\n",
        "print(\"mean\", mean)\n",
        "print(\"width of 95% confidence interval\", upper-lower)"
      ],
      "execution_count": 28,
      "outputs": [
        {
          "output_type": "stream",
          "text": [
            "95% confidence interval 13.376877654905938 14.816666741263026\n",
            "mean 14.096772198084482\n",
            "width of 95% confidence interval 1.439789086357088\n"
          ],
          "name": "stdout"
        },
        {
          "output_type": "display_data",
          "data": {
            "image/png": "[encoded data removed]",
            "text/plain": [
              "<Figure size 432x288 with 1 Axes>"
            ]
          },
          "metadata": {
            "tags": [],
            "needs_background": "light"
          }
        }
      ]
    },
    {
      "cell_type": "markdown",
      "metadata": {
        "id": "9KhjdIz7ERHV"
      },
      "source": [
        "##Q4.  [10 points]\n",
        "\n",
        "Now, let's continue from Q1. Suppose the maintenance room will be closed for 0.2 hours after every 0.8 hours of opening. During this time, the repairmen will not fix any machine. After the maintenance room reopens, the repairmen will resume fixing the machines. If at the time of break, the repairmen have taken $x'$ period of time to fix a machine and the amount of the time to fix the machine is $x$, the machine will now need $x-x'$ amount of time to get fixed.\n",
        "\n",
        "* Run the system 1000 times. Plot the distribution of the time it takes for the number of operating machines to go below 7.\n",
        "\n",
        "[hint: one solution is to define the maintenance room as a preemptive resource, and treat closing as a request]"
      ]
    },
    {
      "cell_type": "code",
      "metadata": {
        "id": "FWD_slXdcBj8"
      },
      "source": [
        "# creating self-defined Exception for the close of maintenance room\n",
        "class ClosedInterrupt(simpy.SimPyException):\n",
        "  pass"
      ],
      "execution_count": 29,
      "outputs": []
    },
    {
      "cell_type": "code",
      "metadata": {
        "id": "hVGuqkFhLPJX"
      },
      "source": [
        "def break_arrival(env, resource, id, breakList, debug=False):\n",
        "  break_lmbda = 0.1\n",
        "  while True:\n",
        "    # the breakage arrival for each machine\n",
        "    inter_arrival = -1/break_lmbda * np.log(np.random.rand())\n",
        "    yield env.timeout(inter_arrival)\n",
        "    breakList.append(id)\n",
        "    if debug:\n",
        "      print('t=%.2f: \\t\\tthe machine %.f is broken' % (env.now, id))\n",
        "    # using `yield` to avoid the next breakage happens before it is repaired\n",
        "    yield env.process(repair(env, resource, id, breakList, debug=debug))\n",
        "  \n",
        "\n",
        "def closed_arrival(env, resource, debug=False):\n",
        "  while True:\n",
        "    # close the maintenance room after every 0.8 hours\n",
        "    yield env.timeout(0.8)\n",
        "    if debug:\n",
        "      print('t=%.2f: \\t\\t\\033[94mclosing the maintenance room\\033[0m' % env.now)\n",
        "\n",
        "    # sending close request for repair with high priority and preempting right\n",
        "    yield env.process(shutdown_repair(env, resource, debug))\n",
        "    if debug:\n",
        "      print('t=%.2f: \\t\\t\\033[92mreopening the maintenance room\\033[0m' % env.now)\n",
        "\n",
        "\n",
        "def shutdown_repair(env, resource, debug=False):\n",
        "  # defining a close request with high priority and preempting right\n",
        "  rqt = resource.request(priority=-100, preempt=True)\n",
        "  yield rqt\n",
        "  # close the maintenance room for 0.2 hours\n",
        "  yield env.timeout(0.2)\n",
        "  # release the close request\n",
        "  resource.release(rqt)\n",
        "\n",
        "\n",
        "def repair(env, resource, id, breakList, priority=0, remaining_time=0, debug=False):\n",
        "  # checking if it is a remaining request\n",
        "  lmbda_service = 1\n",
        "  if remaining_time > 0:\n",
        "    # setting inter_arrival as the remaining fixing time\n",
        "    # and setting preempt as True to make sure it is prioritized\n",
        "    # the priority is decided when we call this function\n",
        "    inter_arrival = remaining_time\n",
        "    preempt = True\n",
        "  else:\n",
        "    # no remaining fixing time means it is a new repairing request\n",
        "    # we randomly assign an fixing inter-arrival time \n",
        "    # setting preempt as False and priority as 0 (default)\n",
        "    inter_arrival = -1/lmbda_service*np.log(np.random.rand())\n",
        "    preempt = False\n",
        "  \n",
        "\n",
        "  rqt = resource.request(priority=priority, preempt=preempt)\n",
        "  # this check the number of broken machine should below or equal to 3\n",
        "  # otherwise, the number of operating machines goes below 7\n",
        "  if debug:\n",
        "    print('-'*90, '\\t the number of broken machine is %.f \\t\\t ' % (len(breakList)), breakList)\n",
        "  if len(breakList) > 3:\n",
        "    raise ClosedInterrupt(\"the number of operating machines goes below 7!\")\n",
        "\n",
        "  yield rqt\n",
        "  start_time = env.now\n",
        "  if debug and remaining_time > 0:\n",
        "    print('t=%.2f: \\t\\tthe machine %.f is waiting for repairing and the \\033[1m remaining \\033[0m fixing time is %.2f' % (start_time, id, inter_arrival))\n",
        "  elif debug and remaining_time == 0:\n",
        "    print('t=%.2f: \\t\\tthe machine %.f is waiting for repairing and the \\033[1m estimated \\033[0m fixing time is %.2f' % (start_time, id, inter_arrival))\n",
        "\n",
        "  try:\n",
        "    # if the repairment is not interrupt by the closure\n",
        "    yield env.timeout(inter_arrival)\n",
        "\n",
        "  except simpy.Interrupt as interrupt:\n",
        "    # if the repairment request is interrupted by the closure\n",
        "    # we first calculate the remaining fixing time\n",
        "\n",
        "    # usage is the time the repairman already used to fix the machine\n",
        "    # inter-arrival time is the total time for the repairman to fix the machine\n",
        "    # the difference between inter-arrival and usage is the remaining fixing time\n",
        "    usage = env.now - interrupt.cause.usage_since\n",
        "    remaining_time = inter_arrival - usage\n",
        "\n",
        "    # to make the system more clearly, we cancel the interrupted request \n",
        "    # and make a new one with high priority and preempting right\n",
        "    rqt.cancel()\n",
        "    # the highest priority is -3, which will always be smaller than the closure\n",
        "    # we use `yield` so that it makes sure the repairman will finishing this request before other requests\n",
        "    # since breakList is a queue (FIFO), \n",
        "    # we reverse the index and take it as negative value for priority\n",
        "    yield env.process(repair(env, resource, id, breakList, priority=-1 * breakList[::-1].index(id), remaining_time=remaining_time, debug=debug))\n",
        "    \n",
        "  else:\n",
        "    # only when the repairment is not interrupt by the closure\n",
        "    # we then run this part\n",
        "    # release the repairment request\n",
        "    # and remove the machine from the breakList\n",
        "    resource.release(rqt)\n",
        "    breakList.pop(0)\n",
        "    if debug:\n",
        "      print('t=%.2f: \\t\\tthe machine %.f is repaired' % (env.now, id))\n",
        "\n",
        "\n",
        "def system(debug=False):\n",
        "  env = simpy.Environment()\n",
        "  # breakList is a queue\n",
        "  breakList = []\n",
        "  # since the maintenance room will close for 0.2 hours every 0.8 hours\n",
        "  # we set it as preemptive resource\n",
        "  resource = simpy.PreemptiveResource(env, capacity=1)\n",
        "  env.process(closed_arrival(env, resource, debug))\n",
        "  env.process(break_arrival(env, resource, id=1, breakList=breakList, debug=debug))\n",
        "  env.process(break_arrival(env, resource, id=2, breakList=breakList, debug=debug))\n",
        "  env.process(break_arrival(env, resource, id=3, breakList=breakList, debug=debug))\n",
        "  env.process(break_arrival(env, resource, id=4, breakList=breakList, debug=debug))\n",
        "  env.process(break_arrival(env, resource, id=5, breakList=breakList, debug=debug))\n",
        "  env.process(break_arrival(env, resource, id=6, breakList=breakList, debug=debug))\n",
        "  env.process(break_arrival(env, resource, id=7, breakList=breakList, debug=debug))\n",
        "  env.process(break_arrival(env, resource, id=8, breakList=breakList, debug=debug))\n",
        "  env.process(break_arrival(env, resource, id=9, breakList=breakList, debug=debug))\n",
        "  env.process(break_arrival(env, resource, id=10, breakList=breakList, debug=debug))\n",
        "  try:\n",
        "    env.run()\n",
        "  except ClosedInterrupt as e:\n",
        "    if debug:\n",
        "      print(str(e))\n",
        "    return env.now"
      ],
      "execution_count": 30,
      "outputs": []
    },
    {
      "cell_type": "code",
      "metadata": {
        "colab": {
          "base_uri": "https://localhost:8080/"
        },
        "id": "gHnNs-N1Pd0R",
        "outputId": "50de5dc3-f1b3-4682-929b-db53cb495999"
      },
      "source": [
        "system(debug=True)"
      ],
      "execution_count": 34,
      "outputs": [
        {
          "output_type": "stream",
          "text": [
            "t=0.42: \t\tthe machine 2 is broken\n",
            "------------------------------------------------------------------------------------------ \t the number of broken machine is 1 \t\t  [2]\n",
            "t=0.42: \t\tthe machine 2 is waiting for repairing and the \u001b[1m estimated \u001b[0m fixing time is 0.27\n",
            "t=0.69: \t\tthe machine 2 is repaired\n",
            "t=0.80: \t\t\u001b[94mclosing the maintenance room\u001b[0m\n",
            "t=0.95: \t\tthe machine 5 is broken\n",
            "------------------------------------------------------------------------------------------ \t the number of broken machine is 1 \t\t  [5]\n",
            "t=1.00: \t\t\u001b[92mreopening the maintenance room\u001b[0m\n",
            "t=1.00: \t\tthe machine 5 is waiting for repairing and the \u001b[1m estimated \u001b[0m fixing time is 0.11\n",
            "t=1.11: \t\tthe machine 5 is repaired\n",
            "t=1.80: \t\t\u001b[94mclosing the maintenance room\u001b[0m\n",
            "t=2.00: \t\t\u001b[92mreopening the maintenance room\u001b[0m\n",
            "t=2.32: \t\tthe machine 6 is broken\n",
            "------------------------------------------------------------------------------------------ \t the number of broken machine is 1 \t\t  [6]\n",
            "t=2.32: \t\tthe machine 6 is waiting for repairing and the \u001b[1m estimated \u001b[0m fixing time is 0.84\n",
            "t=2.80: \t\t\u001b[94mclosing the maintenance room\u001b[0m\n",
            "------------------------------------------------------------------------------------------ \t the number of broken machine is 1 \t\t  [6]\n",
            "t=3.00: \t\t\u001b[92mreopening the maintenance room\u001b[0m\n",
            "t=3.00: \t\tthe machine 6 is waiting for repairing and the \u001b[1m remaining \u001b[0m fixing time is 0.36\n",
            "t=3.36: \t\tthe machine 6 is repaired\n",
            "t=3.80: \t\t\u001b[94mclosing the maintenance room\u001b[0m\n",
            "t=4.00: \t\t\u001b[92mreopening the maintenance room\u001b[0m\n",
            "t=4.13: \t\tthe machine 6 is broken\n",
            "------------------------------------------------------------------------------------------ \t the number of broken machine is 1 \t\t  [6]\n",
            "t=4.13: \t\tthe machine 6 is waiting for repairing and the \u001b[1m estimated \u001b[0m fixing time is 0.93\n",
            "t=4.80: \t\t\u001b[94mclosing the maintenance room\u001b[0m\n",
            "------------------------------------------------------------------------------------------ \t the number of broken machine is 1 \t\t  [6]\n",
            "t=5.00: \t\t\u001b[92mreopening the maintenance room\u001b[0m\n",
            "t=5.00: \t\tthe machine 6 is waiting for repairing and the \u001b[1m remaining \u001b[0m fixing time is 0.26\n",
            "t=5.26: \t\tthe machine 6 is repaired\n",
            "t=5.46: \t\tthe machine 6 is broken\n",
            "------------------------------------------------------------------------------------------ \t the number of broken machine is 1 \t\t  [6]\n",
            "t=5.46: \t\tthe machine 6 is waiting for repairing and the \u001b[1m estimated \u001b[0m fixing time is 0.35\n",
            "t=5.80: \t\t\u001b[94mclosing the maintenance room\u001b[0m\n",
            "------------------------------------------------------------------------------------------ \t the number of broken machine is 1 \t\t  [6]\n",
            "t=6.00: \t\t\u001b[92mreopening the maintenance room\u001b[0m\n",
            "t=6.00: \t\tthe machine 6 is waiting for repairing and the \u001b[1m remaining \u001b[0m fixing time is 0.01\n",
            "t=6.01: \t\tthe machine 6 is repaired\n",
            "t=6.05: \t\tthe machine 6 is broken\n",
            "------------------------------------------------------------------------------------------ \t the number of broken machine is 1 \t\t  [6]\n",
            "t=6.05: \t\tthe machine 6 is waiting for repairing and the \u001b[1m estimated \u001b[0m fixing time is 0.41\n",
            "t=6.12: \t\tthe machine 9 is broken\n",
            "------------------------------------------------------------------------------------------ \t the number of broken machine is 2 \t\t  [6, 9]\n",
            "t=6.25: \t\tthe machine 7 is broken\n",
            "------------------------------------------------------------------------------------------ \t the number of broken machine is 3 \t\t  [6, 9, 7]\n",
            "t=6.46: \t\tthe machine 6 is repaired\n",
            "t=6.46: \t\tthe machine 9 is waiting for repairing and the \u001b[1m estimated \u001b[0m fixing time is 0.01\n",
            "t=6.47: \t\tthe machine 9 is repaired\n",
            "t=6.47: \t\tthe machine 7 is waiting for repairing and the \u001b[1m estimated \u001b[0m fixing time is 5.12\n",
            "t=6.80: \t\t\u001b[94mclosing the maintenance room\u001b[0m\n",
            "------------------------------------------------------------------------------------------ \t the number of broken machine is 1 \t\t  [7]\n",
            "t=7.00: \t\t\u001b[92mreopening the maintenance room\u001b[0m\n",
            "t=7.00: \t\tthe machine 7 is waiting for repairing and the \u001b[1m remaining \u001b[0m fixing time is 4.79\n",
            "t=7.80: \t\t\u001b[94mclosing the maintenance room\u001b[0m\n",
            "------------------------------------------------------------------------------------------ \t the number of broken machine is 1 \t\t  [7]\n",
            "t=8.00: \t\t\u001b[92mreopening the maintenance room\u001b[0m\n",
            "t=8.00: \t\tthe machine 7 is waiting for repairing and the \u001b[1m remaining \u001b[0m fixing time is 3.99\n",
            "t=8.70: \t\tthe machine 6 is broken\n",
            "------------------------------------------------------------------------------------------ \t the number of broken machine is 2 \t\t  [7, 6]\n",
            "t=8.80: \t\t\u001b[94mclosing the maintenance room\u001b[0m\n",
            "------------------------------------------------------------------------------------------ \t the number of broken machine is 2 \t\t  [7, 6]\n",
            "t=9.00: \t\t\u001b[92mreopening the maintenance room\u001b[0m\n",
            "t=9.00: \t\tthe machine 7 is waiting for repairing and the \u001b[1m remaining \u001b[0m fixing time is 3.19\n",
            "t=9.80: \t\t\u001b[94mclosing the maintenance room\u001b[0m\n",
            "------------------------------------------------------------------------------------------ \t the number of broken machine is 2 \t\t  [7, 6]\n",
            "t=10.00: \t\t\u001b[92mreopening the maintenance room\u001b[0m\n",
            "t=10.00: \t\tthe machine 7 is waiting for repairing and the \u001b[1m remaining \u001b[0m fixing time is 2.39\n",
            "t=10.72: \t\tthe machine 10 is broken\n",
            "------------------------------------------------------------------------------------------ \t the number of broken machine is 3 \t\t  [7, 6, 10]\n",
            "t=10.80: \t\t\u001b[94mclosing the maintenance room\u001b[0m\n",
            "------------------------------------------------------------------------------------------ \t the number of broken machine is 3 \t\t  [7, 6, 10]\n",
            "t=10.89: \t\tthe machine 4 is broken\n",
            "------------------------------------------------------------------------------------------ \t the number of broken machine is 4 \t\t  [7, 6, 10, 4]\n",
            "the number of operating machines goes below 7!\n"
          ],
          "name": "stdout"
        },
        {
          "output_type": "execute_result",
          "data": {
            "text/plain": [
              "10.892422888538544"
            ]
          },
          "metadata": {
            "tags": []
          },
          "execution_count": 34
        }
      ]
    },
    {
      "cell_type": "code",
      "metadata": {
        "colab": {
          "base_uri": "https://localhost:8080/",
          "height": 319
        },
        "id": "A4Y-zzkPPllt",
        "outputId": "00ccc9a1-622a-4386-8ab3-d0dfe34fe1f2"
      },
      "source": [
        "N = 1000\n",
        "samples = np.array([system() for _ in range(N)])\n",
        "plt.hist(samples, bins=20, density=True)\n",
        "\n",
        "mean = np.mean(samples)\n",
        "std = np.std(samples,ddof=1)\n",
        "lower = mean - spst.norm.ppf(0.975) * std/N**0.5\n",
        "upper = mean + spst.norm.ppf(0.975) * std/N**0.5\n",
        "print(\"95% confidence interval\", lower, upper)\n",
        "print(\"mean\", mean)\n",
        "print(\"width of 95% confidence interval\", upper-lower)"
      ],
      "execution_count": 35,
      "outputs": [
        {
          "output_type": "stream",
          "text": [
            "95% confidence interval 11.197408752062337 12.349873777285787\n",
            "mean 11.773641264674062\n",
            "width of 95% confidence interval 1.1524650252234494\n"
          ],
          "name": "stdout"
        },
        {
          "output_type": "display_data",
          "data": {
            "image/png": "[encoded data removed]",
            "text/plain": [
              "<Figure size 432x288 with 1 Axes>"
            ]
          },
          "metadata": {
            "tags": [],
            "needs_background": "light"
          }
        }
      ]
    },
    {
      "cell_type": "code",
      "metadata": {
        "id": "fTxzGjxFt307"
      },
      "source": [
        ""
      ],
      "execution_count": null,
      "outputs": []
    }
  ]
}