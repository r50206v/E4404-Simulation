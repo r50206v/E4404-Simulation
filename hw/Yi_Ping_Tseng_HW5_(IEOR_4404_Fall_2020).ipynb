{
  "nbformat": 4,
  "nbformat_minor": 0,
  "metadata": {
    "colab": {
      "name": "Yi Ping Tseng - HW5 (IEOR 4404 Fall 2020).ipynb",
      "provenance": [],
      "collapsed_sections": [],
      "toc_visible": true
    },
    "kernelspec": {
      "name": "python3",
      "display_name": "Python 3"
    }
  },
  "cells": [
    {
      "cell_type": "markdown",
      "metadata": {
        "id": "4s5izpSul0F9"
      },
      "source": [
        "# **IEOR 4404  Simulation (Fall 2020)**\n",
        "\n",
        "**Homework 5 Solution  [Total points: 80 Points]**\n",
        "\n",
        "\n",
        "**Due 11:59 PM, Nov 29**\n",
        "\n",
        "Homework 4 consists of application-oriented exercises focusing on:\n",
        "* `simpy` simulation of systems\n",
        "\n",
        "The steps to finish the homework:\n",
        "\n",
        "*   Step 1: Answer your homework on Google Colab.\n",
        "*   Step 2: Submit the copy on Google Assignment\n",
        "\n",
        "Before you submit your assignment, make sure to re-run your code from the beginning. (You can do so by first clicking Runtime/Reset All Runtimes and then clicking Runtime/Run all)\n",
        "\n"
      ]
    },
    {
      "cell_type": "code",
      "metadata": {
        "id": "f3BPfGhTQSbE"
      },
      "source": [
        "#Your Name: Yi-Ping Tseng\n",
        "#Your UNI: yt2690"
      ],
      "execution_count": 1,
      "outputs": []
    },
    {
      "cell_type": "code",
      "metadata": {
        "colab": {
          "base_uri": "https://localhost:8080/"
        },
        "id": "16KjV-jls6Gk",
        "outputId": "244996cb-5e68-477f-a53b-cb2b028b551c"
      },
      "source": [
        "!pip install sympy simpy pynverse -U"
      ],
      "execution_count": 2,
      "outputs": [
        {
          "output_type": "stream",
          "text": [
            "Requirement already up-to-date: sympy in /usr/local/lib/python3.6/dist-packages (1.7)\n",
            "Requirement already up-to-date: simpy in /usr/local/lib/python3.6/dist-packages (4.0.1)\n",
            "Requirement already up-to-date: pynverse in /usr/local/lib/python3.6/dist-packages (0.1.4.4)\n",
            "Requirement already satisfied, skipping upgrade: mpmath>=0.19 in /usr/local/lib/python3.6/dist-packages (from sympy) (1.1.0)\n",
            "Requirement already satisfied, skipping upgrade: numpy>=1.6 in /usr/local/lib/python3.6/dist-packages (from pynverse) (1.18.5)\n",
            "Requirement already satisfied, skipping upgrade: scipy>=0.11 in /usr/local/lib/python3.6/dist-packages (from pynverse) (1.4.1)\n"
          ],
          "name": "stdout"
        }
      ]
    },
    {
      "cell_type": "code",
      "metadata": {
        "id": "x4lR3IqNGLmD"
      },
      "source": [
        "#This imports all the packages you need for the homework\n",
        "#Please run this first\n",
        "import numpy as np\n",
        "\n",
        "import scipy.special as spsp\n",
        "import scipy.stats as spst\n",
        "\n",
        "import matplotlib.pyplot as plt\n",
        "\n",
        "%matplotlib inline\n",
        "\n",
        "import sympy\n",
        "import simpy\n",
        "import gc"
      ],
      "execution_count": 3,
      "outputs": []
    },
    {
      "cell_type": "markdown",
      "metadata": {
        "id": "hZQYGmM7rpWS"
      },
      "source": [
        "#Exercise 1 [20 Points]\n",
        "\n",
        "An M/M/1 queue represents the queue length in a system having a **single server**, where arrivals are determined by a **Homogeneous Poisson process** with rate $\\lambda$ and job service times have an **exponential distribution** with rate $\\mu$ (i.e. mean service time is $1/\\mu$). \n",
        "\n",
        "\n"
      ]
    },
    {
      "cell_type": "markdown",
      "metadata": {
        "id": "5pRINZq6xRQE"
      },
      "source": [
        "\n",
        "##Q1.  [12 points]\n",
        "\n",
        "An M/M/1 system is stationary if $\\lambda<\\mu$. For a non-stationary system, the queue will be growing indefinitely long as time goes to infinity. \n",
        "\n",
        "* Construct an M/M/1 system using `simpy` assume $\\lambda=8$ and $\\mu=2$. Use `Rn_arrival=np.random.RandomState(10)` to generate the random numbers used to generate the arrival times. Use `Rn_service=np.random.RandomState(100)` to the random numbers used to generate the service times. Simulate the system between $t=0$ and $t=100$\n",
        "\n",
        "* Plot the relationship between time and the number of people in the system above (including both lining up and receiving the service ) using  [plt.step()](https://www.geeksforgeeks.org/matplotlib-pyplot-step-function-in-python/). Argue that the system is not stationary.\n",
        "\n",
        "* Change to $\\lambda=1$ and $\\mu=2$. Plot the relationship between the time and the number of people in the system above (including both lining up and receiving the service ) from $t=0$ to  $t=100$ using [plt.step()](https://www.geeksforgeeks.org/matplotlib-pyplot-step-function-in-python/).  \n",
        "\n",
        " \n",
        " "
      ]
    },
    {
      "cell_type": "code",
      "metadata": {
        "id": "Kali6IL7hcK8"
      },
      "source": [
        "def arrival(env, desk, timeList, numberOfPeople, Rn_arrival, Rn_service, lmbda_arrival, lmbda_service):\n",
        "  while True:\n",
        "    inter_arrival = -1/lmbda_arrival*np.log(Rn_arrival.rand())\n",
        "    yield env.timeout(inter_arrival)\n",
        "    env.process(service(env, desk, timeList, numberOfPeople, Rn_service, lmbda_service))\n",
        "      \n",
        "def service(env, desk, timeList, numberOfPeople, Rn_service, lmbda_service):\n",
        "  inter_arrival = -1/lmbda_service*np.log(Rn_service.rand())\n",
        "\n",
        "  rqt = desk.request()\n",
        "  timeList.append(env.now)\n",
        "  numberOfPeople.append(len(desk.queue) + len(desk.users))\n",
        "  yield rqt\n",
        "  yield env.timeout(inter_arrival)\n",
        "\n",
        "  desk.release(rqt)\n",
        "  timeList.append(env.now)\n",
        "  numberOfPeople.append(len(desk.queue) + len(desk.users))\n",
        "\n",
        "def simulation(lmbda_arrival, lmbda_service, T):\n",
        "  Rn_arrival = np.random.RandomState(10)\n",
        "  Rn_service = np.random.RandomState(100)\n",
        "  timeList = []\n",
        "  numberOfPeople = []\n",
        "\n",
        "  env = simpy.Environment()\n",
        "  desk = simpy.Resource(env, capacity=1)\n",
        "  env.process(arrival(env, desk, timeList, numberOfPeople, Rn_arrival, Rn_service, lmbda_arrival, lmbda_service))\n",
        "  env.run(until=T)\n",
        "  return timeList, numberOfPeople"
      ],
      "execution_count": 4,
      "outputs": []
    },
    {
      "cell_type": "code",
      "metadata": {
        "id": "dP7RfuSrrSTd",
        "colab": {
          "base_uri": "https://localhost:8080/",
          "height": 436
        },
        "outputId": "90d9d169-cbe1-48a4-ff94-1df42f9299aa"
      },
      "source": [
        "timeList, numberOfPeople = simulation(8, 2, 100)\n",
        "\n",
        "plt.figure(figsize=(10, 6))\n",
        "plt.step(timeList, numberOfPeople)\n",
        "plt.xlabel('time')\n",
        "plt.ylabel('number of people in the system')\n",
        "plt.title('The number of people in the system over time\\n lambda=8, mu=2')"
      ],
      "execution_count": 5,
      "outputs": [
        {
          "output_type": "execute_result",
          "data": {
            "text/plain": [
              "Text(0.5, 1.0, 'The number of people in the system over time\\n lambda=8, mu=2')"
            ]
          },
          "metadata": {
            "tags": []
          },
          "execution_count": 5
        },
        {
          "output_type": "display_data",
          "data": {
            "image/png": "[encoded data removed]",
            "text/plain": [
              "<Figure size 720x432 with 1 Axes>"
            ]
          },
          "metadata": {
            "tags": [],
            "needs_background": "light"
          }
        }
      ]
    },
    {
      "cell_type": "code",
      "metadata": {
        "colab": {
          "base_uri": "https://localhost:8080/",
          "height": 436
        },
        "id": "3PKRhuRSnS_w",
        "outputId": "3280f7e8-edf7-4d26-c19e-b616aaa65fb1"
      },
      "source": [
        "timeList, numberOfPeople = simulation(1, 2, 100)\n",
        "\n",
        "plt.figure(figsize=(15, 6))\n",
        "plt.step(timeList, numberOfPeople)\n",
        "plt.xlabel('time')\n",
        "plt.ylabel('number of people in the system')\n",
        "plt.title('The number of people in the system over time\\n lambda=1, mu=2')"
      ],
      "execution_count": 6,
      "outputs": [
        {
          "output_type": "execute_result",
          "data": {
            "text/plain": [
              "Text(0.5, 1.0, 'The number of people in the system over time\\n lambda=1, mu=2')"
            ]
          },
          "metadata": {
            "tags": []
          },
          "execution_count": 6
        },
        {
          "output_type": "display_data",
          "data": {
            "image/png": "[encoded data removed]",
            "text/plain": [
              "<Figure size 1080x432 with 1 Axes>"
            ]
          },
          "metadata": {
            "tags": [],
            "needs_background": "light"
          }
        }
      ]
    },
    {
      "cell_type": "code",
      "metadata": {
        "id": "nWFPpLWV0Cnd"
      },
      "source": [
        ""
      ],
      "execution_count": 6,
      "outputs": []
    },
    {
      "cell_type": "markdown",
      "metadata": {
        "id": "1FhYMd0doFbZ"
      },
      "source": [
        "##Q2. [8 points]\n",
        "\n",
        "If the system is stationary, then the probability of having $i$ customers at a sufficiently large $t$ (including the one in service) is \n",
        "\n",
        "$P(i)=(1-\\rho)\\rho^i, i=0,1,2, \\dots$ .\n",
        "\n",
        "where $\\rho=\\frac{\\lambda}{\\mu}$\n",
        "\n",
        "For this question, let's assume we have an M/M/1 system with $\\lambda=1.5$ and $\\mu=2$\n",
        "\n",
        "* Simulate the system to record the number of people in the system at t=100.\n",
        "* Repeat the system simulation 1000 times.\n",
        "* Plot the sample and theoretical distribution of the number of people in the system at t=100."
      ]
    },
    {
      "cell_type": "code",
      "metadata": {
        "id": "dmbndhlFLihb"
      },
      "source": [
        "def arrival(env, desk, lmbda_arrival, lmbda_service):\n",
        "  while True:\n",
        "    inter_arrival = -1/lmbda_arrival*np.log(np.random.rand())\n",
        "    yield env.timeout(inter_arrival)\n",
        "    env.process(service(env, desk, lmbda_service))\n",
        "      \n",
        "def service(env, desk, lmbda_service):\n",
        "  inter_arrival = -1/lmbda_service*np.log(np.random.rand())\n",
        "  rqt = desk.request()\n",
        "  yield rqt\n",
        "  yield env.timeout(inter_arrival)\n",
        "  desk.release(rqt)\n",
        "\n",
        "def simulation(lmbda_arrival, lmbda_service, T):\n",
        "  env = simpy.Environment()\n",
        "  desk = simpy.Resource(env, capacity=1)\n",
        "  env.process(arrival(env, desk, lmbda_arrival, lmbda_service))\n",
        "  env.run(until=T)\n",
        "  return len(desk.users) + len(desk.queue)"
      ],
      "execution_count": 7,
      "outputs": []
    },
    {
      "cell_type": "code",
      "metadata": {
        "id": "4YLbT2GQHDVf"
      },
      "source": [
        "samples = [simulation(1.5, 2, 100) for _ in range(1000)]"
      ],
      "execution_count": 8,
      "outputs": []
    },
    {
      "cell_type": "code",
      "metadata": {
        "id": "nFPC2NbXrVgz"
      },
      "source": [
        "unique, counts = np.unique(samples, return_counts=True)\n",
        "x = np.arange(max(unique))\n",
        "phi = 1.5 / 2\n",
        "theory = (1 - phi) * phi**(x)"
      ],
      "execution_count": 9,
      "outputs": []
    },
    {
      "cell_type": "code",
      "metadata": {
        "colab": {
          "base_uri": "https://localhost:8080/",
          "height": 421
        },
        "id": "Qgo92AxTn1cT",
        "outputId": "2d7db5c4-ef90-4b90-b398-804834e2a91b"
      },
      "source": [
        "plt.figure(figsize=(10, 6))\n",
        "plt.hist(samples, label='sample', density=True, bins=16)\n",
        "plt.plot(x, theory, label='theoratical')\n",
        "plt.xlabel('number of customers')\n",
        "plt.ylabel('probability')\n",
        "plt.title('The distribution of the number of people in the system at t=100')\n",
        "plt.legend()"
      ],
      "execution_count": 10,
      "outputs": [
        {
          "output_type": "execute_result",
          "data": {
            "text/plain": [
              "<matplotlib.legend.Legend at 0x7f47abbc72b0>"
            ]
          },
          "metadata": {
            "tags": []
          },
          "execution_count": 10
        },
        {
          "output_type": "display_data",
          "data": {
            "image/png": "[encoded data removed]",
            "text/plain": [
              "<Figure size 720x432 with 1 Axes>"
            ]
          },
          "metadata": {
            "tags": [],
            "needs_background": "light"
          }
        }
      ]
    },
    {
      "cell_type": "code",
      "metadata": {
        "id": "uI69A4GxMmLs"
      },
      "source": [
        ""
      ],
      "execution_count": 10,
      "outputs": []
    },
    {
      "cell_type": "markdown",
      "metadata": {
        "id": "NB_Sbhl72lQj"
      },
      "source": [
        "#Exercise 2 [30 Points]\n",
        "\n",
        "##Setting\n",
        "\n",
        "![title](https://onlinevending.com/wp-content/uploads/2016/07/Untitled-106-300x300.png)\n",
        "\n",
        "A vending machine has 15 different products. The vending machines started as full with 20 units in stock for each product (300 items in total). Customers arrive every 0.1 hours at a vending machine and make a purchase. Each customer wants to purchase $x$ units of product $i$. Let's assume that $i$ is equally likely to be between 1 and 15. For $x$, let's assume follows a discrete uniform distribution between 0 and 3. If product $i$ has stock level $s$ is lower than what the customer wants, the customer will purchase all the units left for the product $i$. \n",
        "\n",
        "Once the stock level of any product goes below $z$ and no refill order is waiting to be fulfilled, a refill will be requested. The refill takes 1.95 hours to be fulfilled. During the process, consumers can still make purchases normally. Once the refill request is fulfilled, the vending machine becomes full again.\n",
        "\n",
        "Let's assume that the sales of each item generate a profit of 0.5 dollars. Each refill trip costs 20 dollars. The cost is counted once a refill process starts.\n",
        "\n",
        "**<font color=\"red\">In this question, you are NOT allowed to use any built-in sampling function except np.random.rand() </font>**\n",
        "\n"
      ]
    },
    {
      "cell_type": "markdown",
      "metadata": {
        "id": "_lurFvYtKA5e"
      },
      "source": [
        "## Q1. [23 points]\n",
        "\n",
        "* Based on `simpy`, simulate the system for a week. Assume $z=4$. Return the revenue from the goods minus the refill trip costs. \n",
        "* Repeat the system 100 times. Report the average revenue."
      ]
    },
    {
      "cell_type": "code",
      "metadata": {
        "id": "MGn205rb2nKn"
      },
      "source": [
        "def arrival(env, desk, z, profitList, costList, customer_request, debug=False):\n",
        "  inventory = {k: 20 for k in range(1, 16, 1)}\n",
        "\n",
        "  while True:\n",
        "    product_id = int(np.random.rand() / (1/15)) + 1\n",
        "    purchase_unit = int(np.random.rand() / (1/4))\n",
        "    customer_request.append((product_id, purchase_unit))\n",
        "    yield env.timeout(0.1)\n",
        "\n",
        "    if inventory[product_id] < purchase_unit:\n",
        "      profitList.append(inventory[product_id] * 0.5)\n",
        "      inventory[product_id] = 0\n",
        "    else:\n",
        "      profitList.append(purchase_unit * 0.5)\n",
        "      inventory[product_id] -= purchase_unit\n",
        "\n",
        "    if inventory[product_id] < z:\n",
        "      if debug:\n",
        "        print('request a refill, profit: %.f, cost: %.f, time: %.f' % (sum(profitList), sum(costList), env.now))\n",
        "      env.process(refill(env, desk, costList))\n",
        "      inventory = {k: 20 for k in range(1, 16, 1)}\n",
        "\n",
        "\n",
        "def refill(env, desk, costList):\n",
        "  rqt = desk.request()\n",
        "  yield rqt\n",
        "  yield env.timeout(1.95)\n",
        "  costList.append(20)\n",
        "  desk.release(rqt)\n",
        "\n",
        "\n",
        "def simulation(z, T, debug=False):\n",
        "  profitList = []\n",
        "  costList = []\n",
        "  customer_request = []\n",
        "\n",
        "  if debug:\n",
        "    np.random.seed(1)\n",
        "  env = simpy.Environment()\n",
        "  desk = simpy.Resource(env, capacity=1)\n",
        "  env.process(arrival(env, desk, z, profitList, costList, customer_request, debug=debug))\n",
        "  env.run(until=T)\n",
        "\n",
        "  if debug:\n",
        "    return profitList, costList, customer_request\n",
        "  else:\n",
        "    return profitList, costList"
      ],
      "execution_count": 11,
      "outputs": []
    },
    {
      "cell_type": "code",
      "metadata": {
        "colab": {
          "base_uri": "https://localhost:8080/"
        },
        "id": "oHNkFVUIDG96",
        "outputId": "d2470dc8-a580-4cd8-847c-d18e1a60ae2f"
      },
      "source": [
        "z = 4\n",
        "T = 24 * 7\n",
        "profitList, costList, customer_request = simulation(z, T, True)"
      ],
      "execution_count": 12,
      "outputs": [
        {
          "output_type": "stream",
          "text": [
            "request a refill, profit: 49, cost: 0, time: 6\n",
            "request a refill, profit: 126, cost: 20, time: 15\n",
            "request a refill, profit: 173, cost: 40, time: 21\n",
            "request a refill, profit: 235, cost: 60, time: 31\n",
            "request a refill, profit: 302, cost: 80, time: 40\n",
            "request a refill, profit: 351, cost: 100, time: 47\n",
            "request a refill, profit: 409, cost: 120, time: 54\n",
            "request a refill, profit: 489, cost: 140, time: 64\n",
            "request a refill, profit: 528, cost: 160, time: 68\n",
            "request a refill, profit: 582, cost: 180, time: 76\n",
            "request a refill, profit: 650, cost: 200, time: 84\n",
            "request a refill, profit: 703, cost: 220, time: 90\n",
            "request a refill, profit: 750, cost: 240, time: 96\n",
            "request a refill, profit: 830, cost: 260, time: 107\n",
            "request a refill, profit: 894, cost: 280, time: 116\n",
            "request a refill, profit: 980, cost: 300, time: 128\n",
            "request a refill, profit: 1046, cost: 320, time: 138\n",
            "request a refill, profit: 1110, cost: 340, time: 146\n",
            "request a refill, profit: 1150, cost: 360, time: 151\n",
            "request a refill, profit: 1200, cost: 380, time: 158\n",
            "request a refill, profit: 1273, cost: 400, time: 168\n"
          ],
          "name": "stdout"
        }
      ]
    },
    {
      "cell_type": "code",
      "metadata": {
        "id": "TLwJilSoE1xR"
      },
      "source": [
        "z = 4\n",
        "T = 24 * 7\n",
        "\n",
        "revenueList = []\n",
        "for _ in range(100):\n",
        "  p, c = simulation(z, T)\n",
        "  revenueList.append(sum(p) - sum(c))"
      ],
      "execution_count": 13,
      "outputs": []
    },
    {
      "cell_type": "code",
      "metadata": {
        "colab": {
          "base_uri": "https://localhost:8080/"
        },
        "id": "zaR3TS0X-YOJ",
        "outputId": "afbd1369-68ed-4136-a26e-7190bff7b6ab"
      },
      "source": [
        "np.mean(revenueList)"
      ],
      "execution_count": 14,
      "outputs": [
        {
          "output_type": "execute_result",
          "data": {
            "text/plain": [
              "876.075"
            ]
          },
          "metadata": {
            "tags": []
          },
          "execution_count": 14
        }
      ]
    },
    {
      "cell_type": "code",
      "metadata": {
        "id": "H18CO444Feh5"
      },
      "source": [
        ""
      ],
      "execution_count": 14,
      "outputs": []
    },
    {
      "cell_type": "markdown",
      "metadata": {
        "id": "Drz94-ztKXzx"
      },
      "source": [
        "##Q2. [7 points]\n",
        "\n",
        "* Now, use different $z$ values for the exercise in Q1. Plot the relationship between $z$ and the average system output.\n",
        "* Find the best $z$ value."
      ]
    },
    {
      "cell_type": "code",
      "metadata": {
        "id": "m8GZoq_HGM8P"
      },
      "source": [
        "T = 24 * 7\n",
        "\n",
        "avgRevenueList = []\n",
        "avgProfitList = []\n",
        "avgCostList = []\n",
        "for z in range(1, 21, 1):\n",
        "\n",
        "  revenueList = []\n",
        "  profitList = []\n",
        "  costList = []\n",
        "  for _ in range(100):\n",
        "    p, c = simulation(z, T)\n",
        "    revenueList.append(sum(p) - sum(c))\n",
        "    profitList.append(sum(p))\n",
        "    costList.append(sum(c))\n",
        "\n",
        "  avgRevenueList.append(np.mean(revenueList))\n",
        "  avgProfitList.append(np.mean(profitList))\n",
        "  avgCostList.append(np.mean(costList))"
      ],
      "execution_count": 15,
      "outputs": []
    },
    {
      "cell_type": "code",
      "metadata": {
        "colab": {
          "base_uri": "https://localhost:8080/"
        },
        "id": "9sd_R5-S_yss",
        "outputId": "9206622e-f606-4a9c-bf6a-d1950d6355fa"
      },
      "source": [
        "for index in range(1, 21, 1):\n",
        "  print('z: ', index, '\\t\\tprofit: ', avgProfitList[index-1], '\\tcost:', avgCostList[index-1], '\\trevenue: ', avgRevenueList[index-1])"
      ],
      "execution_count": 16,
      "outputs": [
        {
          "output_type": "stream",
          "text": [
            "z:  1 \t\tprofit:  1254.065 \tcost: 307.0 \trevenue:  947.065\n",
            "z:  2 \t\tprofit:  1260.135 \tcost: 333.8 \trevenue:  926.335\n",
            "z:  3 \t\tprofit:  1259.47 \tcost: 359.0 \trevenue:  900.47\n",
            "z:  4 \t\tprofit:  1260.015 \tcost: 388.4 \trevenue:  871.615\n",
            "z:  5 \t\tprofit:  1257.285 \tcost: 421.6 \trevenue:  835.685\n",
            "z:  6 \t\tprofit:  1260.695 \tcost: 466.8 \trevenue:  793.895\n",
            "z:  7 \t\tprofit:  1262.185 \tcost: 513.6 \trevenue:  748.585\n",
            "z:  8 \t\tprofit:  1257.85 \tcost: 572.2 \trevenue:  685.65\n",
            "z:  9 \t\tprofit:  1258.9 \tcost: 644.4 \trevenue:  614.5\n",
            "z:  10 \t\tprofit:  1258.325 \tcost: 738.2 \trevenue:  520.125\n",
            "z:  11 \t\tprofit:  1261.91 \tcost: 849.8 \trevenue:  412.11\n",
            "z:  12 \t\tprofit:  1258.585 \tcost: 1011.8 \trevenue:  246.785\n",
            "z:  13 \t\tprofit:  1260.225 \tcost: 1223.4 \trevenue:  36.825\n",
            "z:  14 \t\tprofit:  1260.2 \tcost: 1487.6 \trevenue:  -227.4\n",
            "z:  15 \t\tprofit:  1262.005 \tcost: 1692.6 \trevenue:  -430.595\n",
            "z:  16 \t\tprofit:  1256.72 \tcost: 1698.0 \trevenue:  -441.28\n",
            "z:  17 \t\tprofit:  1257.74 \tcost: 1701.2 \trevenue:  -443.46\n",
            "z:  18 \t\tprofit:  1257.485 \tcost: 1712.0 \trevenue:  -454.515\n",
            "z:  19 \t\tprofit:  1256.955 \tcost: 1717.6 \trevenue:  -460.645\n",
            "z:  20 \t\tprofit:  1265.295 \tcost: 1719.8 \trevenue:  -454.505\n"
          ],
          "name": "stdout"
        }
      ]
    },
    {
      "cell_type": "code",
      "metadata": {
        "colab": {
          "base_uri": "https://localhost:8080/",
          "height": 472
        },
        "id": "3lizpJYMGDi6",
        "outputId": "3c505d7b-64f1-43d8-9d4f-0c8d985305c6"
      },
      "source": [
        "plt.figure(figsize=(10, 6))\n",
        "plt.plot(list(range(1, 21, 1)), avgRevenueList)\n",
        "plt.xlabel('z value')\n",
        "plt.ylabel('revenue')\n",
        "plt.title('The Relationship between Z and Average Revenue')\n",
        "\n",
        "print('According to the simulation, we should refill the vending machine by setting z = 1, \\nwhich means only when one of the products is sold out, then we request a refill.\\n\\n')"
      ],
      "execution_count": 17,
      "outputs": [
        {
          "output_type": "stream",
          "text": [
            "According to the simulation, we should refill the vending machine by setting z = 1, \n",
            "which means only when one of the products is sold out, then we request a refill.\n",
            "\n",
            "\n"
          ],
          "name": "stdout"
        },
        {
          "output_type": "display_data",
          "data": {
            "image/png": "[encoded data removed]",
            "text/plain": [
              "<Figure size 720x432 with 1 Axes>"
            ]
          },
          "metadata": {
            "tags": [],
            "needs_background": "light"
          }
        }
      ]
    },
    {
      "cell_type": "code",
      "metadata": {
        "id": "eVtf02FG_gEH"
      },
      "source": [
        ""
      ],
      "execution_count": 17,
      "outputs": []
    },
    {
      "cell_type": "code",
      "metadata": {
        "id": "n42fOnshOfBT"
      },
      "source": [
        ""
      ],
      "execution_count": 17,
      "outputs": []
    },
    {
      "cell_type": "markdown",
      "metadata": {
        "id": "PIo_Cs0pEaE6"
      },
      "source": [
        "# Exercise 3 [30 Points]\n",
        "\n",
        "\n",
        "\n",
        "\n",
        "![title](https://images.squarespace-cdn.com/content/v1/518ac285e4b0288d5ff90c6f/1377221007294-HNC3JDD4UW9QY2G5LC1D/ke17ZwdGBToddI8pDm48kCMWMBFcqQftRz-JqZZoIB5Zw-zPPgdn4jUwVcJE1ZvWEtT5uBSRWt4vQZAgTJucoTqqXjS3CfNDSuuf31e0tVHNITcGTe41xBuPe_t-alTYdDq7Kkl9qklZ5rK1q7N4dsyd8tRlQIE8kTD4VvGRtXw/car-wash-hand-dry-hp.jpg) \n",
        "\n",
        "\n",
        "\n",
        "Customers arrive at a car wash shop following a homogeneous Poisson process with $\\lambda=5$ [expected number arrivals is 5 per hour] between hour 8 (8 am)  and 20 (8 pm). \n",
        "Upon arrival, they will get auto-cleaning service （including payment）. The service time follows:\n",
        "\n",
        "|Service Type | Time| Choice Probability|Price| \n",
        "|---|---|---|---|\n",
        "|Silver|5 minutes|0.3|10 dollars|\n",
        "|Gold|6 minutes|0.5|12 dollars|\n",
        "|Platinum|7 minutes|0.2|15 dollars|\n",
        "\n",
        "The auto-cleaning device can only take 1 customer at a time. The service order follows first come first serve.\n",
        "\n",
        "\n",
        "After this stage, cars will then wait for workers to hand-dry the car. There are two workers. Depending on the car, worker 1 can take uniformly between 10 and 20 minutes, while worker 2 can take uniformly between 15 and 30 minutes. Each worker knows exactly how long it will take after they identify the car and before they start the drying process.\n",
        "\n",
        "|Worker|  Service Time|\n",
        "|---|---|\n",
        "|1|Uniform(10,20)|\n",
        "|2|Uniform(15,30)|\n",
        "\n",
        "[Worker 1 on average is faster than worker 2 when working alone]\n",
        "\n",
        "A car will receive the service with the worker who becomes available first. The service order follows first come first serve.\n",
        "\n",
        "If both worker 1 and worker 2 are available at the same time, \n",
        "* worker 2 will work on the car if he expects the drying process will take less than 25 minutes when working alone.\n",
        "* otherwise, worker 1 and worker 2 will work together. The service time will be half of the time if worker 2 works alone. \n",
        "\n",
        "\n",
        "Due to space limitations, the system can only accomondate 5 cars at the same time (including both cars receiving the service and cars waiting). If a car cannot fit in the system, the car will leave and not return. \n",
        "\n",
        " \n",
        "\n",
        "Cars arrived before hour 8 and after hour 20 cannot enter. However, all cars entered before hour 20 will finish receiving the service.\n",
        "\n",
        "**<font color=\"red\">In this question, you are NOT allowed to use any built-in sampling function except np.random.rand() </font>**\n",
        "\n"
      ]
    },
    {
      "cell_type": "markdown",
      "metadata": {
        "id": "wCbzcElRjN2Y"
      },
      "source": [
        "##Q1. [23 Points]\n",
        "\n",
        "* Simulate the system to compute the revenue generated during the day.\n",
        "* Simulate the system for 1000 rounds. Plot the distribution of the profit.\n",
        "\n"
      ]
    },
    {
      "cell_type": "code",
      "metadata": {
        "id": "agLzhUFpWumX"
      },
      "source": [
        "def arrival(env, auto_cleaning, worker1, worker2, output):\n",
        "  lmbda = 5\n",
        "  while True: \n",
        "    inter_arrival = -1/lmbda*np.log(np.random.rand())\n",
        "    yield env.timeout(inter_arrival)\n",
        "    all_customers = len(auto_cleaning.queue) + len(auto_cleaning.users)\n",
        "    # the queue for worker1 and work2 is the same, and they can serve simultaneously\n",
        "    all_customers += len(worker1.queue) + len(worker1.users) + len(worker2.users)\n",
        "    # print(len(auto_cleaning.queue), len(auto_cleaning.users), len(worker1.queue), len(worker1.users), len(worker2.users))\n",
        "    if all_customers >= 5:\n",
        "      continue\n",
        "\n",
        "    if env.now <= 12:\n",
        "      env.process(auto_cleaning_service(env, auto_cleaning, worker1, worker2, output))\n",
        "    else:\n",
        "      break\n",
        "\n",
        "def auto_cleaning_service(env, auto_cleaning, worker1, worker2, output):\n",
        "  rqt = auto_cleaning.request()\n",
        "  yield rqt\n",
        "\n",
        "  prob = np.random.rand()\n",
        "  if prob < 0.3:\n",
        "    # silver service\n",
        "    process_time = 5 / 60\n",
        "    revenue = 10\n",
        "\n",
        "  elif prob < 0.8:\n",
        "    process_time = 6 / 60\n",
        "    revenue = 12\n",
        "\n",
        "  else: \n",
        "    process_time = 7 / 60\n",
        "    revenue = 15\n",
        "  \n",
        "  yield env.timeout(process_time)\n",
        "  auto_cleaning.release(rqt)\n",
        "  env.process(hand_dry_service(env, worker1, worker2))\n",
        "  output.append(revenue)\n",
        "\n",
        "def hand_dry_service(env, worker1, worker2):\n",
        "  rqt1 = worker1.request()\n",
        "  rqt2 = worker2.request()\n",
        "\n",
        "  result = yield rqt1 | rqt2\n",
        "  # worker 1 is available\n",
        "  if (rqt1 in result) and (rqt2 not in result):\n",
        "    rqt2.cancel()\n",
        "    service_time = (10 + np.random.rand() * 10) / 60\n",
        "    yield env.timeout(service_time)\n",
        "    worker1.release(rqt1)\n",
        "    \n",
        "  # worker 2 is available\n",
        "  elif (rqt2 in result) and (rqt1 not in result):\n",
        "    rqt1.cancel()\n",
        "    service_time = (15 + np.random.rand() * 15) / 60\n",
        "    yield env.timeout(service_time)\n",
        "    worker2.release(rqt2)\n",
        "  \n",
        "  # both are available\n",
        "  else:\n",
        "    worker2_service_time = 15 + np.random.rand() * 15\n",
        "    if worker2_service_time < 25:\n",
        "      rqt1.cancel()\n",
        "      yield env.timeout(worker2_service_time / 60)\n",
        "      worker2.release(rqt2)\n",
        "    \n",
        "    else:\n",
        "      worker2_service_time = worker2_service_time / 2\n",
        "      worker1_service_time = 10 + np.random.rand() * 10\n",
        "      yield env.timeout(max(worker1_service_time, worker2_service_time) / 60)\n",
        "      worker1.release(rqt1)\n",
        "      worker2.release(rqt2)\n",
        "\n",
        "def simulation():\n",
        "  output = []\n",
        "  env = simpy.Environment()\n",
        "  auto_cleaning = simpy.Resource(env)\n",
        "  worker1 = simpy.Resource(env)\n",
        "  worker2 = simpy.Resource(env)\n",
        "  env.process(arrival(env, auto_cleaning, worker1, worker2, output))\n",
        "  env.run()\n",
        "\n",
        "  return sum(np.array(output))"
      ],
      "execution_count": 18,
      "outputs": []
    },
    {
      "cell_type": "code",
      "metadata": {
        "id": "vD6ScY_plePL",
        "colab": {
          "base_uri": "https://localhost:8080/"
        },
        "outputId": "38077f2e-957a-4710-b5f8-999e6d899224"
      },
      "source": [
        "output = []\n",
        "env = simpy.Environment()\n",
        "auto_cleaning = simpy.Resource(env)\n",
        "worker1 = simpy.Resource(env)\n",
        "worker2 = simpy.Resource(env)\n",
        "env.process(arrival(env, auto_cleaning, worker1, worker2, output))\n",
        "env.run()\n",
        "print('one day revenue: %.f' % sum(output))"
      ],
      "execution_count": 19,
      "outputs": [
        {
          "output_type": "stream",
          "text": [
            "one day revenue: 416\n"
          ],
          "name": "stdout"
        }
      ]
    },
    {
      "cell_type": "code",
      "metadata": {
        "id": "xVmZqw5sLc3Y"
      },
      "source": [
        "samples = [simulation() for _ in range(1000)]"
      ],
      "execution_count": 20,
      "outputs": []
    },
    {
      "cell_type": "code",
      "metadata": {
        "colab": {
          "base_uri": "https://localhost:8080/",
          "height": 421
        },
        "id": "vsNp1MCtLlmf",
        "outputId": "ebe81066-85b3-4884-f873-2b03fd9b702e"
      },
      "source": [
        "plt.figure(figsize=(10, 6))\n",
        "plt.hist(samples, density=True, bins=20)\n",
        "plt.xlabel('daily revenue')\n",
        "plt.ylabel('density')\n",
        "plt.title('The Distribution of Simulated Daily Revenue')"
      ],
      "execution_count": 21,
      "outputs": [
        {
          "output_type": "execute_result",
          "data": {
            "text/plain": [
              "Text(0.5, 1.0, 'The Distribution of Simulated Daily Revenue')"
            ]
          },
          "metadata": {
            "tags": []
          },
          "execution_count": 21
        },
        {
          "output_type": "display_data",
          "data": {
            "image/png": "[encoded data removed]",
            "text/plain": [
              "<Figure size 720x432 with 1 Axes>"
            ]
          },
          "metadata": {
            "tags": [],
            "needs_background": "light"
          }
        }
      ]
    },
    {
      "cell_type": "markdown",
      "metadata": {
        "id": "RLwszjnmV_-5"
      },
      "source": [
        "##Q2. [7 Points]\n",
        "\n",
        "The company thinking about purchasing a device that would auto-dry the car. This will add 1 minute to the auto-service time. For the hand-dry part, the service will only be 20% of the previous time. \n",
        "\n",
        "For the hand-dry part, the cars will receive the service with the worker available first. If both worker1 and worker 2 are available, worker 2 will always get the customer. Worker 1 and Worker 2 will not work on the same car anymore. \n",
        "\n",
        "* Based on simulation, decide whether this plan will increase revenue."
      ]
    },
    {
      "cell_type": "code",
      "metadata": {
        "id": "PIYLzOPIWsnL"
      },
      "source": [
        "def arrival(env, auto_cleaning, worker1, worker2, output):\n",
        "  lmbda = 5\n",
        "  while True: \n",
        "    inter_arrival = -1/lmbda*np.log(np.random.rand())\n",
        "    yield env.timeout(inter_arrival)\n",
        "    all_customers = len(auto_cleaning.queue) + len(auto_cleaning.users)\n",
        "    all_customers += len(worker1.queue) + len(worker1.users) + len(worker2.users)\n",
        "    if all_customers >= 5:\n",
        "      continue\n",
        "\n",
        "    if env.now <= 12:\n",
        "      env.process(auto_cleaning_service(env, auto_cleaning, worker1, worker2, output))\n",
        "    else:\n",
        "      break\n",
        "\n",
        "def auto_cleaning_service(env, auto_cleaning, worker1, worker2, output):\n",
        "  rqt = auto_cleaning.request()\n",
        "  yield rqt\n",
        "\n",
        "  prob = np.random.rand()\n",
        "  if prob < 0.3:\n",
        "    # silver service\n",
        "    process_time = 5 / 60\n",
        "    revenue = 10\n",
        "\n",
        "  elif prob < 0.8:\n",
        "    process_time = 6 / 60\n",
        "    revenue = 12\n",
        "\n",
        "  else: \n",
        "    process_time = 7 / 60\n",
        "    revenue = 15\n",
        "  \n",
        "  yield env.timeout(process_time + 1/60)\n",
        "  auto_cleaning.release(rqt)\n",
        "  env.process(hand_dry_service(env, worker1, worker2))\n",
        "  output.append(revenue)\n",
        "\n",
        "def hand_dry_service(env, worker1, worker2):\n",
        "  rqt1 = worker1.request()\n",
        "  rqt2 = worker2.request()\n",
        "\n",
        "  result = yield rqt1 | rqt2\n",
        "  # worker 1 is available\n",
        "  if (rqt1 in result) and (rqt2 not in result):\n",
        "    rqt2.cancel()\n",
        "    service_time = 10 + np.random.rand() * 10\n",
        "    service_time *= 0.2\n",
        "    yield env.timeout(service_time / 60)\n",
        "    worker1.release(rqt1)\n",
        "    \n",
        "  # worker 2 is available\n",
        "  elif (rqt2 in result) and (rqt1 not in result):\n",
        "    rqt1.cancel()\n",
        "    service_time = 15 + np.random.rand() * 15\n",
        "    service_time *= 0.2\n",
        "    yield env.timeout(service_time / 60)\n",
        "    worker2.release(rqt2)\n",
        "  \n",
        "  # both are available\n",
        "  else:\n",
        "    worker2_service_time = 15 + np.random.rand() * 15\n",
        "    worker2_service_time *= 0.2\n",
        "    rqt1.cancel()\n",
        "    yield env.timeout(worker2_service_time / 60)\n",
        "    worker2.release(rqt2)\n",
        "    \n",
        "\n",
        "def simulation():\n",
        "  output = []\n",
        "  env = simpy.Environment()\n",
        "  auto_cleaning = simpy.Resource(env)\n",
        "  worker1 = simpy.Resource(env)\n",
        "  worker2 = simpy.Resource(env)\n",
        "  env.process(arrival(env, auto_cleaning, worker1, worker2, output))\n",
        "  env.run()\n",
        "\n",
        "  return sum(np.array(output))"
      ],
      "execution_count": 22,
      "outputs": []
    },
    {
      "cell_type": "code",
      "metadata": {
        "id": "AiPwWJkXbOS1"
      },
      "source": [
        "samples_modified = [simulation() for _ in range(1000)]"
      ],
      "execution_count": 23,
      "outputs": []
    },
    {
      "cell_type": "code",
      "metadata": {
        "id": "CoFRuzs9bgr0",
        "colab": {
          "base_uri": "https://localhost:8080/",
          "height": 421
        },
        "outputId": "fe1b3075-81f8-4bcf-f9ad-fbd4968a73ba"
      },
      "source": [
        "plt.figure(figsize=(10, 6))\n",
        "plt.hist(samples_modified, density=True, bins=20)\n",
        "plt.xlabel('daily revenue')\n",
        "plt.ylabel('density')\n",
        "plt.title('The Distribution of Simulated Daily Revenue')"
      ],
      "execution_count": 24,
      "outputs": [
        {
          "output_type": "execute_result",
          "data": {
            "text/plain": [
              "Text(0.5, 1.0, 'The Distribution of Simulated Daily Revenue')"
            ]
          },
          "metadata": {
            "tags": []
          },
          "execution_count": 24
        },
        {
          "output_type": "display_data",
          "data": {
            "image/png": "[encoded data removed]",
            "text/plain": [
              "<Figure size 720x432 with 1 Axes>"
            ]
          },
          "metadata": {
            "tags": [],
            "needs_background": "light"
          }
        }
      ]
    },
    {
      "cell_type": "code",
      "metadata": {
        "id": "B5lhJoquOMwp"
      },
      "source": [
        "ci = (np.mean(samples) - 1.96*np.std(samples, ddof=1), np.mean(samples) + 1.96*np.std(samples, ddof=1))\n",
        "ci_modified = (np.mean(samples_modified) - 1.96*np.std(samples_modified, ddof=1), np.mean(samples_modified) + 1.96*np.std(samples_modified, ddof=1))"
      ],
      "execution_count": 25,
      "outputs": []
    },
    {
      "cell_type": "code",
      "metadata": {
        "colab": {
          "base_uri": "https://localhost:8080/"
        },
        "id": "eAIJFmmxN-5W",
        "outputId": "49039de2-4223-41e9-8e66-97ac17c68e30"
      },
      "source": [
        "print('the mean of original daily revenue: ', np.mean(samples))\n",
        "print('the confidence interval of original daily revenue: ', ci)\n",
        "print('the mean of modified daily revenue: ', np.mean(samples_modified))\n",
        "print('the confidence interval of modified daily revenue: ', ci_modified)\n",
        "print('\\n')\n",
        "print('The difference of mean daily revenue is: %.3f' % (np.mean(samples_modified) - np.mean(samples)))\n",
        "print('\\n')\n",
        "print('Since the mean difference of daily revenue is large')\n",
        "print('and the 95% confidence interval of daily revenue does not overlap,')\n",
        "print('which means the modification will significantly increase the daily revenue')"
      ],
      "execution_count": 26,
      "outputs": [
        {
          "output_type": "stream",
          "text": [
            "the mean of original daily revenue:  406.078\n",
            "the confidence interval of original daily revenue:  (364.4570481591574, 447.69895184084254)\n",
            "the mean of modified daily revenue:  701.064\n",
            "the confidence interval of modified daily revenue:  (536.4243514718466, 865.7036485281533)\n",
            "\n",
            "\n",
            "The difference of mean daily revenue is: 294.986\n",
            "\n",
            "\n",
            "Since the mean difference of daily revenue is large\n",
            "and the 95% confidence interval of daily revenue does not overlap,\n",
            "which means the modification will significantly increase the daily revenue\n"
          ],
          "name": "stdout"
        }
      ]
    },
    {
      "cell_type": "code",
      "metadata": {
        "id": "Ec4ghszjO4VZ"
      },
      "source": [
        ""
      ],
      "execution_count": 26,
      "outputs": []
    }
  ]
}