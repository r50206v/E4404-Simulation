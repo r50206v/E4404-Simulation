{
  "nbformat": 4,
  "nbformat_minor": 0,
  "metadata": {
    "colab": {
      "name": "Yi Ping Tseng - HW5 (IEOR 4404 Fall 2020).ipynb",
      "provenance": [],
      "collapsed_sections": [],
      "toc_visible": true
    },
    "kernelspec": {
      "name": "python3",
      "display_name": "Python 3"
    }
  },
  "cells": [
    {
      "cell_type": "markdown",
      "metadata": {
        "id": "4s5izpSul0F9"
      },
      "source": [
        "# **IEOR 4404  Simulation (Fall 2020)**\n",
        "\n",
        "**Homework 5 Solution  [Total points: 80 Points]**\n",
        "\n",
        "\n",
        "**Due 11:59 PM, Nov 29**\n",
        "\n",
        "Homework 4 consists of application-oriented exercises focusing on:\n",
        "* `simpy` simulation of systems\n",
        "\n",
        "The steps to finish the homework:\n",
        "\n",
        "*   Step 1: Answer your homework on Google Colab.\n",
        "*   Step 2: Submit the copy on Google Assignment\n",
        "\n",
        "Before you submit your assignment, make sure to re-run your code from the beginning. (You can do so by first clicking Runtime/Reset All Runtimes and then clicking Runtime/Run all)\n",
        "\n"
      ]
    },
    {
      "cell_type": "code",
      "metadata": {
        "id": "f3BPfGhTQSbE"
      },
      "source": [
        "#Your Name: Yi-Ping Tseng\n",
        "#Your UNI: yt2690"
      ],
      "execution_count": 1,
      "outputs": []
    },
    {
      "cell_type": "code",
      "metadata": {
        "colab": {
          "base_uri": "https://localhost:8080/"
        },
        "id": "16KjV-jls6Gk",
        "outputId": "57d245ee-3e1e-430f-bb37-cd9a6ffb8a89"
      },
      "source": [
        "!pip install sympy simpy pynverse -U"
      ],
      "execution_count": 2,
      "outputs": [
        {
          "output_type": "stream",
          "text": [
            "Requirement already up-to-date: sympy in /usr/local/lib/python3.6/dist-packages (1.6.2)\n",
            "Requirement already up-to-date: simpy in /usr/local/lib/python3.6/dist-packages (4.0.1)\n",
            "Requirement already up-to-date: pynverse in /usr/local/lib/python3.6/dist-packages (0.1.4.4)\n",
            "Requirement already satisfied, skipping upgrade: mpmath>=0.19 in /usr/local/lib/python3.6/dist-packages (from sympy) (1.1.0)\n",
            "Requirement already satisfied, skipping upgrade: scipy>=0.11 in /usr/local/lib/python3.6/dist-packages (from pynverse) (1.4.1)\n",
            "Requirement already satisfied, skipping upgrade: numpy>=1.6 in /usr/local/lib/python3.6/dist-packages (from pynverse) (1.18.5)\n"
          ],
          "name": "stdout"
        }
      ]
    },
    {
      "cell_type": "code",
      "metadata": {
        "id": "x4lR3IqNGLmD"
      },
      "source": [
        "#This imports all the packages you need for the homework\n",
        "#Please run this first\n",
        "import numpy as np\n",
        "\n",
        "import scipy.special as spsp\n",
        "import scipy.stats as spst\n",
        "\n",
        "import matplotlib.pyplot as plt\n",
        "\n",
        "%matplotlib inline\n",
        "\n",
        "import sympy\n",
        "import simpy\n",
        "import gc"
      ],
      "execution_count": 3,
      "outputs": []
    },
    {
      "cell_type": "markdown",
      "metadata": {
        "id": "hZQYGmM7rpWS"
      },
      "source": [
        "#Exercise 1 [20 Points]\n",
        "\n",
        "An M/M/1 queue represents the queue length in a system having a **single server**, where arrivals are determined by a **Homogeneous Poisson process** with rate $\\lambda$ and job service times have an **exponential distribution** with rate $\\mu$ (i.e. mean service time is $1/\\mu$). \n",
        "\n",
        "\n"
      ]
    },
    {
      "cell_type": "markdown",
      "metadata": {
        "id": "5pRINZq6xRQE"
      },
      "source": [
        "\n",
        "##Q1.  [12 points]\n",
        "\n",
        "An M/M/1 system is stationary if $\\lambda<\\mu$. For a non-stationary system, the queue will be growing indefinitely long as time goes to infinity. \n",
        "\n",
        "* Construct an M/M/1 system using `simpy` assume $\\lambda=8$ and $\\mu=2$. Use `Rn_arrival=np.random.RandomState(10)` to generate the random numbers used to generate the arrival times. Use `Rn_service=np.random.RandomState(100)` to the random numbers used to generate the service times. Simulate the system between $t=0$ and $t=100$\n",
        "\n",
        "* Plot the relationship between time and the number of people in the system above (including both lining up and receiving the service ) using  [plt.step()](https://www.geeksforgeeks.org/matplotlib-pyplot-step-function-in-python/). Argue that the system is not stationary.\n",
        "\n",
        "* Change to $\\lambda=1$ and $\\mu=2$. Plot the relationship between the time and the number of people in the system above (including both lining up and receiving the service ) from $t=0$ to  $t=100$ using [plt.step()](https://www.geeksforgeeks.org/matplotlib-pyplot-step-function-in-python/).  \n",
        "\n",
        " \n",
        " "
      ]
    },
    {
      "cell_type": "code",
      "metadata": {
        "id": "Kali6IL7hcK8"
      },
      "source": [
        "def arrival(lmbda_arrival, lmbda_service):\n",
        "  while True:\n",
        "    inter_arrival = -1/lmbda_arrival*np.log(Rn_arrival.rand())\n",
        "    yield env.timeout(inter_arrival)\n",
        "    env.process(service(lmbda_service))\n",
        "      \n",
        "def service(lmbda_service):\n",
        "  inter_arrival = -1/lmbda_service*np.log(Rn_service.rand())\n",
        "\n",
        "  rqt = desk.request()\n",
        "  timeList.append(env.now)\n",
        "  numberOfPeople.append(len(desk.queue) + len(desk.users))\n",
        "  yield rqt\n",
        "  yield env.timeout(inter_arrival)\n",
        "\n",
        "  desk.release(rqt)"
      ],
      "execution_count": 4,
      "outputs": []
    },
    {
      "cell_type": "code",
      "metadata": {
        "id": "dP7RfuSrrSTd",
        "colab": {
          "base_uri": "https://localhost:8080/",
          "height": 436
        },
        "outputId": "cd89ed71-28f4-478a-8a69-fd4ae8c01c65"
      },
      "source": [
        "Rn_arrival = np.random.RandomState(10)\n",
        "Rn_service = np.random.RandomState(100)\n",
        "timeList = []\n",
        "numberOfPeople = []\n",
        "\n",
        "env = simpy.Environment()\n",
        "env.process(arrival(8, 2))\n",
        "desk = simpy.Resource(env, capacity=1)\n",
        "T = 100\n",
        "env.run(until=T)\n",
        "\n",
        "plt.figure(figsize=(10, 6))\n",
        "plt.step(timeList, numberOfPeople)\n",
        "plt.xlabel('time')\n",
        "plt.ylabel('number of people in the system')\n",
        "plt.title('The number of people in the system over time\\n lambda=8, mu=2')"
      ],
      "execution_count": 5,
      "outputs": [
        {
          "output_type": "execute_result",
          "data": {
            "text/plain": [
              "Text(0.5, 1.0, 'The number of people in the system over time\\n lambda=8, mu=2')"
            ]
          },
          "metadata": {
            "tags": []
          },
          "execution_count": 5
        },
        {
          "output_type": "display_data",
          "data": {
            "image/png": "[encoded data removed]",
            "text/plain": [
              "<Figure size 720x432 with 1 Axes>"
            ]
          },
          "metadata": {
            "tags": [],
            "needs_background": "light"
          }
        }
      ]
    },
    {
      "cell_type": "code",
      "metadata": {
        "colab": {
          "base_uri": "https://localhost:8080/",
          "height": 436
        },
        "id": "3PKRhuRSnS_w",
        "outputId": "e6ad0db6-ee87-48ac-d069-6743aa427c36"
      },
      "source": [
        "Rn_arrival = np.random.RandomState(10)\n",
        "Rn_service = np.random.RandomState(100)\n",
        "timeList = []\n",
        "numberOfPeople = []\n",
        "\n",
        "env = simpy.Environment()\n",
        "env.process(arrival(1, 2))\n",
        "desk = simpy.Resource(env, capacity=1)\n",
        "T = 100\n",
        "env.run(until=T)\n",
        "\n",
        "plt.figure(figsize=(10, 6))\n",
        "plt.step(timeList, numberOfPeople)\n",
        "plt.xlabel('time')\n",
        "plt.ylabel('number of people in the system')\n",
        "plt.title('The number of people in the system over time\\n lambda=1, mu=2')"
      ],
      "execution_count": 6,
      "outputs": [
        {
          "output_type": "execute_result",
          "data": {
            "text/plain": [
              "Text(0.5, 1.0, 'The number of people in the system over time\\n lambda=1, mu=2')"
            ]
          },
          "metadata": {
            "tags": []
          },
          "execution_count": 6
        },
        {
          "output_type": "display_data",
          "data": {
            "image/png": "[encoded data removed]",
            "text/plain": [
              "<Figure size 720x432 with 1 Axes>"
            ]
          },
          "metadata": {
            "tags": [],
            "needs_background": "light"
          }
        }
      ]
    },
    {
      "cell_type": "code",
      "metadata": {
        "id": "nWFPpLWV0Cnd"
      },
      "source": [
        ""
      ],
      "execution_count": 6,
      "outputs": []
    },
    {
      "cell_type": "markdown",
      "metadata": {
        "id": "1FhYMd0doFbZ"
      },
      "source": [
        "##Q2. [8 points]\n",
        "\n",
        "If the system is stationary, then the probability of having $i$ customers at a sufficiently large $t$ (including the one in service) is \n",
        "\n",
        "$P(i)=(1-\\rho)\\rho^i, i=0,1,2, \\dots$ .\n",
        "\n",
        "where $\\rho=\\frac{\\lambda}{\\mu}$\n",
        "\n",
        "For this question, let's assume we have an M/M/1 system with $\\lambda=1.5$ and $\\mu=2$\n",
        "\n",
        "* Simulate the system to record the number of people in the system at t=100.\n",
        "* Repeat the system simulation 1000 times.\n",
        "* Plot the sample and theoretical distribution of the number of people in the system at t=100."
      ]
    },
    {
      "cell_type": "code",
      "metadata": {
        "id": "dmbndhlFLihb"
      },
      "source": [
        "def arrival(lmbda_arrival, lmbda_service):\n",
        "  while True:\n",
        "    inter_arrival = -1/lmbda_arrival*np.log(np.random.rand())\n",
        "    yield env.timeout(inter_arrival)\n",
        "    env.process(service(lmbda_service))\n",
        "      \n",
        "def service(lmbda_service):\n",
        "  inter_arrival = -1/lmbda_service*np.log(np.random.rand())\n",
        "  rqt = desk.request()\n",
        "  yield rqt\n",
        "  yield env.timeout(inter_arrival)\n",
        "  desk.release(rqt)"
      ],
      "execution_count": 7,
      "outputs": []
    },
    {
      "cell_type": "code",
      "metadata": {
        "id": "4YLbT2GQHDVf"
      },
      "source": [
        "samples = []\n",
        "\n",
        "for _ in range(100):\n",
        "  env = simpy.Environment()\n",
        "  env.process(arrival(1.5, 2))\n",
        "  desk = simpy.Resource(env, capacity=1)\n",
        "  T = 100\n",
        "  env.run(until=T)\n",
        "  gc.collect()\n",
        "  samples.append(len(desk.users) + len(desk.queue))"
      ],
      "execution_count": 8,
      "outputs": []
    },
    {
      "cell_type": "code",
      "metadata": {
        "id": "nFPC2NbXrVgz"
      },
      "source": [
        "unique, counts = np.unique(samples, return_counts=True)\n",
        "x = np.arange(max(unique))\n",
        "phi = 1.5 / 2\n",
        "theory = (1 - phi) * phi**(x)"
      ],
      "execution_count": 9,
      "outputs": []
    },
    {
      "cell_type": "code",
      "metadata": {
        "colab": {
          "base_uri": "https://localhost:8080/",
          "height": 421
        },
        "id": "Qgo92AxTn1cT",
        "outputId": "96e486a1-4202-4086-8fd6-a6d9f6d3c644"
      },
      "source": [
        "plt.figure(figsize=(10, 6))\n",
        "plt.hist(samples, label='sample', density=True, bins=16)\n",
        "plt.plot(x, theory, label='theoratical')\n",
        "plt.xlabel('number of customers')\n",
        "plt.ylabel('probability')\n",
        "plt.title('The distribution of the number of people in the system at t=100')\n",
        "plt.legend()"
      ],
      "execution_count": 10,
      "outputs": [
        {
          "output_type": "execute_result",
          "data": {
            "text/plain": [
              "<matplotlib.legend.Legend at 0x7f047e914748>"
            ]
          },
          "metadata": {
            "tags": []
          },
          "execution_count": 10
        },
        {
          "output_type": "display_data",
          "data": {
            "image/png": "[encoded data removed]",
            "text/plain": [
              "<Figure size 720x432 with 1 Axes>"
            ]
          },
          "metadata": {
            "tags": [],
            "needs_background": "light"
          }
        }
      ]
    },
    {
      "cell_type": "code",
      "metadata": {
        "id": "uI69A4GxMmLs"
      },
      "source": [
        ""
      ],
      "execution_count": 10,
      "outputs": []
    },
    {
      "cell_type": "markdown",
      "metadata": {
        "id": "NB_Sbhl72lQj"
      },
      "source": [
        "#Exercise 2 [30 Points]\n",
        "\n",
        "##Setting\n",
        "\n",
        "![title](https://onlinevending.com/wp-content/uploads/2016/07/Untitled-106-300x300.png)\n",
        "\n",
        "A vending machine has 15 different products. The vending machines started as full with 20 units in stock for each product (300 items in total). Customers arrive every 0.1 hours at a vending machine and make a purchase. Each customer wants to purchase $x$ units of product $i$. Let's assume that $i$ is equally likely to be between 1 and 15. For $x$, let's assume follows a discrete uniform distribution between 0 and 3. If product $i$ has stock level $s$ is lower than what the customer wants, the customer will purchase all the units left for the product $i$. \n",
        "\n",
        "Once the stock level of any product goes below $z$ and no refill order is waiting to be fulfilled, a refill will be requested. The refill takes 1.95 hours to be fulfilled. During the process, consumers can still make purchases normally. Once the refill request is fulfilled, the vending machine becomes full again.\n",
        "\n",
        "Let's assume that the sales of each item generate a profit of 0.5 dollars. Each refill trip costs 20 dollars. The cost is counted once a refill process starts.\n",
        "\n",
        "**<font color=\"red\">In this question, you are NOT allowed to use any built-in sampling function except np.random.rand() </font>**\n",
        "\n"
      ]
    },
    {
      "cell_type": "markdown",
      "metadata": {
        "id": "_lurFvYtKA5e"
      },
      "source": [
        "## Q1. [23 points]\n",
        "\n",
        "* Based on `simpy`, simulate the system for a week. Assume $z=4$. Return the revenue from the goods minus the refill trip costs. \n",
        "* Repeat the system 100 times. Report the average revenue."
      ]
    },
    {
      "cell_type": "code",
      "metadata": {
        "id": "MGn205rb2nKn"
      },
      "source": [
        "profit = 0\n",
        "customer_request = []\n",
        "\n",
        "def arrival(debug=False):\n",
        "  global profit\n",
        "  inventory = {k: 20 for k in range(1, 16, 1)}\n",
        "\n",
        "  while True:\n",
        "    product_id = int(np.random.rand() / (1/15)) + 1\n",
        "    purchase_unit = int(np.random.rand() / (1/4))\n",
        "    customer_request.append((product_id, purchase_unit))\n",
        "    yield env.timeout(0.1)\n",
        "\n",
        "    if inventory[product_id] < purchase_unit:\n",
        "      profit += inventory[product_id] * 0.5\n",
        "      inventory[product_id] = 0\n",
        "    else:\n",
        "      profit += purchase_unit * 0.5\n",
        "      inventory[product_id] -= purchase_unit\n",
        "\n",
        "    if inventory[product_id] < z:\n",
        "      profit -= 20\n",
        "      if debug:\n",
        "        print('request a refill, profit: %.f, time: %.f' % (profit, env.now))\n",
        "      env.process(refill())\n",
        "      inventory = {k: 20 for k in range(1, 16, 1)}\n",
        "\n",
        "\n",
        "def refill():\n",
        "  rqt = desk.request()\n",
        "  yield rqt\n",
        "  yield env.timeout(1.95)\n",
        "  desk.release(rqt)"
      ],
      "execution_count": 11,
      "outputs": []
    },
    {
      "cell_type": "code",
      "metadata": {
        "colab": {
          "base_uri": "https://localhost:8080/"
        },
        "id": "oHNkFVUIDG96",
        "outputId": "31185134-54b5-4d38-a04a-88471b7f9465"
      },
      "source": [
        "z = 4\n",
        "T = 24 * 7\n",
        "\n",
        "np.random.seed(1)\n",
        "env = simpy.Environment()\n",
        "env.process(arrival(debug=True))\n",
        "desk = simpy.Resource(env, capacity=1)\n",
        "env.run(until=T)"
      ],
      "execution_count": 12,
      "outputs": [
        {
          "output_type": "stream",
          "text": [
            "request a refill, profit: 29, time: 6\n",
            "request a refill, profit: 86, time: 15\n",
            "request a refill, profit: 113, time: 21\n",
            "request a refill, profit: 155, time: 31\n",
            "request a refill, profit: 202, time: 40\n",
            "request a refill, profit: 231, time: 47\n",
            "request a refill, profit: 269, time: 54\n",
            "request a refill, profit: 329, time: 64\n",
            "request a refill, profit: 348, time: 68\n",
            "request a refill, profit: 382, time: 76\n",
            "request a refill, profit: 430, time: 84\n",
            "request a refill, profit: 463, time: 90\n",
            "request a refill, profit: 490, time: 96\n",
            "request a refill, profit: 550, time: 107\n",
            "request a refill, profit: 594, time: 116\n",
            "request a refill, profit: 660, time: 128\n",
            "request a refill, profit: 706, time: 138\n",
            "request a refill, profit: 750, time: 146\n",
            "request a refill, profit: 770, time: 151\n",
            "request a refill, profit: 800, time: 158\n",
            "request a refill, profit: 853, time: 168\n"
          ],
          "name": "stdout"
        }
      ]
    },
    {
      "cell_type": "code",
      "metadata": {
        "id": "TLwJilSoE1xR"
      },
      "source": [
        "z = 4\n",
        "T = 24 * 7\n",
        "\n",
        "profitList = []\n",
        "for _ in range(100):\n",
        "  profit = 0\n",
        "  env = simpy.Environment()\n",
        "  env.process(arrival())\n",
        "  desk = simpy.Resource(env, capacity=1)\n",
        "  env.run(until=T)\n",
        "\n",
        "  profitList.append(profit)"
      ],
      "execution_count": 13,
      "outputs": []
    },
    {
      "cell_type": "code",
      "metadata": {
        "colab": {
          "base_uri": "https://localhost:8080/"
        },
        "id": "Y76tbrHcFdkc",
        "outputId": "fa7d467d-6b0f-4a69-8830-98bddc5ced76"
      },
      "source": [
        "np.mean(profitList)"
      ],
      "execution_count": 14,
      "outputs": [
        {
          "output_type": "execute_result",
          "data": {
            "text/plain": [
              "871.075"
            ]
          },
          "metadata": {
            "tags": []
          },
          "execution_count": 14
        }
      ]
    },
    {
      "cell_type": "code",
      "metadata": {
        "id": "H18CO444Feh5"
      },
      "source": [
        ""
      ],
      "execution_count": 14,
      "outputs": []
    },
    {
      "cell_type": "markdown",
      "metadata": {
        "id": "Drz94-ztKXzx"
      },
      "source": [
        "##Q2. [7 points]\n",
        "\n",
        "* Now, use different $z$ values for the exercise in Q1. Plot the relationship between $z$ and the average system output.\n",
        "* Find the best $z$ value."
      ]
    },
    {
      "cell_type": "code",
      "metadata": {
        "id": "m8GZoq_HGM8P"
      },
      "source": [
        "avgProfitList = []\n",
        "for z in range(1, 21, 1):\n",
        "\n",
        "  profitList = []\n",
        "  for _ in range(100):\n",
        "    profit = 0\n",
        "    env = simpy.Environment()\n",
        "    env.process(arrival())\n",
        "    desk = simpy.Resource(env, capacity=1)\n",
        "    env.run(until=T)\n",
        "\n",
        "    profitList.append(profit)\n",
        "\n",
        "  avgProfitList.append(np.mean(profitList))"
      ],
      "execution_count": 15,
      "outputs": []
    },
    {
      "cell_type": "code",
      "metadata": {
        "colab": {
          "base_uri": "https://localhost:8080/"
        },
        "id": "NW8vt5OOGQon",
        "outputId": "7bb44314-371c-4300-80d9-fcbe021ddc0e"
      },
      "source": [
        "avgProfitList"
      ],
      "execution_count": 16,
      "outputs": [
        {
          "output_type": "execute_result",
          "data": {
            "text/plain": [
              "[943.265,\n",
              " 921.735,\n",
              " 895.67,\n",
              " 865.215,\n",
              " 831.485,\n",
              " 787.695,\n",
              " 743.585,\n",
              " 678.45,\n",
              " 606.9,\n",
              " 510.125,\n",
              " 399.91,\n",
              " 236.185,\n",
              " 22.225,\n",
              " -253.8,\n",
              " -793.995,\n",
              " -1540.08,\n",
              " -2467.86,\n",
              " -8300.115,\n",
              " -15765.645,\n",
              " -24014.305]"
            ]
          },
          "metadata": {
            "tags": []
          },
          "execution_count": 16
        }
      ]
    },
    {
      "cell_type": "code",
      "metadata": {
        "colab": {
          "base_uri": "https://localhost:8080/",
          "height": 472
        },
        "id": "3lizpJYMGDi6",
        "outputId": "6d30af33-b268-43df-e83b-1c5410a07f03"
      },
      "source": [
        "plt.figure(figsize=(10, 6))\n",
        "plt.scatter(list(range(1, 21, 1)), avgProfitList)\n",
        "plt.xlabel('z value')\n",
        "plt.ylabel('profit')\n",
        "plt.title('The Relationship between Z and Average Profit')\n",
        "\n",
        "print('According to the simulation, we should refill the vending machine by setting z = 1, \\nwhich means only when one product is sold out.\\n\\n')"
      ],
      "execution_count": 17,
      "outputs": [
        {
          "output_type": "stream",
          "text": [
            "According to the simulation, we should refill the vending machine by setting z = 1, \n",
            "which means only when one product is sold out.\n",
            "\n",
            "\n"
          ],
          "name": "stdout"
        },
        {
          "output_type": "display_data",
          "data": {
            "image/png": "[encoded data removed]",
            "text/plain": [
              "<Figure size 720x432 with 1 Axes>"
            ]
          },
          "metadata": {
            "tags": [],
            "needs_background": "light"
          }
        }
      ]
    },
    {
      "cell_type": "code",
      "metadata": {
        "id": "n42fOnshOfBT"
      },
      "source": [
        ""
      ],
      "execution_count": 17,
      "outputs": []
    },
    {
      "cell_type": "markdown",
      "metadata": {
        "id": "PIo_Cs0pEaE6"
      },
      "source": [
        "# Exercise 3 [30 Points]\n",
        "\n",
        "\n",
        "\n",
        "\n",
        "![title](https://images.squarespace-cdn.com/content/v1/518ac285e4b0288d5ff90c6f/1377221007294-HNC3JDD4UW9QY2G5LC1D/ke17ZwdGBToddI8pDm48kCMWMBFcqQftRz-JqZZoIB5Zw-zPPgdn4jUwVcJE1ZvWEtT5uBSRWt4vQZAgTJucoTqqXjS3CfNDSuuf31e0tVHNITcGTe41xBuPe_t-alTYdDq7Kkl9qklZ5rK1q7N4dsyd8tRlQIE8kTD4VvGRtXw/car-wash-hand-dry-hp.jpg) \n",
        "\n",
        "\n",
        "\n",
        "Customers arrive at a car wash shop following a homogeneous Poisson process with $\\lambda=5$ [expected number arrivals is 5 per hour] between hour 8 (8 am)  and 20 (8 pm). \n",
        "Upon arrival, they will get auto-cleaning service （including payment）. The service time follows:\n",
        "\n",
        "|Service Type | Time| Choice Probability|Price| \n",
        "|---|---|---|---|\n",
        "|Silver|5 minutes|0.3|10 dollars|\n",
        "|Gold|6 minutes|0.5|12 dollars|\n",
        "|Platinum|7 minutes|0.2|15 dollars|\n",
        "\n",
        "The auto-cleaning device can only take 1 customer at a time. The service order follows first come first serve.\n",
        "\n",
        "\n",
        "After this stage, cars will then wait for workers to hand-dry the car. There are two workers. Depending on the car, worker 1 can take uniformly between 10 and 20 minutes, while worker 2 can take uniformly between 15 and 30 minutes. Each worker knows exactly how long it will take after they identify the car and before they start the drying process.\n",
        "\n",
        "|Worker|  Service Time|\n",
        "|---|---|\n",
        "|1|Uniform(10,20)|\n",
        "|2|Uniform(15,30)|\n",
        "\n",
        "[Worker 1 on average is faster than worker 2 when working alone]\n",
        "\n",
        "A car will receive the service with the worker who becomes available first. The service order follows first come first serve.\n",
        "\n",
        "If both worker 1 and worker 2 are available at the same time, \n",
        "* worker 2 will work on the car if he expects the drying process will take less than 25 minutes when working alone.\n",
        "* otherwise, worker 1 and worker 2 will work together. The service time will be half of the time if worker 2 works alone. \n",
        "\n",
        "\n",
        "Due to space limitations, the system can only accomondate 5 cars at the same time (including both cars receiving the service and cars waiting). If a car cannot fit in the system, the car will leave and not return. \n",
        "\n",
        " \n",
        "\n",
        "Cars arrived before hour 8 and after hour 20 cannot enter. However, all cars entered before hour 20 will finish receiving the service.\n",
        "\n",
        "**<font color=\"red\">In this question, you are NOT allowed to use any built-in sampling function except np.random.rand() </font>**\n",
        "\n"
      ]
    },
    {
      "cell_type": "markdown",
      "metadata": {
        "id": "wCbzcElRjN2Y"
      },
      "source": [
        "##Q1. [23 Points]\n",
        "\n",
        "* Simulate the system to compute the revenue generated during the day.\n",
        "* Simulate the system for 1000 rounds. Plot the distribution of the profit.\n",
        "\n"
      ]
    },
    {
      "cell_type": "code",
      "metadata": {
        "id": "agLzhUFpWumX"
      },
      "source": [
        "def arrival(env, auto_cleaning, worker1, worker2, output):\n",
        "  lmbda = 3\n",
        "  while True: \n",
        "    inter_arrival = -1/lmbda*np.log(np.random.rand())\n",
        "    yield env.timeout(inter_arrival)\n",
        "    if len(auto_cleaning.queue) + len(auto_cleaning.users) + len(worker1.queue) + len(worker1.users) == 5:\n",
        "      continue\n",
        "\n",
        "    if env.now <= 12:\n",
        "      env.process(auto_cleaning_service(env, auto_cleaning, worker1, worker2, output))\n",
        "    else:\n",
        "      break\n",
        "\n",
        "def auto_cleaning_service(env, auto_cleaning, worker1, worker2, output):\n",
        "  rqt = auto_cleaning.request()\n",
        "  yield rqt\n",
        "\n",
        "  prob = np.random.rand()\n",
        "  if prob < 0.3:\n",
        "    # silver service\n",
        "    process_time = 5 / 60\n",
        "    revenue = 10\n",
        "\n",
        "  elif prob < 0.8:\n",
        "    process_time = 6 / 60\n",
        "    revenue = 12\n",
        "\n",
        "  else: \n",
        "    process_time = 7 / 60\n",
        "    revenue = 15\n",
        "  \n",
        "  yield env.timeout(process_time)\n",
        "  auto_cleaning.release(rqt)\n",
        "  env.process(hand_dry_service(env, worker1, worker2))\n",
        "  output.append(revenue)\n",
        "\n",
        "def hand_dry_service(env, worker1, worker2):\n",
        "  rqt1 = worker1.request()\n",
        "  rqt2 = worker2.request()\n",
        "\n",
        "  result = yield rqt1 | rqt2\n",
        "  # worker 1 is available\n",
        "  if (rqt1 in result) and (rqt2 not in result):\n",
        "    rqt2.cancel()\n",
        "    service_time = 10 + np.random.rand() * 10\n",
        "    yield env.timeout(service_time)\n",
        "    worker1.release(rqt1)\n",
        "    \n",
        "  # worker 2 is available\n",
        "  elif (rqt2 in result) and (rqt1 not in result):\n",
        "    rqt1.cancel()\n",
        "    service_time = 15 + np.random.rand() * 15\n",
        "    yield env.timeout(service_time)\n",
        "    worker2.release(rqt2)\n",
        "  \n",
        "  # both are available\n",
        "  else:\n",
        "    worker2_service_time = 15 + np.random.rand() * 15\n",
        "    if worker2_service_time < 25:\n",
        "      rqt1.cancel()\n",
        "      yield env.timeout(worker2_service_time)\n",
        "      worker2.release(rqt2)\n",
        "    \n",
        "    else:\n",
        "      worker2_service_time = worker2_service_time / 2\n",
        "      worker1_service_time = 10 + np.random.rand() * 10\n",
        "      yield env.timeout(max(worker1_service_time, worker2_service_time))\n",
        "      worker1.release(rqt1)\n",
        "      worker2.release(rqt2)\n",
        "\n",
        "def simulation():\n",
        "  output = []\n",
        "  env = simpy.Environment()\n",
        "  auto_cleaning = simpy.Resource(env)\n",
        "  worker1 = simpy.Resource(env)\n",
        "  worker2 = simpy.Resource(env)\n",
        "  env.process(arrival(env, auto_cleaning, worker1, worker2, output))\n",
        "  env.run(until=12)\n",
        "\n",
        "  return sum(np.array(output))"
      ],
      "execution_count": 72,
      "outputs": []
    },
    {
      "cell_type": "code",
      "metadata": {
        "id": "vD6ScY_plePL",
        "colab": {
          "base_uri": "https://localhost:8080/"
        },
        "outputId": "cfa8d0a1-aed8-48fe-c5c4-45925ba449fa"
      },
      "source": [
        "output = []\n",
        "env = simpy.Environment()\n",
        "auto_cleaning = simpy.Resource(env)\n",
        "worker1 = simpy.Resource(env)\n",
        "worker2 = simpy.Resource(env)\n",
        "env.process(arrival(env, auto_cleaning, worker1, worker2, output))\n",
        "env.run(until=12)\n",
        "print('one day revenue: %.f' % sum(output))"
      ],
      "execution_count": 73,
      "outputs": [
        {
          "output_type": "stream",
          "text": [
            "one day revenue: 61\n"
          ],
          "name": "stdout"
        }
      ]
    },
    {
      "cell_type": "code",
      "metadata": {
        "id": "xVmZqw5sLc3Y"
      },
      "source": [
        "samples = [simulation() for _ in range(1000)]"
      ],
      "execution_count": 74,
      "outputs": []
    },
    {
      "cell_type": "code",
      "metadata": {
        "colab": {
          "base_uri": "https://localhost:8080/",
          "height": 421
        },
        "id": "vsNp1MCtLlmf",
        "outputId": "a291626f-6e75-47bb-fa95-fbfe9cbcaa53"
      },
      "source": [
        "plt.figure(figsize=(10, 6))\n",
        "plt.hist(samples, density=True, bins=20)\n",
        "plt.xlabel('daily revenue')\n",
        "plt.ylabel('density')\n",
        "plt.title('The Distribution of Simulated Daily Revenue')"
      ],
      "execution_count": 75,
      "outputs": [
        {
          "output_type": "execute_result",
          "data": {
            "text/plain": [
              "Text(0.5, 1.0, 'The Distribution of Simulated Daily Revenue')"
            ]
          },
          "metadata": {
            "tags": []
          },
          "execution_count": 75
        },
        {
          "output_type": "display_data",
          "data": {
            "image/png": "[encoded data removed]",
            "text/plain": [
              "<Figure size 720x432 with 1 Axes>"
            ]
          },
          "metadata": {
            "tags": [],
            "needs_background": "light"
          }
        }
      ]
    },
    {
      "cell_type": "markdown",
      "metadata": {
        "id": "RLwszjnmV_-5"
      },
      "source": [
        "##Q2. [7 Points]\n",
        "\n",
        "The company thinking about purchasing a device that would auto-dry the car. This will add 1 minute to the auto-service time. For the hand-dry part, the service will only be 20% of the previous time. \n",
        "\n",
        "For the hand-dry part, the cars will receive the service with the worker available first. If both worker1 and worker 2 are available, worker 2 will always get the customer. Worker 1 and Worker 2 will not work on the same car anymore. \n",
        "\n",
        "* Based on simulation, decide whether this plan will increase revenue."
      ]
    },
    {
      "cell_type": "code",
      "metadata": {
        "id": "PIYLzOPIWsnL"
      },
      "source": [
        "def arrival(env, auto_cleaning, worker1, worker2, output):\n",
        "  lmbda = 3\n",
        "  while True: \n",
        "    inter_arrival = -1/lmbda*np.log(np.random.rand())\n",
        "    yield env.timeout(inter_arrival)\n",
        "    if len(auto_cleaning.queue) + len(auto_cleaning.users) + len(worker1.queue) + len(worker1.users) == 5:\n",
        "      continue\n",
        "\n",
        "    if env.now <= 12:\n",
        "      env.process(auto_cleaning_service(env, auto_cleaning, worker1, worker2, output))\n",
        "    else:\n",
        "      break\n",
        "\n",
        "def auto_cleaning_service(env, auto_cleaning, worker1, worker2, output):\n",
        "  rqt = auto_cleaning.request()\n",
        "  yield rqt\n",
        "\n",
        "  prob = np.random.rand()\n",
        "  if prob < 0.3:\n",
        "    # silver service\n",
        "    process_time = 5 / 60\n",
        "    revenue = 10\n",
        "\n",
        "  elif prob < 0.8:\n",
        "    process_time = 6 / 60\n",
        "    revenue = 12\n",
        "\n",
        "  else: \n",
        "    process_time = 7 / 60\n",
        "    revenue = 15\n",
        "  \n",
        "  yield env.timeout(process_time + 1/60)\n",
        "  auto_cleaning.release(rqt)\n",
        "  env.process(hand_dry_service(env, worker1, worker2))\n",
        "  output.append(revenue)\n",
        "\n",
        "def hand_dry_service(env, worker1, worker2):\n",
        "  rqt1 = worker1.request()\n",
        "  rqt2 = worker2.request()\n",
        "\n",
        "  result = yield rqt1 | rqt2\n",
        "  # worker 1 is available\n",
        "  if (rqt1 in result) and (rqt2 not in result):\n",
        "    rqt2.cancel()\n",
        "    service_time = 10 + np.random.rand() * 10\n",
        "    service_time *= 0.2\n",
        "    yield env.timeout(service_time)\n",
        "    worker1.release(rqt1)\n",
        "    \n",
        "  # worker 2 is available\n",
        "  elif (rqt2 in result) and (rqt1 not in result):\n",
        "    rqt1.cancel()\n",
        "    service_time = 15 + np.random.rand() * 15\n",
        "    service_time *= 0.2\n",
        "    yield env.timeout(service_time)\n",
        "    worker2.release(rqt2)\n",
        "  \n",
        "  # both are available\n",
        "  else:\n",
        "    worker2_service_time = 15 + np.random.rand() * 15\n",
        "    worker2_service_time *= 0.2\n",
        "    rqt1.cancel()\n",
        "    yield env.timeout(worker2_service_time)\n",
        "    worker2.release(rqt2)\n",
        "    \n",
        "\n",
        "def simulation():\n",
        "  output = []\n",
        "  env = simpy.Environment()\n",
        "  auto_cleaning = simpy.Resource(env)\n",
        "  worker1 = simpy.Resource(env)\n",
        "  worker2 = simpy.Resource(env)\n",
        "  env.process(arrival(env, auto_cleaning, worker1, worker2, output))\n",
        "  env.run(until=12)\n",
        "\n",
        "  return sum(np.array(output))"
      ],
      "execution_count": 76,
      "outputs": []
    },
    {
      "cell_type": "code",
      "metadata": {
        "id": "AiPwWJkXbOS1"
      },
      "source": [
        "samples_modified = [simulation() for _ in range(1000)]"
      ],
      "execution_count": 77,
      "outputs": []
    },
    {
      "cell_type": "code",
      "metadata": {
        "id": "CoFRuzs9bgr0",
        "colab": {
          "base_uri": "https://localhost:8080/",
          "height": 421
        },
        "outputId": "b135f322-c40d-4766-8a8a-2fea0c041481"
      },
      "source": [
        "plt.figure(figsize=(10, 6))\n",
        "plt.hist(samples_modified, density=True, bins=20)\n",
        "plt.xlabel('daily revenue')\n",
        "plt.ylabel('density')\n",
        "plt.title('The Distribution of Simulated Daily Revenue')"
      ],
      "execution_count": 78,
      "outputs": [
        {
          "output_type": "execute_result",
          "data": {
            "text/plain": [
              "Text(0.5, 1.0, 'The Distribution of Simulated Daily Revenue')"
            ]
          },
          "metadata": {
            "tags": []
          },
          "execution_count": 78
        },
        {
          "output_type": "display_data",
          "data": {
            "image/png": "[encoded data removed]",
            "text/plain": [
              "<Figure size 720x432 with 1 Axes>"
            ]
          },
          "metadata": {
            "tags": [],
            "needs_background": "light"
          }
        }
      ]
    },
    {
      "cell_type": "code",
      "metadata": {
        "id": "B5lhJoquOMwp"
      },
      "source": [
        "ci = (np.mean(samples) - 1.96*np.std(samples), np.mean(samples) + 1.96*np.std(samples))\n",
        "ci_modified = (np.mean(samples_modified) - 1.96*np.std(samples_modified), np.mean(samples_modified) + 1.96*np.std(samples_modified))"
      ],
      "execution_count": 84,
      "outputs": []
    },
    {
      "cell_type": "code",
      "metadata": {
        "colab": {
          "base_uri": "https://localhost:8080/"
        },
        "id": "eAIJFmmxN-5W",
        "outputId": "bf89bc9a-cdf3-4948-9ea2-51910a71dcfb"
      },
      "source": [
        "print('The difference of mean daily revenue is: %.3f' % (np.mean(samples_modified) - np.mean(samples)))\n",
        "print('the confidence interval of original daily revenue: ', ci)\n",
        "print('the confidence interval of modified daily revenue: ', ci_modified)\n",
        "print('\\n')\n",
        "print('Since the mean difference of daily revenue is large ')\n",
        "print('and the 95% confidence interval of daily revenue does not overlap,')\n",
        "print('which means the modification will significantly increase the daily revenue')"
      ],
      "execution_count": 91,
      "outputs": [
        {
          "output_type": "stream",
          "text": [
            "The difference of mean daily revenue is: 24.168\n",
            "the confidence interval of original daily revenue:  (52.2279080621824, 67.64809193781761)\n",
            "the confidence interval of modified daily revenue:  (72.22756492704531, 95.98443507295468)\n",
            "\n",
            "\n",
            "Since the mean difference of daily revenue is large \n",
            "and the 95% confidence interval of daily revenue does not overlap,\n",
            "which means the modification will significantly increase the daily revenue\n"
          ],
          "name": "stdout"
        }
      ]
    },
    {
      "cell_type": "code",
      "metadata": {
        "id": "Ec4ghszjO4VZ"
      },
      "source": [
        ""
      ],
      "execution_count": null,
      "outputs": []
    }
  ]
}