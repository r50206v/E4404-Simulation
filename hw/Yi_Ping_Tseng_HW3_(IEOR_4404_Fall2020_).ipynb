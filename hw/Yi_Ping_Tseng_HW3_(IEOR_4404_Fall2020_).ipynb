{
  "nbformat": 4,
  "nbformat_minor": 0,
  "metadata": {
    "colab": {
      "name": "Yi Ping Tseng - HW3 (IEOR 4404 Fall2020 ).ipynb",
      "provenance": [],
      "collapsed_sections": [],
      "toc_visible": true
    },
    "kernelspec": {
      "name": "python3",
      "display_name": "Python 3"
    }
  },
  "cells": [
    {
      "cell_type": "markdown",
      "metadata": {
        "id": "4s5izpSul0F9"
      },
      "source": [
        "# **IEOR 4404  Simulation (Fall 2020)**\n",
        "\n",
        "**Homework 3   [Total points: 80 Points]**\n",
        "\n",
        "\n",
        "**Due 11:59 PM, Nov 1**\n",
        "\n",
        "Homework 3 consists of application-oriented exercises focusing on different sampling techniques for a continuous distribution\n",
        "\n",
        "The steps to finish the homework:\n",
        "\n",
        "*   Step 1: Answer your homework on Google Colab.\n",
        "*   Step 2: Submit the copy on Google Assignment\n",
        "\n",
        "Before you submit your assignment, make sure to re-run your code from the beginning. (You can do so by first clicking Runtime/Reset All Runtimes and then clicking Runtime/Run all)\n",
        "\n"
      ]
    },
    {
      "cell_type": "code",
      "metadata": {
        "id": "f3BPfGhTQSbE"
      },
      "source": [
        "#Your Name: Yi-Ping Tseng\n",
        "#Your UNI: yt2690"
      ],
      "execution_count": 1,
      "outputs": []
    },
    {
      "cell_type": "code",
      "metadata": {
        "id": "NgPTb1XD_T7j",
        "outputId": "aedd098e-090e-4a88-ec51-63ac779167bf",
        "colab": {
          "base_uri": "https://localhost:8080/"
        }
      },
      "source": [
        "!pip install sympy -U"
      ],
      "execution_count": 2,
      "outputs": [
        {
          "output_type": "stream",
          "text": [
            "Requirement already up-to-date: sympy in /usr/local/lib/python3.6/dist-packages (1.6.2)\n",
            "Requirement already satisfied, skipping upgrade: mpmath>=0.19 in /usr/local/lib/python3.6/dist-packages (from sympy) (1.1.0)\n"
          ],
          "name": "stdout"
        }
      ]
    },
    {
      "cell_type": "code",
      "metadata": {
        "id": "x4lR3IqNGLmD",
        "outputId": "093da642-c8f4-41b5-870a-8d6e92465d22",
        "colab": {
          "base_uri": "https://localhost:8080/"
        }
      },
      "source": [
        "#This imports all the packages you need for the homework\n",
        "#Please run this first\n",
        "import numpy as np\n",
        "\n",
        "import scipy.special as spsp\n",
        "\n",
        "import matplotlib.pyplot as plt\n",
        "\n",
        "%matplotlib inline\n",
        "\n",
        "\n",
        "import scipy.stats as spst\n",
        " \n",
        "import sympy\n",
        "!pip install pynverse\n",
        "import pynverse\n",
        "\n",
        "import copy\n",
        "\n",
        "import warnings\n",
        "warnings.filterwarnings('ignore')"
      ],
      "execution_count": 3,
      "outputs": [
        {
          "output_type": "stream",
          "text": [
            "Requirement already satisfied: pynverse in /usr/local/lib/python3.6/dist-packages (0.1.4.4)\n",
            "Requirement already satisfied: scipy>=0.11 in /usr/local/lib/python3.6/dist-packages (from pynverse) (1.4.1)\n",
            "Requirement already satisfied: numpy>=1.6 in /usr/local/lib/python3.6/dist-packages (from pynverse) (1.18.5)\n"
          ],
          "name": "stdout"
        }
      ]
    },
    {
      "cell_type": "markdown",
      "metadata": {
        "id": "qiNT9NPSYuo_"
      },
      "source": [
        "#Exercise 1 [25 Points]\n",
        "##Setting\n",
        "\n",
        "The three-point-estimate is commonly used in the industry for project management, risk management, etc. For example, team members can provide their optimistic ($A$), pessimistic ($B$), and best guess ($C$) estimates for their deliverables. A distribution will then be constructed based on those three values. \n",
        "\n",
        "The triangular distribution is a **continuous** distribution that follows a triangular shape. It is commonly used to construct the distribution following the three-point-estimate. \n",
        "\n",
        "For example, a team might be asked to give an estimation of the time it would take to finish the project. The team might come up with the pessimistic guess of 30 days, the optimistic guess of 10 days, and their best guess of 25 days. Then, a distribution of the number of days (treated as continuous) $x$ will be constructed as follows\n",
        "\n",
        "$f(x)=\n",
        "  \\begin{cases}\n",
        "    \\frac{2(x-A)}{(B-A)(C-A)}, & \\text{for } A \\leq x < C \\\\\n",
        "    \\frac{2(B-x)}{(B-A)(B-C)}, & \\text{for } C \\leq x < B \\\\\n",
        "    0, & \\text{otherwise}\n",
        "  \\end{cases}\n",
        "$\n",
        "\n",
        "\n",
        "We will have $A<C<B$. In our case, $A$ will correspond to the optimistic value, $C$ will correspond to the best guess, and $B$ will correspond to the pessimistic value. \n",
        "\n"
      ]
    },
    {
      "cell_type": "markdown",
      "metadata": {
        "id": "9FM5P5Qhzahi"
      },
      "source": [
        "## Q1. [5 points]\n",
        "Plot the pdf of the number of days based on the information provided by the team. Choose 0 to 40 for the range of $x$ axis.\n",
        "\n",
        "[`loop` and `if` statements are NOT allowed in your answer. When you want to use a loop or if condition, think about if you can use comparison operations to make your code efficient]\n",
        "\n",
        "[You cannot use `scipy` package for this question]\n",
        "\n"
      ]
    },
    {
      "cell_type": "code",
      "metadata": {
        "id": "WHvxSCRQFx6E",
        "outputId": "7c4bf1ef-c45a-4d69-ecd4-0cab4859c825",
        "colab": {
          "base_uri": "https://localhost:8080/",
          "height": 374
        }
      },
      "source": [
        "#Visualization\n",
        "\n",
        "def triangular_pdf(x,A,B,C):\n",
        "  mask_cond1 = (A <= x) & (x < C)\n",
        "  mask_cond2 = (C <= x) & (x < B)\n",
        "  pdf = np.zeros(len(x))\n",
        "  pdf[mask_cond1] = 2*(x[mask_cond1] - A) / (B - A) / (C - A)\n",
        "  pdf[mask_cond2] = 2*(B - x[mask_cond2])  / (B - A) / (B - C)\n",
        "  return pdf\n",
        "\n",
        "A = 10\n",
        "B = 30 \n",
        "C = 25\n",
        "x = np.linspace(0, 40, 100)\n",
        "tri_pdf = triangular_pdf(x, A, B, C)\n",
        "plt.figure(figsize=(10, 6))\n",
        "plt.grid()\n",
        "plt.plot(x, tri_pdf)\n",
        "plt.xticks(range(0, 41, 2))\n",
        "plt.show()"
      ],
      "execution_count": 4,
      "outputs": [
        {
          "output_type": "display_data",
          "data": {
            "image/png": "[encoded data removed]",
            "text/plain": [
              "<Figure size 720x432 with 1 Axes>"
            ]
          },
          "metadata": {
            "tags": [],
            "needs_background": "light"
          }
        }
      ]
    },
    {
      "cell_type": "markdown",
      "metadata": {
        "id": "e61X5MVnYdWn"
      },
      "source": [
        "## Q2. [15 points]\n",
        "\n",
        "We can use the inverse transform method to directly sample from the target distribution. \n",
        "\n",
        "* Generate 10000 samples using the inverse transform method. Use `sympy` (Especially `simpy.lambdify()`) to show the derivation.  \n",
        "\n",
        "* After generating the samples, plot the distribution of the samples.\n",
        "\n",
        "Hint: When doing the inverse transform method, you should derive the formula for $(A,C)$ interval and $(C,B)$ interval separately. Think about what the CDF function is for $x$ in range $(A,C)$ and in range $(C,B)$. The same idea applies to the stage when you draw $u \\sim Unif(0,1)$ and convert it to $x$ using the inverse CDF function.\n",
        "\n",
        "[`loop` and `if` statements are NOT allowed in your answer. When you want to use a loop or if condition, think about if you can use comparison operations to make your code efficient]\n",
        "\n",
        "[You cannot use `scipy` package for this question]"
      ]
    },
    {
      "cell_type": "code",
      "metadata": {
        "id": "uP0pDzzi3tpC"
      },
      "source": [
        "#show your derivation here\n",
        "x = sympy.Symbol(\"x\", nonnegative=True)\n",
        "u = sympy.Symbol(\"u\")\n",
        "A = sympy.Symbol(\"A\")\n",
        "B = sympy.Symbol(\"B\")\n",
        "C = sympy.Symbol(\"C\")\n",
        "pdf_ac = 2*(x - A) / (B - A) / (C - A)\n",
        "pdf_cb = 2*(B - x)  / (B - A) / (B - C)\n",
        "cdf_ac = sympy.integrate(pdf_ac, (x, A, x))\n",
        "cdf_cb = sympy.integrate(pdf_cb, (x, C, x)) + cdf_ac.subs({x: C})"
      ],
      "execution_count": 5,
      "outputs": []
    },
    {
      "cell_type": "code",
      "metadata": {
        "id": "ELeLVTLMeBQ4",
        "outputId": "02c67e1a-d6d8-4d6e-97e4-2f6b702e0977",
        "colab": {
          "base_uri": "https://localhost:8080/",
          "height": 40
        }
      },
      "source": [
        "inv_cdf_ac = sympy.solve(cdf_ac - u, x)[1]\n",
        "inv_cdf_ac"
      ],
      "execution_count": 6,
      "outputs": [
        {
          "output_type": "execute_result",
          "data": {
            "text/latex": "$\\displaystyle A + \\sqrt{u \\left(A - B\\right) \\left(A - C\\right)}$",
            "text/plain": [
              "A + sqrt(u*(A - B)*(A - C))"
            ]
          },
          "metadata": {
            "tags": []
          },
          "execution_count": 6
        }
      ]
    },
    {
      "cell_type": "code",
      "metadata": {
        "id": "QUf0ttTHeAGX",
        "outputId": "4aff742d-19af-406f-f350-cd80d30b8856",
        "colab": {
          "base_uri": "https://localhost:8080/",
          "height": 40
        }
      },
      "source": [
        "inv_cdf_cb = sympy.solve(cdf_cb - u, x)[0]\n",
        "inv_cdf_cb"
      ],
      "execution_count": 7,
      "outputs": [
        {
          "output_type": "execute_result",
          "data": {
            "text/latex": "$\\displaystyle B - \\sqrt{\\left(A - B\\right) \\left(B - C\\right) \\left(u - 1\\right)}$",
            "text/plain": [
              "B - sqrt((A - B)*(B - C)*(u - 1))"
            ]
          },
          "metadata": {
            "tags": []
          },
          "execution_count": 7
        }
      ]
    },
    {
      "cell_type": "code",
      "metadata": {
        "id": "vyGOBuYFjeeW",
        "outputId": "d0678d63-2a51-45f5-c381-47df568bfb25",
        "colab": {
          "base_uri": "https://localhost:8080/",
          "height": 37
        }
      },
      "source": [
        "inv_cdf_ac_lambda = sympy.lambdify((A, B, C, u), inv_cdf_ac, \"numpy\")\n",
        "inv_cdf_cb_lambda = sympy.lambdify((A, B, C, u), inv_cdf_cb, \"numpy\")\n",
        "\n",
        "sympy.N(cdf_ac.subs({x: 25, A: 10, B: 30, C: 25}).doit())"
      ],
      "execution_count": 8,
      "outputs": [
        {
          "output_type": "execute_result",
          "data": {
            "text/latex": "$\\displaystyle 0.75$",
            "text/plain": [
              "0.750000000000000"
            ]
          },
          "metadata": {
            "tags": []
          },
          "execution_count": 8
        }
      ]
    },
    {
      "cell_type": "code",
      "metadata": {
        "id": "T9ReCVksHuMZ"
      },
      "source": [
        "#define a function used to generate the samples using inverse method. \n",
        "#No loops should be used\n",
        "\n",
        "def triangle_inverse(N, A, B, C, cdf_to_c):\n",
        "  global inv_cdf_ac_lambda\n",
        "  global inv_cdf_cb_lambda\n",
        "  global cdf_ac\n",
        "  \n",
        "  u = np.random.rand(N)\n",
        "  mask = u <= cdf_to_c\n",
        "  samples = np.append(inv_cdf_ac_lambda(A, B, C, u[mask]), inv_cdf_cb_lambda(A, B, C, u[~mask]))\n",
        "  return samples\n",
        "\n",
        "#generate the samples \n",
        "A = 10\n",
        "B = 30 \n",
        "C = 25\n",
        "N = 10000\n",
        "samples = triangle_inverse(N, A, B, C, 0.75)"
      ],
      "execution_count": 13,
      "outputs": []
    },
    {
      "cell_type": "code",
      "metadata": {
        "id": "-iwwbMv4mOUy",
        "outputId": "54442be2-8687-48d4-fe8d-62ecbaf722a1",
        "colab": {
          "base_uri": "https://localhost:8080/",
          "height": 312
        }
      },
      "source": [
        "#visualize the distribution of samples \n",
        "plt.hist(samples, bins=int(N/100), density=True, label='sample')\n",
        "x = np.linspace(0, 40, 100)\n",
        "tri_pdf = triangular_pdf(x, A, B, C)\n",
        "plt.plot(x, tri_pdf, label='theoratical')\n",
        "plt.title('Samples from Triangular Distribution')\n",
        "plt.legend()\n",
        "plt.ylabel('density')\n",
        "plt.xlabel('x')"
      ],
      "execution_count": 14,
      "outputs": [
        {
          "output_type": "execute_result",
          "data": {
            "text/plain": [
              "Text(0.5, 0, 'x')"
            ]
          },
          "metadata": {
            "tags": []
          },
          "execution_count": 14
        },
        {
          "output_type": "display_data",
          "data": {
            "image/png": "[encoded data removed]",
            "text/plain": [
              "<Figure size 432x288 with 1 Axes>"
            ]
          },
          "metadata": {
            "tags": [],
            "needs_background": "light"
          }
        }
      ]
    },
    {
      "cell_type": "markdown",
      "metadata": {
        "id": "4c3mYD3EZDGn"
      },
      "source": [
        "## Q3. [5 points]\n",
        "\n",
        "The team estimated that the profit that they will get from the project follows the following formula.\n",
        "\n",
        "$Profit=18000-20 days^2$\n",
        "\n",
        "* Plot the sample distribution of the profit based on 10000 samples.\n",
        "* Based on the samples, give the probability of profit being lower than 5000.\n",
        "\n",
        "[`loop` and `if` statements are NOT allowed in your answer. When you want to use a loop or if condition, think about if you can use comparison operations to make your code efficient]\n",
        "\n",
        "[You cannot use `scipy` package for this question]"
      ]
    },
    {
      "cell_type": "code",
      "metadata": {
        "id": "DZkFEDwFZ2zV",
        "outputId": "e5ef0b35-a438-4769-910b-704d4ae662b4",
        "colab": {
          "base_uri": "https://localhost:8080/",
          "height": 312
        }
      },
      "source": [
        "profit = 18000 - 20 * samples**2\n",
        "plt.hist(profit, bins=int(N/100))\n",
        "plt.title('Profit based on samples from triangular distribution')\n",
        "plt.xlabel('dollar')\n",
        "plt.ylabel('density')"
      ],
      "execution_count": 15,
      "outputs": [
        {
          "output_type": "execute_result",
          "data": {
            "text/plain": [
              "Text(0, 0.5, 'density')"
            ]
          },
          "metadata": {
            "tags": []
          },
          "execution_count": 15
        },
        {
          "output_type": "display_data",
          "data": {
            "image/png": "[encoded data removed]",
            "text/plain": [
              "<Figure size 432x288 with 1 Axes>"
            ]
          },
          "metadata": {
            "tags": [],
            "needs_background": "light"
          }
        }
      ]
    },
    {
      "cell_type": "code",
      "metadata": {
        "id": "jScrh9isAs-r",
        "outputId": "bec99691-83ab-494f-cd7d-f93a0241ef96",
        "colab": {
          "base_uri": "https://localhost:8080/"
        }
      },
      "source": [
        "sum(profit<5000) / len(profit)"
      ],
      "execution_count": 16,
      "outputs": [
        {
          "output_type": "execute_result",
          "data": {
            "text/plain": [
              "0.2017"
            ]
          },
          "metadata": {
            "tags": []
          },
          "execution_count": 16
        }
      ]
    },
    {
      "cell_type": "markdown",
      "metadata": {
        "id": "ui4shDg11VDe"
      },
      "source": [
        "#Exercise 2 [30 Points]\n",
        "##Setting \n",
        "\n",
        "In this exercise, let's sample from a [truncated normal distribution](https://en.wikipedia.org/wiki/Truncated_normal_distribution) between $x_l$ and $x_u$.\n",
        "\n",
        "A truncated normal distribution between $x_l$ and $x_u$ means $x$ should have followed a normal distribution if truncation did not happen. However, $x<x_l$ and $x>x_u$ will simply never appear or never be observed. As a result, the support of a truncated normal distribution is between $x_l$ and $x_u$.\n",
        "\n",
        "The PDF of a truncated normal distribution follows:\n",
        "$g(x|\\mu,\\sigma,x_l,x_u)=\\begin{cases} \\frac{f(x|\\mu,\\sigma)}{F(x_u|\\mu,\\sigma)-F(x_l|\\mu,\\sigma)} &\\text{, if } x_l\\leq x \\leq x_u  \\\\ 0 & \\text{,otherwise}\\end{cases}$\n",
        "\n",
        "Where, $f(x|\\mu,\\sigma)$ is the PDF of the original untruncated normal distribution, $F(x_l|\\mu,\\sigma)$ is the CDF of the original untruncated normal distribution evaluated at $x_l$, and $F(x_u|\\mu,\\sigma)$ is the CDF of the original normal distribution evaluated at $x_u$. To compute PDF and CDF of a normal distribution, you can use `scipy.stats.norm.pdf(x,loc,scale)`  and `scipy.stats.norm.cdf(x,loc,scale)`, where `loc` is the mean of the untruncated normal distribution, `scale` is the standard deviation of the untruncated normal distribution.\n",
        "\n",
        "For this exercise, let's assume that $\\mu=10$, $\\sigma=3$, $x_l=8$, $x_u=12$ for all parts of the question.\n",
        "\n"
      ]
    },
    {
      "cell_type": "markdown",
      "metadata": {
        "id": "-4oJL8U_e3Uf"
      },
      "source": [
        "## Q1. [10 Points]\n",
        "\n",
        "* Visualize the pdf of a truncated normal distribution based on 1000 evenly spaced x values between 5 and 15.  \n",
        "* In the same plot, plot the triangular distribution with $A=x_l$, $C=\\mu$, $B=x_u$\n",
        "* Is it a good idea to use the triangular distribution with $A=x_l$, $C=\\mu$, $B=x_u$ as our proposal distribution? Explain based on visualizing the ratio between $pdf_t$ and $pdf_p$ and provide your reasoning.  \n",
        "\n",
        "\n",
        "[`loop` and `if` statements are NOT allowed in your answer. When you want to use a loop or if condition, think about if you can use comparison operations to make your code efficient]\n",
        "\n",
        "[You can only use `scipy` package to get pdf and cdf of a normal distribution]"
      ]
    },
    {
      "cell_type": "code",
      "metadata": {
        "id": "bv3QnXGXf4VD"
      },
      "source": [
        "x_l = 8\n",
        "x_u = 12\n",
        "mu = 10\n",
        "sigma = 3\n",
        "x = np.linspace(5, 15, 1000)\n",
        " \n",
        "def trun_normal_pdf(x, mu, sigma, x_l, x_u):\n",
        "  mask = (x_l <= x) & (x <= x_u)\n",
        "  ans = copy.deepcopy(x)\n",
        "  denom = spst.norm.cdf(x_u, mu, sigma) - spst.norm.cdf(x_l, mu, sigma)\n",
        "  ans[mask] = spst.norm.pdf(x[mask], mu, sigma) / denom\n",
        "  ans[~mask] = 0\n",
        "  return ans"
      ],
      "execution_count": 28,
      "outputs": []
    },
    {
      "cell_type": "code",
      "metadata": {
        "id": "zDswqro4vltQ",
        "outputId": "b5b4ed2b-559a-4018-ea33-5e8a4483113e",
        "colab": {
          "base_uri": "https://localhost:8080/",
          "height": 312
        }
      },
      "source": [
        "plt.plot(x, trun_normal_pdf(x, mu, sigma, x_l, x_u), label='truncated normal')\n",
        "plt.plot(x, triangular_pdf(x, x_l, x_u, mu), label='triangular')\n",
        "plt.title('the PDF of truncated normal and triangular distribution')\n",
        "plt.xlabel('x')\n",
        "plt.ylabel('probabilty density')\n",
        "plt.legend()"
      ],
      "execution_count": 29,
      "outputs": [
        {
          "output_type": "execute_result",
          "data": {
            "text/plain": [
              "<matplotlib.legend.Legend at 0x7f6f22ba07b8>"
            ]
          },
          "metadata": {
            "tags": []
          },
          "execution_count": 29
        },
        {
          "output_type": "display_data",
          "data": {
            "image/png": "[encoded data removed]",
            "text/plain": [
              "<Figure size 432x288 with 1 Axes>"
            ]
          },
          "metadata": {
            "tags": [],
            "needs_background": "light"
          }
        }
      ]
    },
    {
      "cell_type": "code",
      "metadata": {
        "id": "yEblrD6qxxMc",
        "outputId": "446ed596-a15c-4c7c-cf11-3f3521dbf8ce",
        "colab": {
          "base_uri": "https://localhost:8080/",
          "height": 330
        }
      },
      "source": [
        "plt.plot(x, trun_normal_pdf(x, mu, sigma, x_l, x_u) / triangular_pdf(x, x_l, x_u, mu))\n",
        "plt.title('the ratio of truncated normal pdf and triangular distribution')\n",
        "plt.xlabel('probabilty density ratio')\n",
        "plt.ylabel('x')\n",
        "\n",
        "'''according to the plot, I will not use the triangular distribution with  𝐴=𝑥𝑙 ,  𝐶=𝜇 ,  𝐵=𝑥𝑢 as our proposal distribution since the ratio is nearly infinite around 𝑥𝑙 & 𝑥𝑢.'''"
      ],
      "execution_count": 30,
      "outputs": [
        {
          "output_type": "execute_result",
          "data": {
            "application/vnd.google.colaboratory.intrinsic+json": {
              "type": "string"
            },
            "text/plain": [
              "'according to the plot, I will not use the triangular distribution with  𝐴=𝑥𝑙 ,  𝐶=𝜇 ,  𝐵=𝑥𝑢 as our proposal distribution since the ratio is nearly infinite around 𝑥𝑙 & 𝑥𝑢.'"
            ]
          },
          "metadata": {
            "tags": []
          },
          "execution_count": 30
        },
        {
          "output_type": "display_data",
          "data": {
            "image/png": "[encoded data removed]",
            "text/plain": [
              "<Figure size 432x288 with 1 Axes>"
            ]
          },
          "metadata": {
            "tags": [],
            "needs_background": "light"
          }
        }
      ]
    },
    {
      "cell_type": "markdown",
      "metadata": {
        "id": "ePX6R1I9D2XZ"
      },
      "source": [
        "##Q2. [10 Point]\n",
        "* Based on the numerical method, find out the set of $A$, $B$, and $C$ that gives the highest acceptance rate by searching different parameter values of the proposal distribution. [hint: since our target distribution is symmetric, you can also use a triangular distribution that is symmetric as your proposal distribution]\n",
        "* In the same graph, plot both the pdf of truncated normal distribution and also the pdf of  triangular distribution with the optimal $A$, $B$, $C$ value you chose.\n",
        "\n",
        "[`loop` and `if` statements are NOT allowed in your answer. When you want to use a loop or if condition, think about if you can use comparison operations to make your code efficient]\n",
        "\n",
        "[You can only use `scipy` package to get pdf and cdf of a normal distribution]\n"
      ]
    },
    {
      "cell_type": "code",
      "metadata": {
        "id": "TKI4RQEVy03B",
        "outputId": "cb38ca3c-efb5-40a4-d173-a9c44f2868e7",
        "colab": {
          "base_uri": "https://localhost:8080/"
        }
      },
      "source": [
        "#no need to explore A, B, C below 5 or above 15.\n",
        "minC = float(\"inf\")\n",
        "best = 0\n",
        "for i in np.linspace(1, 5, 1000):\n",
        "  A = x_l - i\n",
        "  B = x_u + i\n",
        "  ratio = trun_normal_pdf(x, mu, sigma, x_l, x_u) / triangular_pdf(x, A, B, mu)\n",
        "  ratio = np.nanmax(ratio[(ratio != np.inf) | (ratio != -np.inf)])\n",
        "  # print(A, B, ratio)\n",
        "  if ratio < minC:\n",
        "    minC = ratio\n",
        "    best = i\n",
        "\n",
        "print('A: ', x_l - best)\n",
        "print('B: ', x_u + best)\n",
        "print('min c:', minC)"
      ],
      "execution_count": 31,
      "outputs": [
        {
          "output_type": "stream",
          "text": [
            "A:  6.007007007007007\n",
            "B:  13.992992992992994\n",
            "min c: 1.7194425321698767\n"
          ],
          "name": "stdout"
        }
      ]
    },
    {
      "cell_type": "code",
      "metadata": {
        "id": "jCS_6T4R75eI",
        "outputId": "daaf70d8-5960-4142-a7e4-5eeb122728c3",
        "colab": {
          "base_uri": "https://localhost:8080/",
          "height": 312
        }
      },
      "source": [
        "plt.plot(x, trun_normal_pdf(x, mu, sigma, x_l, x_u), label='target')\n",
        "plt.plot(x, triangular_pdf(x, x_l - best, x_u + best, mu), label='proposal')\n",
        "plt.title('truncated normal pdf vs triangular distribution')\n",
        "plt.ylabel('probabilty density ratio')\n",
        "plt.xlabel('x')\n",
        "plt.legend()"
      ],
      "execution_count": 32,
      "outputs": [
        {
          "output_type": "execute_result",
          "data": {
            "text/plain": [
              "<matplotlib.legend.Legend at 0x7f6f22fc8208>"
            ]
          },
          "metadata": {
            "tags": []
          },
          "execution_count": 32
        },
        {
          "output_type": "display_data",
          "data": {
            "image/png": "[encoded data removed]",
            "text/plain": [
              "<Figure size 432x288 with 1 Axes>"
            ]
          },
          "metadata": {
            "tags": [],
            "needs_background": "light"
          }
        }
      ]
    },
    {
      "cell_type": "markdown",
      "metadata": {
        "id": "2hkvUaoDs1BU"
      },
      "source": [
        "##Q3. [10 points]\n",
        "\n",
        "* Use rejection sampling to generate 10000 samples. When generating the samples use the parallel method. [That is, no loop or list comprehension is allowed]\n",
        "* In the same graph, plot the sample distribution and the corresponding theoretical distribution.\n",
        "\n",
        "[`loop` and `if` statements are NOT allowed in your answer. When you want to use a loop or if condition, think about if you can use comparison operations to make your code efficient]\n",
        "\n",
        "[You can only use `scipy` package to get pdf and cdf of a normal distribution]\n"
      ]
    },
    {
      "cell_type": "code",
      "metadata": {
        "id": "bYQLmO___NaB"
      },
      "source": [
        "# calculate the inverse triangular distribution to create proposals"
      ],
      "execution_count": 33,
      "outputs": []
    },
    {
      "cell_type": "code",
      "metadata": {
        "id": "C2KHHz5Gs4mm"
      },
      "source": [
        "def tri_sample(N, c, mu=mu, sigma=sigma, x_l=x_l, x_u=x_u, best=best):\n",
        "  numPoints = int(N*c + 4 * np.sqrt(N * (c**2 - c)))\n",
        "  u = np.random.rand(numPoints)\n",
        "  proposals = triangle_inverse(numPoints, x_l - best, x_u + best, mu, 0.5)\n",
        "  \n",
        "  AR = trun_normal_pdf(proposals, mu, sigma, x_l, x_u) / triangular_pdf(proposals, x_l - best, x_u + best, mu)/ c\n",
        "  samples = proposals[u < AR]\n",
        "  return samples[:N]"
      ],
      "execution_count": 34,
      "outputs": []
    },
    {
      "cell_type": "code",
      "metadata": {
        "id": "2TgsCkxqqLMv",
        "outputId": "24886fa1-6d8f-40aa-ee7a-90a9b7410289",
        "colab": {
          "base_uri": "https://localhost:8080/",
          "height": 312
        }
      },
      "source": [
        "trunc_norm_samples = tri_sample(N, minC)\n",
        "plt.hist(trunc_norm_samples, bins=int(N/100), density=True, label='sample')\n",
        "plt.plot(x, trun_normal_pdf(x, mu, sigma, x_l, x_u), label='target')\n",
        "plt.title('Sample vs Theoratical')\n",
        "plt.xlabel('x')\n",
        "plt.ylabel('probability density')\n",
        "plt.legend()"
      ],
      "execution_count": 36,
      "outputs": [
        {
          "output_type": "execute_result",
          "data": {
            "text/plain": [
              "<matplotlib.legend.Legend at 0x7f6f23ce2048>"
            ]
          },
          "metadata": {
            "tags": []
          },
          "execution_count": 36
        },
        {
          "output_type": "display_data",
          "data": {
            "image/png": "[encoded data removed]",
            "text/plain": [
              "<Figure size 432x288 with 1 Axes>"
            ]
          },
          "metadata": {
            "tags": [],
            "needs_background": "light"
          }
        }
      ]
    },
    {
      "cell_type": "markdown",
      "metadata": {
        "id": "tRlKKN4F17rQ"
      },
      "source": [
        "#Exercise 3 [25 Points]\n",
        "\n",
        "##Setting \n",
        "Beta distribution is a distribution with support between 0 and 1. It is very commonly used to model the distribution of probabilities. Its un-normalized PDF follows:\n",
        "\n",
        "$f_u(x)=\\begin{cases} x^{a-1}(1-x)^{b-1} & \\text{if } 0 \\leq x < 1 \\\\ 0 &  \\text{otherwise} \\end{cases}$\n",
        "\n",
        "In this exercise, we will find a way to evaluate the expected value of a variable following this distribution without touching on the normalizing constant.\n",
        "\n",
        "For this exercise, let's assume $a=2, b=3$."
      ]
    },
    {
      "cell_type": "markdown",
      "metadata": {
        "id": "vWPHkr0Pst8z"
      },
      "source": [
        "## Q1. [6 Points]\n",
        "\n",
        "* Plot $f_u(x)$ for x between 0 and 1.  \n",
        "* Based on `sympy`, prove that this pdf is not normalized.\n",
        "\n",
        " \n",
        "\n",
        "[You can not use `scipy` package for this question]\n",
        "\n"
      ]
    },
    {
      "cell_type": "code",
      "metadata": {
        "id": "BjUxCi5BJWRN",
        "outputId": "2a51e8d6-3b69-43d2-80aa-964b61e00272",
        "colab": {
          "base_uri": "https://localhost:8080/",
          "height": 312
        }
      },
      "source": [
        "alpha = 2\n",
        "beta = 3\n",
        "x = np.linspace(0, 1, 1000)\n",
        "pdf = x**(alpha - 1) * (1 - x)**(beta - 1)\n",
        "plt.plot(x, pdf)\n",
        "plt.ylim(0, 0.16)\n",
        "plt.title('Beta Distribution')\n",
        "plt.xlabel('x')\n",
        "plt.ylabel('probability density')"
      ],
      "execution_count": 77,
      "outputs": [
        {
          "output_type": "execute_result",
          "data": {
            "text/plain": [
              "Text(0, 0.5, 'probability density')"
            ]
          },
          "metadata": {
            "tags": []
          },
          "execution_count": 77
        },
        {
          "output_type": "display_data",
          "data": {
            "image/png": "[encoded data removed]",
            "text/plain": [
              "<Figure size 432x288 with 1 Axes>"
            ]
          },
          "metadata": {
            "tags": [],
            "needs_background": "light"
          }
        }
      ]
    },
    {
      "cell_type": "code",
      "metadata": {
        "id": "8Shpt0IjKFxu",
        "outputId": "f42d8d75-065c-4fb7-e26d-45440c7a171a",
        "colab": {
          "base_uri": "https://localhost:8080/",
          "height": 51
        }
      },
      "source": [
        "alpha = sympy.Symbol(\"alpha\")\n",
        "beta = sympy.Symbol(\"beta\")\n",
        "x = sympy.Symbol(\"x\")\n",
        "pdf = x**(alpha - 1) * (1 - x)**(beta - 1)\n",
        "cdf = sympy.integrate(pdf.subs({alpha: 2, beta: 3}), (x, 0, 1)).doit()\n",
        "cdf"
      ],
      "execution_count": 127,
      "outputs": [
        {
          "output_type": "execute_result",
          "data": {
            "text/latex": "$\\displaystyle \\frac{1}{12}$",
            "text/plain": [
              "1/12"
            ]
          },
          "metadata": {
            "tags": []
          },
          "execution_count": 127
        }
      ]
    },
    {
      "cell_type": "code",
      "metadata": {
        "id": "FQE44lqas627"
      },
      "source": [
        ""
      ],
      "execution_count": 127,
      "outputs": []
    },
    {
      "cell_type": "markdown",
      "metadata": {
        "id": "AzZLZHySNlmZ"
      },
      "source": [
        "##Q2. [12 Points]\n",
        "\n",
        "Use a uniform distribution as the proposal distribution to perform rejection sampling that will help you generate one sample from the beta distribution. When doing the rejection sampling, use the unnormalized pdf defined in the setting for the beta distribution.\n",
        "* Find out the unnormalized $c$ based on `sympy` using the analytical method. Make sure that both the first-order condition and the second-order condition are checked. [Additionally, you can also use visualization to further confirm your answer] \n",
        "* Construct a function that returns one sample.\n",
        "* Construct a function that will return N samples by calling the function you constructed in the last step.  \n",
        "* Generate the 10000 samples and plot the sample distribution.\n",
        "\n",
        "\n",
        "[You can not use `scipy` package for this question]\n",
        "\n"
      ]
    },
    {
      "cell_type": "code",
      "metadata": {
        "id": "9ONBOsqcG1UL",
        "outputId": "a5697ce9-99d3-4a62-ed6f-1cdbc16c1dd5",
        "colab": {
          "base_uri": "https://localhost:8080/"
        }
      },
      "source": [
        "#first order\n",
        "x = sympy.Symbol(\"x\")\n",
        "pdf_uniform = 1\n",
        "pdf_beta = x**(alpha - 1) * (1 - x)**(beta - 1)\n",
        "fx = pdf_beta / pdf_uniform\n",
        "order_1 = sympy.diff(fx.subs({alpha: 2, beta: 3}), x)\n",
        "x_best = sympy.solve(order_1, x)\n",
        "x_best"
      ],
      "execution_count": 130,
      "outputs": [
        {
          "output_type": "execute_result",
          "data": {
            "text/plain": [
              "[1/3, 1]"
            ]
          },
          "metadata": {
            "tags": []
          },
          "execution_count": 130
        }
      ]
    },
    {
      "cell_type": "code",
      "metadata": {
        "id": "VQ34Z5vBTNUp",
        "outputId": "40d9da5a-e54e-4330-f225-9588c5423287",
        "colab": {
          "base_uri": "https://localhost:8080/"
        }
      },
      "source": [
        "#second order\n",
        "order_2 = sympy.diff(fx.subs({alpha: 2, beta: 3}), x, x)\n",
        "'''we should choose x_best = 1/2'''\n",
        "order_2.subs({x: 1/3}).simplify(), order_2.subs({x: 1}).simplify()"
      ],
      "execution_count": 131,
      "outputs": [
        {
          "output_type": "execute_result",
          "data": {
            "text/plain": [
              "(-2.00000000000000, 2)"
            ]
          },
          "metadata": {
            "tags": []
          },
          "execution_count": 131
        }
      ]
    },
    {
      "cell_type": "code",
      "metadata": {
        "id": "cjxsHQFDH2Y1",
        "outputId": "540b9db3-223c-4ede-e9e0-1ac32f4b6b63",
        "colab": {
          "base_uri": "https://localhost:8080/",
          "height": 37
        }
      },
      "source": [
        "c = fx.subs({alpha: 2, beta:3, x: 1/3})\n",
        "c"
      ],
      "execution_count": 132,
      "outputs": [
        {
          "output_type": "execute_result",
          "data": {
            "text/latex": "$\\displaystyle 0.148148148148148$",
            "text/plain": [
              "0.148148148148148"
            ]
          },
          "metadata": {
            "tags": []
          },
          "execution_count": 132
        }
      ]
    },
    {
      "cell_type": "code",
      "metadata": {
        "id": "LlBktdr9VXK6",
        "outputId": "e9e4f4a5-cd9d-4e96-dd04-ab4440a70e97",
        "colab": {
          "base_uri": "https://localhost:8080/",
          "height": 312
        }
      },
      "source": [
        "x = np.linspace(0, 1.001, 1000)\n",
        "plt.plot(x, x**(2 - 1) * (1 - x)**(3 - 1) / 1)\n",
        "plt.title('ratio of beta and uniform distribution')\n",
        "plt.xlabel('x')\n",
        "plt.ylabel('probability density ratio')"
      ],
      "execution_count": 133,
      "outputs": [
        {
          "output_type": "execute_result",
          "data": {
            "text/plain": [
              "Text(0, 0.5, 'probability density ratio')"
            ]
          },
          "metadata": {
            "tags": []
          },
          "execution_count": 133
        },
        {
          "output_type": "display_data",
          "data": {
            "image/png": "[encoded data removed]",
            "text/plain": [
              "<Figure size 432x288 with 1 Axes>"
            ]
          },
          "metadata": {
            "tags": [],
            "needs_background": "light"
          }
        }
      ]
    },
    {
      "cell_type": "code",
      "metadata": {
        "id": "Hk32dJtpVc3F"
      },
      "source": [
        "def rejection(c, alpha, beta):\n",
        "  prop = np.random.rand()\n",
        "  while np.random.rand() > (prop**(alpha - 1) * (1 - prop)**(beta - 1) / c):\n",
        "    prop = np.random.rand()\n",
        "  return  prop\n",
        "\n",
        "def rejectionN(N, c, alpha, beta):\n",
        "  return [rejection(c, alpha, beta) for _ in range(N)]"
      ],
      "execution_count": 161,
      "outputs": []
    },
    {
      "cell_type": "code",
      "metadata": {
        "id": "JQbrZom3MLVG",
        "outputId": "ce922d17-fbb9-42b2-81c8-fe9b6694a438",
        "colab": {
          "base_uri": "https://localhost:8080/",
          "height": 298
        }
      },
      "source": [
        "c = 0.148148148148148\n",
        "samples = rejectionN(10000, c, 2, 3)\n",
        "plt.hist(samples, bins=100, label='samples', density=True)\n",
        "plt.title('Sample Beta Distribution')"
      ],
      "execution_count": 168,
      "outputs": [
        {
          "output_type": "execute_result",
          "data": {
            "text/plain": [
              "Text(0.5, 1.0, 'Sample Beta Distribution')"
            ]
          },
          "metadata": {
            "tags": []
          },
          "execution_count": 168
        },
        {
          "output_type": "display_data",
          "data": {
            "image/png": "[encoded data removed]",
            "text/plain": [
              "<Figure size 432x288 with 1 Axes>"
            ]
          },
          "metadata": {
            "tags": [],
            "needs_background": "light"
          }
        }
      ]
    },
    {
      "cell_type": "code",
      "metadata": {
        "id": "F-57bxPvLjS8"
      },
      "source": [
        ""
      ],
      "execution_count": null,
      "outputs": []
    },
    {
      "cell_type": "markdown",
      "metadata": {
        "id": "i3vqdiktPR8L"
      },
      "source": [
        "##Q3. [7 Points]\n",
        "\n",
        "The expected value of a variable following a beta distribution is $\\frac{a}{a+b}$.\n",
        "\n",
        "In the graph, demonstrate how the sample mean estimation will approach the expected value when we increase the sample size. [use sample size 1,2,3, $\\dots$, 200]\n",
        "\n",
        "To place a horizontal line to the plot, us [`plt.hlines()`](https://matplotlib.org/3.3.2/api/_as_gen/matplotlib.pyplot.hlines.html)\n",
        "\n",
        "[You can not use `scipy` package for this question]\n"
      ]
    },
    {
      "cell_type": "code",
      "metadata": {
        "id": "QazfIN17K-UM",
        "outputId": "8f6945c3-503b-42bb-a12f-285f401cd50c",
        "colab": {
          "base_uri": "https://localhost:8080/",
          "height": 312
        }
      },
      "source": [
        "sample_mean = [np.mean(rejectionN(i, c, 2, 3)) for i in range(1, 201)]\n",
        "plt.plot(range(1, 201), sample_mean, label='sample mean')\n",
        "plt.hlines(2/(2+3), 0, 200, label='theoratical mean')\n",
        "plt.title('Sample Mean vs Theoratical Mean in Beta Distribution')\n",
        "plt.xlabel('sample size')\n",
        "plt.ylabel('sample mean')"
      ],
      "execution_count": 178,
      "outputs": [
        {
          "output_type": "execute_result",
          "data": {
            "text/plain": [
              "Text(0, 0.5, 'sample mean')"
            ]
          },
          "metadata": {
            "tags": []
          },
          "execution_count": 178
        },
        {
          "output_type": "display_data",
          "data": {
            "image/png": "[encoded data removed]",
            "text/plain": [
              "<Figure size 432x288 with 1 Axes>"
            ]
          },
          "metadata": {
            "tags": [],
            "needs_background": "light"
          }
        }
      ]
    },
    {
      "cell_type": "code",
      "metadata": {
        "id": "iWf8fcyvWVnY"
      },
      "source": [
        ""
      ],
      "execution_count": null,
      "outputs": []
    }
  ]
}