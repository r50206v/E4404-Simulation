{
  "nbformat": 4,
  "nbformat_minor": 0,
  "metadata": {
    "colab": {
      "name": "Yi Ping Tseng - HW4 (IEOR 4404 Fall 2020).ipynb",
      "provenance": [],
      "collapsed_sections": [],
      "toc_visible": true
    },
    "kernelspec": {
      "name": "python3",
      "display_name": "Python 3"
    }
  },
  "cells": [
    {
      "cell_type": "markdown",
      "metadata": {
        "id": "4s5izpSul0F9"
      },
      "source": [
        "# **IEOR 4404  Simulation (Fall 2020)**\n",
        "\n",
        "**Homework 4 Solution  [Total points: 80 Points]**\n",
        "\n",
        "\n",
        "**Due 11:59 PM, Nov 15**\n",
        "\n",
        "Homework 4 consists of application-oriented exercises focusing on:\n",
        "* sampling a Poisson process\n",
        "* basics of `simpy`\n",
        "\n",
        "The steps to finish the homework:\n",
        "\n",
        "*   Step 1: Answer your homework on Google Colab.\n",
        "*   Step 2: Submit the copy on Google Assignment\n",
        "\n",
        "Before you submit your assignment, make sure to re-run your code from the beginning. (You can do so by first clicking Runtime/Reset All Runtimes and then clicking Runtime/Run all)\n",
        "\n"
      ]
    },
    {
      "cell_type": "code",
      "metadata": {
        "id": "f3BPfGhTQSbE"
      },
      "source": [
        "#Your Name: Yi-Ping Tseng\n",
        "#Your UNI: yt2690"
      ],
      "execution_count": 2,
      "outputs": []
    },
    {
      "cell_type": "code",
      "metadata": {
        "id": "fcqFxbVOfvQA",
        "outputId": "becc8344-67bd-45df-ae8c-b8e949b74448",
        "colab": {
          "base_uri": "https://localhost:8080/"
        }
      },
      "source": [
        "!pip install sympy simpy pynverse -U"
      ],
      "execution_count": 3,
      "outputs": [
        {
          "output_type": "stream",
          "text": [
            "Collecting sympy\n",
            "\u001b[?25l  Downloading https://files.pythonhosted.org/packages/e0/1f/8cbbf698e853019ac3dc5d60ca8f6be4ace4542b2f05f7b62949617fc98e/sympy-1.6.2-py3-none-any.whl (5.8MB)\n",
            "\u001b[K     |████████████████████████████████| 5.8MB 5.2MB/s \n",
            "\u001b[?25hCollecting simpy\n",
            "  Downloading https://files.pythonhosted.org/packages/20/f9/874b0bab83406827db93292a5bbe5acb5c18e3cea665b2f6e053292cb687/simpy-4.0.1-py2.py3-none-any.whl\n",
            "Collecting pynverse\n",
            "  Downloading https://files.pythonhosted.org/packages/88/f8/fb90087055b1502def9b6e835e80fa548996bf1439a81583e592f388f4c9/pynverse-0.1.4.4.tar.gz\n",
            "Requirement already satisfied, skipping upgrade: mpmath>=0.19 in /usr/local/lib/python3.6/dist-packages (from sympy) (1.1.0)\n",
            "Requirement already satisfied, skipping upgrade: scipy>=0.11 in /usr/local/lib/python3.6/dist-packages (from pynverse) (1.4.1)\n",
            "Requirement already satisfied, skipping upgrade: numpy>=1.6 in /usr/local/lib/python3.6/dist-packages (from pynverse) (1.18.5)\n",
            "Building wheels for collected packages: pynverse\n",
            "  Building wheel for pynverse (setup.py) ... \u001b[?25l\u001b[?25hdone\n",
            "  Created wheel for pynverse: filename=pynverse-0.1.4.4-cp36-none-any.whl size=6350 sha256=393856b7a8f41aa86f22db2481f97e276157c3b4acedba93da7f7afd4dbdf968\n",
            "  Stored in directory: /root/.cache/pip/wheels/80/ab/86/ec93f37613f012ba3e65c2bbd67e5c54cbc00d237574100c24\n",
            "Successfully built pynverse\n",
            "Installing collected packages: sympy, simpy, pynverse\n",
            "  Found existing installation: sympy 1.1.1\n",
            "    Uninstalling sympy-1.1.1:\n",
            "      Successfully uninstalled sympy-1.1.1\n",
            "Successfully installed pynverse-0.1.4.4 simpy-4.0.1 sympy-1.6.2\n"
          ],
          "name": "stdout"
        }
      ]
    },
    {
      "cell_type": "code",
      "metadata": {
        "id": "x4lR3IqNGLmD"
      },
      "source": [
        "#This imports all the packages you need for the homework\n",
        "#Please run this first\n",
        "import numpy as np\n",
        "\n",
        "\n",
        "import scipy.special as spsp\n",
        "import scipy.stats as spst\n",
        "\n",
        "import matplotlib.pyplot as plt\n",
        "\n",
        "%matplotlib inline\n",
        "\n",
        "import sympy\n",
        "import simpy\n",
        "import pynverse"
      ],
      "execution_count": 4,
      "outputs": []
    },
    {
      "cell_type": "markdown",
      "metadata": {
        "id": "hZQYGmM7rpWS"
      },
      "source": [
        "#Exercise 1 [20 Points]\n",
        "\n",
        "In this exercise, we simulate different arriving processes. Generating the arrival times for different processes is extremely important when we move on to model more complicated systems.\n",
        "\n",
        "**[In this Exercise, No loops/list comprehension are allowed]**\n",
        "\n",
        "\n"
      ]
    },
    {
      "cell_type": "markdown",
      "metadata": {
        "id": "5pRINZq6xRQE"
      },
      "source": [
        "\n",
        "##Q1.  [10 points]\n",
        "\n",
        "Assume a process follows a homogeneous Poisson process with arrival rate $\\lambda =5$. \n",
        "\n",
        "\n",
        "*  Without using loop or list comprehension, simulate the arrival times for the first 300 arrivals. Report the ordered arrival times for the last 10 arrivals.\n",
        "(The arrival times should be generated at once)\n",
        "* From the 300 sample arrival times, compute the sample inter-arrival times. For the first arrival. The inter-arrival time is equal to the arrival time. Based on visualizing the sample distribution and theoretical distribution, show that the inter-arrival time follows an exponential distribution.\n",
        "\n",
        "\n",
        "\n",
        "  \n",
        " \n",
        " "
      ]
    },
    {
      "cell_type": "code",
      "metadata": {
        "id": "rrn10b-hGubt",
        "outputId": "17d540c1-0a94-498d-96d2-8a7bfa3ad616",
        "colab": {
          "base_uri": "https://localhost:8080/"
        }
      },
      "source": [
        "def generatePoiProcess(lmbda, size=300):\n",
        "    arrival_time = -1/lmbda * np.log(np.random.rand(size))\n",
        "    arrival_time = np.cumsum(arrival_time)\n",
        "    return arrival_time\n",
        "\n",
        "lmbda = 5\n",
        "arrivals = generatePoiProcess(lmbda, size=300)\n",
        "print(arrivals[-10:])\n",
        "# #visualization (not required)\n",
        "# plt.figure(figsize=(20, 2))\n",
        "# plt.plot(np.array([0,20]),np.array([0,0]))\n",
        "# plt.yticks([])\n",
        "# plt.scatter(arrivals, np.zeros(len(arrivals)), s=200, c=\"red\")\n",
        "# plt.show()"
      ],
      "execution_count": 5,
      "outputs": [
        {
          "output_type": "stream",
          "text": [
            "[62.52793059 63.44438386 64.09613935 64.13144482 64.15545571 64.43403864\n",
            " 64.52514975 64.80085018 65.47513536 65.65542124]\n"
          ],
          "name": "stdout"
        }
      ]
    },
    {
      "cell_type": "code",
      "metadata": {
        "id": "oc49tL9ZI5VT",
        "outputId": "20f5e59f-6a9a-442c-908b-9a807b8171a7",
        "colab": {
          "base_uri": "https://localhost:8080/",
          "height": 407
        }
      },
      "source": [
        "interarrivals = np.diff(np.concatenate((np.zeros(1), arrivals)))\n",
        "plt.figure(figsize=(10, 6))\n",
        "plt.hist(interarrivals, bins=70, density=True, label='sample')\n",
        "\n",
        "rv = spst.expon()\n",
        "x = np.linspace(rv.ppf(0.01), rv.ppf(0.99), 100)\n",
        "plt.plot(x, spst.expon.pdf(x, scale=1/lmbda), label='theoratical')\n",
        "plt.title('Histogram of %0.f Inter-Arrivals' % len(interarrivals))\n",
        "plt.legend()"
      ],
      "execution_count": 26,
      "outputs": [
        {
          "output_type": "execute_result",
          "data": {
            "text/plain": [
              "<matplotlib.legend.Legend at 0x7f30e1a36550>"
            ]
          },
          "metadata": {
            "tags": []
          },
          "execution_count": 26
        },
        {
          "output_type": "display_data",
          "data": {
            "image/png": "[encoded data removed]",
            "text/plain": [
              "<Figure size 720x432 with 1 Axes>"
            ]
          },
          "metadata": {
            "tags": [],
            "needs_background": "light"
          }
        }
      ]
    },
    {
      "cell_type": "code",
      "metadata": {
        "id": "dP7RfuSrrSTd"
      },
      "source": [
        ""
      ],
      "execution_count": null,
      "outputs": []
    },
    {
      "cell_type": "code",
      "metadata": {
        "id": "dmbndhlFLihb"
      },
      "source": [
        ""
      ],
      "execution_count": null,
      "outputs": []
    },
    {
      "cell_type": "markdown",
      "metadata": {
        "id": "utIcyJG82TJf"
      },
      "source": [
        "##Q2. [10 points]\n",
        "\n",
        "\n",
        "Assume the process is a nonhomogenous Poisson process with arrival rate follows \n",
        "\n",
        "$\\lambda(t)=exp(-t^{0.5}+2t), 0\\leq t<5$\n",
        "\n",
        "\n",
        "\n",
        "* Use the **thinning method** to simulate the arrival process from $t=0$ to $5$ at the same time. The generation of the proposals and the sampling should be done based on NumPy arrays. No loops or list comprehensions are allowed in this question. [Hint: Generate the arrivals from a homogeneous process at the same time, compute the acceptance rate of all the proposed arrivals at the same time, determine acceptance/rejection  of all the proposed arrivals at the same time]\n",
        "\n",
        "* Report the number of arrivals for the simulation.\n",
        "\n",
        "* Plot the sample distribution of the arrival times. \n"
      ]
    },
    {
      "cell_type": "code",
      "metadata": {
        "id": "IenWX8XfIbBm",
        "outputId": "92e63e67-ba24-4949-82b8-c04e6aadede5",
        "colab": {
          "base_uri": "https://localhost:8080/"
        }
      },
      "source": [
        "t = np.linspace(0, 5, 1000)\n",
        "lambda_func = np.exp(-t**0.5 + 2*t)\n",
        "max_lambda = max(lambda_func)\n",
        "\n",
        "def generatePoiProcess_FixedTime(lmbda, T=100):\n",
        "  n = np.random.poisson(lam=T * lmbda, size=1)\n",
        "  arrivals = np.random.uniform(0, T, size=n)\n",
        "  arrivals = np.sort(arrivals)\n",
        "  return arrivals\n",
        "\n",
        "arrivals = generatePoiProcess_FixedTime(lmbda=max_lambda, T=5)\n",
        "print('original simulation:', len(arrivals))\n",
        "\n",
        "\n",
        "accept_rate = np.exp(-arrivals**0.5 + 2*arrivals) / max_lambda\n",
        "mask = accept_rate > np.random.rand(len(accept_rate))\n",
        "arrivals = arrivals[mask]\n",
        "print('final simulation: ', len(arrivals))\n",
        "\n",
        "# plt.plot(t, lambda_func)"
      ],
      "execution_count": 38,
      "outputs": [
        {
          "output_type": "stream",
          "text": [
            "original simulation: 11806\n",
            "final simulation:  1368\n"
          ],
          "name": "stdout"
        }
      ]
    },
    {
      "cell_type": "code",
      "metadata": {
        "id": "4YLbT2GQHDVf",
        "outputId": "596f605a-06bd-4331-afa0-e3700b557cb4",
        "colab": {
          "base_uri": "https://localhost:8080/",
          "height": 143
        }
      },
      "source": [
        "plt.figure(figsize=(20, 2))\n",
        "plt.plot(np.array([0, np.ceil(max(arrivals))]), np.array([0,0]))\n",
        "plt.yticks([])\n",
        "plt.scatter(arrivals, np.zeros(len(arrivals)), s=200, c=\"red\")\n",
        "plt.show()"
      ],
      "execution_count": 39,
      "outputs": [
        {
          "output_type": "display_data",
          "data": {
            "image/png": "[encoded data removed]",
            "text/plain": [
              "<Figure size 1440x144 with 1 Axes>"
            ]
          },
          "metadata": {
            "tags": [],
            "needs_background": "light"
          }
        }
      ]
    },
    {
      "cell_type": "code",
      "metadata": {
        "id": "3iIShG51rmiV"
      },
      "source": [
        ""
      ],
      "execution_count": null,
      "outputs": []
    },
    {
      "cell_type": "code",
      "metadata": {
        "id": "uI69A4GxMmLs"
      },
      "source": [
        ""
      ],
      "execution_count": null,
      "outputs": []
    },
    {
      "cell_type": "markdown",
      "metadata": {
        "id": "T65KybiykBQC"
      },
      "source": [
        "#Exercise 2 [45 Points]\n",
        "\n",
        "\n",
        "Assume the process is a nonhomogenous Poisson process with the following arrival rate:\n",
        "\n",
        "$\\lambda(t)=50*(sin(2*\\pi* t)+2)$\n",
        "\n",
        "The unit of time is day.\n",
        "\n",
        "$sin(t)$ is  `sympy.sin(t)` is `simpy` and `np.sin(t)` in `numpy`. \n",
        " "
      ]
    },
    {
      "cell_type": "markdown",
      "metadata": {
        "id": "xynnuu9hHglz"
      },
      "source": [
        "##Q1. [15 points]\n",
        "\n",
        "* Plot the arrival rate between $t=0$ and $t=5$. \n",
        "\n",
        "* Create a function. Inside the function, use the **thinning method** to return the arrival time of the first 500 arrivals.  \n",
        "\n",
        "* Run the function 100 times, plot the distribution of the arrival time of the 500th customer.  \n"
      ]
    },
    {
      "cell_type": "code",
      "metadata": {
        "id": "_aPEoUZUzEmt",
        "outputId": "d48c308a-6be7-4acc-da9c-1dd5d70e0a78",
        "colab": {
          "base_uri": "https://localhost:8080/"
        }
      },
      "source": [
        "t = np.linspace(0, 5, 1000)\n",
        "lambda_func = 50 * (np.sin(2 * np.pi * t) + 2)\n",
        "max_lambda = max(lambda_func)\n",
        "max_lambda"
      ],
      "execution_count": 40,
      "outputs": [
        {
          "output_type": "execute_result",
          "data": {
            "text/plain": [
              "149.99993819142986"
            ]
          },
          "metadata": {
            "tags": []
          },
          "execution_count": 40
        }
      ]
    },
    {
      "cell_type": "code",
      "metadata": {
        "id": "Oib86vnPHmJd",
        "outputId": "7828a456-ae8e-4243-f38d-6d0f92f0a6d8",
        "colab": {
          "base_uri": "https://localhost:8080/"
        }
      },
      "source": [
        "def thinning(max_lambda, T, N):\n",
        "  arrivals = generatePoiProcess_FixedTime(lmbda=max_lambda, T=T)\n",
        "  accept_rate = 50 * (np.sin(2 * np.pi * arrivals) + 2) / max_lambda\n",
        "  mask = accept_rate > np.random.rand(len(accept_rate))\n",
        "  arrivals = arrivals[mask]\n",
        "  # if len(arrivals) < 500:\n",
        "  #   raise ValueError('the length of the arrivals doesnt exceed 500 people')\n",
        "  return arrivals[:500]\n",
        "\n",
        "arr = thinning(max_lambda, 5, 500)\n",
        "print(len(arr), arr[-1])"
      ],
      "execution_count": 51,
      "outputs": [
        {
          "output_type": "stream",
          "text": [
            "500 4.4122224819959\n"
          ],
          "name": "stdout"
        }
      ]
    },
    {
      "cell_type": "code",
      "metadata": {
        "id": "SkQN7m-4TCNo",
        "outputId": "b40598d2-7219-4465-a2a3-0005c20798b4",
        "colab": {
          "base_uri": "https://localhost:8080/",
          "height": 560
        }
      },
      "source": [
        "lastArrival = [thinning(max_lambda, 5, 500)[-1] for _ in range(100)]\n",
        "plt.figure(figsize=(10, 6))\n",
        "plt.title('Histogram of the 500th Arrival Time')\n",
        "plt.hist(lastArrival, bins=20, density=True)"
      ],
      "execution_count": 52,
      "outputs": [
        {
          "output_type": "execute_result",
          "data": {
            "text/plain": [
              "(array([ 0.25432874,  0.        ,  0.        ,  0.        ,  0.50865748,\n",
              "         0.25432874,  0.25432874,  0.50865748,  1.01731495,  0.76298621,\n",
              "         1.01731495,  0.        ,  0.50865748,  0.25432874,  0.25432874,\n",
              "         1.01731495,  0.76298621,  0.76298621,  1.52597243, 15.76838174]),\n",
              " array([4.21337222, 4.25269141, 4.2920106 , 4.33132979, 4.37064898,\n",
              "        4.40996817, 4.44928736, 4.48860655, 4.52792574, 4.56724493,\n",
              "        4.60656412, 4.64588331, 4.6852025 , 4.72452169, 4.76384088,\n",
              "        4.80316007, 4.84247926, 4.88179845, 4.92111764, 4.96043683,\n",
              "        4.99975602]),\n",
              " <a list of 20 Patch objects>)"
            ]
          },
          "metadata": {
            "tags": []
          },
          "execution_count": 52
        },
        {
          "output_type": "display_data",
          "data": {
            "image/png": "[encoded data removed]",
            "text/plain": [
              "<Figure size 720x432 with 1 Axes>"
            ]
          },
          "metadata": {
            "tags": [],
            "needs_background": "light"
          }
        }
      ]
    },
    {
      "cell_type": "code",
      "metadata": {
        "id": "GQHas1aoTCr1"
      },
      "source": [
        ""
      ],
      "execution_count": null,
      "outputs": []
    },
    {
      "cell_type": "markdown",
      "metadata": {
        "id": "_s95hdmlx48Z"
      },
      "source": [
        "##Q2. [15 points]\n",
        "\n",
        "\n",
        "* Generate the arrival time of the customers between 0 and 2 using ordered statistics method. [the inverse CDF does not have a closed-form solution. use numerical evaluation instead]\n",
        "* Plot the sample distribution of the arrival times and the corresponding theoretical distribution in the same graph."
      ]
    },
    {
      "cell_type": "code",
      "metadata": {
        "id": "hqbnrVGZx_u0",
        "outputId": "08543338-bfef-4526-834f-c115ab33555e",
        "colab": {
          "base_uri": "https://localhost:8080/"
        }
      },
      "source": [
        "def Ex_arrivals(T):\n",
        "    t = sympy.Symbol(\"t\")\n",
        "    lm_func = 50 * (sympy.sin(2 * sympy.pi * t) + 2)\n",
        "    return float(sympy.integrate(lm_func, (t, 0, T)))\n",
        "\n",
        "def N_arrivals(T):\n",
        "    return np.random.poisson(Ex_arrivals(T))\n",
        "\n",
        "N_arrivals(T = 2)"
      ],
      "execution_count": 55,
      "outputs": [
        {
          "output_type": "execute_result",
          "data": {
            "text/plain": [
              "213"
            ]
          },
          "metadata": {
            "tags": []
          },
          "execution_count": 55
        }
      ]
    },
    {
      "cell_type": "code",
      "metadata": {
        "id": "4pMnblL0YmTA"
      },
      "source": [
        "def sympy_invcdf(T):\n",
        "  N = N_arrivals(T = 2)\n",
        "\n",
        "  t = sympy.Symbol(\"t\")\n",
        "  lm_func = 50 * (sympy.sin(2 * sympy.pi * t) + 2)\n",
        "  pdf = lm_func / Ex_arrivals(T)\n",
        "  cdf = sympy.integrate(pdf, (t, 0, t))\n",
        "  \n",
        "  expression = sympy.lambdify(t, cdf, \"numpy\")\n",
        "  arrivals = pynverse.inversefunc(expression, np.random.rand(N), (0, T))\n",
        "  return np.sort(arrivals)\n",
        "\n",
        "arrivals = sympy_invcdf(2)"
      ],
      "execution_count": 60,
      "outputs": []
    },
    {
      "cell_type": "code",
      "metadata": {
        "id": "8f5yui9FT5ZL",
        "outputId": "ca236c63-e7ce-4064-f78e-74dadd31e9fd",
        "colab": {
          "base_uri": "https://localhost:8080/",
          "height": 407
        }
      },
      "source": [
        "plt.figure(figsize=(10, 6))\n",
        "plt.plot(range(len(arrivals)), arrivals, label='sample')\n",
        "plt.plot(range(200), np.linspace(0, 2, 200), label='theoratical')\n",
        "plt.legend()\n",
        "plt.title('Arrival Time from 0 and 2')"
      ],
      "execution_count": 64,
      "outputs": [
        {
          "output_type": "execute_result",
          "data": {
            "text/plain": [
              "Text(0.5, 1.0, 'Arrival Time from 0 and 2')"
            ]
          },
          "metadata": {
            "tags": []
          },
          "execution_count": 64
        },
        {
          "output_type": "display_data",
          "data": {
            "image/png": "[encoded data removed]",
            "text/plain": [
              "<Figure size 720x432 with 1 Axes>"
            ]
          },
          "metadata": {
            "tags": [],
            "needs_background": "light"
          }
        }
      ]
    },
    {
      "cell_type": "code",
      "metadata": {
        "id": "rFuian2ZT5cQ"
      },
      "source": [
        ""
      ],
      "execution_count": null,
      "outputs": []
    },
    {
      "cell_type": "markdown",
      "metadata": {
        "id": "drb6xYLgHmnC"
      },
      "source": [
        "##Q3. [15 points]\n",
        "\n",
        "Upon arrival, each customer will decide whether to order a product.\n",
        "\n",
        "The willingness to pay of a customer arrived between 0 and 2 follows:\n",
        "\n",
        "$w= 5-t+\\epsilon$\n",
        "\n",
        "where $t$ is the arrival time of this customer and $\\epsilon$ is a random sample from a normal distribution with mean=0 and standard deviation=$t$. Again, $t$ is the arrival time of the customer. [In other words, later arrivals will tend to have a lower willingness to pay. Also, the uncertainty in the willingness to pay becomes higher for later arrivals.]\n",
        "\n",
        "The product is priced at $x$ for all customers. If $w$ of a customer is higher than the price $x$, the customers will order the product for $x$. The company will generate a profit of $x-1$ from this customer. Otherwise, the customer will not order the product. The company will not generate profit from this customer. \n",
        "\n",
        "* Construct a function. This function returns the total profit generated from the customers arrived between 0 and 2 when the product is priced at $x$ for every customer based on **one round of simulation**. \n",
        "* Construct a second function. Inside this function, computes the average total profit generated from the customers arrived between 0 and 2 when the product is priced at $x$ for every customer based on **50 rounds of simulation**.\n",
        "* Plot the relationship between $x$ and the average total profit from the customers arrived between 0 and 2 for $x=3, 3.1, 3.2, ..., 4.5$."
      ]
    },
    {
      "cell_type": "code",
      "metadata": {
        "id": "od1O3IeEyhB4"
      },
      "source": [
        "t = np.linspace(0, 5, 1000)\n",
        "lambda_func = 50 * (np.sin(2 * np.pi * t) + 2)\n",
        "max_lambda = max(lambda_func)\n",
        "\n",
        "\n",
        "def Profit_sample(x, max_lambda, T=2):\n",
        "  inter_arrival = -1 / max_lambda * np.log(np.random.rand())\n",
        "  t = inter_arrival\n",
        "  profit = 0\n",
        "\n",
        "  while t < T:\n",
        "    if np.random.rand() < (50 * (np.sin(2 * np.pi * t) + 2))/max_lambda:\n",
        "      # this arrival is accepted\n",
        "      error = spst.norm(loc=0, scale=t).rvs(size=1)\n",
        "      willing = 5 - t + error\n",
        "      if willing > x:\n",
        "        profit += x - 1\n",
        "      \n",
        "    t += -1 / max_lambda * np.log(np.random.rand())\n",
        "  return  profit\n",
        "\n",
        "def Profit_sample_mean(x, max_lambda):\n",
        "  avg = np.mean([Profit_sample(x, max_lambda) for _ in range(50)])\n",
        "  return avg"
      ],
      "execution_count": 26,
      "outputs": []
    },
    {
      "cell_type": "code",
      "metadata": {
        "id": "OpupOrYGJfFf"
      },
      "source": [
        "x = np.arange(3, 4.6, 0.1)\n",
        "sample = [Profit_sample_mean(i, max_lambda) for i in x]"
      ],
      "execution_count": 32,
      "outputs": []
    },
    {
      "cell_type": "code",
      "metadata": {
        "id": "CSb1G5tLLcpS",
        "outputId": "d48d371c-3899-49eb-e2d3-24a638bedbb2",
        "colab": {
          "base_uri": "https://localhost:8080/",
          "height": 421
        }
      },
      "source": [
        "plt.figure(figsize=(10, 6))\n",
        "plt.title('The Average Profit under Different Selling Price')\n",
        "plt.plot(x, sample)\n",
        "plt.xlabel('selling price ($)')\n",
        "plt.ylabel('profit ($)')"
      ],
      "execution_count": 33,
      "outputs": [
        {
          "output_type": "execute_result",
          "data": {
            "text/plain": [
              "Text(0, 0.5, 'profit ($)')"
            ]
          },
          "metadata": {
            "tags": []
          },
          "execution_count": 33
        },
        {
          "output_type": "display_data",
          "data": {
            "image/png": "[encoded data removed]",
            "text/plain": [
              "<Figure size 720x432 with 1 Axes>"
            ]
          },
          "metadata": {
            "tags": [],
            "needs_background": "light"
          }
        }
      ]
    },
    {
      "cell_type": "markdown",
      "metadata": {
        "id": "uB0c-JIPL3w_"
      },
      "source": [
        "# Exercise 3 [15 Points]\n",
        "\n",
        "Let's model the arrival of two types of customers arriving at a store. Type 1 customers arrive following a Poisson process with ($\\lambda=2$). Type 2 customers arrive following a non-homogeneous Poisson process with ($\\lambda=2t$).\n",
        "\n",
        "\n"
      ]
    },
    {
      "cell_type": "markdown",
      "metadata": {
        "id": "uRiKEBrf1xl6"
      },
      "source": [
        "## Q1. [15 points]\n",
        "* Simulate the system using `simpy` until T=2. Print out the arrival time of each customer and which type this customer is. \n",
        "> * During the simulation, please generate the inter-arrival times one by one for each process.\n",
        "> * Define the arrival of type 1 customers as Process 1\n",
        "> * Define the arrival of type 2 customers as Process 2\n",
        "\n",
        "For process 2, you can pre-generate the arrival times, then compute the inter-arrival times for `env.timeout()` in Process 2. \n"
      ]
    },
    {
      "cell_type": "code",
      "metadata": {
        "id": "0GG4JcCHy4YA"
      },
      "source": [
        "def typeOne(lmbda):\n",
        "  lm = lmbda\n",
        "  while True:\n",
        "    t = -1 / lm * np.log(np.random.rand())\n",
        "    arrival = env.timeout(t)\n",
        "    yield arrival\n",
        "    print(env.now, 1)\n",
        "\n",
        "\n",
        "def typeTwo():\n",
        "  max_lambda = 4\n",
        "  n = np.random.poisson(lam=2 * max_lambda, size=1)\n",
        "  inter_arrival = np.sort(np.random.uniform(0, 2, size=n))\n",
        "  inter_arrival = np.concatenate((np.zeros(1), inter_arrival))\n",
        "  inter_arrival = np.diff(inter_arrival)\n",
        "  for i in inter_arrival:\n",
        "    arrival = env.timeout(i)\n",
        "    yield arrival\n",
        "    print(env.now, 2)\n"
      ],
      "execution_count": 68,
      "outputs": []
    },
    {
      "cell_type": "code",
      "metadata": {
        "id": "EbKbuSzNHxCE",
        "outputId": "62c30bd6-b938-4450-8e0f-86461a13b244",
        "colab": {
          "base_uri": "https://localhost:8080/"
        }
      },
      "source": [
        "env = simpy.Environment()\n",
        "p1 = env.process(typeOne(2))\n",
        "p2 = env.process(typeTwo())\n",
        "env.run(until=2)\n"
      ],
      "execution_count": 69,
      "outputs": [
        {
          "output_type": "stream",
          "text": [
            "0.35341885164649955 2\n",
            "0.4058312394212868 1\n",
            "0.4347048828721907 1\n",
            "0.8621288893899737 2\n",
            "0.9818146341178435 2\n",
            "1.1327849411533064 2\n",
            "1.1343215887274427 2\n",
            "1.1707203573640048 2\n",
            "1.1797402431338442 2\n",
            "1.2722876227821045 1\n",
            "1.741575649054734 2\n"
          ],
          "name": "stdout"
        }
      ]
    },
    {
      "cell_type": "code",
      "metadata": {
        "id": "svQhfH3MRdXj"
      },
      "source": [
        ""
      ],
      "execution_count": null,
      "outputs": []
    }
  ]
}