{
  "nbformat": 4,
  "nbformat_minor": 0,
  "metadata": {
    "colab": {
      "name": "Yi Ping Tseng - HW2 (IEOR 4404 Fall2020).ipynb",
      "provenance": [],
      "collapsed_sections": [],
      "toc_visible": true
    },
    "kernelspec": {
      "name": "python3",
      "display_name": "Python 3"
    }
  },
  "cells": [
    {
      "cell_type": "markdown",
      "metadata": {
        "id": "4s5izpSul0F9"
      },
      "source": [
        "# **IEOR 4404  Simulation (Fall 2020)**\n",
        "\n",
        "**Homework 2  [Total points: 80 Points]**\n",
        "\n",
        "\n",
        "**Due 11:59 PM, Oct 18**\n",
        "\n",
        "Homework 2 consists of application-oriented exercises mostly focusing on different sampling techniques for sampling from a discrete distribution.\n",
        "\n",
        "The steps to finish the homework:\n",
        "\n",
        "*   Step 1: Answer your homework on Google Colab.\n",
        "*   Step 2: Submit the copy on Google Assignment\n",
        "\n",
        "Before you submit your assignment, make sure to re-run your code from the beginning. (You can do so by first clicking Runtime/Reset All Runtimes and then clicking Runtime/Run all)\n",
        "\n"
      ]
    },
    {
      "cell_type": "code",
      "metadata": {
        "id": "f3BPfGhTQSbE"
      },
      "source": [
        "#Your Name: Yi-Ping Tseng\n",
        "#Your UNI: yt2690"
      ],
      "execution_count": 1,
      "outputs": []
    },
    {
      "cell_type": "code",
      "metadata": {
        "id": "lCOuJgwdOhoU",
        "outputId": "1c4ece1e-4f1c-4470-a11a-cf42bbf1eec7",
        "colab": {
          "base_uri": "https://localhost:8080/",
          "height": 71
        }
      },
      "source": [
        "!pip install sympy -U"
      ],
      "execution_count": 2,
      "outputs": [
        {
          "output_type": "stream",
          "text": [
            "Requirement already up-to-date: sympy in /usr/local/lib/python3.6/dist-packages (1.6.2)\n",
            "Requirement already satisfied, skipping upgrade: mpmath>=0.19 in /usr/local/lib/python3.6/dist-packages (from sympy) (1.1.0)\n"
          ],
          "name": "stdout"
        }
      ]
    },
    {
      "cell_type": "code",
      "metadata": {
        "id": "x4lR3IqNGLmD"
      },
      "source": [
        "#This imports all the packages you need for the homework\n",
        "#Please run this first\n",
        "import numpy as np\n",
        "\n",
        "import scipy.special as spsp\n",
        "\n",
        "import matplotlib.pyplot as plt\n",
        "\n",
        "%matplotlib inline\n",
        "\n",
        "import sympy\n",
        "\n",
        "import scipy.stats as spst\n",
        "\n",
        "import math"
      ],
      "execution_count": 3,
      "outputs": []
    },
    {
      "cell_type": "markdown",
      "metadata": {
        "id": "5kEPUY32CW9E"
      },
      "source": [
        "# Exercise 1 [70 points]\n",
        "\n",
        "In HW1, we studied Negative Binomial distribution, which is a discrete probability distribution that models the number of successes (Our outcome variable: $k$) in a sequence of independent and identically distributed Bernoulli trials (with the probability of success=$p$) before a specified (non-random) number of failures (denoted $r$) occurs (Source: Wikipedia [Negative Binomial Distribution](https://en.wikipedia.org/wiki/Negative_binomial_distribution)). \n",
        "\n",
        "The probability mass function follows\n",
        "\n",
        "$P(k)=\\frac{(k+r-1)!}{k!(r-1)!}p^k(1-p)^r$ where $k=0, 1, 2, ..., \\infty$\n",
        "\n",
        "* In Q1-Q4, we want to will use this distribution as our proposal distribution to perform rejection sampling to get samples from a Poisson distribution.\n",
        "* In Q5 and Q6, we will be studying the composition method based on this distribution.\n"
      ]
    },
    {
      "cell_type": "markdown",
      "metadata": {
        "id": "FBSJE3v0sfhs"
      },
      "source": [
        "## Q1. [15 points]\n",
        "\n",
        "Let's first propose a different way to sample from a Negative Binomial distribution. Based on the definition of Negative Binomial distribution, this distribution is nothing but the sum of $r$ variables that all follow a Geometric distribution. For this Geometric distribution, it is defined as the number of successes needed **before** getting the first failure, when the probability of success in each Bernoulli trial is $p$. [notice that it is defined slightly different from the Geometric distributions we have seen so far]\n",
        "\n",
        "Since a Geometric distribution can be generated using the direct conversion method, we can use the following steps as an alternative method to generate $N$ samples from a Negative Binomial distribution.\n",
        "\n",
        "* Derive the direct conversion rule for the Geometric distribution.\n",
        "* Generate $r$ arrays of random samples from a Geometric distribution. Each array should contain $N$ random samples.\n",
        "* Summing up these $r$ arrays to get an array of $N$ elements. Each element is a random sample from the Negative Binomial distribution.\n",
        "\n",
        "For this question\n",
        "* Use `sympy.Sum()` to derive the CDF of the geometric distribution from the PMF. \n",
        "* Use `sympy.solve()` to help you derive the direct conversion formula based on the CDF.\n",
        "* Based on the formula and follow the steps listed above, generate 10000 random  samples from a Negative Binomial distribution with $r=3$ and $p=0.9$.\n",
        "* Plot both the sample distribution of these 10000 samples (using scatter plot) and the corresponding theoretical distribution (using bar chart) in the same graph.\n",
        "\n"
      ]
    },
    {
      "cell_type": "code",
      "metadata": {
        "id": "Su_7YNqfTmJ8",
        "outputId": "eb01d51d-2a41-4a0f-b37c-ba0ee853503a",
        "colab": {
          "base_uri": "https://localhost:8080/",
          "height": 38
        }
      },
      "source": [
        "sympy.init_printing()\n",
        "x = sympy.Symbol(\"x\", nonnegative=True)\n",
        "p = sympy.Symbol(\"p\", nonnegative=True)\n",
        "u = sympy.Symbol(\"u\")\n",
        "pmf = p**x * (1-p)\n",
        "cdf = sympy.Sum(pmf, (x, 0, x)).doit().simplify()\n",
        "cdf"
      ],
      "execution_count": 4,
      "outputs": [
        {
          "output_type": "execute_result",
          "data": {
            "image/png": "[encoded data removed]",
            "text/latex": "$\\displaystyle 1 - p^{x + 1}$",
            "text/plain": [
              "     x + 1\n",
              "1 - p     "
            ]
          },
          "metadata": {
            "tags": []
          },
          "execution_count": 4
        }
      ]
    },
    {
      "cell_type": "code",
      "metadata": {
        "id": "FQdzL3TYKl_8",
        "outputId": "d75b93b2-df5b-4d5d-ed84-6bb509314f50",
        "colab": {
          "base_uri": "https://localhost:8080/",
          "height": 70
        }
      },
      "source": [
        "sympy.solve(cdf - u, x)[0].simplify()"
      ],
      "execution_count": 5,
      "outputs": [
        {
          "output_type": "execute_result",
          "data": {
            "image/png": "[encoded data removed]",
            "text/latex": "$\\displaystyle \\frac{\\log{\\left(\\frac{1 - u}{p} \\right)}}{\\log{\\left(p \\right)}}$",
            "text/plain": [
              "   ⎛1 - u⎞\n",
              "log⎜─────⎟\n",
              "   ⎝  p  ⎠\n",
              "──────────\n",
              "  log(p)  "
            ]
          },
          "metadata": {
            "tags": []
          },
          "execution_count": 5
        }
      ]
    },
    {
      "cell_type": "code",
      "metadata": {
        "id": "cDrZRabaM6I8",
        "outputId": "110ad42c-5475-4316-f83d-15b1926cdf7b",
        "colab": {
          "base_uri": "https://localhost:8080/",
          "height": 57
        }
      },
      "source": [
        "sympy.solve(cdf.subs({x: x - 1}) - u, x)[0].simplify()"
      ],
      "execution_count": 6,
      "outputs": [
        {
          "output_type": "execute_result",
          "data": {
            "image/png": "[encoded data removed]",
            "text/latex": "$\\displaystyle \\frac{\\log{\\left(1 - u \\right)}}{\\log{\\left(p \\right)}}$",
            "text/plain": [
              "log(1 - u)\n",
              "──────────\n",
              "  log(p)  "
            ]
          },
          "metadata": {
            "tags": []
          },
          "execution_count": 6
        }
      ]
    },
    {
      "cell_type": "code",
      "metadata": {
        "id": "f-KfWmIZM_SR"
      },
      "source": [
        "r = 3\n",
        "p = 0.9\n",
        "N = 10000\n",
        "neg_bin = np.zeros(shape=(r, N))\n",
        "for row in range(r):\n",
        "  u = np.random.rand(N)\n",
        "  neg_bin[row] = np.array(np.floor(np.log(1-u) / np.log(p)))\n",
        "\n",
        "neg_bin = neg_bin.sum(axis=0)"
      ],
      "execution_count": 7,
      "outputs": []
    },
    {
      "cell_type": "code",
      "metadata": {
        "id": "sC969ct4-4bW",
        "outputId": "086c8f20-fbed-42be-97cf-93a4c51274f1",
        "colab": {
          "base_uri": "https://localhost:8080/",
          "height": 298
        }
      },
      "source": [
        "neg_bin_k, neg_bin_counts = np.unique(neg_bin, return_counts=True)\n",
        "\n",
        "x = np.arange(0, np.max(neg_bin_k) + 1)\n",
        "pmf_nb = spsp.comb(x+r-1, x) * p**(x) * (1-p)**(r)\n",
        "\n",
        "plt.bar(x, pmf_nb, label='theoratical')\n",
        "plt.scatter(\n",
        "    neg_bin_k, neg_bin_counts/sum(neg_bin_counts), \n",
        "    label='samples', zorder=2\n",
        ")\n",
        "plt.legend()\n",
        "plt.title('Theoratical Points versus Samples')"
      ],
      "execution_count": 8,
      "outputs": [
        {
          "output_type": "execute_result",
          "data": {
            "text/plain": [
              "Text(0.5, 1.0, 'Theoratical Points versus Samples')"
            ]
          },
          "metadata": {
            "tags": []
          },
          "execution_count": 8
        },
        {
          "output_type": "display_data",
          "data": {
            "image/png": "[encoded data removed]",
            "text/plain": [
              "<Figure size 432x288 with 1 Axes>"
            ]
          },
          "metadata": {
            "tags": [],
            "needs_background": "light"
          }
        }
      ]
    },
    {
      "cell_type": "code",
      "metadata": {
        "id": "jKy2gUB6GNDU"
      },
      "source": [
        ""
      ],
      "execution_count": 8,
      "outputs": []
    },
    {
      "cell_type": "markdown",
      "metadata": {
        "id": "QwPHItsMv34h"
      },
      "source": [
        "##Q2. [15 points]\n",
        "\n",
        "Let's use a Negative Binomial Distribution as a proposal distribution to generate samples from a Poisson distribution with $\\lambda=40$. \n",
        "\n",
        "Since we want two distributions to follow similar shapes, let's select a negative binomial distribution with the mean values equals to 40 as well. Remember, the expected value of a negative binomial distribution is equal to $\\frac{rp}{1-p}$.\n",
        "\n",
        "* Let's assume we want to use $r=2$ for the proposal distribution.  With the help of `sympy.solve()` function, solve $p$ so that two distributions have the same mean. We will use the $r$ and $p$ value for all subparts in Q2. \n",
        "* Visualize the target distribution for $x$ between 0 and 100 using a bar chart. In the same graph, visualize the proposal distribution for the same $x$ range using a scatter plot. Make sure to add a legend to label each plot. \n",
        "* Visualize the ratio between $PMF_{target}(x)$ and $PMF_{proposal}(x)$ for $x$ between $0$ and $100$ using a bar chart.\n",
        "* Find out the $c$ value for rejection sampling.\n",
        "* Construct a function (or functions) that helps to generate **one** sample from the target distribution using rejection sampling. [your algorithm should allow you to generate sample values above 100 as well]\n",
        "* Generate 10000 random samples from the target distribution.\n",
        "* Plot both the sample distribution of these 10000 samples (using scatter plot) and the corresponding theoretical distribution (using bar chart) in the same graph.\n",
        "\n"
      ]
    },
    {
      "cell_type": "code",
      "metadata": {
        "id": "CQThUWon8hWL",
        "outputId": "97c89db0-0068-4d90-ce03-c87a295c3a31",
        "colab": {
          "base_uri": "https://localhost:8080/",
          "height": 58
        }
      },
      "source": [
        "#derive p\n",
        "r_s = sympy.Symbol(\"r\")\n",
        "p_s = sympy.Symbol(\"p\", nonnegative=True)\n",
        "lm_s = sympy.Symbol(\"λ\")\n",
        "\n",
        "sympy.solve((((r_s*p_s) / (1-p_s)) - lm_s).subs({r_s: 2, lm_s: 40}))"
      ],
      "execution_count": 9,
      "outputs": [
        {
          "output_type": "execute_result",
          "data": {
            "image/png": "[encoded data removed]",
            "text/latex": "$\\displaystyle \\left[ \\frac{20}{21}\\right]$",
            "text/plain": [
              "⎡20⎤\n",
              "⎢──⎥\n",
              "⎣21⎦"
            ]
          },
          "metadata": {
            "tags": []
          },
          "execution_count": 9
        }
      ]
    },
    {
      "cell_type": "code",
      "metadata": {
        "id": "VBHVnZG2bti8"
      },
      "source": [
        "#plot the target and proposal distribution\n",
        "x = np.arange(100)\n",
        "lam = 40\n",
        "r = 2\n",
        "p = 20/21\n",
        "pmf_poi = [lam**(i) * np.exp(-1*lam) / spsp.factorial(i) for i in range(100)]\n",
        "pmf_ng_bin = spsp.comb(x+r-1, x) * (1-p)**(r) * p**(x)"
      ],
      "execution_count": 10,
      "outputs": []
    },
    {
      "cell_type": "code",
      "metadata": {
        "id": "chfQygp85Hez",
        "outputId": "b0133715-8ec8-41b9-d2c9-6df08e672334",
        "colab": {
          "base_uri": "https://localhost:8080/",
          "height": 298
        }
      },
      "source": [
        "plt.bar(x, pmf_poi, label='poisson')\n",
        "plt.bar(x, pmf_ng_bin, label='negative binomial', zorder=2, alpha=0.7)\n",
        "plt.legend()\n",
        "plt.title('Poisson versus Negative Binomial Distribuiton')"
      ],
      "execution_count": 11,
      "outputs": [
        {
          "output_type": "execute_result",
          "data": {
            "text/plain": [
              "Text(0.5, 1.0, 'Poisson versus Negative Binomial Distribuiton')"
            ]
          },
          "metadata": {
            "tags": []
          },
          "execution_count": 11
        },
        {
          "output_type": "display_data",
          "data": {
            "image/png": "[encoded data removed]",
            "text/plain": [
              "<Figure size 432x288 with 1 Axes>"
            ]
          },
          "metadata": {
            "tags": [],
            "needs_background": "light"
          }
        }
      ]
    },
    {
      "cell_type": "code",
      "metadata": {
        "id": "Rsx3rTTWvdNG",
        "outputId": "2a642ecc-bfbb-4b15-da90-4b213a47f410",
        "colab": {
          "base_uri": "https://localhost:8080/",
          "height": 298
        }
      },
      "source": [
        "#plot the ratio between two distributions\n",
        "plt.bar(x, pmf_poi/pmf_ng_bin, label='ratio')\n",
        "plt.legend()\n",
        "plt.title('Ratio of Poisson / Negative Binomial')"
      ],
      "execution_count": 12,
      "outputs": [
        {
          "output_type": "execute_result",
          "data": {
            "text/plain": [
              "Text(0.5, 1.0, 'Ratio of Poisson / Negative Binomial')"
            ]
          },
          "metadata": {
            "tags": []
          },
          "execution_count": 12
        },
        {
          "output_type": "display_data",
          "data": {
            "image/png": "[encoded data removed]",
            "text/plain": [
              "<Figure size 432x288 with 1 Axes>"
            ]
          },
          "metadata": {
            "tags": [],
            "needs_background": "light"
          }
        }
      ]
    },
    {
      "cell_type": "code",
      "metadata": {
        "id": "nKRa-xTlPg9x",
        "outputId": "59394e79-07b8-4c50-8c39-45170517f1ce",
        "colab": {
          "base_uri": "https://localhost:8080/",
          "height": 37
        }
      },
      "source": [
        "#find out the c value \n",
        "c = np.max(pmf_poi/pmf_ng_bin)\n",
        "c"
      ],
      "execution_count": 13,
      "outputs": [
        {
          "output_type": "execute_result",
          "data": {
            "image/png": "[encoded data removed]",
            "text/latex": "$\\displaystyle 4.766526417772087$",
            "text/plain": [
              "4.766526417772087"
            ]
          },
          "metadata": {
            "tags": []
          },
          "execution_count": 13
        }
      ]
    },
    {
      "cell_type": "code",
      "metadata": {
        "id": "sFrD9KA_6LUR"
      },
      "source": [
        "#sampling and visualization\n",
        "def sampling_NB(n, p, size=1):\n",
        "  return spst.nbinom.rvs(n, p, size=size)\n",
        "\n",
        "def getPoiPMF(lam, i):\n",
        "  return spst.poisson.pmf(i, lam)\n",
        "def getNBPMF(n, p, i):\n",
        "  return spst.nbinom.pmf(i, n, p)\n",
        "\n",
        "def rejection_sampling(lam, n, p, c):\n",
        "  proposal = sampling_NB(n, 1-p)\n",
        "  u = np.random.rand()\n",
        "  while u > getPoiPMF(lam, proposal) / getNBPMF(n, 1-p, proposal) / c:\n",
        "    proposal = sampling_NB(n, 1-p)\n",
        "    u = np.random.rand()\n",
        "  \n",
        "  return proposal"
      ],
      "execution_count": 14,
      "outputs": []
    },
    {
      "cell_type": "code",
      "metadata": {
        "id": "UzAzfNW841lX",
        "outputId": "2a4479f3-b004-48e1-d3c9-01dec1541e8d",
        "colab": {
          "base_uri": "https://localhost:8080/",
          "height": 51
        }
      },
      "source": [
        "N = 10000\n",
        "\n",
        "print('poisson parameter - lambda: ', lam)\n",
        "print('negative binomial parameters - (n, p): ', (r, p))\n",
        "samples = [rejection_sampling(lam, r, p, c) for _ in range(N)]\n",
        "unique, counts = np.unique(samples, return_counts=True)"
      ],
      "execution_count": 15,
      "outputs": [
        {
          "output_type": "stream",
          "text": [
            "poisson parameter - lambda:  40\n",
            "negative binomial parameters - (n, p):  (2, 0.9523809523809523)\n"
          ],
          "name": "stdout"
        }
      ]
    },
    {
      "cell_type": "code",
      "metadata": {
        "id": "llxj8nmf8GWq",
        "outputId": "5ee86535-8b00-4c46-cfc8-3a3caeac68aa",
        "colab": {
          "base_uri": "https://localhost:8080/",
          "height": 298
        }
      },
      "source": [
        "plt.bar(\n",
        "    np.arange(max(unique)), \n",
        "    [getPoiPMF(lam, i) for i in range(max(unique))], \n",
        "    label='theoratical',\n",
        ")\n",
        "plt.scatter(unique, counts/sum(counts), label='sample', zorder=2)\n",
        "plt.legend()\n",
        "plt.title('Theoratical Points versus Samples')"
      ],
      "execution_count": 16,
      "outputs": [
        {
          "output_type": "execute_result",
          "data": {
            "text/plain": [
              "Text(0.5, 1.0, 'Theoratical Points versus Samples')"
            ]
          },
          "metadata": {
            "tags": []
          },
          "execution_count": 16
        },
        {
          "output_type": "display_data",
          "data": {
            "image/png": "[encoded data removed]",
            "text/plain": [
              "<Figure size 432x288 with 1 Axes>"
            ]
          },
          "metadata": {
            "tags": [],
            "needs_background": "light"
          }
        }
      ]
    },
    {
      "cell_type": "code",
      "metadata": {
        "id": "gNY_22vNAa9S"
      },
      "source": [
        ""
      ],
      "execution_count": 16,
      "outputs": []
    },
    {
      "cell_type": "markdown",
      "metadata": {
        "id": "rOz_l6-Smv2X"
      },
      "source": [
        "##Q3. [8 points]\n",
        "\n",
        "* Rewrite your algorithm in Q2 to generate 10000 samples in a parallel way. Use the same $r$, $p$, and $\\lambda$ value you used in Q2.   [No loops allowed]\n",
        "\n",
        "* Visualize the sample distribution (using a scatter plot) and the corresponding theoretical distribution (using a bar chart) in the same graph."
      ]
    },
    {
      "cell_type": "code",
      "metadata": {
        "id": "3tMGXPQgAhfJ"
      },
      "source": [
        "def rejection_sampling_paralle(numSamples, lam, n, p, c):\n",
        "  if isinstance(numSamples, (float, np.float64)):\n",
        "    numSamples = int(numSamples)\n",
        "\n",
        "  proposal = sampling_NB(n, 1-p, size=numSamples)\n",
        "  acceptRate = getPoiPMF(lam, proposal) / getNBPMF(n, 1-p, proposal) / c\n",
        "  u = np.random.rand(numSamples)\n",
        "\n",
        "  mask = u < acceptRate\n",
        "  return proposal[mask]"
      ],
      "execution_count": 17,
      "outputs": []
    },
    {
      "cell_type": "code",
      "metadata": {
        "id": "0sddjJCDm6KX",
        "outputId": "cbf57340-b18a-4353-a26b-39fe83cea711",
        "colab": {
          "base_uri": "https://localhost:8080/",
          "height": 51
        }
      },
      "source": [
        "'''\n",
        "according to theory, if we need 10000 samples, \n",
        "we need at least generate ceiling(10000*c) + 4*sqrt(10000(c**2-c)) samples\n",
        "'''\n",
        "import math \n",
        "print('we need to generate %s samples' % N)\n",
        "numberOfSamples = N*c + 4*math.sqrt(10000*(c**2-c))\n",
        "samples = rejection_sampling_paralle(numberOfSamples, lam, r, p, c)\n",
        "print('we get %s valid samples at the end' % len(samples))\n",
        "unique, counts = np.unique(samples, return_counts=True)"
      ],
      "execution_count": 18,
      "outputs": [
        {
          "output_type": "stream",
          "text": [
            "we need to generate 10000 samples\n",
            "we get 10324 valid samples at the end\n"
          ],
          "name": "stdout"
        }
      ]
    },
    {
      "cell_type": "code",
      "metadata": {
        "id": "yh5ppt8KojSp",
        "outputId": "6d77e60e-1507-464e-aea5-e5f6f95db66c",
        "colab": {
          "base_uri": "https://localhost:8080/",
          "height": 298
        }
      },
      "source": [
        "plt.bar(\n",
        "    np.arange(max(unique)), \n",
        "    [getPoiPMF(lam, i) for i in range(max(unique))], \n",
        "    label='theoratical',\n",
        ")\n",
        "plt.scatter(unique, counts/sum(counts), label='sample', zorder=2)\n",
        "plt.legend()\n",
        "plt.title('Theoratical Points versus Samples')"
      ],
      "execution_count": 19,
      "outputs": [
        {
          "output_type": "execute_result",
          "data": {
            "text/plain": [
              "Text(0.5, 1.0, 'Theoratical Points versus Samples')"
            ]
          },
          "metadata": {
            "tags": []
          },
          "execution_count": 19
        },
        {
          "output_type": "display_data",
          "data": {
            "image/png": "[encoded data removed]",
            "text/plain": [
              "<Figure size 432x288 with 1 Axes>"
            ]
          },
          "metadata": {
            "tags": [],
            "needs_background": "light"
          }
        }
      ]
    },
    {
      "cell_type": "code",
      "metadata": {
        "id": "J85NbVN6nDW3"
      },
      "source": [
        ""
      ],
      "execution_count": 19,
      "outputs": []
    },
    {
      "cell_type": "markdown",
      "metadata": {
        "id": "WCCpsINxcjAY"
      },
      "source": [
        "##Q4. [7 points]\n",
        "\n",
        "Let's evaluate the efficiency of our algorithm:\n",
        "\n",
        "* when using $r=2$ and generating the samples one by one, how many samples from a geometric distribution do we need on average to generate 10000 samples from our target distribution? \n",
        "* When using $r=2$ and generating the samples in parallel based on the formula provided in the lecture, how many samples from a geometric distribution do we need on average to generate 10000 samples from our target distribution? [Since the probability of having a final sample size less than 10000 is extremely small, you can assume you always get at least 10000 samples]\n",
        "* If we change the value of $r$ to 3 and use the same method to get $p$, how does the value of $c$ change? If we generate samples on by one, how many samples from a geometric distribution do we need on average to generate 10000 samples from our target distribution? \n",
        "* If we change the value of $r$ to 40 and use the same method to get $p$, how does the value of $c$ change? If we generate samples on by one, how many  samples from a geometric distribution do we need on average to generate 10000 samples from our target distribution? \n"
      ]
    },
    {
      "cell_type": "code",
      "metadata": {
        "id": "ajSi0UWiczs5",
        "outputId": "71c5f6f8-879d-48de-f88a-2d8474f86475",
        "colab": {
          "base_uri": "https://localhost:8080/",
          "height": 51
        }
      },
      "source": [
        "print(\"on average, if we generate samples one by one, we need %s samples from geometric distribution,\\n to generate 10000 valid samples\" % np.ceil(N*c*r))"
      ],
      "execution_count": 20,
      "outputs": [
        {
          "output_type": "stream",
          "text": [
            "on average, if we generate samples one by one, we need 95331.0 samples from geometric distribution,\n",
            " to generate 10000 valid samples\n"
          ],
          "name": "stdout"
        }
      ]
    },
    {
      "cell_type": "code",
      "metadata": {
        "id": "y3MfJxfXdGJ0",
        "outputId": "93f5627b-c99d-4658-d01d-ebc9134b671f",
        "colab": {
          "base_uri": "https://localhost:8080/",
          "height": 51
        }
      },
      "source": [
        "print(\"on average, if we generate samples in parallel, we need %s samples from geometric distribution,\\n to generate 10000 valid samples\" % (numberOfSamples*r))"
      ],
      "execution_count": 21,
      "outputs": [
        {
          "output_type": "stream",
          "text": [
            "on average, if we generate samples in parallel, we need 98720.23018761963 samples from geometric distribution,\n",
            " to generate 10000 valid samples\n"
          ],
          "name": "stdout"
        }
      ]
    },
    {
      "cell_type": "code",
      "metadata": {
        "id": "j74VO3zkdUNA",
        "outputId": "0947d7ab-8e4b-4370-bd7c-d22b6a70efe2",
        "colab": {
          "base_uri": "https://localhost:8080/",
          "height": 68
        }
      },
      "source": [
        "x = np.arange(100)\n",
        "lam = 40\n",
        "r = 3\n",
        "\n",
        "r_s = sympy.Symbol(\"r\")\n",
        "p_s = sympy.Symbol(\"p\", nonnegative=True)\n",
        "lm_s = sympy.Symbol(\"λ\")\n",
        "\n",
        "p = sympy.solve((((r_s*p_s) / (1-p_s)) - lm_s).subs({r_s: r, lm_s: lam}))[0]\n",
        "\n",
        "pmf_poi_3 = [lam**(i) * np.exp(-1*lam) / spsp.factorial(i) for i in range(100)]\n",
        "pmf_ng_bin_3 = spsp.comb(x+r-1, x) * (1-p)**(r) * p**(x)\n",
        "c = np.max(pmf_poi_3/pmf_ng_bin_3)\n",
        "print('if we change r to 3, c will become: %s' % c)\n",
        "print(\"on average, if we generate samples one by one, we need %s samples,\\n to generate 10000 valid samples\" % np.ceil(N*c))"
      ],
      "execution_count": 22,
      "outputs": [
        {
          "output_type": "stream",
          "text": [
            "if we change r to 3, c will become: 3.88465388450652\n",
            "on average, if we generate samples one by one, we need 38847 samples,\n",
            " to generate 10000 valid samples\n"
          ],
          "name": "stdout"
        }
      ]
    },
    {
      "cell_type": "code",
      "metadata": {
        "id": "LL_FYE1sraTQ",
        "outputId": "68c3a244-9488-4e77-a880-131bb609a6f3",
        "colab": {
          "base_uri": "https://localhost:8080/",
          "height": 68
        }
      },
      "source": [
        "x = np.arange(100)\n",
        "lam = 40\n",
        "r = 40\n",
        "\n",
        "r_s = sympy.Symbol(\"r\")\n",
        "p_s = sympy.Symbol(\"p\", nonnegative=True)\n",
        "lm_s = sympy.Symbol(\"λ\")\n",
        "\n",
        "p = sympy.solve((((r_s*p_s) / (1-p_s)) - lm_s).subs({r_s: r, lm_s: lam}))[0]\n",
        "\n",
        "pmf_poi_40 = [lam**(i) * np.exp(-1*lam) / spsp.factorial(i) for i in range(100)]\n",
        "pmf_ng_bin_40 = spsp.comb(x+r-1, x) * (1-p)**(r) * p**(x)\n",
        "c = np.max(pmf_poi_40/pmf_ng_bin_40)\n",
        "print('if we change r to 40, c will become: %s' % c)\n",
        "print(\"on average, if we generate samples one by one, we need %s samples,\\n to generate 10000 valid samples\" % np.ceil(N*c))"
      ],
      "execution_count": 23,
      "outputs": [
        {
          "output_type": "stream",
          "text": [
            "if we change r to 40, c will become: 1.41568741527346\n",
            "on average, if we generate samples one by one, we need 14157 samples,\n",
            " to generate 10000 valid samples\n"
          ],
          "name": "stdout"
        }
      ]
    },
    {
      "cell_type": "code",
      "metadata": {
        "id": "bWY8IdpuCXk6"
      },
      "source": [
        ""
      ],
      "execution_count": 23,
      "outputs": []
    },
    {
      "cell_type": "code",
      "metadata": {
        "id": "2mrwV9vbCe8m"
      },
      "source": [
        "\n"
      ],
      "execution_count": 23,
      "outputs": []
    },
    {
      "cell_type": "markdown",
      "metadata": {
        "id": "u3w0jxGu4DzP"
      },
      "source": [
        "##Q5. [15 points]\n",
        "\n",
        "Let's work on an extension of the Pokemon Go example we saw in HW1. Let's assume that a random player can only belong to one of the three following segments:\n",
        "\n",
        "* Segment 1: Players will keep on playing until they see 1 shiny pokemon\n",
        "* Segment 2: Players will keep on playing until they see 2 shiny pokemon\n",
        "* Segment 3: Players will only check up to 30 pokemon. However, if they get one shiny pokemon during the process, they will stop.\n",
        "\n",
        "\n",
        "Let's assume that a player has a 0.25 probability of belonging to segment 1 and a 0.1 probability of belonging to segment 2. \n",
        "\n",
        "Again, let's assume the probability of encountering a shiny pokemon is 0.1. \n",
        "\n",
        "We are interested in getting 10000 samples of $x$, where $x$ is a variable that represents the number of non-shiny pokemon encountered before a random player stops.\n",
        "\n",
        "* Construct a function that will generate one sample of $x$ based on the composition method.\n",
        "* Visualize the sample distribution (using a scatter plot) and the corresponding theoretical distribution (using a bar chart) in the same graph."
      ]
    },
    {
      "cell_type": "code",
      "metadata": {
        "id": "aKs-JTWdSM_C"
      },
      "source": [
        "def mixture():\n",
        "  u = np.random.rand()\n",
        "  if u < 0.25:\n",
        "    x = np.random.geometric(p=0.1, size=1)[0] - 1\n",
        "  elif u < 0.35:\n",
        "    x = np.random.negative_binomial(n=2, p=0.1, size=1)[0]\n",
        "  else:\n",
        "    x = min(30, np.random.geometric(p=0.1, size=1)[0] - 1)\n",
        "  return x"
      ],
      "execution_count": 24,
      "outputs": []
    },
    {
      "cell_type": "code",
      "metadata": {
        "id": "UIqZfjzXSNDE"
      },
      "source": [
        "N = 10000\n",
        "samples = [mixture() for _ in range(N)]\n",
        "unique, counts = np.unique(samples, return_counts=True)"
      ],
      "execution_count": 25,
      "outputs": []
    },
    {
      "cell_type": "code",
      "metadata": {
        "id": "hlpb1IdKflc0",
        "outputId": "3276ff6e-440d-445a-e4de-e9ea11c17e42",
        "colab": {
          "base_uri": "https://localhost:8080/",
          "height": 119
        }
      },
      "source": [
        "seg3_PMF = spst.geom.pmf(np.arange(30), p=0.1)\n",
        "seg3_PMF = np.append(seg3_PMF[1:], 1-sum(seg3_PMF[1:]))\n",
        "seg3_PMF, len(seg3_PMF)"
      ],
      "execution_count": 26,
      "outputs": [
        {
          "output_type": "execute_result",
          "data": {
            "text/plain": [
              "(array([0.1       , 0.09      , 0.081     , 0.0729    , 0.06561   ,\n",
              "        0.059049  , 0.0531441 , 0.04782969, 0.04304672, 0.03874205,\n",
              "        0.03486784, 0.03138106, 0.02824295, 0.02541866, 0.02287679,\n",
              "        0.02058911, 0.0185302 , 0.01667718, 0.01500946, 0.01350852,\n",
              "        0.01215767, 0.0109419 , 0.00984771, 0.00886294, 0.00797664,\n",
              "        0.00717898, 0.00646108, 0.00581497, 0.00523348, 0.04710129]), 30)"
            ]
          },
          "metadata": {
            "tags": []
          },
          "execution_count": 26
        }
      ]
    },
    {
      "cell_type": "code",
      "metadata": {
        "id": "C1wN3GiQd5S-"
      },
      "source": [
        "x = np.arange(max(unique))\n",
        "if len(seg3_PMF) != len(x):\n",
        "  seg3_PMF = np.append(seg3_PMF, np.zeros(len(x)-len(seg3_PMF)))\n",
        "pmf = 0.25 * spst.geom.pmf(x, p=0.1, loc=1) \\\n",
        "      + 0.1 * spst.nbinom.pmf(x, n=2, p=0.1) \\\n",
        "      + 0.65 * seg3_PMF"
      ],
      "execution_count": 27,
      "outputs": []
    },
    {
      "cell_type": "code",
      "metadata": {
        "id": "RICqD6CUSNKc",
        "outputId": "93394058-2dde-49fa-d6d2-c25f40d6e460",
        "colab": {
          "base_uri": "https://localhost:8080/",
          "height": 298
        }
      },
      "source": [
        "plt.bar(x, pmf, label='theoratical')\n",
        "plt.scatter(unique, counts/sum(counts), zorder=2, label='sample')\n",
        "plt.legend()\n",
        "plt.title('Theoratical Points versus Samples')"
      ],
      "execution_count": 28,
      "outputs": [
        {
          "output_type": "execute_result",
          "data": {
            "text/plain": [
              "Text(0.5, 1.0, 'Theoratical Points versus Samples')"
            ]
          },
          "metadata": {
            "tags": []
          },
          "execution_count": 28
        },
        {
          "output_type": "display_data",
          "data": {
            "image/png": "[encoded data removed]",
            "text/plain": [
              "<Figure size 432x288 with 1 Axes>"
            ]
          },
          "metadata": {
            "tags": [],
            "needs_background": "light"
          }
        }
      ]
    },
    {
      "cell_type": "code",
      "metadata": {
        "id": "aXVA3a_4d3bC"
      },
      "source": [
        ""
      ],
      "execution_count": 28,
      "outputs": []
    },
    {
      "cell_type": "markdown",
      "metadata": {
        "id": "65vcYhRf5cwL"
      },
      "source": [
        "##Q6. [10 points]\n",
        "\n",
        "* Rewrite your algorithm in Q5 to generate 10000 samples in a parallel way. [No loops allowed]\n",
        "\n",
        "* Visualize the sample distribution (using a scatter plot) and the corresponding theoretical distribution (using a bar chart) in the same graph."
      ]
    },
    {
      "cell_type": "code",
      "metadata": {
        "id": "syjeWDVQduSS"
      },
      "source": [
        "def mixture(N):\n",
        "  u = np.random.rand(N)\n",
        "  seg1 = np.random.geometric(p=0.1, size=N) - 1\n",
        "  seg2 = np.random.negative_binomial(n=2, p=0.1, size=N)\n",
        "  seg3 = np.random.geometric(p=0.1, size=N) - 1\n",
        "  seg3 = np.array([i if i < 30 else 30 for i in seg3])\n",
        "  x = np.concatenate((seg1[u < 0.25], seg2[(u < 0.35) & (u >= 0.25)], seg3[u >= 0.35]))\n",
        "  return x"
      ],
      "execution_count": 29,
      "outputs": []
    },
    {
      "cell_type": "code",
      "metadata": {
        "id": "ag3-oBHMhc8x"
      },
      "source": [
        "samples = mixture(N)\n",
        "unique, counts = np.unique(samples, return_counts=True)"
      ],
      "execution_count": 30,
      "outputs": []
    },
    {
      "cell_type": "code",
      "metadata": {
        "id": "q0CAa8lE-Xze",
        "outputId": "c7c28c44-7c18-4393-fa31-60f4876bda73",
        "colab": {
          "base_uri": "https://localhost:8080/",
          "height": 298
        }
      },
      "source": [
        "plt.bar(x, pmf, label='theoratical')\n",
        "plt.scatter(unique, counts/sum(counts), zorder=2, label='sample')\n",
        "plt.legend()\n",
        "plt.title('Theoratical Points versus Samples')"
      ],
      "execution_count": 31,
      "outputs": [
        {
          "output_type": "execute_result",
          "data": {
            "text/plain": [
              "Text(0.5, 1.0, 'Theoratical Points versus Samples')"
            ]
          },
          "metadata": {
            "tags": []
          },
          "execution_count": 31
        },
        {
          "output_type": "display_data",
          "data": {
            "image/png": "[encoded data removed]",
            "text/plain": [
              "<Figure size 432x288 with 1 Axes>"
            ]
          },
          "metadata": {
            "tags": [],
            "needs_background": "light"
          }
        }
      ]
    },
    {
      "cell_type": "code",
      "metadata": {
        "id": "nNEJXR5cjWT_"
      },
      "source": [
        ""
      ],
      "execution_count": 31,
      "outputs": []
    },
    {
      "cell_type": "code",
      "metadata": {
        "id": "N3UvaFUfjWev"
      },
      "source": [
        ""
      ],
      "execution_count": 31,
      "outputs": []
    },
    {
      "cell_type": "markdown",
      "metadata": {
        "id": "TOOAEhx1wodN"
      },
      "source": [
        "#Exercise 2 [10 points]\n",
        "\n"
      ]
    },
    {
      "cell_type": "markdown",
      "metadata": {
        "id": "e-c3rmhSwrQ4"
      },
      "source": [
        "##Q1. [3 points]\n",
        "\n",
        "* Use np.random.rand() to generate 10000 samples and  visualize the distribution of the samples.\n",
        "* In the same plot, plot the corresponding target theoretical distribution.\n"
      ]
    },
    {
      "cell_type": "code",
      "metadata": {
        "id": "KVI-ssIXwtn2",
        "outputId": "3547d543-d273-4bfe-a497-52bcc6f73b52",
        "colab": {
          "base_uri": "https://localhost:8080/",
          "height": 298
        }
      },
      "source": [
        "N = 10000\n",
        "samples = np.random.rand(N)\n",
        "unique, counts = np.unique(samples, return_counts=True)\n",
        "pmf_uni = 1/N\n",
        "\n",
        "plt.plot(\n",
        "    [0, 1], [1/N, 1/N], \n",
        "    label='theoratical',\n",
        "    color='orange'\n",
        ")\n",
        "plt.scatter(\n",
        "    unique, counts/sum(counts), \n",
        "    label='sample', zorder=2,\n",
        "    alpha=0.7, marker='*', s=10\n",
        ")\n",
        "plt.legend()\n",
        "plt.title('Theoratical Points versus Samples')"
      ],
      "execution_count": 32,
      "outputs": [
        {
          "output_type": "execute_result",
          "data": {
            "text/plain": [
              "Text(0.5, 1.0, 'Theoratical Points versus Samples')"
            ]
          },
          "metadata": {
            "tags": []
          },
          "execution_count": 32
        },
        {
          "output_type": "display_data",
          "data": {
            "image/png": "[encoded data removed]",
            "text/plain": [
              "<Figure size 432x288 with 1 Axes>"
            ]
          },
          "metadata": {
            "tags": [],
            "needs_background": "light"
          }
        }
      ]
    },
    {
      "cell_type": "code",
      "metadata": {
        "id": "HtYp9wl7usqD"
      },
      "source": [
        ""
      ],
      "execution_count": 32,
      "outputs": []
    },
    {
      "cell_type": "markdown",
      "metadata": {
        "id": "3Bw0TCEzwfJl"
      },
      "source": [
        "## Q2. [7 points]\n",
        "\n",
        "* Based on the 10000 samples, we can get a sample mean. Repeat the process 1000 times to get 1000 sample means.\n",
        "* Plot the sample distribution of these 1000 sample means.\n",
        "* Based on the central limit theorem, plot the theoretical distribution of the sample mean in the same plot."
      ]
    },
    {
      "cell_type": "code",
      "metadata": {
        "id": "T9BDb6JKDmdK"
      },
      "source": [
        "N = 10000\n",
        "sample_mean = [np.mean(np.random.rand(N)) for _ in range(1000)]"
      ],
      "execution_count": 33,
      "outputs": []
    },
    {
      "cell_type": "code",
      "metadata": {
        "id": "L182Ai73vUh6",
        "outputId": "620cf9d5-054e-4941-db2c-eeaebd9ef0ac",
        "colab": {
          "base_uri": "https://localhost:8080/",
          "height": 298
        }
      },
      "source": [
        "rv = spst.norm(loc=1/2, scale=math.sqrt(1/12)/math.sqrt(N))\n",
        "x = np.linspace(rv.ppf(0.01), rv.ppf(0.99), 100)\n",
        "\n",
        "plt.plot(\n",
        "    x, rv.pdf(x),\n",
        "    'r-', lw=5, alpha=0.6, label='norm pdf',\n",
        "    color='orange'\n",
        ")\n",
        "\n",
        "plt.hist(\n",
        "    sample_mean, density=True,\n",
        "    label='sample', zorder=2\n",
        ")\n",
        "plt.legend()\n",
        "plt.title('Theoratical Points versus Samples')"
      ],
      "execution_count": 34,
      "outputs": [
        {
          "output_type": "execute_result",
          "data": {
            "text/plain": [
              "Text(0.5, 1.0, 'Theoratical Points versus Samples')"
            ]
          },
          "metadata": {
            "tags": []
          },
          "execution_count": 34
        },
        {
          "output_type": "display_data",
          "data": {
            "image/png": "[encoded data removed]",
            "text/plain": [
              "<Figure size 432x288 with 1 Axes>"
            ]
          },
          "metadata": {
            "tags": [],
            "needs_background": "light"
          }
        }
      ]
    },
    {
      "cell_type": "code",
      "metadata": {
        "id": "ptJMOPeSw7mL"
      },
      "source": [
        ""
      ],
      "execution_count": null,
      "outputs": []
    }
  ]
}