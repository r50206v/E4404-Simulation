{
  "nbformat": 4,
  "nbformat_minor": 0,
  "metadata": {
    "colab": {
      "name": "Yi Ping Tseng - HW2 (IEOR 4404 Fall2020).ipynb",
      "provenance": [],
      "collapsed_sections": [],
      "toc_visible": true
    },
    "kernelspec": {
      "name": "python3",
      "display_name": "Python 3"
    }
  },
  "cells": [
    {
      "cell_type": "markdown",
      "metadata": {
        "id": "4s5izpSul0F9"
      },
      "source": [
        "# **IEOR 4404  Simulation (Fall 2020)**\n",
        "\n",
        "**Homework 2  [Total points: 80 Points]**\n",
        "\n",
        "\n",
        "**Due 11:59 PM, Oct 18**\n",
        "\n",
        "Homework 2 consists of application-oriented exercises mostly focusing on different sampling techniques for sampling from a discrete distribution.\n",
        "\n",
        "The steps to finish the homework:\n",
        "\n",
        "*   Step 1: Answer your homework on Google Colab.\n",
        "*   Step 2: Submit the copy on Google Assignment\n",
        "\n",
        "Before you submit your assignment, make sure to re-run your code from the beginning. (You can do so by first clicking Runtime/Reset All Runtimes and then clicking Runtime/Run all)\n",
        "\n"
      ]
    },
    {
      "cell_type": "code",
      "metadata": {
        "id": "f3BPfGhTQSbE"
      },
      "source": [
        "#Your Name: Yi-Ping Tseng\n",
        "#Your UNI: yt2690"
      ],
      "execution_count": 2,
      "outputs": []
    },
    {
      "cell_type": "code",
      "metadata": {
        "id": "lCOuJgwdOhoU",
        "outputId": "9fcc91c0-cd0e-4714-9013-3e7cbc6ea772",
        "colab": {
          "base_uri": "https://localhost:8080/",
          "height": 190
        }
      },
      "source": [
        "!pip install sympy -U"
      ],
      "execution_count": 3,
      "outputs": [
        {
          "output_type": "stream",
          "text": [
            "Collecting sympy\n",
            "\u001b[?25l  Downloading https://files.pythonhosted.org/packages/e0/1f/8cbbf698e853019ac3dc5d60ca8f6be4ace4542b2f05f7b62949617fc98e/sympy-1.6.2-py3-none-any.whl (5.8MB)\n",
            "\u001b[K     |████████████████████████████████| 5.8MB 2.5MB/s \n",
            "\u001b[?25hRequirement already satisfied, skipping upgrade: mpmath>=0.19 in /usr/local/lib/python3.6/dist-packages (from sympy) (1.1.0)\n",
            "Installing collected packages: sympy\n",
            "  Found existing installation: sympy 1.1.1\n",
            "    Uninstalling sympy-1.1.1:\n",
            "      Successfully uninstalled sympy-1.1.1\n",
            "Successfully installed sympy-1.6.2\n"
          ],
          "name": "stdout"
        }
      ]
    },
    {
      "cell_type": "code",
      "metadata": {
        "id": "x4lR3IqNGLmD"
      },
      "source": [
        "#This imports all the packages you need for the homework\n",
        "#Please run this first\n",
        "import numpy as np\n",
        "\n",
        "import scipy.special as spsp\n",
        "\n",
        "import matplotlib.pyplot as plt\n",
        "\n",
        "%matplotlib inline\n",
        "\n",
        "import sympy\n",
        "\n",
        "import scipy.stats as spst"
      ],
      "execution_count": 4,
      "outputs": []
    },
    {
      "cell_type": "markdown",
      "metadata": {
        "id": "5kEPUY32CW9E"
      },
      "source": [
        "# Exercise 1 [70 points]\n",
        "\n",
        "In HW1, we studied Negative Binomial distribution, which is a discrete probability distribution that models the number of successes (Our outcome variable: $k$) in a sequence of independent and identically distributed Bernoulli trials (with the probability of success=$p$) before a specified (non-random) number of failures (denoted $r$) occurs (Source: Wikipedia [Negative Binomial Distribution](https://en.wikipedia.org/wiki/Negative_binomial_distribution)). \n",
        "\n",
        "The probability mass function follows\n",
        "\n",
        "$P(k)=\\frac{(k+r-1)!}{k!(r-1)!}p^k(1-p)^r$ where $k=0, 1, 2, ..., \\infty$\n",
        "\n",
        "* In Q1-Q4, we want to will use this distribution as our proposal distribution to perform rejection sampling to get samples from a Poisson distribution.\n",
        "* In Q5 and Q6, we will be studying the composition method based on this distribution.\n"
      ]
    },
    {
      "cell_type": "markdown",
      "metadata": {
        "id": "FBSJE3v0sfhs"
      },
      "source": [
        "## Q1. [15 points]\n",
        "\n",
        "Let's first propose a different way to sample from a Negative Binomial distribution. Based on the definition of Negative Binomial distribution, this distribution is nothing but the sum of $r$ variables that all follow a Geometric distribution. For this Geometric distribution, it is defined as the number of successes needed **before** getting the first failure, when the probability of success in each Bernoulli trial is $p$. [notice that it is defined slightly different from the Geometric distributions we have seen so far]\n",
        "\n",
        "Since a Geometric distribution can be generated using the direct conversion method, we can use the following steps as an alternative method to generate $N$ samples from a Negative Binomial distribution.\n",
        "\n",
        "* Derive the direct conversion rule for the Geometric distribution.\n",
        "* Generate $r$ arrays of random samples from a Geometric distribution. Each array should contain $N$ random samples.\n",
        "* Summing up these $r$ arrays to get an array of $N$ elements. Each element is a random sample from the Negative Binomial distribution.\n",
        "\n",
        "For this question\n",
        "* Use `sympy.Sum()` to derive the CDF of the geometric distribution from the PMF. \n",
        "* Use `sympy.solve()` to help you derive the direct conversion formula based on the CDF.\n",
        "* Based on the formula and follow the steps listed above, generate 10000 random  samples from a Negative Binomial distribution with $r=3$ and $p=0.9$.\n",
        "* Plot both the sample distribution of these 10000 samples (using scatter plot) and the corresponding theoretical distribution (using bar chart) in the same graph.\n",
        "\n"
      ]
    },
    {
      "cell_type": "code",
      "metadata": {
        "id": "Su_7YNqfTmJ8",
        "outputId": "246ad0d6-59a5-4068-8c70-4cbc00fcf0bd",
        "colab": {
          "base_uri": "https://localhost:8080/",
          "height": 38
        }
      },
      "source": [
        "sympy.init_printing()\n",
        "x = sympy.Symbol(\"x\", nonnegative=True)\n",
        "p = sympy.Symbol(\"p\", nonnegative=True)\n",
        "u = sympy.Symbol(\"u\")\n",
        "pmf = p**x * (1-p)\n",
        "cdf = sympy.Sum(pmf, (x, 0, x)).doit().simplify()\n",
        "cdf"
      ],
      "execution_count": 5,
      "outputs": [
        {
          "output_type": "execute_result",
          "data": {
            "image/png": "[encoded data removed]",
            "text/latex": "$\\displaystyle 1 - p^{x + 1}$",
            "text/plain": [
              "     x + 1\n",
              "1 - p     "
            ]
          },
          "metadata": {
            "tags": []
          },
          "execution_count": 5
        }
      ]
    },
    {
      "cell_type": "code",
      "metadata": {
        "id": "FQdzL3TYKl_8",
        "outputId": "6c53b470-de50-4208-8ac2-42a8e7eb8b82",
        "colab": {
          "base_uri": "https://localhost:8080/",
          "height": 70
        }
      },
      "source": [
        "sympy.solve(cdf - u, x)[0].simplify()"
      ],
      "execution_count": 6,
      "outputs": [
        {
          "output_type": "execute_result",
          "data": {
            "image/png": "[encoded data removed]",
            "text/latex": "$\\displaystyle \\frac{\\log{\\left(\\frac{1 - u}{p} \\right)}}{\\log{\\left(p \\right)}}$",
            "text/plain": [
              "   ⎛1 - u⎞\n",
              "log⎜─────⎟\n",
              "   ⎝  p  ⎠\n",
              "──────────\n",
              "  log(p)  "
            ]
          },
          "metadata": {
            "tags": []
          },
          "execution_count": 6
        }
      ]
    },
    {
      "cell_type": "code",
      "metadata": {
        "id": "cDrZRabaM6I8",
        "outputId": "57558bf3-804c-4a0d-ede8-f9a49533f51f",
        "colab": {
          "base_uri": "https://localhost:8080/",
          "height": 57
        }
      },
      "source": [
        "sympy.solve(cdf.subs({x: x - 1}) - u, x)[0].simplify()"
      ],
      "execution_count": 7,
      "outputs": [
        {
          "output_type": "execute_result",
          "data": {
            "image/png": "[encoded data removed]",
            "text/latex": "$\\displaystyle \\frac{\\log{\\left(1 - u \\right)}}{\\log{\\left(p \\right)}}$",
            "text/plain": [
              "log(1 - u)\n",
              "──────────\n",
              "  log(p)  "
            ]
          },
          "metadata": {
            "tags": []
          },
          "execution_count": 7
        }
      ]
    },
    {
      "cell_type": "code",
      "metadata": {
        "id": "f-KfWmIZM_SR"
      },
      "source": [
        "r = 3\n",
        "p = 0.9\n",
        "N = 10000\n",
        "neg_bin = np.zeros(shape=(r, N))\n",
        "for row in range(r):\n",
        "  u = np.random.rand(N)\n",
        "  neg_bin[row] = np.array(np.floor(np.log(1-u) / np.log(p)))\n",
        "\n",
        "neg_bin = neg_bin.sum(axis=0)"
      ],
      "execution_count": 8,
      "outputs": []
    },
    {
      "cell_type": "code",
      "metadata": {
        "id": "sC969ct4-4bW",
        "outputId": "80c79ad2-af10-4fb3-a886-aa0dc3dc7560",
        "colab": {
          "base_uri": "https://localhost:8080/",
          "height": 298
        }
      },
      "source": [
        "neg_bin_k, neg_bin_counts = np.unique(neg_bin, return_counts=True)\n",
        "\n",
        "x = np.arange(0, np.max(neg_bin_k) + 1)\n",
        "pmf_nb = spsp.comb(x+r-1, x) * p**(x) * (1-p)**(r)\n",
        "\n",
        "plt.bar(x, pmf_nb, label='theoratical')\n",
        "plt.scatter(\n",
        "    neg_bin_k, neg_bin_counts/sum(neg_bin_counts), \n",
        "    label='samples', zorder=2\n",
        ")\n",
        "plt.legend()\n",
        "plt.title('Theoratical Points versus Samples')"
      ],
      "execution_count": 9,
      "outputs": [
        {
          "output_type": "execute_result",
          "data": {
            "text/plain": [
              "Text(0.5, 1.0, 'Theoratical Points versus Samples')"
            ]
          },
          "metadata": {
            "tags": []
          },
          "execution_count": 9
        },
        {
          "output_type": "display_data",
          "data": {
            "image/png": "[encoded data removed]",
            "text/plain": [
              "<Figure size 432x288 with 1 Axes>"
            ]
          },
          "metadata": {
            "tags": [],
            "needs_background": "light"
          }
        }
      ]
    },
    {
      "cell_type": "code",
      "metadata": {
        "id": "jKy2gUB6GNDU"
      },
      "source": [
        ""
      ],
      "execution_count": 9,
      "outputs": []
    },
    {
      "cell_type": "markdown",
      "metadata": {
        "id": "QwPHItsMv34h"
      },
      "source": [
        "##Q2. [15 points]\n",
        "\n",
        "Let's use a Negative Binomial Distribution as a proposal distribution to generate samples from a Poisson distribution with $\\lambda=40$. \n",
        "\n",
        "Since we want two distributions to follow similar shapes, let's select a negative binomial distribution with the mean values equals to 40 as well. Remember, the expected value of a negative binomial distribution is equal to $\\frac{rp}{1-p}$.\n",
        "\n",
        "* Let's assume we want to use $r=2$ for the proposal distribution.  With the help of `sympy.solve()` function, solve $p$ so that two distributions have the same mean. We will use the $r$ and $p$ value for all subparts in Q2. \n",
        "* Visualize the target distribution for $x$ between 0 and 100 using a bar chart. In the same graph, visualize the proposal distribution for the same $x$ range using a scatter plot. Make sure to add a legend to label each plot. \n",
        "* Visualize the ratio between $PMF_{target}(x)$ and $PMF_{proposal}(x)$ for $x$ between $0$ and $100$ using a bar chart.\n",
        "* Find out the $c$ value for rejection sampling.\n",
        "* Construct a function (or functions) that helps to generate **one** sample from the target distribution using rejection sampling. [your algorithm should allow you to generate sample values above 100 as well]\n",
        "* Generate 10000 random samples from the target distribution.\n",
        "* Plot both the sample distribution of these 10000 samples (using scatter plot) and the corresponding theoretical distribution (using bar chart) in the same graph.\n",
        "\n"
      ]
    },
    {
      "cell_type": "code",
      "metadata": {
        "id": "CQThUWon8hWL",
        "outputId": "20a8c4e7-229d-48b1-e232-9ae0e1bd7c05",
        "colab": {
          "base_uri": "https://localhost:8080/",
          "height": 58
        }
      },
      "source": [
        "#derive p\n",
        "r_s = sympy.Symbol(\"r\")\n",
        "p_s = sympy.Symbol(\"p\", nonnegative=True)\n",
        "lm_s = sympy.Symbol(\"λ\")\n",
        "\n",
        "sympy.solve((((r_s*p_s) / (1-p_s)) - lm_s).subs({r_s: 2, lm_s: 40}))"
      ],
      "execution_count": 10,
      "outputs": [
        {
          "output_type": "execute_result",
          "data": {
            "image/png": "[encoded data removed]",
            "text/latex": "$\\displaystyle \\left[ \\frac{20}{21}\\right]$",
            "text/plain": [
              "⎡20⎤\n",
              "⎢──⎥\n",
              "⎣21⎦"
            ]
          },
          "metadata": {
            "tags": []
          },
          "execution_count": 10
        }
      ]
    },
    {
      "cell_type": "code",
      "metadata": {
        "id": "VBHVnZG2bti8"
      },
      "source": [
        "#plot the target and proposal distribution\n",
        "x = np.arange(100)\n",
        "lam = 40\n",
        "r = 2\n",
        "p = 20/21\n",
        "pmf_poi = [lam**(i) * np.exp(-1*lam) / spsp.factorial(i) for i in range(100)]\n",
        "pmf_ng_bin = spsp.comb(x+r-1, x) * (1-p)**(r) * p**(x)"
      ],
      "execution_count": 70,
      "outputs": []
    },
    {
      "cell_type": "code",
      "metadata": {
        "id": "chfQygp85Hez",
        "outputId": "8f1d5c05-3840-4379-fd41-1bdf42161d42",
        "colab": {
          "base_uri": "https://localhost:8080/",
          "height": 298
        }
      },
      "source": [
        "plt.bar(x, pmf_poi, label='poisson')\n",
        "plt.bar(x, pmf_ng_bin, label='negative binomial', zorder=2, alpha=0.7)\n",
        "plt.legend()\n",
        "plt.title('Poisson versus Negative Binomial Distribuiton')"
      ],
      "execution_count": 12,
      "outputs": [
        {
          "output_type": "execute_result",
          "data": {
            "text/plain": [
              "Text(0.5, 1.0, 'Poisson versus Negative Binomial Distribuiton')"
            ]
          },
          "metadata": {
            "tags": []
          },
          "execution_count": 12
        },
        {
          "output_type": "display_data",
          "data": {
            "image/png": "[encoded data removed]",
            "text/plain": [
              "<Figure size 432x288 with 1 Axes>"
            ]
          },
          "metadata": {
            "tags": [],
            "needs_background": "light"
          }
        }
      ]
    },
    {
      "cell_type": "code",
      "metadata": {
        "id": "Rsx3rTTWvdNG",
        "outputId": "dd2863c9-1002-48e9-dbbe-1e81789217db",
        "colab": {
          "base_uri": "https://localhost:8080/",
          "height": 298
        }
      },
      "source": [
        "#plot the ratio between two distributions\n",
        "plt.bar(x, pmf_poi/pmf_ng_bin, label='ratio')\n",
        "plt.legend()\n",
        "plt.title('Ratio of Poisson / Negative Binomial')"
      ],
      "execution_count": 13,
      "outputs": [
        {
          "output_type": "execute_result",
          "data": {
            "text/plain": [
              "Text(0.5, 1.0, 'Ratio of Poisson / Negative Binomial')"
            ]
          },
          "metadata": {
            "tags": []
          },
          "execution_count": 13
        },
        {
          "output_type": "display_data",
          "data": {
            "image/png": "[encoded data removed]",
            "text/plain": [
              "<Figure size 432x288 with 1 Axes>"
            ]
          },
          "metadata": {
            "tags": [],
            "needs_background": "light"
          }
        }
      ]
    },
    {
      "cell_type": "code",
      "metadata": {
        "id": "nKRa-xTlPg9x",
        "outputId": "8f2d86d0-1d2b-41c5-ca65-bbeba836c9bb",
        "colab": {
          "base_uri": "https://localhost:8080/",
          "height": 37
        }
      },
      "source": [
        "#find out the c value \n",
        "c = np.max(pmf_poi/pmf_ng_bin)\n",
        "c"
      ],
      "execution_count": 14,
      "outputs": [
        {
          "output_type": "execute_result",
          "data": {
            "image/png": "[encoded data removed]",
            "text/latex": "$\\displaystyle 4.766526417772087$",
            "text/plain": [
              "4.766526417772087"
            ]
          },
          "metadata": {
            "tags": []
          },
          "execution_count": 14
        }
      ]
    },
    {
      "cell_type": "code",
      "metadata": {
        "id": "sFrD9KA_6LUR"
      },
      "source": [
        "#sampling and visualization\n",
        "def sampling_NB(ub):\n",
        "  return np.random.randint(ub)\n",
        "\n",
        "def getPoiPMF(lam, i):\n",
        "  return spst.poisson.pmf(i, lam)\n",
        "def getNBPMF(n, p, i):\n",
        "  return spsp.comb(i+n-1, i) * (1-p)**(n) * p**(i)\n",
        "\n",
        "def rejection_sampling(lam, n, p, ub, c):\n",
        "  proposal = sampling_NB(ub)\n",
        "  u = np.random.rand()\n",
        "  while u > getPoiPMF(lam, proposal) / getNBPMF(n, p, proposal) / c:\n",
        "    proposal = sampling_NB(ub)\n",
        "    u = np.random.rand()\n",
        "  \n",
        "  return proposal"
      ],
      "execution_count": 21,
      "outputs": []
    },
    {
      "cell_type": "code",
      "metadata": {
        "id": "UzAzfNW841lX",
        "outputId": "f25b3f8a-8684-4f0e-e56e-7968e3759552",
        "colab": {
          "base_uri": "https://localhost:8080/",
          "height": 51
        }
      },
      "source": [
        "N = 10000\n",
        "upper_bound = 200\n",
        "\n",
        "print('poisson parameter - lambda: ', lam)\n",
        "print('negative binomial parameters - (n, p): ', (r, p))\n",
        "samples = [rejection_sampling(lam, r, p, upper_bound, c) for _ in range(N)]\n",
        "unique, counts = np.unique(samples, return_counts=True)"
      ],
      "execution_count": 22,
      "outputs": [
        {
          "output_type": "stream",
          "text": [
            "poisson parameter - lambda:  40\n",
            "negative binomial parameters - (n, p):  (2, 0.9523809523809523)\n"
          ],
          "name": "stdout"
        }
      ]
    },
    {
      "cell_type": "code",
      "metadata": {
        "id": "llxj8nmf8GWq",
        "outputId": "759501b4-342a-44f5-d4e4-f25adf140f71",
        "colab": {
          "base_uri": "https://localhost:8080/",
          "height": 298
        }
      },
      "source": [
        "plt.bar(\n",
        "    np.arange(upper_bound), \n",
        "    [getPoiPMF(lam, i) for i in range(upper_bound)], \n",
        "    label='theoratical',\n",
        ")\n",
        "plt.scatter(unique, counts/sum(counts), label='sample', zorder=2)\n",
        "plt.legend()\n",
        "plt.title('Theoratical Points versus Samples')"
      ],
      "execution_count": 23,
      "outputs": [
        {
          "output_type": "execute_result",
          "data": {
            "text/plain": [
              "Text(0.5, 1.0, 'Theoratical Points versus Samples')"
            ]
          },
          "metadata": {
            "tags": []
          },
          "execution_count": 23
        },
        {
          "output_type": "display_data",
          "data": {
            "image/png": "[encoded data removed]",
            "text/plain": [
              "<Figure size 432x288 with 1 Axes>"
            ]
          },
          "metadata": {
            "tags": [],
            "needs_background": "light"
          }
        }
      ]
    },
    {
      "cell_type": "code",
      "metadata": {
        "id": "gNY_22vNAa9S"
      },
      "source": [
        ""
      ],
      "execution_count": 23,
      "outputs": []
    },
    {
      "cell_type": "markdown",
      "metadata": {
        "id": "rOz_l6-Smv2X"
      },
      "source": [
        "##Q3. [8 points]\n",
        "\n",
        "* Rewrite your algorithm in Q2 to generate 10000 samples in a parallel way. Use the same $r$, $p$, and $\\lambda$ value you used in Q2.   [No loops allowed]\n",
        "\n",
        "* Visualize the sample distribution (using a scatter plot) and the corresponding theoretical distribution (using a bar chart) in the same graph."
      ]
    },
    {
      "cell_type": "code",
      "metadata": {
        "id": "3tMGXPQgAhfJ"
      },
      "source": [
        "def rejection_sampling_paralle(numSamples, lam, n, p, ub, c):\n",
        "  if isinstance(numSamples, (float, np.float64)):\n",
        "    numSamples = int(numSamples)\n",
        "\n",
        "  proposal = np.random.randint(ub, size=numSamples)\n",
        "  acceptRate = getPoiPMF(lam, proposal) / getNBPMF(n, p, proposal) / c\n",
        "  u = np.random.rand(numSamples)\n",
        "\n",
        "  mask = u < acceptRate\n",
        "  return proposal[mask]"
      ],
      "execution_count": 35,
      "outputs": []
    },
    {
      "cell_type": "code",
      "metadata": {
        "id": "0sddjJCDm6KX",
        "outputId": "366e4535-e16c-4662-817f-fc114b054f0e",
        "colab": {
          "base_uri": "https://localhost:8080/",
          "height": 51
        }
      },
      "source": [
        "'''\n",
        "according to theory, if we need 10000 samples, \n",
        "we need at least generate ceiling(10000*c) + 4*sqrt(10000(c**2-c)) samples\n",
        "'''\n",
        "import math \n",
        "upper_bound = 80\n",
        "\n",
        "print('we need to generate %s samples' % N)\n",
        "numberOfSamples = N*c + 4*math.sqrt(10000*(c**2-c))\n",
        "samples = rejection_sampling_paralle(numberOfSamples, lam, r, p, upper_bound, c)\n",
        "print('we get %s valid samples at the end' % len(samples))\n",
        "unique, counts = np.unique(samples, return_counts=True)"
      ],
      "execution_count": 52,
      "outputs": [
        {
          "output_type": "stream",
          "text": [
            "we need to generate 10000 samples\n",
            "we get 10025 valid samples at the end\n"
          ],
          "name": "stdout"
        }
      ]
    },
    {
      "cell_type": "code",
      "metadata": {
        "id": "yh5ppt8KojSp",
        "outputId": "b766313e-7d58-4874-d01f-dafe07a22626",
        "colab": {
          "base_uri": "https://localhost:8080/",
          "height": 298
        }
      },
      "source": [
        "plt.bar(\n",
        "    np.arange(upper_bound), \n",
        "    [getPoiPMF(lam, i) for i in range(upper_bound)], \n",
        "    label='theoratical',\n",
        ")\n",
        "plt.scatter(unique, counts/sum(counts), label='sample', zorder=2)\n",
        "plt.legend()\n",
        "plt.title('Theoratical Points versus Samples')"
      ],
      "execution_count": 53,
      "outputs": [
        {
          "output_type": "execute_result",
          "data": {
            "text/plain": [
              "Text(0.5, 1.0, 'Theoratical Points versus Samples')"
            ]
          },
          "metadata": {
            "tags": []
          },
          "execution_count": 53
        },
        {
          "output_type": "display_data",
          "data": {
            "image/png": "[encoded data removed]",
            "text/plain": [
              "<Figure size 432x288 with 1 Axes>"
            ]
          },
          "metadata": {
            "tags": [],
            "needs_background": "light"
          }
        }
      ]
    },
    {
      "cell_type": "code",
      "metadata": {
        "id": "J85NbVN6nDW3"
      },
      "source": [
        ""
      ],
      "execution_count": 44,
      "outputs": []
    },
    {
      "cell_type": "markdown",
      "metadata": {
        "id": "WCCpsINxcjAY"
      },
      "source": [
        "##Q4. [7 points]\n",
        "\n",
        "Let's evaluate the efficiency of our algorithm:\n",
        "\n",
        "* when using $r=2$ and generating the samples one by one, how many samples from a geometric distribution do we need on average to generate 10000 samples from our target distribution? \n",
        "* When using $r=2$ and generating the samples in parallel based on the formula provided in the lecture, how many samples from a geometric distribution do we need on average to generate 10000 samples from our target distribution? [Since the probability of having a final sample size less than 10000 is extremely small, you can assume you always get at least 10000 samples]\n",
        "* If we change the value of $r$ to 3 and use the same method to get $p$, how does the value of $c$ change? If we generate samples on by one, how many samples from a geometric distribution do we need on average to generate 10000 samples from our target distribution? \n",
        "* If we change the value of $r$ to 40 and use the same method to get $p$, how does the value of $c$ change? If we generate samples on by one, how many  samples from a geometric distribution do we need on average to generate 10000 samples from our target distribution? \n"
      ]
    },
    {
      "cell_type": "code",
      "metadata": {
        "id": "ajSi0UWiczs5",
        "outputId": "364b31cd-6788-4e10-9552-830aa22bf214",
        "colab": {
          "base_uri": "https://localhost:8080/",
          "height": 51
        }
      },
      "source": [
        "print(\"on average, if we generate samples one by one, we need %s samples,\\n to generate 10000 valid samples\" % np.ceil(N*c))"
      ],
      "execution_count": 65,
      "outputs": [
        {
          "output_type": "stream",
          "text": [
            "on average, if we generate samples one by one, we need 47666.0 samples,\n",
            " to generate 10000 valid samples\n"
          ],
          "name": "stdout"
        }
      ]
    },
    {
      "cell_type": "code",
      "metadata": {
        "id": "y3MfJxfXdGJ0",
        "outputId": "64a86fc9-8a1a-44c8-e37b-fa6b34b413b5",
        "colab": {
          "base_uri": "https://localhost:8080/",
          "height": 51
        }
      },
      "source": [
        "print(\"on average, if we generate samples in parallel, we need %s samples,\\n to generate 10000 valid samples\" % numberOfSamples)"
      ],
      "execution_count": 63,
      "outputs": [
        {
          "output_type": "stream",
          "text": [
            "on average, if we generate samples in parallel, we need 49360.115093809814 samples,\n",
            " to generate 10000 valid samples\n"
          ],
          "name": "stdout"
        }
      ]
    },
    {
      "cell_type": "code",
      "metadata": {
        "id": "j74VO3zkdUNA",
        "outputId": "3faa90e3-c1b5-4819-841e-97a5166be817",
        "colab": {
          "base_uri": "https://localhost:8080/",
          "height": 68
        }
      },
      "source": [
        "x = np.arange(100)\n",
        "lam = 40\n",
        "r = 3\n",
        "p = 20/21\n",
        "pmf_poi_3 = [lam**(i) * np.exp(-1*lam) / spsp.factorial(i) for i in range(100)]\n",
        "pmf_ng_bin_3 = spsp.comb(x+r-1, x) * (1-p)**(r) * p**(x)\n",
        "c = np.max(pmf_poi_3/pmf_ng_bin_3)\n",
        "print('if we change r to 3, c will become: %s' % c)\n",
        "print(\"on average, if we generate samples one by one, we need %s samples,\\n to generate 10000 valid samples\" % np.ceil(N*c))"
      ],
      "execution_count": 75,
      "outputs": [
        {
          "output_type": "stream",
          "text": [
            "if we change r to 3, c will become: 4.766526417772082\n",
            "on average, if we generate samples one by one, we need 47666.0 samples,\n",
            " to generate 10000 valid samples\n"
          ],
          "name": "stdout"
        }
      ]
    },
    {
      "cell_type": "code",
      "metadata": {
        "id": "LL_FYE1sraTQ",
        "outputId": "f84352c1-897f-4f9d-e501-e2cf815cfd44",
        "colab": {
          "base_uri": "https://localhost:8080/",
          "height": 68
        }
      },
      "source": [
        "x = np.arange(100)\n",
        "lam = 40\n",
        "r = 40\n",
        "p = 20/21\n",
        "pmf_poi_40 = [lam**(i) * np.exp(-1*lam) / spsp.factorial(i) for i in range(100)]\n",
        "pmf_ng_bin_40 = spsp.comb(x+r-1, x) * (1-p)**(r) * p**(x)\n",
        "c = np.max(pmf_poi_40/pmf_ng_bin_40)\n",
        "print('if we change r to 40, c will become: %s' % c)\n",
        "print(\"on average, if we generate samples one by one, we need %s samples,\\n to generate 10000 valid samples\" % np.ceil(N*c))"
      ],
      "execution_count": 76,
      "outputs": [
        {
          "output_type": "stream",
          "text": [
            "if we change r to 40, c will become: 3.5370992484467285e+35\n",
            "on average, if we generate samples one by one, we need 3.537099248446728e+39 samples,\n",
            " to generate 10000 valid samples\n"
          ],
          "name": "stdout"
        }
      ]
    },
    {
      "cell_type": "code",
      "metadata": {
        "id": "bWY8IdpuCXk6"
      },
      "source": [
        ""
      ],
      "execution_count": null,
      "outputs": []
    },
    {
      "cell_type": "code",
      "metadata": {
        "id": "2mrwV9vbCe8m"
      },
      "source": [
        "\n"
      ],
      "execution_count": null,
      "outputs": []
    },
    {
      "cell_type": "markdown",
      "metadata": {
        "id": "u3w0jxGu4DzP"
      },
      "source": [
        "##Q5. [15 points]\n",
        "\n",
        "Let's work on an extension of the Pokemon Go example we saw in HW1. Let's assume that a random player can only belong to one of the three following segments:\n",
        "\n",
        "* Segment 1: Players will keep on playing until they see 1 shiny pokemon\n",
        "* Segment 2: Players will keep on playing until they see 2 shiny pokemon\n",
        "* Segment 3: Players will only check up to 30 pokemon. However, if they get one shiny pokemon during the process, they will stop.\n",
        "\n",
        "\n",
        "Let's assume that a player has a 0.25 probability of belonging to segment 1 and a 0.1 probability of belonging to segment 2. \n",
        "\n",
        "Again, let's assume the probability of encountering a shiny pokemon is 0.1. \n",
        "\n",
        "We are interested in getting 10000 samples of $x$, where $x$ is a variable that represents the number of non-shiny pokemon encountered before a random player stops.\n",
        "\n",
        "* Construct a function that will generate one sample of $x$ based on the composition method.\n",
        "* Visualize the sample distribution (using a scatter plot) and the corresponding theoretical distribution (using a bar chart) in the same graph."
      ]
    },
    {
      "cell_type": "code",
      "metadata": {
        "id": "aXVA3a_4d3bC"
      },
      "source": [
        ""
      ],
      "execution_count": null,
      "outputs": []
    },
    {
      "cell_type": "markdown",
      "metadata": {
        "id": "65vcYhRf5cwL"
      },
      "source": [
        "##Q6. [10 points]\n",
        "\n",
        "* Rewrite your algorithm in Q5 to generate 10000 samples in a parallel way. [No loops allowed]\n",
        "\n",
        "* Visualize the sample distribution (using a scatter plot) and the corresponding theoretical distribution (using a bar chart) in the same graph."
      ]
    },
    {
      "cell_type": "code",
      "metadata": {
        "id": "q0CAa8lE-Xze"
      },
      "source": [
        ""
      ],
      "execution_count": null,
      "outputs": []
    },
    {
      "cell_type": "markdown",
      "metadata": {
        "id": "TOOAEhx1wodN"
      },
      "source": [
        "#Exercise 2 [10 points]\n",
        "\n"
      ]
    },
    {
      "cell_type": "markdown",
      "metadata": {
        "id": "e-c3rmhSwrQ4"
      },
      "source": [
        "##Q1. [3 points]\n",
        "\n",
        "* Use np.random.rand() to generate 10000 samples and  visualize the distribution of the samples.\n",
        "* In the same plot, plot the corresponding target theoretical distribution.\n"
      ]
    },
    {
      "cell_type": "code",
      "metadata": {
        "id": "KVI-ssIXwtn2",
        "outputId": "2d5bcf65-63b7-48be-90c9-208885e53a50",
        "colab": {
          "base_uri": "https://localhost:8080/",
          "height": 298
        }
      },
      "source": [
        "N = 10000\n",
        "samples = np.random.rand(N)\n",
        "unique, counts = np.unique(samples, return_counts=True)\n",
        "pmf_uni = 1/N\n",
        "\n",
        "plt.plot(\n",
        "    [0, 1], [1/N, 1/N], \n",
        "    label='theoratical',\n",
        "    color='orange'\n",
        ")\n",
        "plt.scatter(\n",
        "    unique, counts/sum(counts), \n",
        "    label='sample', zorder=2,\n",
        "    alpha=0.7, marker='*', s=10\n",
        ")\n",
        "plt.legend()\n",
        "plt.title('Theoratical Points versus Samples')"
      ],
      "execution_count": 90,
      "outputs": [
        {
          "output_type": "execute_result",
          "data": {
            "text/plain": [
              "Text(0.5, 1.0, 'Theoratical Points versus Samples')"
            ]
          },
          "metadata": {
            "tags": []
          },
          "execution_count": 90
        },
        {
          "output_type": "display_data",
          "data": {
            "image/png": "[encoded data removed]",
            "text/plain": [
              "<Figure size 432x288 with 1 Axes>"
            ]
          },
          "metadata": {
            "tags": [],
            "needs_background": "light"
          }
        }
      ]
    },
    {
      "cell_type": "code",
      "metadata": {
        "id": "HtYp9wl7usqD"
      },
      "source": [
        ""
      ],
      "execution_count": null,
      "outputs": []
    },
    {
      "cell_type": "markdown",
      "metadata": {
        "id": "3Bw0TCEzwfJl"
      },
      "source": [
        "## Q2. [7 points]\n",
        "\n",
        "* Based on the 10000 samples, we can get a sample mean. Repeat the process 1000 times to get 1000 sample means.\n",
        "* Plot the sample distribution of these 1000 sample means.\n",
        "* Based on the central limit theorem, plot the theoretical distribution of the sample mean in the same plot."
      ]
    },
    {
      "cell_type": "code",
      "metadata": {
        "id": "T9BDb6JKDmdK"
      },
      "source": [
        "sample_mean = [np.mean(np.random.rand(N)) for _ in range(1000)]"
      ],
      "execution_count": 91,
      "outputs": []
    },
    {
      "cell_type": "code",
      "metadata": {
        "id": "L182Ai73vUh6",
        "outputId": "be0b8550-1ef9-4c91-eb55-df2774128207",
        "colab": {
          "base_uri": "https://localhost:8080/",
          "height": 298
        }
      },
      "source": [
        "rv = spst.norm(loc=1/2, scale=math.sqrt(1/4000))\n",
        "x = np.linspace(rv.ppf(0.01), rv.ppf(0.99), 100)\n",
        "\n",
        "plt.plot(\n",
        "    x, rv.pdf(x),\n",
        "    'r-', lw=5, alpha=0.6, label='norm pdf',\n",
        "    color='orange'\n",
        ")\n",
        "\n",
        "plt.hist(\n",
        "    sample_mean, density=True,\n",
        "    label='sample', zorder=2\n",
        ")\n",
        "plt.legend()\n",
        "plt.title('Theoratical Points versus Samples')"
      ],
      "execution_count": 124,
      "outputs": [
        {
          "output_type": "execute_result",
          "data": {
            "text/plain": [
              "Text(0.5, 1.0, 'Theoratical Points versus Samples')"
            ]
          },
          "metadata": {
            "tags": []
          },
          "execution_count": 124
        },
        {
          "output_type": "display_data",
          "data": {
            "image/png": "[encoded data removed]",
            "text/plain": [
              "<Figure size 432x288 with 1 Axes>"
            ]
          },
          "metadata": {
            "tags": [],
            "needs_background": "light"
          }
        }
      ]
    },
    {
      "cell_type": "code",
      "metadata": {
        "id": "ptJMOPeSw7mL"
      },
      "source": [
        ""
      ],
      "execution_count": null,
      "outputs": []
    }
  ]
}