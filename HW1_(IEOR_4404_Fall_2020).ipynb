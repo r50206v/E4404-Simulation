{
  "nbformat": 4,
  "nbformat_minor": 0,
  "metadata": {
    "colab": {
      "name": "HW1 (IEOR 4404 Fall 2020).ipynb",
      "provenance": [],
      "collapsed_sections": []
    },
    "kernelspec": {
      "name": "python3",
      "display_name": "Python 3"
    }
  },
  "cells": [
    {
      "cell_type": "markdown",
      "metadata": {
        "id": "4s5izpSul0F9"
      },
      "source": [
        "# **IEOR 4404  Simulation (Fall 2020)**\n",
        "\n",
        "**Homework 1 [Total points: 80 Points]**\n",
        "\n",
        "\n",
        "**Due 11:59 PM EST, Oct 4**\n",
        "\n",
        "Homework 1 consists of application-oriented exercises focusing on Python and Statistics basics\n",
        "\n",
        "The steps to finish the homework:\n",
        "\n",
        "*   Step 1: Answer your homework on Google Colab.\n",
        "*   Step 2: Submit the copy on Google Assignment\n",
        "\n",
        "Before you submit your assignment, make sure to re-run your code from the beginning. (You can do so by first clicking Runtime/Reset All Runtimes and then clicking Runtime/Run all)\n",
        "\n"
      ]
    },
    {
      "cell_type": "code",
      "metadata": {
        "id": "f3BPfGhTQSbE"
      },
      "source": [
        "#Your Name: Yi-Ping Tseng\n",
        "#Your UNI: yt2690"
      ],
      "execution_count": 1,
      "outputs": []
    },
    {
      "cell_type": "code",
      "metadata": {
        "id": "dBMErFTbYQ6V",
        "outputId": "d3054c1a-1f21-4466-bf4f-b599c2515cd9",
        "colab": {
          "base_uri": "https://localhost:8080/",
          "height": 70
        }
      },
      "source": [
        "!pip install sympy -U"
      ],
      "execution_count": 1,
      "outputs": [
        {
          "output_type": "stream",
          "text": [
            "Requirement already up-to-date: sympy in /usr/local/lib/python3.6/dist-packages (1.6.2)\n",
            "Requirement already satisfied, skipping upgrade: mpmath>=0.19 in /usr/local/lib/python3.6/dist-packages (from sympy) (1.1.0)\n"
          ],
          "name": "stdout"
        }
      ]
    },
    {
      "cell_type": "code",
      "metadata": {
        "id": "x4lR3IqNGLmD"
      },
      "source": [
        "#This imports all the packages you need for the homework\n",
        "#Please run this first\n",
        "import numpy as np\n",
        "\n",
        "import scipy.special as spsp\n",
        "\n",
        "import matplotlib.pyplot as plt\n",
        "\n",
        "%matplotlib inline\n",
        "\n",
        "import sympy\n",
        "from sympy import init_printing\n",
        "init_printing()\n"
      ],
      "execution_count": 2,
      "outputs": []
    },
    {
      "cell_type": "code",
      "metadata": {
        "id": "4l29r-wuNrU0",
        "outputId": "cdd8f8a3-ea82-428f-8659-b2a211722532",
        "colab": {
          "base_uri": "https://localhost:8080/",
          "height": 34
        }
      },
      "source": [
        "!pip list | grep sympy"
      ],
      "execution_count": 3,
      "outputs": [
        {
          "output_type": "stream",
          "text": [
            "sympy                         1.6.2          \n"
          ],
          "name": "stdout"
        }
      ]
    },
    {
      "cell_type": "markdown",
      "metadata": {
        "id": "egxBOQDujs6p"
      },
      "source": [
        "#Exercise 1 [Total: 60 points]\n",
        "\n",
        "\n",
        "## Setting\n",
        "\n",
        "**Negative Binomial Distribution** is a discrete probability distribution that models the number of successes (Our outcome variable: $k$) in a sequence of independent and identically distributed Bernoulli trials (with the probability of success=$p$) before a specified (non-random) number of failures (denoted $r$) occurs (Source: Wikipedia [Negative Binomial Distribution](https://en.wikipedia.org/wiki/Negative_binomial_distribution)).\n",
        "\n",
        "The probability mass function follows\n",
        "\n",
        "$P(k)=\\frac{(k+r-1)!}{k!(r-1)!}p^k(1-p)^r$ where $k=0, 1, 2, ..., \\infty$\n",
        "\n",
        "\n",
        "**An application of Negative Binomial Distribution:**\n",
        "\n",
        "Pokemon Go is a mobile app game in which users encounter different pokemon one by one and catch them. Shiny pokemon is a special version of pokemon, which has a different color from the normal version. \n",
        "\n",
        "<img src=\"https://d2skuhm0vrry40.cloudfront.net/2017/articles/1/8/9/1/5/2/5/pokemon-go-shinies-how-to-catch-shiny-magikarp-red-gyarados-and-how-shinies-work-1490264028872.jpg/EG11/thumbnail/750x422/format/jpg/quality/60\" alt=\"Italian Trulli\" width=400>\n",
        "\n",
        "\n",
        "Assume that the probability of encountering a shiny pokemon is 0.1 and each encounter is independent of another. We are interested in studying the distribution of the total number of non-shiny pokemon a person needs to encounter before seeing 3 shiny Pokemon.\n",
        "\n"
      ]
    },
    {
      "cell_type": "markdown",
      "metadata": {
        "id": "xXwOGwj2Yf9T"
      },
      "source": [
        "## Q1. [10 points]\n",
        "\n",
        "\n",
        "* Using `NumPy` operations to construct an array that contains the probabilities of encountering different numbers of non-shiny pokemon (from 0,1,2,3,..., 120) before encountering 3 shiny pokemon. \n",
        "* Based on the array, report the probability of encountering at most 20 non-shiny pokemon before seeing 3 shiny pokemon.\n",
        "* Based on the array, report the probability of encountering at least 40 non-shiny pokemon before seeing 3 shiny pokemon.\n",
        "* Report the probability for encountering 20, 21, 22, 23, 24, or 25 non-shiny pokemon before getting 3 shiny pokemon.  \n",
        "\n",
        "**[no loop allowed]**\n",
        "**[You are not allowed to use scipy.stats.nbinom to get the PMF or CDF]**\n"
      ]
    },
    {
      "cell_type": "code",
      "metadata": {
        "id": "uU36-O3FHoZC",
        "outputId": "caad8e4c-0c7c-4483-da91-6c57fbee27fa",
        "colab": {
          "base_uri": "https://localhost:8080/",
          "height": 88
        }
      },
      "source": [
        "'''\n",
        "success: meet non-shiny pokemon\n",
        "failure: meet shiny pokemon\n",
        "negative binomial: the prob of encounting non-shiny pokemon before meeting \n",
        "  three non-shiny pokemon\n",
        "'''\n",
        "count = np.arange(0, 121, 1)\n",
        "p = 0.9\n",
        "r = 3\n",
        "def prob(p, r, k):\n",
        "  return spsp.comb(k+r-1, k) * (p)**k * (1-p)**r\n",
        "\n",
        "print(\n",
        "    'the probabilities for encountering at most 20 non-shiny pokemon before seeing 3 shiny pokemons: ',\n",
        "    sum(prob(p, r, count[:21]))\n",
        ")\n",
        "print(\n",
        "    'the probabilities for encountering at least 40 non-shiny pokemon before seeing 3 shiny pokemons: ',\n",
        "    sum(prob(p, r, count[40:]))\n",
        ")\n",
        "print(\n",
        "    'the probabilities for encountering 20, 21, 22, 23, 24, or 25 non-shiny pokemon before seeing 3 shiny pokemons: ',\n",
        "    prob(p, r, count[20:26])\n",
        ")\n"
      ],
      "execution_count": 4,
      "outputs": [
        {
          "output_type": "stream",
          "text": [
            "the probabilities for encountering at most 20 non-shiny pokemon before seeing 3 shiny pokemons:  0.40804326879851793\n",
            "the probabilities for encountering at least 40 non-shiny pokemon before seeing 3 shiny pokemons:  0.1948550664326549\n",
            "the probabilities for encountering 20, 21, 22, 23, 24, or 25 non-shiny pokemon before seeing 3 shiny pokemons:  [0.02808421 0.027683   0.02717968 0.02658881 0.02592409 0.02519822]\n"
          ],
          "name": "stdout"
        }
      ]
    },
    {
      "cell_type": "code",
      "metadata": {
        "id": "JIf8yHa-LDRo"
      },
      "source": [
        ""
      ],
      "execution_count": 4,
      "outputs": []
    },
    {
      "cell_type": "markdown",
      "metadata": {
        "id": "hXQGQQQfd4_X"
      },
      "source": [
        "##Q2. [4 points]\n",
        "\n",
        "Visualize the probability mass function in this setting using $k=0,1,2,3,\\dots,120$.\n",
        "\n",
        "**[no loop allowed]**\n",
        "**[You are not allowed to use scipy.stats.nbinom to get the PMF or CDF]**\n",
        "\n"
      ]
    },
    {
      "cell_type": "code",
      "metadata": {
        "id": "gdYk-v6vd4wq",
        "outputId": "b63fe536-fcd0-4ce8-c729-2069ffdd466a",
        "colab": {
          "base_uri": "https://localhost:8080/",
          "height": 312
        }
      },
      "source": [
        "plt.bar(count, prob(p, r, count))\n",
        "plt.title('PMF of Encounting Non-shiny Pokemons Before Meeting Three Non-shiny Pokemon')\n",
        "plt.xlabel('count')\n",
        "plt.ylabel('probability')"
      ],
      "execution_count": 5,
      "outputs": [
        {
          "output_type": "execute_result",
          "data": {
            "text/plain": [
              "Text(0, 0.5, 'probability')"
            ]
          },
          "metadata": {
            "tags": []
          },
          "execution_count": 5
        },
        {
          "output_type": "display_data",
          "data": {
            "image/png": "[encoded data removed]",
            "text/plain": [
              "<Figure size 432x288 with 1 Axes>"
            ]
          },
          "metadata": {
            "tags": [],
            "needs_background": "light"
          }
        }
      ]
    },
    {
      "cell_type": "markdown",
      "metadata": {
        "id": "u1G7Z8qOfGU4"
      },
      "source": [
        "##Q3. [4 points]\n",
        "\n",
        "The expected value of the variance of this distribution have a closed-form solution. Find the formula for these two values using the Wikipedia link provided in the setting and compute the values in the context of this question in the cell below.\n",
        "\n",
        "**[no loop allowed]** **[You are not allowed to use scipy.stats.nbinom to get the PMF or CDF]**\n",
        "\n"
      ]
    },
    {
      "cell_type": "code",
      "metadata": {
        "id": "QRPmLQ0T6PVW",
        "outputId": "75367184-d004-45df-ae5a-0728d8534ffa",
        "colab": {
          "base_uri": "https://localhost:8080/",
          "height": 51
        }
      },
      "source": [
        "print('mean: ', (p*r)/(1-p))\n",
        "print('variance: ', (p*r)/(1-p)**2)"
      ],
      "execution_count": 6,
      "outputs": [
        {
          "output_type": "stream",
          "text": [
            "mean:  27.000000000000007\n",
            "variance:  270.00000000000017\n"
          ],
          "name": "stdout"
        }
      ]
    },
    {
      "cell_type": "markdown",
      "metadata": {
        "id": "kHHjm2Zm2-BZ"
      },
      "source": [
        "##Q4. [4 points]\n",
        "\n",
        "Use the arrays we generated in Q1 to approximate the expected value and the variance based on the formula we discussed in class.\n",
        "\n",
        "**[no loop allowed]** **[You are not allowed to use scipy.stats.nbinom to get the PMF or CDF]**\n",
        "\n"
      ]
    },
    {
      "cell_type": "code",
      "metadata": {
        "id": "DRPws6xLua8y",
        "outputId": "501143cb-2369-4efe-a1fd-33b5f74c4359",
        "colab": {
          "base_uri": "https://localhost:8080/",
          "height": 51
        }
      },
      "source": [
        "exp_mean = sum(count*prob(p, r, count))\n",
        "exp_variance = sum(count**2 * prob(p, r, count)) - exp_mean**2\n",
        "print('expected mean: ', exp_mean)\n",
        "print('expected variance: ', exp_variance)"
      ],
      "execution_count": 7,
      "outputs": [
        {
          "output_type": "stream",
          "text": [
            "expected mean:  26.96679469655563\n",
            "expected variance:  267.3971375505291\n"
          ],
          "name": "stdout"
        }
      ]
    },
    {
      "cell_type": "markdown",
      "metadata": {
        "id": "W1fkp2mfN5ZC"
      },
      "source": [
        "##Q5. [6 points]\n",
        "\n",
        "Use `sympy` to derive the close-form solution of the expected value and the variance as a function of $r$ and $p$.\n",
        "\n",
        "Your solution for $p<1$ should give the equivalent result as what you found on Wikipedia.\n",
        "\n",
        "**[no loop allowed]** **[You are not allowed to use scipy.stats.nbinom to get the PMF or CDF]**\n",
        "\n"
      ]
    },
    {
      "cell_type": "code",
      "metadata": {
        "id": "hhVanfqtN5Fa"
      },
      "source": [
        "x = sympy.Symbol(\"x\", nonnegative=True)\n",
        "r = sympy.Symbol(\"r\", positive=True)\n",
        "p = sympy.Symbol(\"p\", positive=True)"
      ],
      "execution_count": 8,
      "outputs": []
    },
    {
      "cell_type": "code",
      "metadata": {
        "id": "VzQDiE40N_7G",
        "outputId": "79e0fc94-7544-40d0-bbc4-84ba88fe618b",
        "colab": {
          "base_uri": "https://localhost:8080/",
          "height": 38
        }
      },
      "source": [
        "x, r, p"
      ],
      "execution_count": 9,
      "outputs": [
        {
          "output_type": "execute_result",
          "data": {
            "image/png": "[encoded data removed]",
            "text/latex": "$\\displaystyle \\left( x, \\  r, \\  p\\right)$",
            "text/plain": [
              "(x, r, p)"
            ]
          },
          "metadata": {
            "tags": []
          },
          "execution_count": 9
        }
      ]
    },
    {
      "cell_type": "code",
      "metadata": {
        "id": "yfGP6Z23M3aL",
        "outputId": "8ca19e0c-a3cc-4c21-b3f1-343f30a69848",
        "colab": {
          "base_uri": "https://localhost:8080/",
          "height": 79
        }
      },
      "source": [
        "fact = sympy.factorial(x+r-1)/(sympy.factorial(x)*sympy.factorial(r-1))\n",
        "pmf = fact * p**x * (1-p)**r\n",
        "mean = sympy.Sum(x * pmf, (x, 0, sympy.oo)).doit()\n",
        "sympy.simplify(mean)"
      ],
      "execution_count": 10,
      "outputs": [
        {
          "output_type": "execute_result",
          "data": {
            "text/latex": "$\\displaystyle \\begin{cases} - \\frac{p r}{p - 1} & \\text{for}\\: p < 1 \\\\\\frac{\\left(1 - p\\right)^{r} \\sum_{x=0}^{\\infty} \\frac{p^{x} x \\Gamma\\left(r + x + 1\\right)}{\\left(r + x\\right) \\Gamma\\left(x + 1\\right)}}{\\Gamma\\left(r\\right)} & \\text{otherwise} \\end{cases}$",
            "text/plain": [
              "⎧             -p⋅r                          \n",
              "⎪             ─────                for p < 1\n",
              "⎪             p - 1                         \n",
              "⎪                                           \n",
              "⎪           ∞                               \n",
              "⎪          ____                             \n",
              "⎪          ╲                                \n",
              "⎪           ╲    x                          \n",
              "⎨       r    ╲  p ⋅x⋅Γ(r + x + 1)           \n",
              "⎪(1 - p) ⋅   ╱  ─────────────────           \n",
              "⎪           ╱    (r + x)⋅Γ(x + 1)           \n",
              "⎪          ╱                                \n",
              "⎪          ‾‾‾‾                             \n",
              "⎪         x = 0                             \n",
              "⎪────────────────────────────────  otherwise\n",
              "⎪              Γ(r)                         \n",
              "⎩                                           "
            ]
          },
          "metadata": {
            "tags": []
          },
          "execution_count": 10
        }
      ]
    },
    {
      "cell_type": "code",
      "metadata": {
        "id": "nRLUlVBqO_6w",
        "outputId": "6250bf98-93e3-40d1-8e5c-6e8f888b2a0e",
        "colab": {
          "base_uri": "https://localhost:8080/",
          "height": 101
        }
      },
      "source": [
        "var = sympy.Sum((x**2) * pmf, (x, 0, sympy.oo)).doit() - mean**2\n",
        "sympy.simplify(var)"
      ],
      "execution_count": 11,
      "outputs": [
        {
          "output_type": "execute_result",
          "data": {
            "text/latex": "$\\displaystyle \\begin{cases} \\frac{p r}{\\left(p - 1\\right)^{2}} & \\text{for}\\: p < 1 \\\\\\frac{\\left(1 - p\\right)^{r} \\left(- \\frac{\\left(1 - p\\right)^{r} \\left(\\sum_{x=0}^{\\infty} \\frac{p^{x} x \\Gamma\\left(r + x + 1\\right)}{\\left(r + x\\right) \\Gamma\\left(x + 1\\right)}\\right)^{2}}{\\Gamma\\left(r\\right)} + \\sum_{x=0}^{\\infty} \\frac{p^{x} x^{2} \\Gamma\\left(r + x + 1\\right)}{\\left(r + x\\right) \\Gamma\\left(x + 1\\right)}\\right)}{\\Gamma\\left(r\\right)} & \\text{otherwise} \\end{cases}$",
            "text/plain": [
              "⎧                                   p⋅r                                       \n",
              "⎪                                 ────────                                    \n",
              "⎪                                        2                                    \n",
              "⎪                                 (p - 1)                                     \n",
              "⎪                                                                             \n",
              "⎪         ⎛                                    2                           ⎞  \n",
              "⎪         ⎜           ⎛  ∞                    ⎞                            ⎟  \n",
              "⎪         ⎜           ⎜ ____                  ⎟                            ⎟  \n",
              "⎪         ⎜           ⎜ ╲                     ⎟                            ⎟  \n",
              "⎪         ⎜           ⎜  ╲    x               ⎟                            ⎟  \n",
              "⎪         ⎜         r ⎜   ╲  p ⋅x⋅Γ(r + x + 1)⎟                            ⎟  \n",
              "⎨         ⎜  (1 - p) ⋅⎜   ╱  ─────────────────⎟      ∞                     ⎟  \n",
              "⎪         ⎜           ⎜  ╱    (r + x)⋅Γ(x + 1)⎟     ____                   ⎟  \n",
              "⎪         ⎜           ⎜ ╱                     ⎟     ╲                      ⎟  \n",
              "⎪         ⎜           ⎜ ‾‾‾‾                  ⎟      ╲    x  2             ⎟  \n",
              "⎪       r ⎜           ⎝x = 0                  ⎠       ╲  p ⋅x ⋅Γ(r + x + 1)⎟  \n",
              "⎪(1 - p) ⋅⎜- ─────────────────────────────────── +    ╱  ──────────────────⎟  \n",
              "⎪         ⎜                  Γ(r)                    ╱    (r + x)⋅Γ(x + 1) ⎟  \n",
              "⎪         ⎜                                         ╱                      ⎟  \n",
              "⎪         ⎜                                         ‾‾‾‾                   ⎟  \n",
              "⎪         ⎝                                        x = 0                   ⎠  \n",
              "⎪───────────────────────────────────────────────────────────────────────────  \n",
              "⎩                                    Γ(r)                                     \n",
              "\n",
              "         \n",
              "for p < 1\n",
              "         \n",
              "         \n",
              "         \n",
              "         \n",
              "         \n",
              "         \n",
              "         \n",
              "         \n",
              "         \n",
              "         \n",
              "         \n",
              "         \n",
              "         \n",
              "         \n",
              "         \n",
              "         \n",
              "         \n",
              "         \n",
              "         \n",
              "otherwise\n",
              "         "
            ]
          },
          "metadata": {
            "tags": []
          },
          "execution_count": 11
        }
      ]
    },
    {
      "cell_type": "code",
      "metadata": {
        "id": "lEY2I-5hTu4J"
      },
      "source": [
        ""
      ],
      "execution_count": 11,
      "outputs": []
    },
    {
      "cell_type": "markdown",
      "metadata": {
        "id": "4e0InXCPQdaH"
      },
      "source": [
        "##Q6. [10 points]\n",
        "\n",
        "* Use inverse transform method to generate 1000 samples. Start the search from $k=0$.\n",
        "* Plot both the theretical distribution and the sample distribution using the same plot\n",
        "\n",
        "**[Since $x$ can reach $\\infty$, remember to use a while loop.]**\n",
        "\n",
        "**[You are not allowed to use scipy.stats.nbinom to get the PMF or CDF]**\n"
      ]
    },
    {
      "cell_type": "code",
      "metadata": {
        "id": "6WKv8kFGQRG0"
      },
      "source": [
        "def find_outcome(p, r, u=None):\n",
        "  x = 0\n",
        "  pmf = prob(p, r, x)\n",
        "  cdf = pmf\n",
        "\n",
        "  if not u:\n",
        "    u = np.random.rand()\n",
        "\n",
        "  while u >= cdf:\n",
        "    pmf = pmf * (x+r)/(x+1) * p\n",
        "    cdf += pmf\n",
        "    x += 1\n",
        "  return x"
      ],
      "execution_count": 12,
      "outputs": []
    },
    {
      "cell_type": "code",
      "metadata": {
        "id": "5NyCdFfDQizk"
      },
      "source": [
        "np.random.seed(100)\n",
        "p = 0.9\n",
        "r = 3\n",
        "\n",
        "\n",
        "n = 1000\n",
        "samples = [find_outcome(p, r) for _ in range(n)]\n",
        "uni, count = np.unique(samples, return_counts=True)"
      ],
      "execution_count": 13,
      "outputs": []
    },
    {
      "cell_type": "code",
      "metadata": {
        "id": "nV0rptxTOcyW",
        "outputId": "733bac7f-199e-4d0b-daed-8d928043e30c",
        "colab": {
          "base_uri": "https://localhost:8080/",
          "height": 295
        }
      },
      "source": [
        "plt.bar(\n",
        "    np.arange(uni[0], uni[-1]+1), \n",
        "    prob(p, r, np.arange(uni[0], uni[-1]+1)),\n",
        "    label='theory'\n",
        ")\n",
        "plt.plot(uni, count/np.sum(count), '.r-', label=\"sample\", zorder=2)\n",
        "plt.legend(loc=\"best\")\n",
        "plt.title('PMF of Encounting Non-shiny Pokemons Before Meeting Three Non-shiny Pokemon')\n",
        "plt.xlabel('count')\n",
        "plt.ylabel('probability')\n",
        "plt.show()"
      ],
      "execution_count": 14,
      "outputs": [
        {
          "output_type": "display_data",
          "data": {
            "image/png": "[encoded data removed]",
            "text/plain": [
              "<Figure size 432x288 with 1 Axes>"
            ]
          },
          "metadata": {
            "tags": [],
            "needs_background": "light"
          }
        }
      ]
    },
    {
      "cell_type": "markdown",
      "metadata": {
        "id": "sA-IkwhMQoA-"
      },
      "source": [
        "## Q7. [10 points]\n",
        "* Use inverse transform method to generate 1000 samples. Perform an upward/downward search from $\\lfloor E(k) \\rfloor$.\n",
        "* Plot both the theretical distribution and the sample distribution using the same plot.\n",
        "* Use %%timeit to measure the amount of time to run the list comprehension when generating 100 samples. [Bonus points will be offered based on run time. ] \n",
        "\n",
        "**[You are not allowed to use scipy.stats.nbinom to get the PMF or CDF]**"
      ]
    },
    {
      "cell_type": "code",
      "metadata": {
        "id": "g3o07rgnQnwM"
      },
      "source": [
        "def find_outcome_updown(p, r, u=None):\n",
        "  start = int((p*r)/(1-p))\n",
        "  \n",
        "  x = 0\n",
        "  pmf = prob(p, r, 0)\n",
        "  cdf = pmf\n",
        "  for i in range(1, start + 1):\n",
        "    pmf = pmf * (x+r)/(x+1) * p\n",
        "    cdf += pmf\n",
        "    x += 1\n",
        "  \n",
        "  if not u:\n",
        "    u = np.random.rand()\n",
        "\n",
        "  if u >= cdf:\n",
        "    pmf = pmf * (start + r)/(start + 1) * p\n",
        "    cdf += pmf\n",
        "    start += 1\n",
        "\n",
        "    while u >= cdf:\n",
        "      pmf = pmf * (start + r)/(start + 1) * p\n",
        "      cdf += pmf\n",
        "      start += 1\n",
        "\n",
        "  else:\n",
        "    cdf -= pmf\n",
        "    pmf = pmf * start / ((start - 1 + r) * p)\n",
        "    start -= 1\n",
        "\n",
        "    while u < cdf:\n",
        "      cdf -= pmf\n",
        "      pmf = pmf * start / ((start - 1 + r) * p)\n",
        "      start -= 1\n",
        "    \n",
        "    start = start + 1\n",
        "  return start\n"
      ],
      "execution_count": 15,
      "outputs": []
    },
    {
      "cell_type": "code",
      "metadata": {
        "id": "c6GkqGuEQce5",
        "outputId": "f0350858-2de2-4e0c-e66a-ff1cfa4d9917",
        "colab": {
          "base_uri": "https://localhost:8080/",
          "height": 34
        }
      },
      "source": [
        "%%timeit\n",
        "np.random.seed(100)\n",
        "p = 0.9\n",
        "r = 3\n",
        "\n",
        "n = 100\n",
        "samples_updown = [find_outcome_updown(p, r) for _ in range(n)]\n",
        "uni_updown, count_updown = np.unique(samples_updown, return_counts=True)"
      ],
      "execution_count": 16,
      "outputs": [
        {
          "output_type": "stream",
          "text": [
            "100 loops, best of 3: 4.61 ms per loop\n"
          ],
          "name": "stdout"
        }
      ]
    },
    {
      "cell_type": "code",
      "metadata": {
        "id": "ocT0LQm4mx55",
        "outputId": "cc36e9fb-1e7f-4d52-889a-4706629fd3c3",
        "colab": {
          "base_uri": "https://localhost:8080/",
          "height": 68
        }
      },
      "source": [
        "%%time\n",
        "np.random.seed(100)\n",
        "p = 0.9\n",
        "r = 3\n",
        "\n",
        "n = 1000\n",
        "print('number of points: ', n)\n",
        "samples_updown = [find_outcome_updown(p, r) for _ in range(n)]\n",
        "uni_updown, count_updown = np.unique(samples_updown, return_counts=True)"
      ],
      "execution_count": 17,
      "outputs": [
        {
          "output_type": "stream",
          "text": [
            "number of points:  1000\n",
            "CPU times: user 57.2 ms, sys: 953 µs, total: 58.1 ms\n",
            "Wall time: 57.6 ms\n"
          ],
          "name": "stdout"
        }
      ]
    },
    {
      "cell_type": "code",
      "metadata": {
        "id": "otn9FZ3AcbLu",
        "outputId": "3575dc8d-e9d7-4fe2-805c-e0555a2452dd",
        "colab": {
          "base_uri": "https://localhost:8080/",
          "height": 295
        }
      },
      "source": [
        "plt.bar(\n",
        "    np.arange(uni_updown[0], uni_updown[-1]+1), \n",
        "    prob(p, r, np.arange(uni_updown[0], uni_updown[-1]+1)),\n",
        "    color='orange',\n",
        "    label='theory'\n",
        ")\n",
        "plt.plot(\n",
        "    uni_updown, \n",
        "    count_updown/np.sum(count_updown), \n",
        "    '.g-', \n",
        "    label=\"sample\", \n",
        "    zorder=2\n",
        ")\n",
        "plt.legend(loc=\"best\")\n",
        "plt.title('PMF of Encounting Non-shiny Pokemons Before Meeting Three Non-shiny Pokemon')\n",
        "plt.xlabel('count')\n",
        "plt.ylabel('probability')\n",
        "plt.show()"
      ],
      "execution_count": 18,
      "outputs": [
        {
          "output_type": "display_data",
          "data": {
            "image/png": "[encoded data removed]",
            "text/plain": [
              "<Figure size 432x288 with 1 Axes>"
            ]
          },
          "metadata": {
            "tags": [],
            "needs_background": "light"
          }
        }
      ]
    },
    {
      "cell_type": "code",
      "metadata": {
        "id": "mIOWf6u84Dag"
      },
      "source": [
        ""
      ],
      "execution_count": 18,
      "outputs": []
    },
    {
      "cell_type": "code",
      "metadata": {
        "id": "hLJtkcqc8xoc"
      },
      "source": [
        ""
      ],
      "execution_count": 18,
      "outputs": []
    },
    {
      "cell_type": "code",
      "metadata": {
        "id": "vYN09zKP3qZZ"
      },
      "source": [
        ""
      ],
      "execution_count": 18,
      "outputs": []
    },
    {
      "cell_type": "markdown",
      "metadata": {
        "id": "9YP1YUXRU9Lz"
      },
      "source": [
        "##Q8 [12 points]\n",
        "\n",
        "* Use `sympy` to derive the expected  number of searches as a function of $r$, $p$ and the starting value of search $i$ for an upward/downward search algorithm. \n",
        "* Compare the expected number of searches in Q6 with the expected number in Q7.\n",
        "* Find a better starting point than $\\lfloor E(k) \\rfloor$ based on the expected number of searches. \n"
      ]
    },
    {
      "cell_type": "code",
      "metadata": {
        "id": "R59WGtmNU_Ef"
      },
      "source": [
        "x = sympy.Symbol(\"x\", nonnegative=True)\n",
        "r = sympy.Symbol(\"r\", positive=True)\n",
        "p = sympy.Symbol(\"p\", positive=True)\n",
        "i = sympy.Symbol(\"i\", positive=True)"
      ],
      "execution_count": 19,
      "outputs": []
    },
    {
      "cell_type": "code",
      "metadata": {
        "id": "25t4AVpsQs_5",
        "outputId": "982ed47c-bafb-4e79-991b-ee91881d0e88",
        "colab": {
          "base_uri": "https://localhost:8080/",
          "height": 66
        }
      },
      "source": [
        "fact = sympy.factorial(x+r-1)/(sympy.factorial(x)*sympy.factorial(r-1))\n",
        "pmf = fact * p**x * (1-p)**r\n",
        "\n",
        "\n",
        "exp_search = sympy.Sum((x + 1) * pmf, (x, 0, sympy.oo))\n",
        "exp_search.simplify().subs({r: 3, p: 0.9})"
      ],
      "execution_count": 26,
      "outputs": [
        {
          "output_type": "execute_result",
          "data": {
            "image/png": "[encoded data removed]",
            "text/latex": "$\\displaystyle 0.0005 \\sum_{x=0}^{\\infty} \\frac{0.9^{x} \\left(x + 1\\right) \\left(x + 2\\right)!}{x!}$",
            "text/plain": [
              "         ∞                        \n",
              "        ____                      \n",
              "        ╲                         \n",
              "         ╲      x                 \n",
              "          ╲  0.9 ⋅(x + 1)⋅(x + 2)!\n",
              "0.0005⋅   ╱  ─────────────────────\n",
              "         ╱             x!         \n",
              "        ╱                         \n",
              "        ‾‾‾‾                      \n",
              "       x = 0                      "
            ]
          },
          "metadata": {
            "tags": []
          },
          "execution_count": 26
        }
      ]
    },
    {
      "cell_type": "code",
      "metadata": {
        "id": "PDj-fX5CbNqs",
        "outputId": "e1442c76-bff4-41e8-d42e-0400f6bc028a",
        "colab": {
          "base_uri": "https://localhost:8080/",
          "height": 101
        }
      },
      "source": [
        "downward = sympy.Sum(pmf * (sympy.floor(i) + 2 - x), (x, 0, sympy.floor(i))).doit()\n",
        "upward = sympy.Sum(pmf * (x - sympy.floor(i) + 1), (x, sympy.floor(i) + 1, sympy.oo)).doit()\n",
        "exp_search_updown = downward + upward\n",
        "exp_search_updown.simplify().subs({r: 3, p: 0.9})"
      ],
      "execution_count": 32,
      "outputs": [
        {
          "output_type": "execute_result",
          "data": {
            "text/latex": "$\\displaystyle \\frac{5.0 \\left(0.002 \\cdot 0.9^{\\left\\lfloor{i}\\right\\rfloor + 1} \\Gamma\\left(\\left\\lfloor{i}\\right\\rfloor + 1\\right) \\Gamma\\left(\\left\\lfloor{i}\\right\\rfloor + 4\\right) {{}_{2}F_{1}\\left(\\begin{matrix} 1, \\left\\lfloor{i}\\right\\rfloor + 4 \\\\ \\left\\lfloor{i}\\right\\rfloor + 1 \\end{matrix}\\middle| {0.9} \\right)} - 0.002 \\cdot 0.9^{\\left\\lfloor{i}\\right\\rfloor + 1} \\Gamma\\left(\\left\\lfloor{i}\\right\\rfloor + 1\\right) \\Gamma\\left(\\left\\lfloor{i}\\right\\rfloor + 4\\right) {{}_{2}F_{1}\\left(\\begin{matrix} 1, \\left\\lfloor{i}\\right\\rfloor + 4 \\\\ \\left\\lfloor{i}\\right\\rfloor + 2 \\end{matrix}\\middle| {0.9} \\right)} + 0.002 \\cdot 0.9^{\\left\\lfloor{i}\\right\\rfloor + 1} \\Gamma\\left(\\left\\lfloor{i}\\right\\rfloor + 4\\right) \\Gamma\\left(\\left\\lfloor{i}\\right\\rfloor\\right) {{}_{2}F_{1}\\left(\\begin{matrix} 1, \\left\\lfloor{i}\\right\\rfloor + 4 \\\\ \\left\\lfloor{i}\\right\\rfloor + 1 \\end{matrix}\\middle| {0.9} \\right)} - 0.000999999999999999 \\cdot 0.9^{\\left\\lfloor{i}\\right\\rfloor + 1} \\Gamma\\left(\\left\\lfloor{i}\\right\\rfloor + 4\\right) \\Gamma\\left(\\left\\lfloor{i}\\right\\rfloor\\right) {{}_{2}F_{1}\\left(\\begin{matrix} 1, \\left\\lfloor{i}\\right\\rfloor + 4 \\\\ \\left\\lfloor{i}\\right\\rfloor + 2 \\end{matrix}\\middle| {0.9} \\right)} - 0.002 \\cdot 0.9^{\\left\\lfloor{i}\\right\\rfloor + 2} \\Gamma\\left(\\left\\lfloor{i}\\right\\rfloor + 1\\right) \\Gamma\\left(\\left\\lfloor{i}\\right\\rfloor + 4\\right) {{}_{2}F_{1}\\left(\\begin{matrix} 1, \\left\\lfloor{i}\\right\\rfloor + 4 \\\\ \\left\\lfloor{i}\\right\\rfloor + 1 \\end{matrix}\\middle| {0.9} \\right)} + 0.002 \\cdot 0.9^{\\left\\lfloor{i}\\right\\rfloor + 2} \\Gamma\\left(\\left\\lfloor{i}\\right\\rfloor + 1\\right) \\Gamma\\left(\\left\\lfloor{i}\\right\\rfloor + 4\\right) {{}_{2}F_{1}\\left(\\begin{matrix} 1, \\left\\lfloor{i}\\right\\rfloor + 4 \\\\ \\left\\lfloor{i}\\right\\rfloor + 2 \\end{matrix}\\middle| {0.9} \\right)} - 0.002 \\cdot 0.9^{\\left\\lfloor{i}\\right\\rfloor + 2} \\Gamma\\left(\\left\\lfloor{i}\\right\\rfloor + 4\\right) \\Gamma\\left(\\left\\lfloor{i}\\right\\rfloor\\right) {{}_{2}F_{1}\\left(\\begin{matrix} 1, \\left\\lfloor{i}\\right\\rfloor + 4 \\\\ \\left\\lfloor{i}\\right\\rfloor + 1 \\end{matrix}\\middle| {0.9} \\right)} + 0.000999999999999999 \\cdot 0.9^{\\left\\lfloor{i}\\right\\rfloor + 2} \\Gamma\\left(\\left\\lfloor{i}\\right\\rfloor + 4\\right) \\Gamma\\left(\\left\\lfloor{i}\\right\\rfloor\\right) {{}_{2}F_{1}\\left(\\begin{matrix} 1, \\left\\lfloor{i}\\right\\rfloor + 4 \\\\ \\left\\lfloor{i}\\right\\rfloor + 2 \\end{matrix}\\middle| {0.9} \\right)} + 0.2 \\left\\lfloor{i}\\right\\rfloor^{2} \\Gamma\\left(\\left\\lfloor{i}\\right\\rfloor + 1\\right) \\Gamma\\left(\\left\\lfloor{i}\\right\\rfloor\\right) - 4.8 \\left\\lfloor{i}\\right\\rfloor \\Gamma\\left(\\left\\lfloor{i}\\right\\rfloor + 1\\right) \\Gamma\\left(\\left\\lfloor{i}\\right\\rfloor\\right) - 5.0 \\Gamma\\left(\\left\\lfloor{i}\\right\\rfloor + 1\\right) \\Gamma\\left(\\left\\lfloor{i}\\right\\rfloor\\right)\\right)}{\\Gamma\\left(\\left\\lfloor{i}\\right\\rfloor + 2\\right) \\Gamma\\left(\\left\\lfloor{i}\\right\\rfloor\\right)}$",
            "text/plain": [
              "    ⎛         ⌊i⌋ + 1                        ┌─  ⎛1, ⌊i⌋ + 4 │    ⎞           \n",
              "5.0⋅⎜0.002⋅0.9       ⋅Γ(⌊i⌋ + 1)⋅Γ(⌊i⌋ + 4)⋅ ├─  ⎜           │ 0.9⎟ - 0.002⋅0.\n",
              "    ⎝                                       2╵ 1 ⎝ ⌊i⌋ + 1   │    ⎠           \n",
              "──────────────────────────────────────────────────────────────────────────────\n",
              "                                                                              \n",
              "\n",
              " ⌊i⌋ + 1                        ┌─  ⎛1, ⌊i⌋ + 4 │    ⎞            ⌊i⌋ + 1     \n",
              "9       ⋅Γ(⌊i⌋ + 1)⋅Γ(⌊i⌋ + 4)⋅ ├─  ⎜           │ 0.9⎟ + 0.002⋅0.9       ⋅Γ(⌊i\n",
              "                               2╵ 1 ⎝ ⌊i⌋ + 2   │    ⎠                        \n",
              "──────────────────────────────────────────────────────────────────────────────\n",
              "                                                                              \n",
              "\n",
              "               ┌─  ⎛1, ⌊i⌋ + 4 │    ⎞                           ⌊i⌋ + 1       \n",
              "⌋ + 4)⋅Γ(⌊i⌋)⋅ ├─  ⎜           │ 0.9⎟ - 0.000999999999999999⋅0.9       ⋅Γ(⌊i⌋ \n",
              "              2╵ 1 ⎝ ⌊i⌋ + 1   │    ⎠                                         \n",
              "──────────────────────────────────────────────────────────────────────────────\n",
              "                                                                              \n",
              "\n",
              "             ┌─  ⎛1, ⌊i⌋ + 4 │    ⎞            ⌊i⌋ + 2                        \n",
              "+ 4)⋅Γ(⌊i⌋)⋅ ├─  ⎜           │ 0.9⎟ - 0.002⋅0.9       ⋅Γ(⌊i⌋ + 1)⋅Γ(⌊i⌋ + 4)⋅ \n",
              "            2╵ 1 ⎝ ⌊i⌋ + 2   │    ⎠                                          2\n",
              "──────────────────────────────────────────────────────────────────────────────\n",
              "                                                                  Γ(⌊i⌋ + 2)⋅Γ\n",
              "\n",
              "┌─  ⎛1, ⌊i⌋ + 4 │    ⎞            ⌊i⌋ + 2                        ┌─  ⎛1, ⌊i⌋ +\n",
              "├─  ⎜           │ 0.9⎟ + 0.002⋅0.9       ⋅Γ(⌊i⌋ + 1)⋅Γ(⌊i⌋ + 4)⋅ ├─  ⎜        \n",
              "╵ 1 ⎝ ⌊i⌋ + 1   │    ⎠                                          2╵ 1 ⎝ ⌊i⌋ + 2\n",
              "──────────────────────────────────────────────────────────────────────────────\n",
              "(⌊i⌋)                                                                         \n",
              "\n",
              " 4 │    ⎞            ⌊i⌋ + 2                    ┌─  ⎛1, ⌊i⌋ + 4 │    ⎞        \n",
              "   │ 0.9⎟ - 0.002⋅0.9       ⋅Γ(⌊i⌋ + 4)⋅Γ(⌊i⌋)⋅ ├─  ⎜           │ 0.9⎟ + 0.000\n",
              "   │    ⎠                                      2╵ 1 ⎝ ⌊i⌋ + 1   │    ⎠        \n",
              "──────────────────────────────────────────────────────────────────────────────\n",
              "                                                                              \n",
              "\n",
              "                   ⌊i⌋ + 2                    ┌─  ⎛1, ⌊i⌋ + 4 │    ⎞          \n",
              "999999999999999⋅0.9       ⋅Γ(⌊i⌋ + 4)⋅Γ(⌊i⌋)⋅ ├─  ⎜           │ 0.9⎟ + 0.2⋅⌊i⌋\n",
              "                                             2╵ 1 ⎝ ⌊i⌋ + 2   │    ⎠          \n",
              "──────────────────────────────────────────────────────────────────────────────\n",
              "                                                                              \n",
              "\n",
              "2                                                                      ⎞\n",
              " ⋅Γ(⌊i⌋ + 1)⋅Γ(⌊i⌋) - 4.8⋅⌊i⌋⋅Γ(⌊i⌋ + 1)⋅Γ(⌊i⌋) - 5.0⋅Γ(⌊i⌋ + 1)⋅Γ(⌊i⌋)⎟\n",
              "                                                                       ⎠\n",
              "────────────────────────────────────────────────────────────────────────\n",
              "                                                                        "
            ]
          },
          "metadata": {
            "tags": []
          },
          "execution_count": 32
        }
      ]
    },
    {
      "cell_type": "code",
      "metadata": {
        "id": "iwzKSYnjaORw"
      },
      "source": [
        ""
      ],
      "execution_count": null,
      "outputs": []
    },
    {
      "cell_type": "code",
      "metadata": {
        "id": "0RvUtzMGVtpc"
      },
      "source": [
        ""
      ],
      "execution_count": 15,
      "outputs": []
    },
    {
      "cell_type": "markdown",
      "metadata": {
        "id": "IVGvlxQwxnNH"
      },
      "source": [
        "#Exercise 2 [Total: 20 points]\n",
        "\n",
        "\n",
        "\n",
        "\n",
        "##Setting\n",
        "\n",
        "Benford's law, also called the first-digit law, is an observation of the frequency distribution of leading digits in many real-life sets of numerical data. The law states that in many naturally occurring collections of numbers, the leading significant digit is likely to be small. For example, in sets that obey the law, the number 1 appears as the most significant digit about 30% of the time, while 9 appears as the most significant digit less than 5% of the time. Benford's law also makes predictions about the distribution of second digits, third digits, digit combinations, and so on.\n",
        "\n",
        "It has been shown that this result applies to a wide variety of data sets, including electricity bills, stock prices, house prices, income tax, corporate disbursements, sales figures,  demographics data, and scientific data.\n",
        "\n",
        "A number is said to satisfy Benford's law if the leading digit d (d ∈ {1, ..., 9}) occurs with probability :\n",
        "\n",
        "$P(d)=\\log _{10}(d+1)-\\log _{10}(d)=\\log _{10}\\left({\\frac {d+1}{d}}\\right)=\\log _{10}\\left(1+{\\frac {1}{d}}\\right)$\n",
        "\n",
        "\n",
        "\n",
        "\n",
        "\n",
        "\n",
        "\n",
        "\n"
      ]
    },
    {
      "cell_type": "markdown",
      "metadata": {
        "id": "7VZheQoYxnNI"
      },
      "source": [
        "\n",
        "##Q1. [10 Points]\n",
        "\n",
        "We discussed a shortcut that can help us implement the inverse transform method without doing the search. The examples we have seen so far include geometric distribution and uniform discrete distribution.  Please derive the formula (You do not need to show the derivation in your submission). [Hint: you will need to derive the CDF first]\n",
        "* Use `sympy` to derive the CDF of this distribution. Clearly show your steps.\n",
        "* Based on the CDF, derive a formula that can directly convert a $u$ to a $d$ sample based on floor operation. [No need to show the derivation]. Based on your derivation result, simulate 10000 samples. \n",
        "* Plot the distribution of the samples using a bar chart. Also, show the scatter plot of the theoretical pmf on the same chart. </font > \n"
      ]
    },
    {
      "cell_type": "code",
      "metadata": {
        "id": "y8NvKR7XxnNJ",
        "outputId": "bdd1c587-cda1-4f8f-ea15-eb8d9302ece9",
        "colab": {
          "base_uri": "https://localhost:8080/",
          "height": 60
        }
      },
      "source": [
        "d = sympy.Symbol(\"d\", positive=True)\n",
        "pmf = sympy.log((1 + 1/d), 10)\n",
        "cdf = sympy.Sum(pmf, (d, 1, x))\n",
        "cdf.simplify()"
      ],
      "execution_count": 41,
      "outputs": [
        {
          "output_type": "execute_result",
          "data": {
            "image/png": "[encoded data removed]",
            "text/latex": "$\\displaystyle \\frac{\\sum_{d=1}^{x} \\log{\\left(1 + \\frac{1}{d} \\right)}}{\\log{\\left(10 \\right)}}$",
            "text/plain": [
              "  x             \n",
              " ____           \n",
              " ╲              \n",
              "  ╲             \n",
              "   ╲     ⎛    1⎞\n",
              "   ╱  log⎜1 + ─⎟\n",
              "  ╱      ⎝    d⎠\n",
              " ╱              \n",
              " ‾‾‾‾           \n",
              "d = 1           \n",
              "────────────────\n",
              "    log(10)     "
            ]
          },
          "metadata": {
            "tags": []
          },
          "execution_count": 41
        }
      ]
    },
    {
      "cell_type": "code",
      "metadata": {
        "id": "KzmGH122llnQ"
      },
      "source": [
        "def find_outcome_benford(u=None):\n",
        "  if not u:\n",
        "    u = np.random.rand()\n",
        "\n",
        "  return int(10**u)\n",
        "\n",
        "def pmf_benford(d):\n",
        "  return np.log10(1+1/d)\n",
        "\n",
        "samples_benford = [find_outcome_benford() for _ in range(10000)]\n",
        "uni_benford, count_benford = np.unique(samples_benford, return_counts=True)"
      ],
      "execution_count": 46,
      "outputs": []
    },
    {
      "cell_type": "code",
      "metadata": {
        "id": "Y-me44-3mPKr",
        "outputId": "54cd835f-af2e-4b82-a8ac-e6451c55e50f",
        "colab": {
          "base_uri": "https://localhost:8080/",
          "height": 295
        }
      },
      "source": [
        "plt.bar(\n",
        "    np.arange(uni_benford[0], uni_benford[-1]+1), \n",
        "    pmf_benford(np.arange(uni_benford[0], uni_benford[-1]+1)),\n",
        "    color='orange',\n",
        "    label='theory'\n",
        ")\n",
        "plt.plot(\n",
        "    uni_benford, \n",
        "    count_benford/np.sum(count_benford), \n",
        "    '.g-', \n",
        "    label=\"sample\", \n",
        "    zorder=2\n",
        ")\n",
        "plt.legend(loc=\"best\")\n",
        "plt.title('PMF of Encounting Non-shiny Pokemons Before Meeting Three Non-shiny Pokemon')\n",
        "plt.xlabel('count')\n",
        "plt.ylabel('probability')\n",
        "plt.show()"
      ],
      "execution_count": 47,
      "outputs": [
        {
          "output_type": "display_data",
          "data": {
            "image/png": "[encoded data removed]",
            "text/plain": [
              "<Figure size 432x288 with 1 Axes>"
            ]
          },
          "metadata": {
            "tags": [],
            "needs_background": "light"
          }
        }
      ]
    },
    {
      "cell_type": "code",
      "metadata": {
        "id": "sbKnNSN8In1W"
      },
      "source": [
        ""
      ],
      "execution_count": 16,
      "outputs": []
    },
    {
      "cell_type": "markdown",
      "metadata": {
        "id": "FMoJDVJzxnNS"
      },
      "source": [
        "##Q2. [10 points]\n",
        "\n",
        "This distribution has been widely applied. For example, it has been used to detect possible fraud. For naturally occuring numbers, the first digit should follow Benford's law.  [For example, the first digit of 13.23 is 1]. However, fabricated data is likely not to follow the data.\n",
        "\n",
        "The following data comes from the case State of Arizona v. Wayne James Nelson (CV92-18841). Nelson, a manager in Office of Arizona State Treasurer, is charged to have diverted nearly $2m funds to a fictitious vendor. Use simulation to study whether the amount might be fabricated by doing the following. \n",
        "\n",
        "* 1. Draw samples from this hypothetical distribuion [make sure that the sample size being comparable to the size of the observed samples] \n",
        "* 2. visualze the distribution of the samples using a line plot with marker \"o\". \n",
        "* 3. To ensure the robustness, repeat step 1 and step 2 10 times. Thus, in the same graph, you will have 10 line plots. \n",
        "* 4. In the same graph, plot the distribution of the actual data we observe using a bar chart.\n",
        "* 5. Based on the graph, briefly argue whether the amount might be fabricated.\n"
      ]
    },
    {
      "cell_type": "code",
      "metadata": {
        "id": "SYKRRFxqxnNS",
        "outputId": "59b00977-9f93-4ee2-e7b7-af1fda0a3dea",
        "colab": {
          "base_uri": "https://localhost:8080/",
          "height": 531
        }
      },
      "source": [
        "amount = np.array([1927.46, 27902.31, 86241.90, 72117.46, 81321.75, 97473.96, 93249.11, 89658.17, 87776.89, 92105.83, 79949.16, 87602.93, 96879.27, 91806.47, 84991.67, 90831.83, 93776.67, 88336.72, 94639.69, 83709.28, 96412.21, 88432.86, 71552.15])\n",
        "#get first digits use `int(str(num)[0])`\n",
        "\n",
        "amount_firstNum = [int(str(i)[0]) for i in amount]\n",
        "uni_amount, count_amount = np.unique(amount_firstNum, return_counts=True)\n",
        "\n",
        "plt.figure(figsize=(10, 8))\n",
        "for _ in range(10):\n",
        "  samples_benford = [find_outcome_benford() for _ in range(len(amount))]\n",
        "  uni_benford, count_benford = np.unique(samples_benford, return_counts=True)\n",
        "  plt.plot(uni_benford, count_benford, '-o') # , label='simulation - %s' % str(i)\n",
        "\n",
        "plt.bar(uni_amount, count_amount, zorder=2, label='actual')\n",
        "plt.legend(loc='upper right')\n",
        "plt.title('Find out the fabricated amount of value by Benford Law')\n",
        "plt.xlabel('the first number of each amount')\n",
        "plt.ylabel('count')\n",
        "\n",
        "'''According to the Benford Law, the amount starting with 8 and 9 might be fabricated.'''"
      ],
      "execution_count": 68,
      "outputs": [
        {
          "output_type": "execute_result",
          "data": {
            "application/vnd.google.colaboratory.intrinsic+json": {
              "type": "string"
            },
            "text/plain": [
              "'According to the Benford Law, the amount starting with 8 and 9 might be fabricated.'"
            ]
          },
          "metadata": {
            "tags": []
          },
          "execution_count": 68
        },
        {
          "output_type": "display_data",
          "data": {
            "image/png": "[encoded data removed]",
            "text/plain": [
              "<Figure size 720x576 with 1 Axes>"
            ]
          },
          "metadata": {
            "tags": [],
            "needs_background": "light"
          }
        }
      ]
    },
    {
      "cell_type": "code",
      "metadata": {
        "id": "Q-MFWKuTK_fL"
      },
      "source": [
        "\n"
      ],
      "execution_count": 17,
      "outputs": []
    }
  ]
}